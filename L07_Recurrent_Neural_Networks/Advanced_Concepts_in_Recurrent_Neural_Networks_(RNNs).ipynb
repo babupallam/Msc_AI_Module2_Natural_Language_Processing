{
  "nbformat": 4,
  "nbformat_minor": 0,
  "metadata": {
    "colab": {
      "provenance": [],
      "authorship_tag": "ABX9TyPAFGGejWUcu03QXkcvXIPp",
      "include_colab_link": true
    },
    "kernelspec": {
      "name": "python3",
      "display_name": "Python 3"
    },
    "language_info": {
      "name": "python"
    }
  },
  "cells": [
    {
      "cell_type": "markdown",
      "metadata": {
        "id": "view-in-github",
        "colab_type": "text"
      },
      "source": [
        "<a href=\"https://colab.research.google.com/github/babupallam/Msc_AI_Module2_Natural_Language_Processing/blob/main/L07_Recurrent_Neural_Networks/Advanced_Concepts_in_Recurrent_Neural_Networks_(RNNs).ipynb\" target=\"_parent\"><img src=\"https://colab.research.google.com/assets/colab-badge.svg\" alt=\"Open In Colab\"/></a>"
      ]
    },
    {
      "cell_type": "markdown",
      "source": [],
      "metadata": {
        "id": "qPp36ckVxzjb"
      }
    },
    {
      "cell_type": "markdown",
      "source": [
        "#### **4.1. Long Short-Term Memory (LSTM) Networks**\n",
        "\n",
        "- **What are LSTMs?**:\n",
        "  - LSTMs are a type of RNN specifically designed to handle long-term dependencies.\n",
        "  - Unlike traditional RNNs, LSTMs can learn when to \"forget\" previous information and when to retain it for future predictions.\n",
        "  \n",
        "- **Key Components of LSTMs**:\n",
        "  - **Forget Gate**: Decides what portion of the previous hidden state should be carried forward.\n",
        "  - **Input Gate**: Determines how much of the new input should influence the current hidden state.\n",
        "  - **Output Gate**: Controls the information passed to the output layer from the current hidden state.\n",
        "  \n",
        "- **When to Use LSTMs**:\n",
        "  - Use LSTMs when the input sequence is long, and the RNN struggles with remembering important details from earlier in the sequence.\n",
        "  - Common applications include machine translation, time series forecasting, and text generation.\n",
        "\n",
        "**LSTM Implementation in PyTorch**:"
      ],
      "metadata": {
        "id": "WzsuSIX4y_Mu"
      }
    },
    {
      "cell_type": "markdown",
      "source": [
        "Step 1: Import Required Libraries\n"
      ],
      "metadata": {
        "id": "EuN73HVWQoPJ"
      }
    },
    {
      "cell_type": "code",
      "source": [
        "import torch\n",
        "import torch.nn as nn  # Importing the neural network module\n",
        "import torch.optim as optim  # Importing optimization algorithms\n"
      ],
      "metadata": {
        "id": "O9sDB2JDQEUg"
      },
      "execution_count": 4,
      "outputs": []
    },
    {
      "cell_type": "markdown",
      "source": [
        "Step 2: Define the LSTM Model\n"
      ],
      "metadata": {
        "id": "1lDEOU2aQm0J"
      }
    },
    {
      "cell_type": "code",
      "source": [
        "class LSTM(nn.Module):  # Inherit from PyTorch's base class for models\n",
        "    def __init__(self, input_size, hidden_size, output_size):\n",
        "        super(LSTM, self).__init__()  # Call the parent class constructor\n",
        "\n",
        "        # Define the LSTM layer\n",
        "        self.lstm = nn.LSTM(input_size, hidden_size, batch_first=True)\n",
        "\n",
        "        # Define a fully connected layer that maps from hidden_size to output_size\n",
        "        self.fc = nn.Linear(hidden_size, output_size)\n",
        "\n",
        "    def forward(self, input_seq):\n",
        "        # Passing input through the LSTM layer\n",
        "        lstm_out, _ = self.lstm(input_seq)  # lstm_out is the sequence of hidden states\n",
        "\n",
        "        # We are interested only in the hidden state from the last time step (for classification)\n",
        "        last_hidden_state = lstm_out[:, -1, :]  # Take the last time step of each sequence\n",
        "\n",
        "        # Passing the last hidden state through the fully connected layer\n",
        "        output = self.fc(last_hidden_state)\n",
        "\n",
        "        return output\n"
      ],
      "metadata": {
        "id": "o_HxaRGEQESL"
      },
      "execution_count": 5,
      "outputs": []
    },
    {
      "cell_type": "markdown",
      "source": [
        "Step 3: Create Synthetic Data for Demonstration\n"
      ],
      "metadata": {
        "id": "8sEqLHCWQkw6"
      }
    },
    {
      "cell_type": "code",
      "source": [
        "# Hyperparameters\n",
        "input_size = 10      # Each time step has 10 features\n",
        "hidden_size = 50     # LSTM has 50 hidden units\n",
        "output_size = 3      # We want to classify into 3 categories\n",
        "sequence_length = 5  # Each sequence has 5 time steps\n",
        "batch_size = 16      # Process 16 sequences at a time\n",
        "\n",
        "# Initialize the LSTM model\n",
        "model = LSTM(input_size, hidden_size, output_size)\n",
        "\n",
        "# Create a batch of synthetic input data\n",
        "input_data = torch.randn(batch_size, sequence_length, input_size)  # Random input (batch_size, seq_len, input_size)\n",
        "\n",
        "# Create synthetic target labels (randomly generated classes for each sequence)\n",
        "target_data = torch.randint(0, output_size, (batch_size,))\n"
      ],
      "metadata": {
        "id": "JUrvGSfNQEOV"
      },
      "execution_count": 6,
      "outputs": []
    },
    {
      "cell_type": "markdown",
      "source": [
        "Step 4: Define the Loss Function and Optimizer\n"
      ],
      "metadata": {
        "id": "7P0AcXU-QrpI"
      }
    },
    {
      "cell_type": "code",
      "source": [
        "# Define the loss function (suitable for classification tasks)\n",
        "criterion = nn.CrossEntropyLoss()\n",
        "\n",
        "# Define the optimizer (Adam optimizer)\n",
        "optimizer = optim.Adam(model.parameters(), lr=0.001)\n"
      ],
      "metadata": {
        "id": "ZXpJQSRDP4yU"
      },
      "execution_count": 7,
      "outputs": []
    },
    {
      "cell_type": "markdown",
      "source": [
        "Step 5: Forward Pass (One Step)\n"
      ],
      "metadata": {
        "id": "sE3Hd8zjQ0_u"
      }
    },
    {
      "cell_type": "code",
      "source": [
        "# Forward pass: Get model predictions\n",
        "output = model(input_data)\n",
        "\n",
        "# Compute the loss\n",
        "loss = criterion(output, target_data)\n",
        "print(f\"Initial Loss: {loss.item()}\")\n"
      ],
      "metadata": {
        "colab": {
          "base_uri": "https://localhost:8080/"
        },
        "id": "To26rbX4P4vK",
        "outputId": "29774ea4-7a33-4f61-df1d-14669da3c4fd"
      },
      "execution_count": 8,
      "outputs": [
        {
          "output_type": "stream",
          "name": "stdout",
          "text": [
            "Initial Loss: 1.1056855916976929\n"
          ]
        }
      ]
    },
    {
      "cell_type": "markdown",
      "source": [
        "Step 6: Backward Pass and Optimization\n"
      ],
      "metadata": {
        "id": "IEqRSteKQ34Y"
      }
    },
    {
      "cell_type": "code",
      "source": [
        "# Zero the gradients (important before running the backward pass)\n",
        "optimizer.zero_grad()\n",
        "\n",
        "# Backward pass: compute gradients\n",
        "loss.backward()\n",
        "\n",
        "# Perform a single optimization step\n",
        "optimizer.step()\n",
        "\n",
        "print(f\"Loss after one optimization step: {loss.item()}\")\n"
      ],
      "metadata": {
        "colab": {
          "base_uri": "https://localhost:8080/"
        },
        "id": "8pEsVmwnP4r3",
        "outputId": "060ee942-b1d7-41f8-c82e-84f346260dd9"
      },
      "execution_count": 9,
      "outputs": [
        {
          "output_type": "stream",
          "name": "stdout",
          "text": [
            "Loss after one optimization step: 1.1056855916976929\n"
          ]
        }
      ]
    },
    {
      "cell_type": "markdown",
      "source": [
        "Step 7: (Optional) Training Loop\n"
      ],
      "metadata": {
        "id": "ruWbIhivQ7gq"
      }
    },
    {
      "cell_type": "code",
      "source": [
        "# Training loop for demonstration (e.g., 10 epochs)\n",
        "num_epochs = 10\n",
        "for epoch in range(num_epochs):\n",
        "    # Forward pass\n",
        "    output = model(input_data)\n",
        "    loss = criterion(output, target_data)\n",
        "\n",
        "    # Backward pass and optimization\n",
        "    optimizer.zero_grad()\n",
        "    loss.backward()\n",
        "    optimizer.step()\n",
        "\n",
        "    print(f'Epoch [{epoch+1}/{num_epochs}], Loss: {loss.item()}')\n"
      ],
      "metadata": {
        "colab": {
          "base_uri": "https://localhost:8080/"
        },
        "id": "m1EPhUEnQ8iM",
        "outputId": "dd3a37b3-365b-482d-e474-21aa326e559d"
      },
      "execution_count": 10,
      "outputs": [
        {
          "output_type": "stream",
          "name": "stdout",
          "text": [
            "Epoch [1/10], Loss: 1.1013946533203125\n",
            "Epoch [2/10], Loss: 1.0971400737762451\n",
            "Epoch [3/10], Loss: 1.0929135084152222\n",
            "Epoch [4/10], Loss: 1.0887048244476318\n",
            "Epoch [5/10], Loss: 1.08450448513031\n",
            "Epoch [6/10], Loss: 1.0803018808364868\n",
            "Epoch [7/10], Loss: 1.0760867595672607\n",
            "Epoch [8/10], Loss: 1.0718482732772827\n",
            "Epoch [9/10], Loss: 1.0675755739212036\n",
            "Epoch [10/10], Loss: 1.0632575750350952\n"
          ]
        }
      ]
    },
    {
      "cell_type": "markdown",
      "source": [
        "8. Modify the Training Loop to Track Metrics\n"
      ],
      "metadata": {
        "id": "s6P93EXcRhje"
      }
    },
    {
      "cell_type": "code",
      "source": [
        "import matplotlib.pyplot as plt  # For visualization\n"
      ],
      "metadata": {
        "id": "dTXA5J8lQ8e8"
      },
      "execution_count": 12,
      "outputs": []
    },
    {
      "cell_type": "code",
      "source": [
        "# Function to simulate a simple sequence classification task\n",
        "def generate_synthetic_data(batch_size, sequence_length, input_size, output_size):\n",
        "    # Randomly generate sequences (batch_size, sequence_length, input_size)\n",
        "    input_data = torch.randn(batch_size, sequence_length, input_size)\n",
        "\n",
        "    # Randomly generate target classes (batch_size,)\n",
        "    target_data = torch.randint(0, output_size, (batch_size,))\n",
        "\n",
        "    return input_data, target_data\n",
        "\n",
        "# Example synthetic data for training and validation\n",
        "train_input, train_target = generate_synthetic_data(batch_size=100, sequence_length=5, input_size=10, output_size=3)\n",
        "val_input, val_target = generate_synthetic_data(batch_size=20, sequence_length=5, input_size=10, output_size=3)\n"
      ],
      "metadata": {
        "id": "FdoXfDG2Q8bt"
      },
      "execution_count": 13,
      "outputs": []
    },
    {
      "cell_type": "code",
      "source": [
        "# Function to train the LSTM model\n",
        "def train_model(model, train_input, train_target, val_input, val_target, num_epochs=20, learning_rate=0.001):\n",
        "    # Loss function and optimizer\n",
        "    criterion = nn.CrossEntropyLoss()\n",
        "    optimizer = optim.Adam(model.parameters(), lr=learning_rate)\n",
        "\n",
        "    # Lists to store loss values for plotting\n",
        "    train_losses = []\n",
        "    val_losses = []\n",
        "\n",
        "    for epoch in range(num_epochs):\n",
        "        # Set model to training mode\n",
        "        model.train()\n",
        "\n",
        "        # Forward pass\n",
        "        output = model(train_input)\n",
        "        train_loss = criterion(output, train_target)\n",
        "\n",
        "        # Backward pass and optimization\n",
        "        optimizer.zero_grad()\n",
        "        train_loss.backward()\n",
        "        optimizer.step()\n",
        "\n",
        "        # Track training loss\n",
        "        train_losses.append(train_loss.item())\n",
        "\n",
        "        # Validation (without updating weights)\n",
        "        model.eval()\n",
        "        with torch.no_grad():\n",
        "            val_output = model(val_input)\n",
        "            val_loss = criterion(val_output, val_target)\n",
        "            val_losses.append(val_loss.item())\n",
        "\n",
        "        # Print losses\n",
        "        print(f'Epoch [{epoch+1}/{num_epochs}], Train Loss: {train_loss.item():.4f}, Val Loss: {val_loss.item():.4f}')\n",
        "\n",
        "    return train_losses, val_losses\n"
      ],
      "metadata": {
        "id": "UD3N5UQlQ8Wj"
      },
      "execution_count": 14,
      "outputs": []
    },
    {
      "cell_type": "code",
      "source": [
        "# Function to plot the loss curves\n",
        "def plot_loss(train_losses, val_losses):\n",
        "    plt.figure(figsize=(8,6))\n",
        "    plt.plot(train_losses, label=\"Train Loss\")\n",
        "    plt.plot(val_losses, label=\"Validation Loss\")\n",
        "    plt.title(\"Loss Curve\")\n",
        "    plt.xlabel(\"Epoch\")\n",
        "    plt.ylabel(\"Loss\")\n",
        "    plt.legend()\n",
        "    plt.grid(True)\n",
        "    plt.show()\n",
        "\n",
        "# Train the model and visualize the loss\n",
        "model = LSTM(input_size=10, hidden_size=50, output_size=3)\n",
        "\n",
        "# Training the model and collecting loss metrics\n",
        "train_losses, val_losses = train_model(model, train_input, train_target, val_input, val_target, num_epochs=20)\n",
        "\n",
        "# Plotting the training and validation loss\n",
        "plot_loss(train_losses, val_losses)\n"
      ],
      "metadata": {
        "colab": {
          "base_uri": "https://localhost:8080/",
          "height": 911
        },
        "id": "pWX-6VUUQ8Rb",
        "outputId": "f375695e-3eec-4ec4-f012-93d2478dea00"
      },
      "execution_count": 15,
      "outputs": [
        {
          "output_type": "stream",
          "name": "stdout",
          "text": [
            "Epoch [1/20], Train Loss: 1.0988, Val Loss: 1.0690\n",
            "Epoch [2/20], Train Loss: 1.0969, Val Loss: 1.0698\n",
            "Epoch [3/20], Train Loss: 1.0950, Val Loss: 1.0707\n",
            "Epoch [4/20], Train Loss: 1.0931, Val Loss: 1.0715\n",
            "Epoch [5/20], Train Loss: 1.0913, Val Loss: 1.0723\n",
            "Epoch [6/20], Train Loss: 1.0895, Val Loss: 1.0731\n",
            "Epoch [7/20], Train Loss: 1.0877, Val Loss: 1.0739\n",
            "Epoch [8/20], Train Loss: 1.0860, Val Loss: 1.0748\n",
            "Epoch [9/20], Train Loss: 1.0842, Val Loss: 1.0756\n",
            "Epoch [10/20], Train Loss: 1.0825, Val Loss: 1.0764\n",
            "Epoch [11/20], Train Loss: 1.0807, Val Loss: 1.0773\n",
            "Epoch [12/20], Train Loss: 1.0790, Val Loss: 1.0781\n",
            "Epoch [13/20], Train Loss: 1.0773, Val Loss: 1.0790\n",
            "Epoch [14/20], Train Loss: 1.0755, Val Loss: 1.0798\n",
            "Epoch [15/20], Train Loss: 1.0737, Val Loss: 1.0807\n",
            "Epoch [16/20], Train Loss: 1.0719, Val Loss: 1.0816\n",
            "Epoch [17/20], Train Loss: 1.0701, Val Loss: 1.0825\n",
            "Epoch [18/20], Train Loss: 1.0683, Val Loss: 1.0834\n",
            "Epoch [19/20], Train Loss: 1.0664, Val Loss: 1.0844\n",
            "Epoch [20/20], Train Loss: 1.0644, Val Loss: 1.0853\n"
          ]
        },
        {
          "output_type": "display_data",
          "data": {
            "text/plain": [
              "<Figure size 800x600 with 1 Axes>"
            ],
            "image/png": "[encoded data removed]"
          },
          "metadata": {}
        }
      ]
    },
    {
      "cell_type": "code",
      "source": [
        "# Function to test the model on unseen data and visualize predictions\n",
        "def test_model(model, test_input, test_target):\n",
        "    model.eval()  # Set the model to evaluation mode\n",
        "    with torch.no_grad():\n",
        "        predictions = model(test_input)\n",
        "        predicted_classes = torch.argmax(predictions, dim=1)  # Get the predicted class\n",
        "\n",
        "    # Compare predicted classes to true classes\n",
        "    print(f\"Predicted Classes: {predicted_classes.tolist()}\")\n",
        "    print(f\"True Classes:      {test_target.tolist()}\")\n",
        "\n",
        "    return predicted_classes\n",
        "\n",
        "# Generating test data\n",
        "test_input, test_target = generate_synthetic_data(batch_size=10, sequence_length=5, input_size=10, output_size=3)\n",
        "\n",
        "# Testing the model\n",
        "predictions = test_model(model, test_input, test_target)\n"
      ],
      "metadata": {
        "colab": {
          "base_uri": "https://localhost:8080/"
        },
        "id": "gg4uYRqPRws3",
        "outputId": "85160de9-809e-4101-c50d-282bf1e47479"
      },
      "execution_count": 16,
      "outputs": [
        {
          "output_type": "stream",
          "name": "stdout",
          "text": [
            "Predicted Classes: [2, 2, 2, 2, 2, 2, 2, 0, 2, 2]\n",
            "True Classes:      [1, 2, 0, 0, 2, 0, 2, 2, 1, 1]\n"
          ]
        }
      ]
    },
    {
      "cell_type": "markdown",
      "source": [
        "\n",
        "#### **4.2. Gated Recurrent Units (GRUs)**\n",
        "\n",
        "- **What are GRUs?**:\n",
        "  - GRUs are another variation of RNNs, similar to LSTMs, but they use fewer gates, making them simpler and faster to train.\n",
        "  \n",
        "- **Key Components of GRUs**:\n",
        "  - **Reset Gate**: Decides how much of the past information to forget.\n",
        "  - **Update Gate**: Decides how much of the new information to add to the hidden state.\n",
        "  \n",
        "- **When to Use GRUs**:\n",
        "  - GRUs are often used when computational efficiency is a priority, as they tend to be faster to train than LSTMs while still handling long-term dependencies well.\n",
        "  \n",
        "**GRU Implementation in PyTorch**:"
      ],
      "metadata": {
        "id": "E5F9-hGBy_aT"
      }
    },
    {
      "cell_type": "markdown",
      "source": [
        "GRU Model: Replace the LSTM layer with a GRU layer."
      ],
      "metadata": {
        "id": "p53qfk4jR81X"
      }
    },
    {
      "cell_type": "code",
      "source": [
        "import torch\n",
        "import torch.nn as nn\n",
        "import torch.optim as optim\n",
        "import matplotlib.pyplot as plt\n",
        "\n",
        "# Define the GRU model\n",
        "class GRU(nn.Module):\n",
        "    def __init__(self, input_size, hidden_size, output_size):\n",
        "        super(GRU, self).__init__()\n",
        "        # Define a GRU layer\n",
        "        self.gru = nn.GRU(input_size, hidden_size, batch_first=True)\n",
        "        # Define a fully connected layer\n",
        "        self.fc = nn.Linear(hidden_size, output_size)\n",
        "\n",
        "    def forward(self, input_seq):\n",
        "        # Forward pass through GRU\n",
        "        gru_out, _ = self.gru(input_seq)\n",
        "        # Take the last time step's output\n",
        "        last_hidden_state = gru_out[:, -1, :]\n",
        "        # Pass through the fully connected layer to get the output\n",
        "        output = self.fc(last_hidden_state)\n",
        "        return output\n"
      ],
      "metadata": {
        "id": "tu3CY5VWMxkt"
      },
      "execution_count": 17,
      "outputs": []
    },
    {
      "cell_type": "markdown",
      "source": [
        "\n",
        "Data Preparation: Use synthetic data similar to the LSTM example."
      ],
      "metadata": {
        "id": "oR24dYrkR-Cs"
      }
    },
    {
      "cell_type": "code",
      "source": [
        "\n",
        "# Generate synthetic data (random sequences and classes)\n",
        "def generate_synthetic_data(batch_size, sequence_length, input_size, output_size):\n",
        "    input_data = torch.randn(batch_size, sequence_length, input_size)\n",
        "    target_data = torch.randint(0, output_size, (batch_size,))\n",
        "    return input_data, target_data\n"
      ],
      "metadata": {
        "id": "81fvYKv1R-Ct"
      },
      "execution_count": 18,
      "outputs": []
    },
    {
      "cell_type": "markdown",
      "source": [
        "\n",
        "Training Loop: Train the GRU model and store training/validation loss."
      ],
      "metadata": {
        "id": "GD0myAbOR-L2"
      }
    },
    {
      "cell_type": "code",
      "source": [
        "\n",
        "# Train the model\n",
        "def train_model(model, train_input, train_target, val_input, val_target, num_epochs=20, learning_rate=0.001):\n",
        "    criterion = nn.CrossEntropyLoss()\n",
        "    optimizer = optim.Adam(model.parameters(), lr=learning_rate)\n",
        "\n",
        "    train_losses = []\n",
        "    val_losses = []\n",
        "\n",
        "    for epoch in range(num_epochs):\n",
        "        model.train()\n",
        "        # Forward pass on training data\n",
        "        output = model(train_input)\n",
        "        train_loss = criterion(output, train_target)\n",
        "\n",
        "        # Backward pass and optimization\n",
        "        optimizer.zero_grad()\n",
        "        train_loss.backward()\n",
        "        optimizer.step()\n",
        "        train_losses.append(train_loss.item())\n",
        "\n",
        "        model.eval()\n",
        "        with torch.no_grad():\n",
        "            val_output = model(val_input)\n",
        "            val_loss = criterion(val_output, val_target)\n",
        "            val_losses.append(val_loss.item())\n",
        "\n",
        "        # Print epoch results\n",
        "        print(f'Epoch [{epoch+1}/{num_epochs}], Train Loss: {train_loss.item():.4f}, Val Loss: {val_loss.item():.4f}')\n",
        "\n",
        "    return train_losses, val_losses\n"
      ],
      "metadata": {
        "id": "Fimfr0pLR-L3"
      },
      "execution_count": 19,
      "outputs": []
    },
    {
      "cell_type": "markdown",
      "source": [
        "\n",
        "Visualization: Plot training and validation loss."
      ],
      "metadata": {
        "id": "-RoNHNv4R-S-"
      }
    },
    {
      "cell_type": "code",
      "source": [
        "\n",
        "# Plot the loss curves\n",
        "def plot_loss(train_losses, val_losses):\n",
        "    plt.figure(figsize=(8,6))\n",
        "    plt.plot(train_losses, label=\"Train Loss\")\n",
        "    plt.plot(val_losses, label=\"Validation Loss\")\n",
        "    plt.title(\"Loss Curve\")\n",
        "    plt.xlabel(\"Epoch\")\n",
        "    plt.ylabel(\"Loss\")\n",
        "    plt.legend()\n",
        "    plt.grid(True)\n",
        "    plt.show()\n",
        "\n",
        "# Test the model and visualize predictions\n",
        "def test_model(model, test_input, test_target):\n",
        "    model.eval()\n",
        "    with torch.no_grad():\n",
        "        predictions = model(test_input)\n",
        "        predicted_classes = torch.argmax(predictions, dim=1)\n",
        "\n",
        "    print(f\"Predicted Classes: {predicted_classes.tolist()}\")\n",
        "    print(f\"True Classes:      {test_target.tolist()}\")\n",
        "\n",
        "    return predicted_classes\n",
        "\n",
        "# Example usage\n",
        "if __name__ == \"__main__\":\n",
        "    # Hyperparameters\n",
        "    input_size = 10         # Number of input features at each time step\n",
        "    hidden_size = 50        # Number of hidden units in the GRU\n",
        "    output_size = 3         # Number of output classes\n",
        "    sequence_length = 5     # Number of time steps in each sequence\n",
        "    batch_size = 100        # Number of sequences in each batch\n",
        "\n",
        "    # Generate synthetic training and validation data\n",
        "    train_input, train_target = generate_synthetic_data(batch_size, sequence_length, input_size, output_size)\n",
        "    val_input, val_target = generate_synthetic_data(batch_size=20, sequence_length=sequence_length, input_size=input_size, output_size=output_size)\n",
        "\n",
        "    # Initialize the GRU model\n",
        "    model = GRU(input_size=input_size, hidden_size=hidden_size, output_size=output_size)\n",
        "\n",
        "    # Train the model and plot loss curves\n",
        "    train_losses, val_losses = train_model(model, train_input, train_target, val_input, val_target, num_epochs=20)\n",
        "    plot_loss(train_losses, val_losses)\n",
        "\n",
        "    # Generate synthetic test data\n",
        "    test_input, test_target = generate_synthetic_data(batch_size=10, sequence_length=sequence_length, input_size=input_size, output_size=output_size)\n",
        "\n",
        "    # Test the model on unseen test data\n",
        "    predictions = test_model(model, test_input, test_target)\n"
      ],
      "metadata": {
        "colab": {
          "base_uri": "https://localhost:8080/",
          "height": 946
        },
        "id": "SzeuXVq0R-TA",
        "outputId": "b67f5545-62e8-4c11-93a2-9fd188307d9b"
      },
      "execution_count": 20,
      "outputs": [
        {
          "output_type": "stream",
          "name": "stdout",
          "text": [
            "Epoch [1/20], Train Loss: 1.0927, Val Loss: 1.0895\n",
            "Epoch [2/20], Train Loss: 1.0890, Val Loss: 1.0895\n",
            "Epoch [3/20], Train Loss: 1.0853, Val Loss: 1.0894\n",
            "Epoch [4/20], Train Loss: 1.0818, Val Loss: 1.0894\n",
            "Epoch [5/20], Train Loss: 1.0782, Val Loss: 1.0893\n",
            "Epoch [6/20], Train Loss: 1.0748, Val Loss: 1.0893\n",
            "Epoch [7/20], Train Loss: 1.0713, Val Loss: 1.0893\n",
            "Epoch [8/20], Train Loss: 1.0679, Val Loss: 1.0894\n",
            "Epoch [9/20], Train Loss: 1.0645, Val Loss: 1.0895\n",
            "Epoch [10/20], Train Loss: 1.0611, Val Loss: 1.0896\n",
            "Epoch [11/20], Train Loss: 1.0577, Val Loss: 1.0898\n",
            "Epoch [12/20], Train Loss: 1.0543, Val Loss: 1.0900\n",
            "Epoch [13/20], Train Loss: 1.0509, Val Loss: 1.0903\n",
            "Epoch [14/20], Train Loss: 1.0475, Val Loss: 1.0906\n",
            "Epoch [15/20], Train Loss: 1.0440, Val Loss: 1.0910\n",
            "Epoch [16/20], Train Loss: 1.0405, Val Loss: 1.0915\n",
            "Epoch [17/20], Train Loss: 1.0370, Val Loss: 1.0920\n",
            "Epoch [18/20], Train Loss: 1.0334, Val Loss: 1.0926\n",
            "Epoch [19/20], Train Loss: 1.0298, Val Loss: 1.0933\n",
            "Epoch [20/20], Train Loss: 1.0261, Val Loss: 1.0940\n"
          ]
        },
        {
          "output_type": "display_data",
          "data": {
            "text/plain": [
              "<Figure size 800x600 with 1 Axes>"
            ],
            "image/png": "[encoded data removed]"
          },
          "metadata": {}
        },
        {
          "output_type": "stream",
          "name": "stdout",
          "text": [
            "Predicted Classes: [0, 1, 2, 0, 1, 0, 2, 1, 1, 0]\n",
            "True Classes:      [1, 0, 2, 2, 2, 2, 1, 2, 2, 1]\n"
          ]
        }
      ]
    },
    {
      "cell_type": "markdown",
      "source": [
        "\n",
        "#### **4.3. Bidirectional RNNs**\n",
        "\n",
        "- **What are Bidirectional RNNs?**:\n",
        "  - In a standard RNN, information flows in one direction—from past to future.\n",
        "  - Bidirectional RNNs, however, process information in both directions. This means the network has access to both past and future context at each point in the sequence.\n",
        "  \n",
        "- **Advantages of Bidirectional RNNs**:\n",
        "  - They are particularly useful for tasks where context from both the past and future is important, such as named entity recognition or speech recognition.\n",
        "  \n",
        "**Bidirectional RNN Implementation in PyTorch**:"
      ],
      "metadata": {
        "id": "nXdKIsivy_f5"
      }
    },
    {
      "cell_type": "code",
      "source": [
        "import torch\n",
        "import torch.nn as nn\n",
        "\n",
        "# Define the Bidirectional RNN class\n",
        "class BidirectionalRNN(nn.Module):\n",
        "    def __init__(self, input_size, hidden_size, output_size):\n",
        "        super(BidirectionalRNN, self).__init__()\n",
        "\n",
        "        # Define the bidirectional RNN layer\n",
        "        self.rnn = nn.RNN(input_size, hidden_size, bidirectional=True, batch_first=True)\n",
        "\n",
        "        # Linear layer maps hidden states from both directions (2 * hidden_size) to output_size\n",
        "        self.fc = nn.Linear(hidden_size * 2, output_size)\n",
        "\n",
        "    def forward(self, input_seq):\n",
        "        \"\"\"\n",
        "        Forward pass for the Bidirectional RNN.\n",
        "\n",
        "        Parameters:\n",
        "        input_seq: Tensor of shape (batch_size, sequence_length, input_size)\n",
        "\n",
        "        Returns:\n",
        "        output: Tensor of shape (batch_size, output_size)\n",
        "        \"\"\"\n",
        "        # Get RNN output (batch_size, seq_len, hidden_size*2)\n",
        "        rnn_out, _ = self.rnn(input_seq)\n",
        "\n",
        "        # We want the hidden states from the last time step (from both directions)\n",
        "        # Take the last time step's output (batch_size, hidden_size*2)\n",
        "        last_hidden_state = rnn_out[:, -1, :]\n",
        "\n",
        "        # Pass through fully connected layer to get final output (batch_size, output_size)\n",
        "        output = self.fc(last_hidden_state)\n",
        "\n",
        "        return output\n",
        "\n",
        "# Example usage of the Bidirectional RNN\n",
        "if __name__ == \"__main__\":\n",
        "    # Hyperparameters\n",
        "    input_size = 10      # Number of input features at each time step\n",
        "    hidden_size = 20     # Number of hidden units in the RNN (per direction)\n",
        "    output_size = 5      # Number of output classes (for classification)\n",
        "    sequence_length = 7  # Length of the input sequences\n",
        "    batch_size = 16      # Number of sequences in each batch\n",
        "\n",
        "    # Create an instance of the Bidirectional RNN\n",
        "    bidir_rnn = BidirectionalRNN(input_size, hidden_size, output_size)\n",
        "\n",
        "    # Generate some random input data (batch_size, sequence_length, input_size)\n",
        "    input_data = torch.randn(batch_size, sequence_length, input_size)\n",
        "\n",
        "    # Perform a forward pass through the model\n",
        "    output = bidir_rnn(input_data)\n",
        "\n",
        "    # Print the output shape (should be (batch_size, output_size))\n",
        "    print(f\"Output shape: {output.shape}\")\n"
      ],
      "metadata": {
        "colab": {
          "base_uri": "https://localhost:8080/"
        },
        "id": "GJsXdtcEM195",
        "outputId": "7c96bec0-921f-4dfa-9cfd-35a952e875c1"
      },
      "execution_count": 23,
      "outputs": [
        {
          "output_type": "stream",
          "name": "stdout",
          "text": [
            "Output shape: torch.Size([16, 5])\n"
          ]
        }
      ]
    },
    {
      "cell_type": "markdown",
      "source": [
        "\n",
        "#### **4.4. Sequence-to-Sequence Models and Attention Mechanisms**\n",
        "\n",
        "- **What is Sequence-to-Sequence (Seq2Seq)?**:\n",
        "  - Seq2Seq models are used when the input and output are both sequences, such as in machine translation or summarization.\n",
        "  - They use two RNNs: an **encoder** to process the input sequence and a **decoder** to generate the output sequence.\n",
        "  \n",
        "- **What is Attention?**:\n",
        "  - Attention mechanisms allow the model to focus on specific parts of the input sequence when generating the output, improving the model’s performance for tasks with longer sequences.\n",
        "  \n",
        "- **Applications of Seq2Seq with Attention**:\n",
        "  - Machine translation (e.g., translating English sentences to French).\n",
        "  - Text summarization (e.g., summarizing long articles into short summaries).\n",
        "  - Image captioning (describing the content of an image in a sentence).\n",
        "\n",
        "**Attention-Based Seq2Seq Example**:"
      ],
      "metadata": {
        "id": "b4BrYaEey_l9"
      }
    },
    {
      "cell_type": "code",
      "source": [
        "class Encoder(nn.Module):\n",
        "    def __init__(self, input_size, hidden_size):\n",
        "        super(Encoder, self).__init__()\n",
        "        self.hidden_size = hidden_size\n",
        "        self.rnn = nn.RNN(input_size, hidden_size, batch_first=True)\n",
        "\n",
        "    def forward(self, src):\n",
        "        # src: (batch_size, sequence_length, input_size)\n",
        "        encoder_output, hidden = self.rnn(src)  # encoder_output: (batch_size, seq_len, hidden_size)\n",
        "        return encoder_output, hidden  # hidden: (1, batch_size, hidden_size)\n"
      ],
      "metadata": {
        "id": "CCzntwVMTmys"
      },
      "execution_count": 25,
      "outputs": []
    },
    {
      "cell_type": "code",
      "source": [
        "class Decoder(nn.Module):\n",
        "    def __init__(self, input_size, hidden_size, output_size):\n",
        "        super(Decoder, self).__init__()\n",
        "        self.hidden_size = hidden_size\n",
        "        self.rnn = nn.RNN(input_size, hidden_size, batch_first=True)\n",
        "        self.fc = nn.Linear(hidden_size, output_size)\n",
        "\n",
        "    def forward(self, trg, hidden, encoder_output):\n",
        "        # trg: (batch_size, sequence_length, input_size)\n",
        "        # hidden: (1, batch_size, hidden_size)\n",
        "        rnn_output, hidden = self.rnn(trg, hidden)  # hidden is passed as initial hidden state\n",
        "        output = self.fc(rnn_output)  # output: (batch_size, seq_len, output_size)\n",
        "        return output\n"
      ],
      "metadata": {
        "id": "jQyR8jahTo69"
      },
      "execution_count": 26,
      "outputs": []
    },
    {
      "cell_type": "code",
      "source": [
        "import torch\n",
        "import torch.nn as nn\n",
        "\n",
        "class Seq2Seq(nn.Module):\n",
        "    def __init__(self, encoder, decoder):\n",
        "        super(Seq2Seq, self).__init__()\n",
        "        self.encoder = encoder\n",
        "        self.decoder = decoder\n",
        "\n",
        "    def forward(self, src, trg):\n",
        "        # src: (batch_size, src_seq_len, input_size)\n",
        "        # trg: (batch_size, trg_seq_len, input_size)\n",
        "\n",
        "        # Pass the source sequence through the encoder\n",
        "        encoder_output, hidden = self.encoder(src)\n",
        "\n",
        "        # Pass the encoder hidden state and target sequence to the decoder\n",
        "        output = self.decoder(trg, hidden, encoder_output)\n",
        "        return output\n",
        "\n",
        "# Example usage\n",
        "if __name__ == \"__main__\":\n",
        "    # Hyperparameters\n",
        "    input_size = 10       # Number of input features (for each time step)\n",
        "    hidden_size = 20      # Number of hidden units in the RNN\n",
        "    output_size = 5       # Number of output classes (for each time step in decoder)\n",
        "    src_seq_len = 7       # Length of source sequence\n",
        "    trg_seq_len = 5       # Length of target sequence\n",
        "    batch_size = 16       # Number of sequences in a batch\n",
        "\n",
        "    # Create encoder and decoder\n",
        "    encoder = Encoder(input_size, hidden_size)\n",
        "    decoder = Decoder(input_size, hidden_size, output_size)\n",
        "\n",
        "    # Create Seq2Seq model\n",
        "    seq2seq = Seq2Seq(encoder, decoder)\n",
        "\n",
        "    # Generate random source and target sequences (batch_size, seq_len, input_size)\n",
        "    src = torch.randn(batch_size, src_seq_len, input_size)\n",
        "    trg = torch.randn(batch_size, trg_seq_len, input_size)\n",
        "\n",
        "    # Perform a forward pass through the Seq2Seq model\n",
        "    output = seq2seq(src, trg)\n",
        "\n",
        "    # Output shape should be (batch_size, trg_seq_len, output_size)\n",
        "    print(f\"Output shape: {output.shape}\")\n"
      ],
      "metadata": {
        "colab": {
          "base_uri": "https://localhost:8080/"
        },
        "id": "cQMbuD6qM5-8",
        "outputId": "764cb88f-7ff4-4b70-f355-99df466424fc"
      },
      "execution_count": 27,
      "outputs": [
        {
          "output_type": "stream",
          "name": "stdout",
          "text": [
            "Output shape: torch.Size([16, 5, 5])\n"
          ]
        }
      ]
    },
    {
      "cell_type": "markdown",
      "source": [
        "\n",
        "#### **4.5. Transformer Networks**\n",
        "\n",
        "- **What are Transformers?**:\n",
        "  - Transformers are a more recent architecture designed to handle sequence data without relying on recurrence (as in RNNs).\n",
        "  - Instead, transformers use attention mechanisms to model dependencies in the data.\n",
        "  \n",
        "- **Advantages of Transformers**:\n",
        "  - They can handle long sequences more effectively than traditional RNNs.\n",
        "  - They allow for parallel processing, making them much faster to train.\n",
        "\n",
        "**Popular Transformer Models**:\n",
        "- **BERT (Bidirectional Encoder Representations from Transformers)**: Used for tasks like text classification, question answering, and more.\n",
        "- **GPT (Generative Pre-trained Transformer)**: A popular model used for text generation.\n",
        "\n",
        "**Further Resources**:\n",
        "- Study how transformer models have revolutionized natural language processing tasks.\n",
        "- Experiment with transformer-based models on text classification or translation tasks using libraries like Hugging Face's `transformers`.\n",
        "\n",
        "---\n"
      ],
      "metadata": {
        "id": "UP-67ajxy_ru"
      }
    },
    {
      "cell_type": "markdown",
      "source": [
        "\n",
        "#### **4.6. Hyperparameter Tuning**\n",
        "\n",
        "- **Why is Hyperparameter Tuning Important?**:\n",
        "  - The performance of RNNs (and deep learning models in general) can be heavily influenced by hyperparameters, such as the learning rate, number of hidden layers, hidden state size, and batch size.\n",
        "  \n",
        "- **Key Hyperparameters to Tune**:\n",
        "  - **Learning Rate**: Affects how quickly the model learns. Too high, and the model may not converge; too low, and the model will learn too slowly.\n",
        "  - **Hidden Size**: Larger hidden states can capture more complex patterns but require more computational resources.\n",
        "  - **Batch Size**: Smaller batches give more accurate gradients, while larger batches can lead to faster training.\n",
        "  \n",
        "**Further Resources**:\n",
        "- Perform grid search or random search for hyperparameter tuning.\n",
        "- Use tools like `Ray Tune` or `Optuna` for more advanced hyperparameter optimization.\n",
        "\n",
        "---\n"
      ],
      "metadata": {
        "id": "8_ecepvxy_uS"
      }
    },
    {
      "cell_type": "markdown",
      "source": [
        "\n",
        "#### **4.7. Using Pretrained Models**\n",
        "\n",
        "- **Why Use Pretrained Models?**:\n",
        "  - Pretrained models save time and resources by leveraging models that have already been trained on large datasets.\n",
        "  - Transfer learning allows you to fine-tune these models on your own data with minimal additional training.\n",
        "\n",
        "- **Popular Pretrained Models**:\n",
        "  - **BERT**: For language understanding tasks.\n",
        "  - **GPT**: For text generation tasks.\n",
        "  - **ELMo**: Contextual embeddings for improving downstream tasks.\n",
        "\n",
        "**Further Resources**:\n",
        "- Experiment with pretrained models using frameworks like Hugging Face.\n",
        "- Fine-tune pretrained models for specific NLP tasks like sentiment analysis or named entity recognition.\n",
        "\n",
        "---"
      ],
      "metadata": {
        "id": "uzuV0W5Sy_xU"
      }
    },
    {
      "cell_type": "markdown",
      "source": [],
      "metadata": {
        "id": "Wvu7GeGfy_0C"
      }
    },
    {
      "cell_type": "markdown",
      "source": [],
      "metadata": {
        "id": "fBHt7Sjay_2-"
      }
    }
  ]
}