{
  "nbformat": 4,
  "nbformat_minor": 0,
  "metadata": {
    "colab": {
      "provenance": [],
      "toc_visible": true,
      "authorship_tag": "ABX9TyMTeUC04PqKCqWbLfNy7enr",
      "include_colab_link": true
    },
    "kernelspec": {
      "name": "python3",
      "display_name": "Python 3"
    },
    "language_info": {
      "name": "python"
    }
  },
  "cells": [
    {
      "cell_type": "markdown",
      "metadata": {
        "id": "view-in-github",
        "colab_type": "text"
      },
      "source": [
        "<a href=\"https://colab.research.google.com/github/babupallam/Msc_AI_Module2_Natural_Language_Processing/blob/main/Note_01_Introduction_to_Word_Categorization_and_Tagging.ipynb\" target=\"_parent\"><img src=\"https://colab.research.google.com/assets/colab-badge.svg\" alt=\"Open In Colab\"/></a>"
      ]
    },
    {
      "cell_type": "markdown",
      "source": [
        "\n",
        "- **Categorizing and Tagging Words** is one of the foundational concepts in Natural Language Processing (NLP).\n",
        "- This section introduces the essential tasks of identifying different parts of speech (POS) in a sentence and marking words with their corresponding tags.\n",
        "- These tagged labels represent lexical categories such as nouns, verbs, adjectives, etc. Tagging plays a pivotal role in numerous NLP applications, from syntactic parsing to machine translation.\n",
        "\n"
      ],
      "metadata": {
        "id": "anrjQvPFbUDu"
      }
    },
    {
      "cell_type": "markdown",
      "source": [
        "### **What is Word Categorization?**\n",
        "\n",
        "- Word categorization refers to classifying words into **lexical categories** (also called **parts of speech**).\n",
        "- These categories are essentially groups of words that share similar syntactic or grammatical roles.\n",
        "- The process helps computers understand the function of words in sentences, which is critical for building robust language models.\n",
        "\n",
        "- The most common lexical categories include:\n",
        "  - **Nouns (N)**: Represent people, places, or things (e.g., \"dog,\" \"city\").\n",
        "  - **Verbs (V)**: Indicate actions or states (e.g., \"run,\" \"is\").\n",
        "  - **Adjectives (ADJ)**: Describe nouns or pronouns (e.g., \"blue,\" \"large\").\n",
        "  - **Adverbs (ADV)**: Modify verbs, adjectives, or other adverbs (e.g., \"quickly,\" \"very\").\n",
        "\n"
      ],
      "metadata": {
        "id": "2dq2rcAHbUGn"
      }
    },
    {
      "cell_type": "markdown",
      "source": [
        "### **Importance of Word Categorization in NLP**\n",
        "\n",
        "- Word categorization is a critical step in **syntactic parsing**, **text-to-speech systems**, **information extraction**, and other NLP tasks.\n",
        "- By categorizing words into their respective lexical categories, machines can start building a structured representation of language.\n",
        "- For example, by identifying a word as a **noun**, the system can expect it to be the subject or object of a sentence, aiding in understanding the sentence's meaning.\n",
        "\n"
      ],
      "metadata": {
        "id": "c4tdTYpxbUIy"
      }
    },
    {
      "cell_type": "markdown",
      "source": [
        "### **What is Word Tagging (POS Tagging)?**\n",
        "\n",
        "- **Part-of-speech tagging** (POS tagging) is the process of marking each word in a sentence with its corresponding part of speech.\n",
        "- It is the automated version of word categorization, where computational models assign the most probable tag to each word based on its context.\n",
        "\n",
        "For example, consider the sentence:  \n",
        "*\"The quick brown fox jumps over the lazy dog.\"*  \n",
        "A POS tagger would label each word as follows:\n",
        "\n",
        "- The (DET)  \n",
        "- quick (ADJ)  \n",
        "- brown (ADJ)  \n",
        "- fox (NOUN)  \n",
        "- jumps (VERB)  \n",
        "- over (ADP)  \n",
        "- the (DET)  \n",
        "- lazy (ADJ)  \n",
        "- dog (NOUN)\n",
        "\n",
        "In this tagging example, each word is assigned a tag that reflects its grammatical function.\n",
        "\n"
      ],
      "metadata": {
        "id": "Gavw76eubULe"
      }
    },
    {
      "cell_type": "markdown",
      "source": [
        "### is there any standard used for creating POS Tags?\n",
        "\n"
      ],
      "metadata": {
        "id": "SeXN-D0wcy5a"
      }
    },
    {
      "cell_type": "markdown",
      "source": [
        "Yes, there are several **standards** used for creating Part-of-Speech (POS) tags. The choice of tagset often depends on the language, the complexity of the task, and the needs of the NLP project. Some widely used **POS tagging standards** include:\n",
        "\n",
        "\n"
      ],
      "metadata": {
        "id": "T9piNpyfc26p"
      }
    },
    {
      "cell_type": "markdown",
      "source": [
        "#### **1. Penn Treebank Tagset**\n",
        "This is one of the most widely used tagsets, particularly in English-language corpora. It contains 36 POS tags, which provide a detailed breakdown of parts of speech. The Penn Treebank is used in the **Wall Street Journal (WSJ) Corpus** and other large datasets.\n",
        "\n",
        "##### Example Tags:\n",
        "- **NN**: Singular noun (e.g., *dog*).\n",
        "- **VB**: Base form of a verb (e.g., *run*).\n",
        "- **JJ**: Adjective (e.g., *blue*).\n",
        "- **RB**: Adverb (e.g., *quickly*).\n",
        "\n",
        "##### Usage:\n",
        "The Penn Treebank tagset is often used for syntactic parsing and as training data for supervised machine learning models. It provides detailed categorization, distinguishing between, for example, different forms of verbs like base form (VB), past tense (VBD), or gerunds (VBG).\n",
        "\n"
      ],
      "metadata": {
        "id": "c4u18IsrdjXe"
      }
    },
    {
      "cell_type": "markdown",
      "source": [
        "#### **2. Universal POS Tagset**\n",
        "The **Universal POS Tagset** is a simplified tagset used for multilingual NLP tasks. It was developed by researchers to be more general and cross-lingual, supporting multiple languages while reducing the complexity of language-specific tagsets.\n",
        "\n",
        "##### Example Tags:\n",
        "- **NOUN**: General noun.\n",
        "- **VERB**: General verb.\n",
        "- **ADJ**: Adjective.\n",
        "- **ADV**: Adverb.\n",
        "\n",
        "##### Usage:\n",
        "The Universal POS Tagset is commonly used in tasks that require consistency across multiple languages, such as **machine translation** or **cross-lingual text classification**. It is also used in widely distributed corpora, like the **Universal Dependencies** project.\n",
        "\n",
        "\n"
      ],
      "metadata": {
        "id": "kHnM3d9fc22W"
      }
    },
    {
      "cell_type": "markdown",
      "source": [
        "#### **3. Brown Corpus Tagset**\n",
        "The **Brown Corpus Tagset** was one of the earliest tagsets used for POS tagging in the **Brown Corpus**, an American English corpus that became a standard for linguistic analysis. The Brown Corpus has a fine-grained set of POS tags (87 tags) that are highly specific.\n",
        "\n",
        "##### Example Tags:\n",
        "- **NP**: Proper noun.\n",
        "- **AT**: Article (e.g., *the*).\n",
        "- **VBZ**: Verb, 3rd person singular present (e.g., *runs*).\n",
        "\n",
        "##### Usage:\n",
        "It is still used in many NLP projects, but newer tagsets like the Penn Treebank have replaced it in more recent applications. However, the Brown Corpus tagset is useful for studying linguistic variation in American English.\n",
        "\n",
        "\n"
      ],
      "metadata": {
        "id": "TLBI0v0_dK3p"
      }
    },
    {
      "cell_type": "markdown",
      "source": [
        "#### **4. CLAWS Tagset**\n",
        "The **CLAWS Tagset** was developed for the **Lancaster-Oslo/Bergen (LOB) Corpus** and has multiple versions, such as CLAWS5, CLAWS6, and CLAWS7, each offering increasingly fine-grained distinctions. CLAWS is especially known for its high accuracy in automatic tagging.\n",
        "\n",
        "##### Example Tags:\n",
        "- **NN1**: Singular noun.\n",
        "- **VV0**: Base form of verb.\n",
        "- **DT0**: General determiner.\n",
        "\n",
        "##### Usage:\n",
        "CLAWS has been widely used for corpus linguistics and text analysis in British English. It was one of the first automatic taggers and is known for its precision in tagging various parts of speech.\n",
        "\n",
        "\n"
      ],
      "metadata": {
        "id": "wsH129CGdK0L"
      }
    },
    {
      "cell_type": "markdown",
      "source": [
        "#### **5. Morphosyntactic Tagsets**\n",
        "These tagsets capture **morphological information** alongside syntactic roles. For instance, in morphologically rich languages like Russian, Arabic, or Finnish, a word’s tag might encode not just its POS but also its **tense**, **gender**, **number**, or **case**.\n",
        "\n",
        "##### Example (for Russian):\n",
        "- **NOUN-fem-sing**: A singular, feminine noun.\n",
        "- **VERB-past-masc**: A masculine past tense verb.\n",
        "\n",
        "##### Usage:\n",
        "Such tagsets are used in tasks like **morphological tagging** for languages with complex grammar systems. They are crucial for languages where word forms carry a significant amount of syntactic and semantic information.\n",
        "\n",
        "\n"
      ],
      "metadata": {
        "id": "VMDLo_HodKxh"
      }
    },
    {
      "cell_type": "markdown",
      "source": [
        "#### **Key Considerations When Choosing a Tagset**\n",
        "- **Task Complexity**: For simple tasks like text classification, the Universal Tagset might suffice. However, for more complex tasks like parsing or machine translation, more detailed tagsets like the Penn Treebank or Brown Corpus might be necessary.\n",
        "- **Language**: Some tagsets, like the Penn Treebank, are English-specific, while others like the Universal Tagset are designed for cross-lingual tasks.\n",
        "- **Corpus Size**: In large corpora, a more granular tagset like the CLAWS tagset may be helpful for detailed linguistic analysis.\n",
        "- **Generalizability**: Universal tagsets are better suited for multilingual tasks, where consistency across languages is important.\n"
      ],
      "metadata": {
        "id": "OyNxmsxSdKu-"
      }
    },
    {
      "cell_type": "markdown",
      "source": [
        "### **Lexical Categories: Open and Closed Classes**\n",
        "Words are typically divided into two major classes: **open class** and **closed class** words.\n",
        "\n",
        "- **Open Class**:\n",
        "  - This class includes words that frequently gain new members.\n",
        "  - Examples are **nouns**, **verbs**, **adjectives**, and **adverbs**.\n",
        "  - New words like \"cyberspace\" or \"blogging\" are typically added to these classes as language evolves.\n",
        "  \n",
        "- **Closed Class**:\n",
        "  - Closed classes consist of words that rarely change or expand.\n",
        "  - Examples include **prepositions** (e.g., \"on,\" \"in,\" \"above\") and **pronouns** (e.g., \"he,\" \"she,\" \"they\").\n",
        "  - These categories remain relatively fixed over time.\n",
        "\n"
      ],
      "metadata": {
        "id": "SXus8IPbbUOL"
      }
    },
    {
      "cell_type": "markdown",
      "source": [
        "### **Challenges in Word Tagging**\n",
        "  - While tagging might seem straightforward, the real challenge lies in handling **ambiguities** and **contextual variations**.\n",
        "  - For instance, words like **\"bank\"** can be tagged differently depending on the sentence:\n",
        "    - **Noun**: \"He went to the **bank**.\"\n",
        "    - **Verb**: \"I will **bank** on your support.\"\n",
        "\n",
        "  - Such words are called **polysemous words**, where the tagger has to rely on the surrounding context to correctly disambiguate the part of speech.\n",
        "  - This makes POS tagging not only a lexical task but also one that involves syntactic and semantic understanding of sentences.\n",
        "\n"
      ],
      "metadata": {
        "id": "akLs5vSWbURE"
      }
    },
    {
      "cell_type": "markdown",
      "source": [
        "### **Universal POS Tagset**\n",
        "  - The **Universal POS Tagset** is a simplified set of POS categories used across different languages.\n",
        "  - It reduces the complexity of the more detailed tagsets (like those in the Brown Corpus) by consolidating tags into high-level categories.\n",
        "  - The Universal Tagset includes tags such as:\n",
        "    - **ADJ** (Adjective)\n",
        "    - **NOUN** (Noun)\n",
        "    - **VERB** (Verb)\n",
        "    - **ADV** (Adverb)\n",
        "    - **DET** (Determiner)\n",
        "\n",
        "  - By standardizing these tags, NLP systems can perform tagging across multiple languages with similar POS structures, making it easier to build multi-lingual models.\n",
        "\n"
      ],
      "metadata": {
        "id": "E6m-KsZubUUj"
      }
    },
    {
      "cell_type": "markdown",
      "source": [
        "### **Example of a Tagged Corpus**\n",
        "\n",
        "  - In order to learn tagging, NLP models are often trained using **tagged corpora**, which are collections of text where every word has been manually tagged with its POS.\n",
        "  - One widely used corpus is the **Brown Corpus**, which provides a large dataset of English text with detailed POS tags.\n",
        "  - An example from the Brown Corpus might look like this:\n",
        "\n",
        "    ```\n",
        "    ('The', 'DET'), ('cat', 'NOUN'), ('sat', 'VERB'), ('on', 'ADP'), ('the', 'DET'), ('mat', 'NOUN')\n",
        "    ```\n",
        "\n",
        "Tagging corpora like this help the model learn which words are likely to be associated with certain tags in various contexts.\n",
        "\n"
      ],
      "metadata": {
        "id": "IRFoRZD4bUWp"
      }
    },
    {
      "cell_type": "markdown",
      "source": [
        "### List of widely used tagged corpora\n",
        "\n",
        "\n",
        "\n",
        "### 1. **Penn Treebank**\n",
        "The **Penn Treebank** is one of the most widely used resources for training NLP models. It contains about 4.5 million words of tagged data, primarily from the Wall Street Journal (WSJ) corpus.\n",
        "\n",
        "- **Tags**: Based on the **Penn Treebank Tagset** (36 POS tags).\n",
        "- **Use**: Often used in syntactic parsing, POS tagging, and language modeling tasks.\n",
        "  \n",
        "---\n",
        "\n",
        "### 2. **Brown Corpus**\n",
        "The **Brown Corpus** is a pioneering corpus that contains over a million words of American English text. It was one of the first corpora to be tagged for parts of speech, using the **Brown Tagset** (87 tags).\n",
        "\n",
        "- **Tags**: Highly detailed, distinguishes between different types of verbs, nouns, and determiners.\n",
        "- **Use**: Training POS taggers, linguistic analysis, and studies of American English.\n",
        "\n",
        "---\n",
        "\n",
        "### 3. **Universal Dependencies (UD)**\n",
        "**Universal Dependencies** is a multilingual treebank project that provides POS tagging, syntactic dependencies, and morphological annotations for over 100 languages.\n",
        "\n",
        "- **Tags**: Uses the **Universal POS Tagset**, a simplified cross-lingual tagset.\n",
        "- **Use**: Cross-lingual POS tagging, syntactic parsing, and dependency parsing.\n",
        "\n",
        "---\n",
        "\n",
        "### 4. **Lancaster-Oslo/Bergen (LOB) Corpus**\n",
        "The **LOB Corpus** is a British English equivalent to the Brown Corpus. It consists of around one million words and is tagged using the **CLAWS tagset**.\n",
        "\n",
        "- **Tags**: CLAWS tagset, which is known for its fine-grained distinctions.\n",
        "- **Use**: Training POS taggers, studying British English, and comparative linguistic studies with the Brown Corpus.\n",
        "\n",
        "---\n",
        "\n",
        "### 5. **Treebank-3**\n",
        "The **Treebank-3** is an extension of the Penn Treebank project, which includes additional text from the Switchboard corpus (transcribed telephone conversations) and other sources.\n",
        "\n",
        "- **Tags**: Uses the **Penn Treebank Tagset**.\n",
        "- **Use**: Used for POS tagging, syntactic parsing, and discourse analysis, especially in conversational text.\n",
        "\n",
        "---\n",
        "\n",
        "### 6. **CoNLL-2000 Chunking Corpus**\n",
        "The **CoNLL-2000** corpus is used for **shallow parsing** or chunking tasks, which includes POS tags as well as chunk tags.\n",
        "\n",
        "- **Tags**: Uses the Penn Treebank Tagset for POS tagging and additional tags for chunk types (e.g., NP for noun phrase).\n",
        "- **Use**: Chunking tasks, POS tagging, and syntactic analysis.\n",
        "\n",
        "---\n",
        "\n",
        "### 7. **Wall Street Journal (WSJ) Corpus**\n",
        "A subset of the Penn Treebank, the **WSJ Corpus** contains transcriptions of news articles from the Wall Street Journal. It has around 1 million words.\n",
        "\n",
        "- **Tags**: Penn Treebank Tagset.\n",
        "- **Use**: Used in parsing, POS tagging, and language modeling tasks.\n",
        "\n",
        "---\n",
        "\n",
        "### 8. **TIGER Corpus**\n",
        "The **TIGER Corpus** is a German-language corpus that includes around 900,000 words of German text tagged with POS tags and syntactic structure.\n",
        "\n",
        "- **Tags**: Uses the **Stuttgart-Tübingen Tagset (STTS)** for German POS tagging.\n",
        "- **Use**: Training POS taggers, dependency parsing, and syntactic analysis of German.\n",
        "\n",
        "---\n",
        "\n",
        "### 9. **Indian Languages Corpora (Indic Treebanks)**\n",
        "A collection of treebanks for various Indian languages such as Hindi, Bengali, and Telugu. These corpora are part of the **Indian Languages Corpora Initiative (ILCI)**.\n",
        "\n",
        "- **Tags**: Language-specific tagsets adapted from the Universal POS Tagset.\n",
        "- **Use**: Multilingual POS tagging, syntactic parsing, and linguistic research on Indian languages.\n",
        "\n",
        "---\n",
        "\n",
        "### 10. **Mac-Morpho Corpus (Brazilian Portuguese)**\n",
        "The **Mac-Morpho Corpus** contains around 1.5 million words of Brazilian Portuguese text. It is manually tagged with POS labels.\n",
        "\n",
        "- **Tags**: Uses the **Mac-Morpho tagset** for Brazilian Portuguese.\n",
        "- **Use**: POS tagging for Portuguese, used in speech recognition and language modeling for Portuguese.\n",
        "\n",
        "---\n",
        "\n",
        "### 11. **Sinica Treebank (Chinese)**\n",
        "The **Sinica Treebank** is a corpus of Chinese text tagged with POS tags and syntactic structures. It contains around 150,000 words.\n",
        "\n",
        "- **Tags**: Uses a custom Chinese tagset.\n",
        "- **Use**: POS tagging, syntactic parsing, and Chinese language modeling.\n",
        "\n",
        "---\n",
        "\n",
        "### 12. **ConLL-2003 Named Entity Recognition (NER) Corpus**\n",
        "Although primarily used for Named Entity Recognition (NER), the **ConLL-2003 Corpus** also includes POS tags for English and German texts.\n",
        "\n",
        "- **Tags**: Uses Penn Treebank tagset for English and STTS for German.\n",
        "- **Use**: Named entity recognition, POS tagging, and sequence labeling tasks.\n",
        "\n",
        "---\n",
        "\n",
        "### 13. **Europarl Corpus**\n",
        "The **Europarl Corpus** consists of parallel text aligned across several European languages, extracted from the proceedings of the European Parliament.\n",
        "\n",
        "- **Tags**: Often tagged with the Universal POS Tagset or language-specific tagsets.\n",
        "- **Use**: POS tagging, machine translation, and cross-lingual language processing.\n"
      ],
      "metadata": {
        "id": "yI8gA0Q6bUcH"
      }
    },
    {
      "cell_type": "markdown",
      "source": [
        "### Comparison of the Tagged Corpus based on the usecases\n",
        "\n",
        "\n",
        "\n",
        "| **Corpus**                          | **Language**            | **Tagset**                         | **Size**             | **Primary Use Cases**                        | **Key Features**                           |\n",
        "|-------------------------------------|-------------------------|------------------------------------|----------------------|----------------------------------------------|--------------------------------------------|\n",
        "| **Penn Treebank**                   | English                 | Penn Treebank Tagset (36 tags)     | 4.5 million words    | POS tagging, syntactic parsing, language modeling | Detailed syntactic annotations, used in WSJ corpus |\n",
        "| **Brown Corpus**                    | English                 | Brown Tagset (87 tags)             | 1 million words      | POS tagging, linguistic analysis             | One of the earliest tagged corpora, detailed tagging |\n",
        "| **Universal Dependencies (UD)**     | Multilingual (100+ languages) | Universal POS Tagset              | Varies by language   | Multilingual POS tagging, syntactic parsing  | Cross-lingual consistency, used for dependency parsing |\n",
        "| **Lancaster-Oslo/Bergen (LOB) Corpus** | British English         | CLAWS Tagset                      | 1 million words      | POS tagging, British English analysis        | Focus on British English, comparable to Brown Corpus |\n",
        "| **Treebank-3**                      | English (spoken, written) | Penn Treebank Tagset              | ~1 million words     | POS tagging, syntactic parsing, discourse analysis | Contains conversational data (e.g., Switchboard Corpus) |\n",
        "| **CoNLL-2000 Chunking Corpus**      | English                 | Penn Treebank Tagset + Chunk tags  | 1 million words      | Chunking, POS tagging, syntactic parsing     | Used in shallow parsing (chunking) challenges |\n",
        "| **Wall Street Journal (WSJ) Corpus** | English                 | Penn Treebank Tagset              | 1 million words      | POS tagging, syntactic parsing, text analysis | Part of the Penn Treebank, newswire data focus |\n",
        "| **TIGER Corpus**                    | German                  | Stuttgart-Tübingen Tagset (STTS)   | 900,000 words        | POS tagging, syntactic parsing for German    | Comprehensive syntactic annotations for German |\n",
        "| **Indian Languages Corpora (ILCI)** | Hindi, Telugu, Bengali   | Custom tagsets adapted from Universal POS | Varies by language  | Multilingual POS tagging, syntactic parsing for Indian languages | Key resource for NLP in Indian languages |\n",
        "| **Mac-Morpho Corpus**               | Brazilian Portuguese     | Mac-Morpho Tagset                 | 1.5 million words    | POS tagging, speech recognition for Portuguese | Key corpus for Brazilian Portuguese text processing |\n",
        "| **Sinica Treebank**                 | Chinese                 | Custom Chinese tagset             | 150,000 words        | POS tagging, syntactic parsing for Chinese   | Rich syntactic and POS annotations for Mandarin |\n",
        "| **ConLL-2003 NER Corpus**           | English, German          | Penn Treebank (English), STTS (German) | ~300,000 words (English) | Named entity recognition, POS tagging, sequence labeling | Used in NER competitions, includes both POS and NER tags |\n",
        "| **Europarl Corpus**                 | Multilingual (21 European languages) | Universal POS / Language-specific | Varies by language   | Machine translation, cross-lingual POS tagging | Multilingual, parallel text for machine translation |\n"
      ],
      "metadata": {
        "id": "KJ6XCLczs2Kl"
      }
    },
    {
      "cell_type": "markdown",
      "source": [
        "### **Tagging Applications in NLP**\n",
        "POS tagging serves as an essential preprocessing step in many high-level NLP tasks:\n",
        "- **Text-to-Speech Systems**: Helps in pronunciation by indicating stress patterns and how words should be spoken.\n",
        "- **Machine Translation**: Improves translation quality by maintaining syntactic structure across languages.\n",
        "- **Named Entity Recognition (NER)**: By identifying nouns (often proper nouns), systems can detect entities such as people, locations, and organizations.\n"
      ],
      "metadata": {
        "id": "iTwh3yIVbUZe"
      }
    },
    {
      "cell_type": "markdown",
      "source": [
        "Note: This note is made with the help of AI assitance and other meterials, including journels and articles.\n",
        "\n"
      ],
      "metadata": {
        "id": "PvHPQVZ9tJCP"
      }
    }
  ]
}