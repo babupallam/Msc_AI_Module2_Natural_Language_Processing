{
  "nbformat": 4,
  "nbformat_minor": 0,
  "metadata": {
    "colab": {
      "provenance": [],
      "authorship_tag": "ABX9TyNskLOVuLETOX6RNxuRgvT4",
      "include_colab_link": true
    },
    "kernelspec": {
      "name": "python3",
      "display_name": "Python 3"
    },
    "language_info": {
      "name": "python"
    }
  },
  "cells": [
    {
      "cell_type": "markdown",
      "metadata": {
        "id": "view-in-github",
        "colab_type": "text"
      },
      "source": [
        "<a href=\"https://colab.research.google.com/github/babupallam/Msc_AI_Module2_Natural_Language_Processing/blob/main/L06-Feed%20Forward%20Networks%20for%20Natural%20Language%20Processing/06_2D_Convolutions_on_Image_Like_Data.ipynb\" target=\"_parent\"><img src=\"https://colab.research.google.com/assets/colab-badge.svg\" alt=\"Open In Colab\"/></a>"
      ]
    },
    {
      "cell_type": "markdown",
      "source": [],
      "metadata": {
        "id": "KUUzDssxAgyv"
      }
    },
    {
      "cell_type": "markdown",
      "source": [
        "### 1. **Introduction**\n",
        "\n",
        "- **What are 2D Convolutions?**\n",
        "  - **2D Convolutions** are used to process **image data** where the input is a grid of pixels (e.g., a 2D array representing an image).\n",
        "  - Each convolutional layer applies **filters** (also called kernels) that slide over the image to detect patterns like edges, textures, or shapes.\n",
        "  - The filter moves across the image, performing **element-wise multiplication** with the input, and produces an output called a **feature map**.\n",
        "\n",
        "- **Key Concepts**:\n",
        "  - **Input Channels**: The number of channels in the input image (e.g., 1 for grayscale, 3 for RGB images).\n",
        "  - **Output Channels**: The number of filters applied in the convolution, each producing its own feature map.\n",
        "  - **Kernel Size**: The size of the sliding window used to extract local patterns from the image (e.g., 3x3, 5x5).\n",
        "  \n",
        "- **Applications**:\n",
        "  - Image classification (e.g., identifying objects in images).\n",
        "  - Object detection (e.g., detecting faces, cars, or other objects).\n",
        "  - Feature extraction (e.g., identifying edges, textures).\n",
        "\n",
        "**Observation**:\n",
        "- **2D convolutions** are the backbone of most computer vision models. They allow the network to learn spatial hierarchies by capturing local patterns in images.\n",
        "\n",
        "---\n"
      ],
      "metadata": {
        "id": "Wcq3ml1-J13T"
      }
    },
    {
      "cell_type": "markdown",
      "source": [
        "\n",
        "### 2. **Defining 2D Convolutions**\n",
        "\n",
        "- **Creating Input Data**:\n",
        "  - We will create a **4D tensor** to represent a batch of images where:\n",
        "    - **Batch size**: The number of images processed in parallel.\n",
        "    - **Input channels**: Number of channels in the image (e.g., 3 for RGB).\n",
        "    - **Height and width**: The spatial dimensions of the image (e.g., 3x3 or 5x5).\n",
        "\n",
        "  **Example 1: Defining a Simple 2D Convolution**:\n",
        "  - Create a tensor of shape `(1, 2, 3, 3)` representing a batch of 1 image with 2 channels (e.g., a 2-channel grayscale image) and a size of `3x3` pixels.\n",
        "  - Define a **2D convolutional layer** (`conv1`) with:\n",
        "    - 2 input channels (matching the image’s 2 channels).\n",
        "    - 1 output channel (meaning we will use 1 filter).\n",
        "    - A kernel size of `2x2`.\n",
        "\n",
        "**Code**:\n"
      ],
      "metadata": {
        "id": "fEjZeNfbJ18o"
      }
    },
    {
      "cell_type": "code",
      "source": [
        "import torch\n",
        "import torch.nn as nn\n",
        "\n",
        "# Create input tensor (1 image, 2 channels, 3x3 pixels)\n",
        "x = torch.randn(1, 2, 3, 3)  # Shape: (batch_size, input_channels, height, width)\n",
        "print(\"Input shape:\", x.shape)\n",
        "\n",
        "# Define 2D convolutional layer (2 input channels, 1 output channel, kernel 2x2)\n",
        "conv1 = nn.Conv2d(in_channels=2, out_channels=1, kernel_size=2)\n",
        "\n",
        "# Apply convolution\n",
        "output = conv1(x)\n",
        "print(\"Output shape after conv1:\", output.shape)\n"
      ],
      "metadata": {
        "colab": {
          "base_uri": "https://localhost:8080/"
        },
        "id": "o1yclymX_hS1",
        "outputId": "815d2884-476a-4275-f578-5a513d73912f"
      },
      "execution_count": 1,
      "outputs": [
        {
          "output_type": "stream",
          "name": "stdout",
          "text": [
            "Input shape: torch.Size([1, 2, 3, 3])\n",
            "Output shape after conv1: torch.Size([1, 1, 2, 2])\n"
          ]
        }
      ]
    },
    {
      "cell_type": "markdown",
      "source": [
        "\n",
        "**Explanation**:\n",
        "- The convolution layer applies a 2x2 filter over the input image, sliding it across the image and producing a smaller output (feature map).\n",
        "  \n",
        "**Output Shape**:\n",
        "- After the convolution, the spatial dimensions of the image (height and width) shrink because the filter captures local information as it moves across the image.\n",
        "\n",
        "**Observation**:\n",
        "- The **output size** depends on the kernel size, stride, padding, and input size. A smaller kernel reduces the spatial dimensions of the output.\n",
        "\n",
        "---\n"
      ],
      "metadata": {
        "id": "NXZ40Up4J2Bp"
      }
    },
    {
      "cell_type": "markdown",
      "source": [
        "\n",
        "### 3. **Visualizing Convolution Weights**\n",
        "\n",
        "- **Understanding Convolutional Weights**:\n",
        "  - The filters (kernels) in the convolution layer are **learnable parameters**. Each filter extracts specific features from the image (e.g., horizontal edges, vertical lines).\n",
        "  - The weights of the convolutional layer represent the filter values that will be applied to the input image.\n",
        "\n",
        "- **Printing the Convolution Weights**:\n",
        "  - The weights of the convolution layer can be accessed and printed. This helps visualize how filters operate during the forward pass.\n",
        "\n",
        "**Code**:\n"
      ],
      "metadata": {
        "id": "UjGtIoGpJ2Fn"
      }
    },
    {
      "cell_type": "code",
      "source": [
        "\n",
        "print(\"Convolution weights (filter values):\")\n",
        "print(conv1.weight)\n"
      ],
      "metadata": {
        "colab": {
          "base_uri": "https://localhost:8080/"
        },
        "id": "nMgVLTey_oLi",
        "outputId": "d74e03f5-ee8e-44ad-ebf5-214fe8ed0671"
      },
      "execution_count": 2,
      "outputs": [
        {
          "output_type": "stream",
          "name": "stdout",
          "text": [
            "Convolution weights (filter values):\n",
            "Parameter containing:\n",
            "tensor([[[[ 0.0304,  0.1318],\n",
            "          [-0.3129, -0.1099]],\n",
            "\n",
            "         [[-0.0658,  0.3372],\n",
            "          [ 0.1099,  0.0564]]]], requires_grad=True)\n"
          ]
        }
      ]
    },
    {
      "cell_type": "markdown",
      "source": [
        "\n",
        "**Explanation**:\n",
        "- **Convolution weights** (filter values) are initialized randomly at first but will be adjusted during training to capture relevant features (e.g., edges, textures).\n",
        "\n",
        "**Observation**:\n",
        "- Each **filter** in the convolutional layer learns to detect different patterns in the image, such as edges, corners, or more complex textures.\n",
        "\n",
        "**Demonstration**:\n",
        "- Visualize how the filters operate:\n"
      ],
      "metadata": {
        "id": "W-RPL8e7_p1j"
      }
    },
    {
      "cell_type": "code",
      "source": [
        "print(\"Filter shape:\", conv1.weight.shape)  # Shows filter size and channels\n"
      ],
      "metadata": {
        "colab": {
          "base_uri": "https://localhost:8080/"
        },
        "id": "muxkMK9s_qMY",
        "outputId": "cae1f452-3306-41fd-8ab9-a6511f36f880"
      },
      "execution_count": 3,
      "outputs": [
        {
          "output_type": "stream",
          "name": "stdout",
          "text": [
            "Filter shape: torch.Size([1, 2, 2, 2])\n"
          ]
        }
      ]
    },
    {
      "cell_type": "markdown",
      "source": [
        "\n",
        "---\n",
        "\n",
        "### 4. **Exercise**\n",
        "\n",
        "- **Modify the Number of Output Channels**:\n",
        "  - The **number of output channels** defines how many different filters will be applied to the input. Each filter produces a feature map that captures different aspects of the input image.\n",
        "  \n",
        "  **Task**:\n",
        "  - Modify the convolutional layer to have **2 output channels** (i.e., 2 filters), each producing a different feature map:\n"
      ],
      "metadata": {
        "id": "-1fgr4DGJ2Jb"
      }
    },
    {
      "cell_type": "code",
      "source": [
        "conv2 = nn.Conv2d(in_channels=2, out_channels=2, kernel_size=2)\n",
        "output = conv2(x)\n",
        "print(\"Output shape with 2 output channels:\", output.shape)\n"
      ],
      "metadata": {
        "colab": {
          "base_uri": "https://localhost:8080/"
        },
        "id": "HOn8UELt_xad",
        "outputId": "94d5229f-d544-40b8-ae64-7475dccb56ef"
      },
      "execution_count": 4,
      "outputs": [
        {
          "output_type": "stream",
          "name": "stdout",
          "text": [
            "Output shape with 2 output channels: torch.Size([1, 2, 2, 2])\n"
          ]
        }
      ]
    },
    {
      "cell_type": "markdown",
      "source": [
        "\n",
        "  **Observation**:\n",
        "  - Increasing the number of output channels increases the number of feature maps produced by the layer, allowing the network to capture more complex and varied patterns.\n",
        "\n",
        "- **Experiment with Kernel Sizes**:\n",
        "  - The **kernel size** determines the size of the region in the input image that the filter covers at each step. Larger kernels capture broader patterns, while smaller kernels capture finer details.\n",
        "  \n",
        "  **Task**:\n",
        "  - Change the kernel size to `3x3` and observe how the output shape changes:\n"
      ],
      "metadata": {
        "id": "0qACGUIXJ2Kv"
      }
    },
    {
      "cell_type": "code",
      "source": [
        "\n",
        "conv3 = nn.Conv2d(in_channels=2, out_channels=2, kernel_size=3)\n",
        "output = conv3(x)\n",
        "print(\"Output shape with 3x3 kernel:\", output.shape)\n"
      ],
      "metadata": {
        "colab": {
          "base_uri": "https://localhost:8080/"
        },
        "id": "WygGd8Vf_1E_",
        "outputId": "57062007-0131-4fcd-aab2-6bb9d0920a05"
      },
      "execution_count": 5,
      "outputs": [
        {
          "output_type": "stream",
          "name": "stdout",
          "text": [
            "Output shape with 3x3 kernel: torch.Size([1, 2, 1, 1])\n"
          ]
        }
      ]
    },
    {
      "cell_type": "markdown",
      "source": [
        "\n",
        "  **Explanation**:\n",
        "  - A larger kernel reduces the spatial dimensions more significantly because it captures a larger portion of the image at each step.\n",
        "\n",
        "**Observation**:\n",
        "- **Larger kernels** tend to capture broader, more general patterns in the image, while **smaller kernels** capture finer, more localized details.\n",
        "\n",
        "---\n"
      ],
      "metadata": {
        "id": "oe0qgLVCJ3QK"
      }
    },
    {
      "cell_type": "markdown",
      "source": [
        "\n",
        "### 5. **Conclusion**\n",
        "\n",
        "- **Recap**:\n",
        "  - **2D Convolutions** are essential for feature extraction in image data, where they learn to detect local patterns (e.g., edges, textures).\n",
        "  - **Filters** (kernels) are the learnable parameters of the convolutional layer, and each filter captures different features in the image.\n",
        "  - The output of a convolutional layer is a **feature map** that represents the detected patterns at various locations in the input image.\n",
        "  \n",
        "- **Relationship Between Kernel Size, Stride, and Output Size**:\n",
        "  - The size of the output feature map depends on several factors:\n",
        "    - **Kernel size**: Larger kernels reduce the spatial dimensions more.\n",
        "    - **Stride**: The step size of the filter as it moves across the image. Larger strides reduce the output size more quickly.\n",
        "    - **Padding**: Adding padding around the input image helps preserve spatial dimensions after convolution.\n",
        "\n",
        "**Quiz**:\n",
        "- What happens to the output size when you increase the kernel size?\n",
        "- How does increasing the number of output channels affect the model’s ability to detect patterns?\n",
        "\n",
        "**Takeaway**:\n",
        "- 2D convolutions are a powerful tool for image processing because they allow the network to automatically learn relevant features from the data, making them a cornerstone of modern computer vision models.\n",
        "\n",
        "---\n"
      ],
      "metadata": {
        "id": "_W91bPV7J3QM"
      }
    },
    {
      "cell_type": "markdown",
      "source": [
        "## Observations:\n"
      ],
      "metadata": {
        "id": "rxCxaiK7AcmY"
      }
    },
    {
      "cell_type": "markdown",
      "source": [
        "\n",
        "### 1. **Observation: 2D Convolutions Learn Local Patterns in Images**\n",
        "   - **2D convolutions** allow CNNs to detect spatial patterns like edges, textures, or shapes in images. Each convolutional layer applies multiple filters (kernels) to the input image, extracting local features.\n",
        "   - **Demonstration**:\n"
      ],
      "metadata": {
        "id": "k2bYLWAmAci_"
      }
    },
    {
      "cell_type": "code",
      "source": [
        "import torch\n",
        "import torch.nn as nn\n",
        "\n",
        "# Create input tensor (1 image, 2 channels, 3x3 pixels)\n",
        "x = torch.randn(1, 2, 3, 3)  # Shape: (batch_size, channels, height, width)\n",
        "print(\"Input shape:\", x.shape)\n",
        "\n",
        "# Define 2D convolutional layer (2 input channels, 1 output channel, kernel size 2x2)\n",
        "conv1 = nn.Conv2d(in_channels=2, out_channels=1, kernel_size=2)\n",
        "\n",
        "# Apply convolution\n",
        "output = conv1(x)\n",
        "print(\"Output shape after conv1:\", output.shape)\n"
      ],
      "metadata": {
        "colab": {
          "base_uri": "https://localhost:8080/"
        },
        "id": "uDKh5pPYB3Dk",
        "outputId": "cbfedaf7-fbea-451c-f140-74cc8362d2fd"
      },
      "execution_count": 6,
      "outputs": [
        {
          "output_type": "stream",
          "name": "stdout",
          "text": [
            "Input shape: torch.Size([1, 2, 3, 3])\n",
            "Output shape after conv1: torch.Size([1, 1, 2, 2])\n"
          ]
        }
      ]
    },
    {
      "cell_type": "markdown",
      "source": [
        "\n",
        "### 2. **Observation: Output Size Depends on Kernel Size, Stride, Padding, and Input Size**\n",
        "   - The size of the output feature map is determined by the kernel size, stride, padding, and the input image size.\n",
        "   - **Demonstration**:\n"
      ],
      "metadata": {
        "id": "oVQ5-Ck7Acga"
      }
    },
    {
      "cell_type": "code",
      "source": [
        "print(\"Input size:\", x.shape)\n",
        "print(\"Kernel size:\", conv1.kernel_size)\n",
        "print(\"Output size after convolution:\", output.shape)\n",
        "\n",
        "# Smaller kernel sizes and larger strides reduce the output size. Padding can help preserve the original input size.\n"
      ],
      "metadata": {
        "colab": {
          "base_uri": "https://localhost:8080/"
        },
        "id": "a8qtEnTBCAk5",
        "outputId": "e0ccffe2-d2e1-449f-8fc9-4e410b99e92b"
      },
      "execution_count": 7,
      "outputs": [
        {
          "output_type": "stream",
          "name": "stdout",
          "text": [
            "Input size: torch.Size([1, 2, 3, 3])\n",
            "Kernel size: (2, 2)\n",
            "Output size after convolution: torch.Size([1, 1, 2, 2])\n"
          ]
        }
      ]
    },
    {
      "cell_type": "markdown",
      "source": [
        "\n",
        "### 3. **Observation: Convolutional Layer Weights are Learnable Parameters**\n",
        "   - The filters (kernels) in a convolutional layer are **learnable parameters**, meaning they are updated during training to capture relevant features.\n",
        "   - **Demonstration**:\n"
      ],
      "metadata": {
        "id": "Vq6mMpr4Acdv"
      }
    },
    {
      "cell_type": "code",
      "source": [
        "print(\"Convolution weights (filter values):\")\n",
        "print(conv1.weight)\n",
        "\n",
        "# The weights of the convolutional layer start with random initialization and are adjusted during training to capture patterns such as edges or textures.\n"
      ],
      "metadata": {
        "colab": {
          "base_uri": "https://localhost:8080/"
        },
        "id": "tdzoK5BCCD45",
        "outputId": "9a93dd8d-edd7-49c4-bf64-12ccc59f7af7"
      },
      "execution_count": 8,
      "outputs": [
        {
          "output_type": "stream",
          "name": "stdout",
          "text": [
            "Convolution weights (filter values):\n",
            "Parameter containing:\n",
            "tensor([[[[-0.2693,  0.1791],\n",
            "          [-0.1832,  0.3400]],\n",
            "\n",
            "         [[-0.0794,  0.0911],\n",
            "          [-0.0279, -0.1263]]]], requires_grad=True)\n"
          ]
        }
      ]
    },
    {
      "cell_type": "markdown",
      "source": [
        "\n",
        "### 4. **Observation: Increasing Output Channels Increases Feature Maps**\n",
        "   - Each output channel corresponds to a different filter applied to the input. More output channels mean more feature maps, each capturing different aspects of the input image.\n",
        "   - **Demonstration**:\n",
        ""
      ],
      "metadata": {
        "id": "09xrMEBgAcbc"
      }
    },
    {
      "cell_type": "code",
      "source": [
        "conv2 = nn.Conv2d(in_channels=2, out_channels=2, kernel_size=2)  # Two filters\n",
        "output = conv2(x)\n",
        "print(\"Output shape with 2 output channels:\", output.shape)\n",
        "\n",
        "# By increasing the number of output channels, the model learns a broader set of features. In this example, the output shape changes from `(1, 1, 2, 2)` to `(1, 2, 2, 2)`.\n"
      ],
      "metadata": {
        "colab": {
          "base_uri": "https://localhost:8080/"
        },
        "id": "MARNQS8BCEHG",
        "outputId": "89148c07-8793-485b-b263-fd9890dc1f05"
      },
      "execution_count": 9,
      "outputs": [
        {
          "output_type": "stream",
          "name": "stdout",
          "text": [
            "Output shape with 2 output channels: torch.Size([1, 2, 2, 2])\n"
          ]
        }
      ]
    },
    {
      "cell_type": "markdown",
      "source": [
        "\n",
        "### 5. **Observation: Changing Kernel Size Affects the Output**\n",
        "   - A larger kernel size reduces the spatial dimensions of the output more significantly as it captures a larger portion of the input image at each step.\n",
        "   - **Demonstration**:\n"
      ],
      "metadata": {
        "id": "552e5TQLAcYs"
      }
    },
    {
      "cell_type": "code",
      "source": [
        "conv3 = nn.Conv2d(in_channels=2, out_channels=2, kernel_size=3)  # Kernel size 3x3\n",
        "output = conv3(x)\n",
        "print(\"Output shape with 3x3 kernel:\", output.shape)\n",
        "\n",
        "# The output size is much smaller when a 3x3 kernel is used. This is because a larger kernel covers more of the image, reducing the output dimensions faster.\n"
      ],
      "metadata": {
        "colab": {
          "base_uri": "https://localhost:8080/"
        },
        "id": "DtZmHLIbCESS",
        "outputId": "5046a8d0-a165-4a8c-fd7a-a04c8e60aaee"
      },
      "execution_count": 10,
      "outputs": [
        {
          "output_type": "stream",
          "name": "stdout",
          "text": [
            "Output shape with 3x3 kernel: torch.Size([1, 2, 1, 1])\n"
          ]
        }
      ]
    },
    {
      "cell_type": "markdown",
      "source": [
        "\n",
        "### 6. **Observation: Larger Kernels Capture Broader Patterns, Smaller Kernels Capture Finer Details**\n",
        "   - Larger kernels are better at capturing broad, global patterns (e.g., shapes), while smaller kernels capture finer, more localized details (e.g., edges).\n",
        "   - **Demonstration**:\n"
      ],
      "metadata": {
        "id": "9brIkoKGAcWF"
      }
    },
    {
      "cell_type": "code",
      "source": [
        "print(\"Small kernel (2x2) captures fine details, larger kernel (3x3) captures broad patterns.\")\n",
        "# Example of smaller and larger kernel application shown previously\n",
        "\n",
        "\n",
        "# For tasks where capturing fine details is important (e.g., object detection), smaller kernels are often preferred. For capturing global context, larger kernels are useful.\n"
      ],
      "metadata": {
        "colab": {
          "base_uri": "https://localhost:8080/"
        },
        "id": "LFpZJUVCCEct",
        "outputId": "4e744960-be96-4ca4-951d-06d2c03cac0b"
      },
      "execution_count": 11,
      "outputs": [
        {
          "output_type": "stream",
          "name": "stdout",
          "text": [
            "Small kernel (2x2) captures fine details, larger kernel (3x3) captures broad patterns.\n"
          ]
        }
      ]
    },
    {
      "cell_type": "markdown",
      "source": [
        "\n",
        "### 7. **Observation: Visualizing Filters and Feature Maps**\n",
        "   - Each filter learns to detect a specific feature, such as edges, textures, or more complex shapes. Printing the filter values shows how they are applied to the image.\n",
        "   - **Demonstration**:\n"
      ],
      "metadata": {
        "id": "iHvER3ULAcTd"
      }
    },
    {
      "cell_type": "code",
      "source": [
        "print(\"Visualizing filters:\")\n",
        "print(conv1.weight.shape)  # Shape of the filter (1, 2, 2, 2)\n",
        "print(\"Convolution weights:\", conv1.weight)\n",
        "\n",
        "\n",
        "# This demonstrates the shape of the convolutional filters and how they affect the input. Each filter extracts unique features during the forward pass.\n"
      ],
      "metadata": {
        "colab": {
          "base_uri": "https://localhost:8080/"
        },
        "id": "a00o7Ea2CEnS",
        "outputId": "a78866a4-c64b-4781-c25c-088f5491f916"
      },
      "execution_count": 12,
      "outputs": [
        {
          "output_type": "stream",
          "name": "stdout",
          "text": [
            "Visualizing filters:\n",
            "torch.Size([1, 2, 2, 2])\n",
            "Convolution weights: Parameter containing:\n",
            "tensor([[[[-0.2693,  0.1791],\n",
            "          [-0.1832,  0.3400]],\n",
            "\n",
            "         [[-0.0794,  0.0911],\n",
            "          [-0.0279, -0.1263]]]], requires_grad=True)\n"
          ]
        }
      ]
    },
    {
      "cell_type": "markdown",
      "source": [
        "\n",
        "### 8. **Observation: Padding Helps Preserve Spatial Dimensions**\n",
        "   - Adding padding around the input can help preserve the input's original dimensions after convolution.\n",
        "   - **Demonstration**:\n"
      ],
      "metadata": {
        "id": "TaK91Q0PAuEL"
      }
    },
    {
      "cell_type": "code",
      "source": [
        "conv_with_padding = nn.Conv2d(in_channels=2, out_channels=1, kernel_size=2, padding=1)\n",
        "padded_output = conv_with_padding(x)\n",
        "print(\"Output shape with padding:\", padded_output.shape)\n",
        "\n",
        "# The padding ensures that the output’s spatial dimensions are closer to the original input’s dimensions, which is useful when you want to maintain a certain size.\n"
      ],
      "metadata": {
        "colab": {
          "base_uri": "https://localhost:8080/"
        },
        "id": "puTjNVPpCExV",
        "outputId": "31a0ea70-5c39-46e9-a810-6d3d8f2f63df"
      },
      "execution_count": 13,
      "outputs": [
        {
          "output_type": "stream",
          "name": "stdout",
          "text": [
            "Output shape with padding: torch.Size([1, 1, 4, 4])\n"
          ]
        }
      ]
    },
    {
      "cell_type": "markdown",
      "source": [
        "\n",
        "### 9. **Observation: Stride Affects How Much the Filter Moves Across the Input**\n",
        "   - Stride determines how far the filter moves in each step. Larger strides reduce the output size by skipping over parts of the input.\n",
        "   - **Demonstration**:\n"
      ],
      "metadata": {
        "id": "2RrIH5kdAuAp"
      }
    },
    {
      "cell_type": "code",
      "source": [
        "conv_with_stride = nn.Conv2d(in_channels=2, out_channels=1, kernel_size=2, stride=2)\n",
        "stride_output = conv_with_stride(x)\n",
        "print(\"Output shape with stride 2:\", stride_output.shape)\n",
        "\n",
        "# With a stride of 2, the output size is halved compared to a stride of 1. Stride is useful for reducing the dimensions of the feature map without using pooling.\n"
      ],
      "metadata": {
        "colab": {
          "base_uri": "https://localhost:8080/"
        },
        "id": "CcMtULGvCE7o",
        "outputId": "e4768309-8168-4236-99ae-fc2228c19c8a"
      },
      "execution_count": 14,
      "outputs": [
        {
          "output_type": "stream",
          "name": "stdout",
          "text": [
            "Output shape with stride 2: torch.Size([1, 1, 1, 1])\n"
          ]
        }
      ]
    },
    {
      "cell_type": "markdown",
      "source": [
        "\n",
        "### 10. **Observation: Multiple Convolutional Layers Capture More Complex Patterns**\n",
        "   - Stacking convolutional layers allows the network to build upon the simple features captured by earlier layers and detect more complex patterns in the data.\n",
        "   - **Demonstration**:\n"
      ],
      "metadata": {
        "id": "GCFU9NrRAt-C"
      }
    },
    {
      "cell_type": "code",
      "source": [
        "class MultiConvCNN(nn.Module):\n",
        "    def __init__(self):\n",
        "        super(MultiConvCNN, self).__init__()\n",
        "        self.conv1 = nn.Conv2d(in_channels=2, out_channels=4, kernel_size=2)\n",
        "        self.conv2 = nn.Conv2d(in_channels=4, out_channels=8, kernel_size=2)\n",
        "\n",
        "    def forward(self, x):\n",
        "        x = self.conv1(x)\n",
        "        x = self.conv2(x)\n",
        "        return x\n",
        "\n",
        "# Create an instance of the model and pass the input through multiple convolutional layers\n",
        "multi_conv_model = MultiConvCNN()\n",
        "output = multi_conv_model(x)\n",
        "print(\"Output shape after multiple convolutions:\", output.shape)\n",
        "\n",
        "# The first layer detects simple features like edges, while the second layer builds on those to capture more complex features like textures or shapes. Each layer adds more depth and complexity to the feature extraction process.\n"
      ],
      "metadata": {
        "colab": {
          "base_uri": "https://localhost:8080/"
        },
        "id": "v6eD7lF-CFGs",
        "outputId": "3e45d7b2-b7f5-4161-a284-02038a07d81f"
      },
      "execution_count": 15,
      "outputs": [
        {
          "output_type": "stream",
          "name": "stdout",
          "text": [
            "Output shape after multiple convolutions: torch.Size([1, 8, 1, 1])\n"
          ]
        }
      ]
    },
    {
      "cell_type": "markdown",
      "source": [
        "\n",
        "### 11. **Observation: Increasing the Number of Input Channels Increases Complexity**\n",
        "   - The number of input channels corresponds to the depth of the input data. More input channels increase the complexity of the convolutional layer, allowing the model to process multi-channel data (e.g., RGB images with 3 channels or multi-spectral images with more than 3 channels).\n",
        "   \n",
        "   - **Demonstration**:\n"
      ],
      "metadata": {
        "id": "OiJpUkWyAt7T"
      }
    },
    {
      "cell_type": "code",
      "source": [
        "# Create a tensor with 3 input channels (e.g., an RGB image with height=5, width=5)\n",
        "x = torch.randn(1, 3, 5, 5)  # Shape: (batch_size, input_channels, height, width)\n",
        "print(\"Input shape with 3 channels:\", x.shape)\n",
        "\n",
        "# Define a 2D convolutional layer with 3 input channels and 2 output channels\n",
        "conv = nn.Conv2d(in_channels=3, out_channels=2, kernel_size=3)\n",
        "\n",
        "# Apply convolution\n",
        "output = conv(x)\n",
        "print(\"Output shape after convolution with 3 input channels:\", output.shape)\n",
        "\n",
        "# This demonstrates how the number of input channels affects the convolutional layer's operation. Each filter processes all the input channels, combining information from them to produce the output feature maps.\n"
      ],
      "metadata": {
        "colab": {
          "base_uri": "https://localhost:8080/"
        },
        "id": "O9QKcaV5CFS1",
        "outputId": "67c41d74-368f-45ad-b1dd-ee48df004eb4"
      },
      "execution_count": 16,
      "outputs": [
        {
          "output_type": "stream",
          "name": "stdout",
          "text": [
            "Input shape with 3 channels: torch.Size([1, 3, 5, 5])\n",
            "Output shape after convolution with 3 input channels: torch.Size([1, 2, 3, 3])\n"
          ]
        }
      ]
    },
    {
      "cell_type": "markdown",
      "source": [
        "\n",
        "### 12. **Observation: Pooling Layers Reduce Spatial Dimensions and Focus on Important Features**\n",
        "   - Pooling layers are used to downsample feature maps by reducing their spatial dimensions, while retaining the most important information (e.g., maximum values in max pooling).\n",
        "   \n",
        "   - **Demonstration**:\n"
      ],
      "metadata": {
        "id": "mKYKS2o1At4k"
      }
    },
    {
      "cell_type": "code",
      "source": [
        "# Define a 2D max pooling layer with a 2x2 kernel\n",
        "pool = nn.MaxPool2d(kernel_size=2, stride=2)\n",
        "\n",
        "# Create an input tensor with a larger spatial dimension\n",
        "x = torch.randn(1, 1, 6, 6)  # Shape: (batch_size, channels, height, width)\n",
        "print(\"Input shape before pooling:\", x.shape)\n",
        "\n",
        "# Apply max pooling\n",
        "pooled_output = pool(x)\n",
        "print(\"Output shape after max pooling:\", pooled_output.shape)\n",
        "\n",
        "# Max pooling reduces the input size by taking the maximum value from each 2x2 region. This operation helps to reduce the computational load and focus on the most significant features of the image.\n"
      ],
      "metadata": {
        "colab": {
          "base_uri": "https://localhost:8080/"
        },
        "id": "t75UHVIJCFer",
        "outputId": "67290b3a-afb1-4536-b9c2-8df15d6a8b40"
      },
      "execution_count": 17,
      "outputs": [
        {
          "output_type": "stream",
          "name": "stdout",
          "text": [
            "Input shape before pooling: torch.Size([1, 1, 6, 6])\n",
            "Output shape after max pooling: torch.Size([1, 1, 3, 3])\n"
          ]
        }
      ]
    },
    {
      "cell_type": "markdown",
      "source": [
        "\n",
        "### 13. **Observation: Batch Size Affects How Many Images Are Processed Simultaneously**\n",
        "   - The batch size determines how many images or samples are processed in parallel. Larger batch sizes allow more data to be processed at once, increasing efficiency during training.\n",
        "   \n",
        "   - **Demonstration**:\n"
      ],
      "metadata": {
        "id": "FWbvjaPVAt18"
      }
    },
    {
      "cell_type": "code",
      "source": [
        "# Create input tensor with batch size of 4 (4 images, each with 1 channel, 5x5 pixels)\n",
        "x = torch.randn(4, 1, 5, 5)  # Shape: (batch_size, channels, height, width)\n",
        "print(\"Input shape with batch size 4:\", x.shape)\n",
        "\n",
        "# Define a 2D convolutional layer\n",
        "conv = nn.Conv2d(in_channels=1, out_channels=3, kernel_size=3)\n",
        "\n",
        "# Apply convolution\n",
        "output = conv(x)\n",
        "print(\"Output shape after convolution with batch size 4:\", output.shape)\n",
        "\n",
        "# Batch size affects how many samples are processed simultaneously during training or inference. In this example, four images are processed at once, each resulting in a corresponding output after the convolution operation.\n"
      ],
      "metadata": {
        "colab": {
          "base_uri": "https://localhost:8080/"
        },
        "id": "8iX2Bc33CFp_",
        "outputId": "65a358ec-baeb-4d79-a6e5-0074f067ff4b"
      },
      "execution_count": 18,
      "outputs": [
        {
          "output_type": "stream",
          "name": "stdout",
          "text": [
            "Input shape with batch size 4: torch.Size([4, 1, 5, 5])\n",
            "Output shape after convolution with batch size 4: torch.Size([4, 3, 3, 3])\n"
          ]
        }
      ]
    },
    {
      "cell_type": "markdown",
      "source": [
        "\n",
        "### 14. **Observation: Multiple Convolutions and Pooling Layers Can Be Stacked to Learn Hierarchical Features**\n",
        "   - By stacking multiple convolutional and pooling layers, CNNs can learn hierarchical representations. Early layers capture low-level features (e.g., edges), while deeper layers capture more abstract features (e.g., shapes, textures).\n",
        "   \n",
        "   - **Demonstration**:\n"
      ],
      "metadata": {
        "id": "rFrQz0sKAtzN"
      }
    },
    {
      "cell_type": "code",
      "source": [
        "import torch\n",
        "import torch.nn as nn\n",
        "import torch.nn.functional as F  # Import the necessary module for activation functions\n",
        "\n",
        "class CNNModel(nn.Module):  # Define a Convolutional Neural Network (CNN) model\n",
        "    def __init__(self):\n",
        "        super(CNNModel, self).__init__()  # Call the parent class's constructor to initialize the network\n",
        "\n",
        "        # Describe the overall architecture\n",
        "        print(\"Initializing CNN with two convolutional and two pooling layers.\")\n",
        "\n",
        "        # First convolutional layer: 1 input channel, 6 output channels, 3x3 kernel\n",
        "        self.conv1 = nn.Conv2d(in_channels=1, out_channels=6, kernel_size=3)\n",
        "        print(\"Layer 1: Convolutional Layer with 1 input channel and 6 output channels, kernel size 3x3.\")\n",
        "\n",
        "        # First pooling layer: 2x2 pooling with stride of 2\n",
        "        self.pool1 = nn.MaxPool2d(kernel_size=2, stride=2)\n",
        "        print(\"Layer 2: Max Pooling Layer with 2x2 window and stride 2.\")\n",
        "\n",
        "        # Second convolutional layer: 6 input channels, 12 output channels, 3x3 kernel\n",
        "        self.conv2 = nn.Conv2d(in_channels=6, out_channels=12, kernel_size=3)\n",
        "        print(\"Layer 3: Convolutional Layer with 6 input channels and 12 output channels, kernel size 3x3.\")\n",
        "\n",
        "        # Second pooling layer: 2x2 pooling with stride of 2\n",
        "        self.pool2 = nn.MaxPool2d(kernel_size=2, stride=2)\n",
        "        print(\"Layer 4: Max Pooling Layer with 2x2 window and stride 2.\")\n",
        "\n",
        "        # Describe the architecture summary after initialization\n",
        "        print(\"\\nCNN Model Initialized with two convolutional and two pooling layers.\")\n",
        "\n",
        "    def forward(self, x):\n",
        "        # Describe the input before passing through layers\n",
        "        print(f\"\\nForward Pass - Input Tensor Shape: {x.shape}\")\n",
        "\n",
        "        # Apply first convolution, activation (ReLU), and pooling\n",
        "        x = self.pool1(F.relu(self.conv1(x)))\n",
        "        print(f\"After Layer 1 (Conv1 -> ReLU -> Pool1) - Tensor Shape: {x.shape}\")\n",
        "\n",
        "        # Apply second convolution, activation (ReLU), and pooling\n",
        "        x = self.pool2(F.relu(self.conv2(x)))\n",
        "        print(f\"After Layer 2 (Conv2 -> ReLU -> Pool2) - Tensor Shape: {x.shape}\")\n",
        "\n",
        "        return x\n",
        "\n",
        "    def describe_model_architecture(self):\n",
        "        # Additional method to describe the architecture in more detail\n",
        "        print(\"\\n==== Model Architecture Description ====\")\n",
        "        print(f\"First Convolutional Layer:\\n\\t\"\n",
        "              f\"Input: 1 channel, Output: 6 channels, Kernel: 3x3.\")\n",
        "        print(\"First layer detects basic features such as edges in the image.\")\n",
        "\n",
        "        print(f\"First Pooling Layer:\\n\\t\"\n",
        "              f\"Max Pooling with 2x2 window. Reduces spatial dimensions while preserving important features.\")\n",
        "\n",
        "        print(f\"Second Convolutional Layer:\\n\\t\"\n",
        "              f\"Input: 6 channels, Output: 12 channels, Kernel: 3x3.\")\n",
        "        print(\"Second layer detects more complex patterns formed by combinations of edges, such as shapes.\")\n",
        "\n",
        "        print(f\"Second Pooling Layer:\\n\\t\"\n",
        "              f\"Max Pooling with 2x2 window. Further reduces spatial dimensions and enhances features.\")\n",
        "        print(\"========================================\\n\")\n",
        "\n",
        "# Instantiate the CNN model\n",
        "model = CNNModel()\n",
        "\n",
        "# Call the method to describe the architecture in more detail\n",
        "model.describe_model_architecture()\n",
        "\n",
        "# Create an input tensor (batch size=1, 1 input channel, 12x12 pixels)\n",
        "x = torch.randn(1, 1, 12, 12)\n",
        "\n",
        "# Forward pass through the network\n",
        "output = model(x)\n",
        "print(f\"\\nFinal Output Shape: {output.shape}\")\n",
        "\n",
        "# Observing Layer Weights and Biases for further understanding\n",
        "print(\"\\n==== Layer Weights and Biases Observation ====\")\n",
        "print(f\"Conv1 Weights:\\n{model.conv1.weight}\")\n",
        "print(f\"Conv1 Biases:\\n{model.conv1.bias}\")\n",
        "print(f\"Conv2 Weights:\\n{model.conv2.weight}\")\n",
        "print(f\"Conv2 Biases:\\n{model.conv2.bias}\")\n",
        "print(\"===============================================\")\n",
        "\n",
        "# Demonstration with larger batch of inputs\n",
        "batch_input = torch.randn(5, 1, 12, 12)  # Simulating a batch of 5 input samples\n",
        "print(\"\\nForward Pass with Batch of Inputs\")\n",
        "print(f\"Input Shape (Batch of 5 samples): {batch_input.shape}\")\n",
        "\n",
        "# Forward pass for the batch\n",
        "batch_output = model(batch_input)\n",
        "print(f\"Output Shape after Forward Pass with Batch: {batch_output.shape}\\n\")\n",
        "\n",
        "# Visualizing the weight distribution for both convolutional layers (Optional)\n",
        "import matplotlib.pyplot as plt\n",
        "\n",
        "def plot_weights(layer, layer_name):\n",
        "    # Plot the weights of the given convolutional layer\n",
        "    plt.hist(layer.weight.detach().numpy().flatten(), bins=20, alpha=0.7)\n",
        "    plt.title(f\"Weight Distribution in {layer_name}\")\n",
        "    plt.xlabel(\"Weight values\")\n",
        "    plt.ylabel(\"Frequency\")\n",
        "    plt.show()\n",
        "\n",
        "# Visualize the weight distribution for Conv1 and Conv2\n",
        "plot_weights(model.conv1, \"Conv Layer 1\")\n",
        "plot_weights(model.conv2, \"Conv Layer 2\")\n",
        "\n",
        "# Analyzing the effect of input scaling\n",
        "scaled_input = torch.randn(1, 1, 12, 12) * 100  # Creating a scaled-up version of the input\n",
        "print(\"\\nForward Pass with Scaled Input\")\n",
        "print(f\"Scaled Input:\\n{scaled_input}\")\n",
        "\n",
        "# Pass scaled input through the network\n",
        "scaled_output = model(scaled_input)\n",
        "print(f\"Output for Scaled Input: {scaled_output}\\n\")\n",
        "\n"
      ],
      "metadata": {
        "colab": {
          "base_uri": "https://localhost:8080/",
          "height": 1000
        },
        "id": "JawFKkZZCF0_",
        "outputId": "819c9010-06c6-43a5-f82d-9cdaa4f4a147"
      },
      "execution_count": 26,
      "outputs": [
        {
          "output_type": "stream",
          "name": "stdout",
          "text": [
            "Initializing CNN with two convolutional and two pooling layers.\n",
            "Layer 1: Convolutional Layer with 1 input channel and 6 output channels, kernel size 3x3.\n",
            "Layer 2: Max Pooling Layer with 2x2 window and stride 2.\n",
            "Layer 3: Convolutional Layer with 6 input channels and 12 output channels, kernel size 3x3.\n",
            "Layer 4: Max Pooling Layer with 2x2 window and stride 2.\n",
            "\n",
            "CNN Model Initialized with two convolutional and two pooling layers.\n",
            "\n",
            "==== Model Architecture Description ====\n",
            "First Convolutional Layer:\n",
            "\tInput: 1 channel, Output: 6 channels, Kernel: 3x3.\n",
            "First layer detects basic features such as edges in the image.\n",
            "First Pooling Layer:\n",
            "\tMax Pooling with 2x2 window. Reduces spatial dimensions while preserving important features.\n",
            "Second Convolutional Layer:\n",
            "\tInput: 6 channels, Output: 12 channels, Kernel: 3x3.\n",
            "Second layer detects more complex patterns formed by combinations of edges, such as shapes.\n",
            "Second Pooling Layer:\n",
            "\tMax Pooling with 2x2 window. Further reduces spatial dimensions and enhances features.\n",
            "========================================\n",
            "\n",
            "\n",
            "Forward Pass - Input Tensor Shape: torch.Size([1, 1, 12, 12])\n",
            "After Layer 1 (Conv1 -> ReLU -> Pool1) - Tensor Shape: torch.Size([1, 6, 5, 5])\n",
            "After Layer 2 (Conv2 -> ReLU -> Pool2) - Tensor Shape: torch.Size([1, 12, 1, 1])\n",
            "\n",
            "Final Output Shape: torch.Size([1, 12, 1, 1])\n",
            "\n",
            "==== Layer Weights and Biases Observation ====\n",
            "Conv1 Weights:\n",
            "Parameter containing:\n",
            "tensor([[[[ 0.0391,  0.3233, -0.0247],\n",
            "          [-0.0132, -0.1770, -0.0428],\n",
            "          [ 0.1147,  0.0669, -0.0178]]],\n",
            "\n",
            "\n",
            "        [[[ 0.2482, -0.3037,  0.3268],\n",
            "          [-0.3222,  0.3197, -0.1788],\n",
            "          [-0.1937, -0.2078,  0.2807]]],\n",
            "\n",
            "\n",
            "        [[[ 0.2823,  0.1371,  0.3131],\n",
            "          [ 0.0566,  0.0562, -0.2940],\n",
            "          [-0.2084, -0.0345,  0.1050]]],\n",
            "\n",
            "\n",
            "        [[[-0.1689, -0.0641,  0.1600],\n",
            "          [-0.1388,  0.3121, -0.2660],\n",
            "          [ 0.2545, -0.2278,  0.1606]]],\n",
            "\n",
            "\n",
            "        [[[-0.2646,  0.1692,  0.0293],\n",
            "          [ 0.1814,  0.2657, -0.3147],\n",
            "          [ 0.2188,  0.2504,  0.2959]]],\n",
            "\n",
            "\n",
            "        [[[-0.2641,  0.2858,  0.1270],\n",
            "          [ 0.2095, -0.0788, -0.0654],\n",
            "          [-0.1840, -0.2919, -0.2966]]]], requires_grad=True)\n",
            "Conv1 Biases:\n",
            "Parameter containing:\n",
            "tensor([ 0.3206, -0.1213, -0.0428, -0.1573, -0.2298, -0.2473],\n",
            "       requires_grad=True)\n",
            "Conv2 Weights:\n",
            "Parameter containing:\n",
            "tensor([[[[ 1.4056e-02, -9.3984e-02,  5.7630e-02],\n",
            "          [ 4.4324e-02, -3.1718e-02, -7.3027e-02],\n",
            "          [ 8.1154e-02,  1.3087e-01, -1.1119e-01]],\n",
            "\n",
            "         [[-8.7618e-02,  4.9851e-02,  1.6879e-03],\n",
            "          [ 1.1283e-01, -9.9810e-02, -9.8224e-03],\n",
            "          [-5.9990e-05, -4.7354e-02, -5.3917e-02]],\n",
            "\n",
            "         [[-5.7283e-02, -7.2137e-02, -9.4699e-02],\n",
            "          [ 5.8821e-02,  4.1894e-02,  1.2924e-01],\n",
            "          [ 4.2302e-03, -5.6755e-02, -9.3831e-02]],\n",
            "\n",
            "         [[-4.3030e-02, -1.6080e-02, -1.1687e-01],\n",
            "          [-7.9159e-02,  6.1376e-02, -9.7079e-02],\n",
            "          [ 5.7954e-02, -1.1747e-01, -3.3076e-02]],\n",
            "\n",
            "         [[-8.6012e-02, -8.2033e-02, -8.3619e-02],\n",
            "          [-4.0060e-02,  8.9363e-02,  6.4852e-02],\n",
            "          [ 1.1024e-01, -3.6155e-02,  1.3027e-01]],\n",
            "\n",
            "         [[-5.5343e-02, -9.3004e-02,  1.2339e-01],\n",
            "          [-7.9332e-02, -7.0507e-02, -3.4256e-02],\n",
            "          [-4.5895e-02, -6.1653e-03,  4.0548e-02]]],\n",
            "\n",
            "\n",
            "        [[[ 1.1202e-01,  1.0499e-01,  7.3088e-02],\n",
            "          [-1.1064e-01,  8.9216e-02,  1.2855e-01],\n",
            "          [ 1.1745e-01, -2.9812e-02,  1.0277e-01]],\n",
            "\n",
            "         [[-4.4116e-02, -1.1526e-01,  4.9970e-02],\n",
            "          [ 2.6427e-02, -3.6617e-02,  4.2337e-02],\n",
            "          [-7.6417e-02, -8.8004e-02,  8.9344e-02]],\n",
            "\n",
            "         [[-1.1428e-01, -8.2196e-02, -8.5401e-02],\n",
            "          [-1.8553e-02,  6.3036e-02, -7.3131e-03],\n",
            "          [ 1.1709e-01,  4.5833e-02, -1.1086e-01]],\n",
            "\n",
            "         [[ 8.0419e-02, -6.7539e-02, -1.3205e-01],\n",
            "          [-3.9044e-02, -1.0804e-01, -1.2932e-01],\n",
            "          [ 1.2493e-01, -9.8468e-02, -3.9713e-02]],\n",
            "\n",
            "         [[ 1.3271e-01,  1.3097e-01,  1.0671e-01],\n",
            "          [ 6.3265e-02, -7.6522e-02,  2.8801e-02],\n",
            "          [-5.4127e-02,  2.3118e-02,  2.0196e-02]],\n",
            "\n",
            "         [[-7.0943e-02,  5.7270e-02,  2.4057e-02],\n",
            "          [-1.3409e-01,  9.5171e-02,  9.3025e-02],\n",
            "          [ 1.0787e-01, -7.2582e-02, -1.1615e-01]]],\n",
            "\n",
            "\n",
            "        [[[ 9.9674e-02, -1.6691e-02, -1.3123e-01],\n",
            "          [-1.1659e-01,  1.0141e-01, -9.3298e-02],\n",
            "          [ 6.0742e-02, -2.6595e-02, -7.1723e-02]],\n",
            "\n",
            "         [[-7.8432e-02, -4.4640e-03, -9.1915e-02],\n",
            "          [ 8.7307e-02,  4.0397e-02,  5.7871e-02],\n",
            "          [ 6.4067e-02,  7.1297e-02, -1.2216e-01]],\n",
            "\n",
            "         [[-7.0615e-02, -1.3577e-01,  7.5631e-03],\n",
            "          [-4.6242e-02, -9.5203e-02, -5.6332e-03],\n",
            "          [-2.7512e-02,  6.4838e-02, -2.5890e-02]],\n",
            "\n",
            "         [[ 9.9272e-02, -1.1129e-01,  1.1473e-02],\n",
            "          [-8.0150e-02,  5.2302e-02, -5.5825e-02],\n",
            "          [-6.2388e-02,  7.4775e-02, -1.3505e-01]],\n",
            "\n",
            "         [[ 1.0392e-01,  6.7980e-02, -1.1753e-01],\n",
            "          [ 1.0817e-01, -1.0855e-01, -7.0493e-02],\n",
            "          [ 7.3776e-03,  4.2529e-02,  5.6786e-02]],\n",
            "\n",
            "         [[ 2.5962e-02,  1.1646e-01, -5.6105e-02],\n",
            "          [ 4.5814e-03,  1.1614e-01, -2.6382e-02],\n",
            "          [-2.8491e-02, -7.8220e-03,  7.0567e-02]]],\n",
            "\n",
            "\n",
            "        [[[ 6.7947e-02,  9.4970e-02,  5.9480e-02],\n",
            "          [-5.4093e-02,  5.8983e-02, -1.1303e-01],\n",
            "          [ 1.0876e-01,  3.3799e-02,  7.8592e-02]],\n",
            "\n",
            "         [[-2.6302e-02, -1.1609e-01,  1.9012e-02],\n",
            "          [-2.7684e-02,  1.2616e-01,  9.0259e-02],\n",
            "          [-1.2965e-01, -1.0090e-01,  7.6463e-02]],\n",
            "\n",
            "         [[-2.8927e-02,  1.2786e-01,  9.0790e-02],\n",
            "          [ 1.0717e-01,  9.1709e-02,  8.0674e-02],\n",
            "          [ 3.1145e-02,  9.0039e-02, -8.8910e-02]],\n",
            "\n",
            "         [[ 4.7022e-03,  1.1420e-01, -1.3556e-01],\n",
            "          [ 5.9509e-02, -4.4800e-02,  1.0123e-01],\n",
            "          [-4.7015e-02, -8.8703e-02,  5.8157e-02]],\n",
            "\n",
            "         [[-9.0910e-02,  5.4982e-02,  1.7892e-02],\n",
            "          [ 8.0444e-02, -3.4777e-03,  6.1098e-02],\n",
            "          [-6.2895e-02,  5.0621e-02,  2.7811e-02]],\n",
            "\n",
            "         [[-1.3314e-01,  2.3774e-02,  6.3321e-03],\n",
            "          [-7.7420e-02,  1.6255e-02, -1.0676e-01],\n",
            "          [ 1.3363e-02, -1.1450e-02, -1.1638e-01]]],\n",
            "\n",
            "\n",
            "        [[[-1.3578e-01, -5.5548e-02,  1.7684e-02],\n",
            "          [-8.2412e-02, -5.2189e-02, -1.4315e-02],\n",
            "          [ 1.1426e-01, -6.8262e-02,  6.5827e-02]],\n",
            "\n",
            "         [[-3.7238e-02,  7.2921e-02, -7.3853e-02],\n",
            "          [-5.1895e-02,  1.2125e-01,  3.0861e-02],\n",
            "          [ 7.3696e-02,  2.6405e-02, -4.1684e-02]],\n",
            "\n",
            "         [[-7.5773e-02, -5.8666e-02,  5.3635e-02],\n",
            "          [-1.6153e-02,  5.3888e-02, -1.0370e-01],\n",
            "          [-3.3307e-02,  9.5519e-02, -1.3513e-01]],\n",
            "\n",
            "         [[-7.8162e-03,  9.4590e-02, -9.4380e-02],\n",
            "          [-4.5035e-02, -4.8228e-02,  7.1140e-02],\n",
            "          [-1.0703e-01, -1.2423e-02,  1.3348e-01]],\n",
            "\n",
            "         [[-6.1532e-02, -2.5091e-02, -1.1859e-01],\n",
            "          [ 7.9025e-02, -3.2244e-02, -1.2213e-01],\n",
            "          [ 7.1814e-02, -4.7590e-02,  6.4429e-02]],\n",
            "\n",
            "         [[-3.3767e-02,  6.1888e-02, -1.3335e-01],\n",
            "          [-5.6155e-02,  1.4002e-02, -6.6723e-02],\n",
            "          [-5.7339e-03,  1.2215e-01,  1.0564e-01]]],\n",
            "\n",
            "\n",
            "        [[[-5.1112e-02, -1.2978e-01, -1.2969e-01],\n",
            "          [-6.9668e-02, -2.7107e-02,  1.0683e-01],\n",
            "          [ 5.5438e-02, -4.1892e-02, -4.1408e-03]],\n",
            "\n",
            "         [[-1.0649e-01,  1.0448e-01,  3.9401e-02],\n",
            "          [ 1.2583e-01,  1.2948e-01,  1.1104e-01],\n",
            "          [-9.0857e-02,  9.0628e-04,  3.7393e-02]],\n",
            "\n",
            "         [[ 4.6576e-02,  1.0053e-01,  1.3429e-01],\n",
            "          [-1.2340e-01,  8.0026e-02,  3.0633e-02],\n",
            "          [ 1.1133e-01,  5.4258e-02,  2.4621e-02]],\n",
            "\n",
            "         [[ 3.0976e-02,  2.0032e-02,  3.1132e-02],\n",
            "          [ 1.0148e-01,  6.2007e-02,  1.1281e-01],\n",
            "          [ 4.9966e-02, -1.3539e-01, -3.6575e-02]],\n",
            "\n",
            "         [[-1.1527e-01, -9.8010e-02,  1.8622e-02],\n",
            "          [-6.3343e-02, -7.7754e-02, -1.0049e-01],\n",
            "          [ 1.0636e-01,  6.9895e-02,  2.5497e-02]],\n",
            "\n",
            "         [[ 1.0716e-01,  1.2870e-01, -3.2422e-02],\n",
            "          [ 2.5080e-02,  1.1339e-02, -9.4211e-03],\n",
            "          [ 1.8016e-02,  8.0671e-02,  2.6247e-02]]],\n",
            "\n",
            "\n",
            "        [[[-9.5837e-02,  5.4782e-02, -7.5230e-02],\n",
            "          [-7.8285e-02,  3.2503e-02,  1.1989e-01],\n",
            "          [-1.4378e-02, -1.9729e-02, -1.3931e-02]],\n",
            "\n",
            "         [[-2.0212e-02,  8.3322e-02,  1.5674e-02],\n",
            "          [-3.6835e-02, -8.1281e-02,  8.6502e-02],\n",
            "          [ 4.0543e-02, -1.8936e-02,  1.6380e-04]],\n",
            "\n",
            "         [[-7.2874e-02,  6.6920e-02, -1.0435e-01],\n",
            "          [-4.8562e-02,  1.2241e-01,  4.9236e-02],\n",
            "          [ 4.1335e-02,  1.0260e-01, -7.3028e-02]],\n",
            "\n",
            "         [[ 6.6337e-02,  8.8328e-02, -2.1656e-02],\n",
            "          [ 8.2382e-02,  4.4269e-02, -9.5599e-02],\n",
            "          [-8.7465e-02, -2.0782e-02,  1.0280e-01]],\n",
            "\n",
            "         [[-1.1732e-01,  1.5552e-02,  9.3525e-02],\n",
            "          [-6.7486e-02, -7.8851e-02,  6.2557e-02],\n",
            "          [-3.8351e-02, -1.0318e-01,  1.6665e-03]],\n",
            "\n",
            "         [[ 6.8476e-02,  1.2558e-01,  1.2026e-01],\n",
            "          [-6.6697e-02,  4.1262e-02,  9.3795e-02],\n",
            "          [ 1.3311e-01,  6.7106e-02, -1.3057e-01]]],\n",
            "\n",
            "\n",
            "        [[[ 5.7711e-02, -5.5315e-04,  9.1702e-02],\n",
            "          [-8.1990e-02,  2.8831e-02, -4.9263e-02],\n",
            "          [ 6.6397e-02,  9.8155e-02, -2.8103e-02]],\n",
            "\n",
            "         [[-7.8688e-04,  1.2942e-01,  2.2469e-02],\n",
            "          [-9.7828e-02, -3.7994e-02, -6.3959e-02],\n",
            "          [ 1.0645e-01,  6.7384e-02,  1.3013e-02]],\n",
            "\n",
            "         [[-8.6618e-02,  3.7133e-02, -8.0544e-02],\n",
            "          [-6.0318e-02,  6.8667e-02, -8.1051e-02],\n",
            "          [-5.1735e-02, -4.8907e-02, -2.2229e-02]],\n",
            "\n",
            "         [[ 5.7812e-02, -5.3474e-02, -1.1892e-01],\n",
            "          [-1.1860e-01,  9.5780e-03, -7.0496e-02],\n",
            "          [ 9.1667e-02,  3.4979e-02, -1.8317e-02]],\n",
            "\n",
            "         [[ 7.5158e-02, -1.2197e-01,  1.2143e-01],\n",
            "          [ 4.4975e-02,  1.1846e-01,  6.3861e-02],\n",
            "          [ 2.8572e-02,  7.2011e-02, -2.7942e-02]],\n",
            "\n",
            "         [[ 4.4462e-03,  4.4568e-02,  2.7876e-02],\n",
            "          [-4.4741e-02,  1.1992e-01,  1.1808e-01],\n",
            "          [ 8.8178e-02,  4.9098e-02,  1.1282e-01]]],\n",
            "\n",
            "\n",
            "        [[[-5.3802e-02,  1.1084e-01,  2.8877e-03],\n",
            "          [ 8.0901e-03, -1.9256e-03,  2.3089e-02],\n",
            "          [-4.5932e-02, -1.0073e-01, -1.2018e-01]],\n",
            "\n",
            "         [[-1.4016e-02,  1.2882e-01,  1.0289e-01],\n",
            "          [-1.1449e-01, -4.8752e-02,  8.6479e-02],\n",
            "          [ 5.3007e-02,  1.2594e-01, -8.6410e-02]],\n",
            "\n",
            "         [[-8.7975e-02,  5.4361e-02,  1.9362e-02],\n",
            "          [ 1.2365e-01, -7.8452e-02,  1.3344e-01],\n",
            "          [-1.1371e-01,  2.5255e-02, -1.3197e-01]],\n",
            "\n",
            "         [[ 1.0823e-01, -1.0867e-02, -1.1980e-01],\n",
            "          [ 1.9918e-02,  9.8563e-02, -9.3183e-02],\n",
            "          [-1.8219e-02, -1.3489e-01,  6.7003e-02]],\n",
            "\n",
            "         [[ 5.7257e-02, -1.3552e-01,  2.5272e-02],\n",
            "          [ 2.4398e-02,  7.1954e-02,  1.0770e-01],\n",
            "          [ 3.5221e-02, -9.0970e-02,  3.4545e-02]],\n",
            "\n",
            "         [[-1.1632e-01, -1.3068e-01,  1.0747e-01],\n",
            "          [ 7.2979e-02, -6.1066e-02, -8.7871e-02],\n",
            "          [ 9.0305e-02, -1.1236e-01, -9.1649e-02]]],\n",
            "\n",
            "\n",
            "        [[[ 1.1731e-01,  9.4528e-02,  1.1748e-01],\n",
            "          [ 4.8755e-02, -1.0257e-01, -5.5245e-02],\n",
            "          [-4.7694e-02,  1.2826e-01, -1.2218e-01]],\n",
            "\n",
            "         [[ 7.3237e-02, -1.3214e-01,  5.2684e-02],\n",
            "          [ 9.5231e-02, -8.7604e-02, -1.0351e-01],\n",
            "          [ 4.9795e-02, -3.9516e-02, -1.3037e-02]],\n",
            "\n",
            "         [[-1.1545e-01,  1.0226e-01,  6.2355e-03],\n",
            "          [ 8.1144e-02, -6.5582e-02,  4.9718e-02],\n",
            "          [-2.9611e-02,  1.1247e-01,  1.0279e-02]],\n",
            "\n",
            "         [[-1.1300e-01,  1.1380e-01, -5.3395e-03],\n",
            "          [-1.0208e-02,  9.3756e-02, -9.3211e-02],\n",
            "          [ 1.3531e-01,  4.2990e-02,  8.4798e-02]],\n",
            "\n",
            "         [[ 8.8352e-03,  1.5019e-02,  6.0548e-02],\n",
            "          [ 2.9599e-02,  7.7629e-02,  3.1709e-02],\n",
            "          [-2.5030e-02,  1.1380e-01, -1.6464e-02]],\n",
            "\n",
            "         [[-4.5441e-02,  7.4538e-02, -1.8794e-03],\n",
            "          [ 2.1533e-02,  1.0418e-01, -1.1816e-01],\n",
            "          [-9.3207e-02,  2.7552e-02,  8.8178e-02]]],\n",
            "\n",
            "\n",
            "        [[[ 9.3465e-02,  1.0074e-01, -2.2176e-02],\n",
            "          [ 7.5155e-03, -3.1343e-02, -6.8749e-02],\n",
            "          [ 1.0293e-01, -2.7378e-02,  6.3103e-02]],\n",
            "\n",
            "         [[-5.0949e-02, -9.5466e-02, -3.6545e-03],\n",
            "          [-6.5250e-02, -6.2277e-03, -2.8938e-02],\n",
            "          [ 7.5359e-02,  1.6339e-02,  7.5096e-02]],\n",
            "\n",
            "         [[-2.3442e-02, -8.8258e-02,  7.3006e-02],\n",
            "          [ 6.4965e-02,  9.6177e-02,  2.8275e-02],\n",
            "          [-5.5289e-02, -4.9880e-03,  9.6119e-02]],\n",
            "\n",
            "         [[-5.6161e-02,  1.0934e-01,  7.1155e-02],\n",
            "          [ 1.1965e-01, -3.1592e-02,  9.4272e-02],\n",
            "          [ 5.1897e-02, -4.3285e-02, -4.9010e-02]],\n",
            "\n",
            "         [[-9.3761e-02, -3.5598e-02,  1.2030e-01],\n",
            "          [-7.5042e-02,  7.1062e-02, -5.8001e-02],\n",
            "          [ 1.3500e-01,  2.0197e-02, -2.1937e-02]],\n",
            "\n",
            "         [[ 8.0484e-02, -3.1860e-02, -3.1207e-02],\n",
            "          [ 1.0033e-01, -6.9281e-02,  8.7501e-02],\n",
            "          [ 5.2199e-02,  5.8129e-02, -2.6750e-02]]],\n",
            "\n",
            "\n",
            "        [[[-3.6595e-02, -5.2834e-02, -9.5685e-02],\n",
            "          [-3.1790e-02, -1.2470e-01, -4.2855e-02],\n",
            "          [-1.5290e-02,  5.2479e-03, -6.7991e-02]],\n",
            "\n",
            "         [[-6.4395e-02,  4.5574e-02, -1.8417e-02],\n",
            "          [-1.0545e-01, -7.7017e-02,  6.5024e-02],\n",
            "          [-1.0231e-01, -4.4795e-02, -1.8178e-02]],\n",
            "\n",
            "         [[-7.5679e-02, -3.9856e-02, -5.3972e-03],\n",
            "          [-2.7232e-02, -2.5401e-02, -1.2973e-01],\n",
            "          [ 8.1123e-03,  4.2555e-02,  5.7827e-02]],\n",
            "\n",
            "         [[-9.2113e-02,  1.5767e-02, -4.0861e-02],\n",
            "          [ 5.4029e-02,  1.1734e-01,  3.1063e-02],\n",
            "          [ 8.9048e-02, -9.7641e-02,  1.3433e-01]],\n",
            "\n",
            "         [[-1.1641e-01, -6.6889e-02, -2.7389e-02],\n",
            "          [-1.1249e-01, -1.2364e-01, -7.5145e-02],\n",
            "          [ 7.8284e-02, -9.4041e-02, -4.2110e-02]],\n",
            "\n",
            "         [[-3.6293e-02, -1.0830e-01, -1.0473e-01],\n",
            "          [-1.1119e-01,  5.6285e-04,  1.0157e-01],\n",
            "          [ 4.0057e-02, -1.7502e-02,  1.0853e-01]]]], requires_grad=True)\n",
            "Conv2 Biases:\n",
            "Parameter containing:\n",
            "tensor([-0.0331,  0.0707,  0.1292,  0.0289,  0.0413, -0.0344, -0.0890,  0.0269,\n",
            "        -0.1064, -0.0689, -0.1069,  0.0590], requires_grad=True)\n",
            "===============================================\n",
            "\n",
            "Forward Pass with Batch of Inputs\n",
            "Input Shape (Batch of 5 samples): torch.Size([5, 1, 12, 12])\n",
            "\n",
            "Forward Pass - Input Tensor Shape: torch.Size([5, 1, 12, 12])\n",
            "After Layer 1 (Conv1 -> ReLU -> Pool1) - Tensor Shape: torch.Size([5, 6, 5, 5])\n",
            "After Layer 2 (Conv2 -> ReLU -> Pool2) - Tensor Shape: torch.Size([5, 12, 1, 1])\n",
            "Output Shape after Forward Pass with Batch: torch.Size([5, 12, 1, 1])\n",
            "\n"
          ]
        },
        {
          "output_type": "display_data",
          "data": {
            "text/plain": [
              "<Figure size 640x480 with 1 Axes>"
            ],
            "image/png": "[encoded data removed]"
          },
          "metadata": {}
        },
        {
          "output_type": "display_data",
          "data": {
            "text/plain": [
              "<Figure size 640x480 with 1 Axes>"
            ],
            "image/png": "[encoded data removed]"
          },
          "metadata": {}
        },
        {
          "output_type": "stream",
          "name": "stdout",
          "text": [
            "\n",
            "Forward Pass with Scaled Input\n",
            "Scaled Input:\n",
            "tensor([[[[ 8.5879e+00,  1.8717e+02, -9.4950e+01, -2.1315e+01,  5.1511e+00,\n",
            "            3.3121e+01,  4.1350e+01, -7.5559e+01, -1.0287e+01,  1.2373e+02,\n",
            "            1.1978e+01, -1.8765e+02],\n",
            "          [ 1.4907e+02,  2.2726e+02,  5.2586e+01, -1.6160e+02, -2.1773e+02,\n",
            "           -1.7862e+02, -2.5021e+01,  9.4239e+01,  4.4940e+01,  1.3293e+02,\n",
            "            2.7630e+01, -3.4190e+01],\n",
            "          [-9.2466e+00, -1.0746e+02, -1.8250e+02,  1.0506e+02,  1.7623e+02,\n",
            "            9.0912e+01, -7.2970e+01, -3.7718e+01, -1.2182e+02,  8.5874e+01,\n",
            "           -1.2910e+02, -3.7221e+01],\n",
            "          [-8.4600e+01, -6.9826e+01, -1.1024e+02, -2.6193e+01,  1.5840e+02,\n",
            "           -1.4580e+02, -1.0437e+02,  3.1008e+01, -7.6572e+01,  4.0558e+01,\n",
            "           -1.8609e+02,  1.6276e+01],\n",
            "          [-1.2846e+02,  1.0148e+02,  1.3994e+02, -2.1786e+01, -6.2665e+01,\n",
            "            2.0207e+01,  4.7728e+01, -1.3362e+01,  3.2497e+02,  6.4790e+01,\n",
            "           -8.9799e+01, -4.5963e+01],\n",
            "          [ 4.3139e+01, -5.5942e+01, -7.0452e+01, -8.3103e+01,  1.2204e+02,\n",
            "           -1.2493e+02, -1.7497e+02,  7.6288e+01, -1.1510e+02,  4.0604e+01,\n",
            "           -7.2180e+01, -8.9137e+01],\n",
            "          [-1.8491e+01,  7.4449e+01,  1.4800e+02,  1.5372e+02, -1.7579e+02,\n",
            "            5.6148e+01, -6.5287e+01, -7.7047e+00,  4.0288e+00, -1.7053e+02,\n",
            "           -9.7684e+00,  5.6694e+01],\n",
            "          [-1.4502e+02,  1.4899e+02, -3.3437e+01, -1.0545e+02,  3.3869e+01,\n",
            "           -1.7456e+02, -2.0810e+01,  1.8970e+02, -1.3460e+02, -1.3997e+02,\n",
            "            1.1130e+02, -1.0047e+00],\n",
            "          [-3.4578e+01, -6.6524e+01, -1.4736e+02,  7.4908e+00,  7.0549e+01,\n",
            "           -1.0501e+02,  1.9437e+02,  1.6316e+01, -1.3430e+02, -3.8036e+01,\n",
            "           -4.1095e+01, -2.3476e+02],\n",
            "          [-1.0109e+02, -1.6736e+02,  5.3499e+01,  1.5399e+02, -8.7454e+01,\n",
            "           -4.1633e+01, -8.9339e+01, -4.6806e+01, -1.3089e+02,  1.4312e+01,\n",
            "            2.2325e+01,  1.0272e+01],\n",
            "          [-7.6372e+01, -2.6759e+01,  1.5177e+02,  7.7516e+01, -8.9564e-01,\n",
            "           -2.8671e+01, -2.1937e+01,  3.1832e-01,  4.7868e+01, -1.0622e+02,\n",
            "            8.8616e+01, -1.5124e+01],\n",
            "          [ 8.3396e+01, -4.6030e+01,  1.4221e+01, -5.6270e+01, -2.5601e+00,\n",
            "           -5.8262e+01,  1.6041e+02,  7.5658e+01, -1.2297e+02,  5.1698e+01,\n",
            "            5.0013e+01, -1.3710e+02]]]])\n",
            "\n",
            "Forward Pass - Input Tensor Shape: torch.Size([1, 1, 12, 12])\n",
            "After Layer 1 (Conv1 -> ReLU -> Pool1) - Tensor Shape: torch.Size([1, 6, 5, 5])\n",
            "After Layer 2 (Conv2 -> ReLU -> Pool2) - Tensor Shape: torch.Size([1, 12, 1, 1])\n",
            "Output for Scaled Input: tensor([[[[  0.0000]],\n",
            "\n",
            "         [[ 13.8887]],\n",
            "\n",
            "         [[  0.0000]],\n",
            "\n",
            "         [[ 61.7800]],\n",
            "\n",
            "         [[ 11.6980]],\n",
            "\n",
            "         [[125.9330]],\n",
            "\n",
            "         [[ 71.1017]],\n",
            "\n",
            "         [[ 77.1215]],\n",
            "\n",
            "         [[ 19.8001]],\n",
            "\n",
            "         [[ 70.2441]],\n",
            "\n",
            "         [[102.7522]],\n",
            "\n",
            "         [[  0.0000]]]], grad_fn=<MaxPool2DWithIndicesBackward0>)\n",
            "\n"
          ]
        }
      ]
    },
    {
      "cell_type": "markdown",
      "source": [
        "\n",
        "### 15. **Observation: Using Non-linear Activation Functions Like ReLU Introduces Non-linearity**\n",
        "   - Non-linear activation functions, such as **ReLU (Rectified Linear Unit)**, are applied after each convolution to introduce non-linearity into the model, which allows CNNs to learn complex, non-linear relationships.\n",
        "   \n",
        "   - **Demonstration**:\n"
      ],
      "metadata": {
        "id": "_T28CttkAtZa"
      }
    },
    {
      "cell_type": "code",
      "source": [
        "# Define a convolutional layer\n",
        "conv = nn.Conv2d(in_channels=1, out_channels=3, kernel_size=3)\n",
        "\n",
        "# Create an input tensor\n",
        "x = torch.randn(1, 1, 5, 5)\n",
        "\n",
        "# Apply convolution\n",
        "conv_output = conv(x)\n",
        "print(\"Convolution output before ReLU:\", conv_output)\n",
        "\n",
        "# Apply ReLU activation\n",
        "relu_output = F.relu(conv_output)\n",
        "print(\"Convolution output after ReLU:\", relu_output)\n",
        "\n",
        "# After the convolution, some negative values are produced. The **ReLU activation** function sets all negative values to zero, allowing the model to focus only on positive activations, which helps with efficient learning.\n"
      ],
      "metadata": {
        "colab": {
          "base_uri": "https://localhost:8080/"
        },
        "id": "-E81kDBnCGG0",
        "outputId": "7023a401-3d76-46b7-952b-e503c7500392"
      },
      "execution_count": 25,
      "outputs": [
        {
          "output_type": "stream",
          "name": "stdout",
          "text": [
            "Convolution output before ReLU: tensor([[[[ 0.4818, -0.7846, -0.2429],\n",
            "          [-1.0451, -0.4941, -0.5844],\n",
            "          [-1.3912, -0.3852,  0.2174]],\n",
            "\n",
            "         [[-0.6647, -0.1456,  0.1431],\n",
            "          [ 0.0416, -0.7185,  0.1041],\n",
            "          [-0.2716,  0.5564, -0.6613]],\n",
            "\n",
            "         [[ 0.9184, -0.3555,  0.1617],\n",
            "          [-0.3226, -0.2905, -0.3486],\n",
            "          [-1.0145, -0.6723,  0.1885]]]], grad_fn=<ConvolutionBackward0>)\n",
            "Convolution output after ReLU: tensor([[[[0.4818, 0.0000, 0.0000],\n",
            "          [0.0000, 0.0000, 0.0000],\n",
            "          [0.0000, 0.0000, 0.2174]],\n",
            "\n",
            "         [[0.0000, 0.0000, 0.1431],\n",
            "          [0.0416, 0.0000, 0.1041],\n",
            "          [0.0000, 0.5564, 0.0000]],\n",
            "\n",
            "         [[0.9184, 0.0000, 0.1617],\n",
            "          [0.0000, 0.0000, 0.0000],\n",
            "          [0.0000, 0.0000, 0.1885]]]], grad_fn=<ReluBackward0>)\n"
          ]
        }
      ]
    }
  ]
}