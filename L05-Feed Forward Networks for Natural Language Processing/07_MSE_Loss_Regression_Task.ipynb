{
  "nbformat": 4,
  "nbformat_minor": 0,
  "metadata": {
    "colab": {
      "provenance": [],
      "authorship_tag": "ABX9TyOO6KyNlGr2onAkUjHVX5Uz",
      "include_colab_link": true
    },
    "kernelspec": {
      "name": "python3",
      "display_name": "Python 3"
    },
    "language_info": {
      "name": "python"
    }
  },
  "cells": [
    {
      "cell_type": "markdown",
      "metadata": {
        "id": "view-in-github",
        "colab_type": "text"
      },
      "source": [
        "<a href=\"https://colab.research.google.com/github/babupallam/Msc_AI_Module2_Natural_Language_Processing/blob/main/L06-Feed%20Forward%20Networks%20for%20Natural%20Language%20Processing/07_MSE_Loss_Regression_Task.ipynb\" target=\"_parent\"><img src=\"https://colab.research.google.com/assets/colab-badge.svg\" alt=\"Open In Colab\"/></a>"
      ]
    },
    {
      "cell_type": "markdown",
      "source": [
        "\n",
        "### 1. **Introduction**\n",
        "\n",
        "- **What is Regression?**\n",
        "  - **Regression tasks** aim to predict continuous values (e.g., predicting house prices, stock prices, or temperature).\n",
        "  - In regression, the model outputs a continuous variable, unlike **classification**, where the goal is to assign input data to a discrete category.\n",
        "\n",
        "- **What is Mean Squared Error (MSE) Loss?**\n",
        "  - **MSE Loss** measures the average squared difference between the predicted values (outputs) and the true values (targets).\n",
        "  - It penalizes large errors more than small errors because the differences are squared, making it a popular choice for regression tasks.\n",
        "\n",
        "    ![image.png](data:image/png;base64,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)"
      ],
      "metadata": {
        "id": "-1fgr4DGJ2Jb"
      }
    },
    {
      "cell_type": "markdown",
      "source": [
        "\n",
        "**Observation**:\n",
        "- **MSE Loss** is suitable when you want the model to learn to make accurate continuous predictions, penalizing large errors heavily.\n",
        "\n"
      ],
      "metadata": {
        "id": "0qACGUIXJ2Kv"
      }
    },
    {
      "cell_type": "markdown",
      "source": [
        "\n",
        "---\n",
        "\n",
        "### 2. **Setting up Example Data**\n",
        "\n",
        "- **Creating Random Tensors**:\n",
        "  - To simulate a simple regression task, we generate two random tensors: `outputs` (predictions made by the model) and `targets` (true values we want the model to predict).\n",
        "  - Both tensors need to have the **same shape** because MSE computes the difference element-wise between corresponding elements in the tensors.\n",
        "\n",
        "- **Data Setup**:\n",
        "  - Create two tensors with shape `(3, 5)`:\n",
        "    - **3 rows**: Represents 3 samples in a batch.\n",
        "    - **5 columns**: Represents 5 different predictions per sample.\n",
        "\n",
        "**Code**:\n"
      ],
      "metadata": {
        "id": "oe0qgLVCJ3QK"
      }
    },
    {
      "cell_type": "code",
      "source": [
        "import torch\n",
        "\n",
        "# Random tensor simulating model's predictions (outputs)\n",
        "outputs = torch.randn(3, 5, requires_grad=True)  # Predictions from the model\n",
        "\n",
        "# Random tensor simulating true target values (targets)\n",
        "targets = torch.randn(3, 5)  # Actual target values we want to predict\n",
        "\n",
        "print(\"Outputs (predictions):\\n\", outputs)\n",
        "print(\"Targets (true values):\\n\", targets)\n"
      ],
      "metadata": {
        "colab": {
          "base_uri": "https://localhost:8080/"
        },
        "id": "q8Np1lsSEXrb",
        "outputId": "36479c15-4283-499b-fd8d-03fc60da2094"
      },
      "execution_count": 1,
      "outputs": [
        {
          "output_type": "stream",
          "name": "stdout",
          "text": [
            "Outputs (predictions):\n",
            " tensor([[-1.8455, -1.4479,  0.3278, -1.4879,  0.8969],\n",
            "        [ 0.5001, -0.8892,  1.2616, -0.2520, -0.1687],\n",
            "        [ 0.2723, -1.8432,  0.3184, -0.1779,  0.3881]], requires_grad=True)\n",
            "Targets (true values):\n",
            " tensor([[-0.7080, -0.5256, -0.6466, -2.1587,  0.1539],\n",
            "        [-0.1524, -1.2139,  0.3733,  0.2411,  2.2925],\n",
            "        [ 0.7605,  0.1976,  0.4231, -0.2288, -0.2484]])\n"
          ]
        }
      ]
    },
    {
      "cell_type": "markdown",
      "source": [
        "\n",
        "**Explanation**:\n",
        "- The **outputs** tensor represents the model’s predicted values for 3 samples, each with 5 predictions.\n",
        "- The **targets** tensor represents the actual values that the model is trying to predict.\n",
        "\n",
        "**Observation**:\n",
        "- The shapes of the **outputs** and **targets** must match, as MSE is calculated by taking the element-wise difference between corresponding elements in the tensors.\n",
        "\n",
        "---\n",
        "\n",
        "### 3. **Computing MSE Loss**\n",
        "\n",
        "- **Using `nn.MSELoss()`**:\n",
        "  - PyTorch provides the `nn.MSELoss()` function, which automatically computes the mean squared error between the predicted values (`outputs`) and the true values (`targets`).\n",
        "\n",
        "**Code**:\n"
      ],
      "metadata": {
        "id": "_W91bPV7J3QM"
      }
    },
    {
      "cell_type": "code",
      "source": [
        "import torch.nn as nn\n",
        "\n",
        "# Define MSE Loss function\n",
        "mse_loss = nn.MSELoss()\n",
        "\n",
        "# Compute the MSE loss between outputs and targets\n",
        "loss = mse_loss(outputs, targets)\n",
        "print(\"MSE Loss:\", loss.item())  # Print the loss value\n"
      ],
      "metadata": {
        "colab": {
          "base_uri": "https://localhost:8080/"
        },
        "id": "QnPMzCzYEbJZ",
        "outputId": "313f1d7f-b6f6-4741-9081-e2ba5f10aa55"
      },
      "execution_count": 2,
      "outputs": [
        {
          "output_type": "stream",
          "name": "stdout",
          "text": [
            "MSE Loss: 1.1025532484054565\n"
          ]
        }
      ]
    },
    {
      "cell_type": "markdown",
      "source": [
        "\n",
        "**Explanation**:\n",
        "- The **MSE Loss** function computes the average of the squared differences between the elements of `outputs` and `targets`.\n",
        "- The result is a single scalar value that represents how well the model’s predictions match the true values (lower is better).\n",
        "\n",
        "**Observation**:\n",
        "- The MSE loss tells you how far off your model’s predictions are from the true values. A **lower MSE** indicates that the model is making more accurate predictions.\n",
        "\n",
        "---\n",
        "\n",
        "### 4. **Hands-on Example**\n",
        "\n",
        "- **Modifying the Output and Target Values**:\n",
        "  - By manually adjusting the values of `outputs` and `targets`, we can observe how changes in predictions affect the MSE loss.\n",
        "  \n",
        "**Task**:\n",
        "- Modify the values in the `outputs` and `targets` tensors and recompute the MSE loss:\n"
      ],
      "metadata": {
        "id": "tnzSDAL0J3QN"
      }
    },
    {
      "cell_type": "code",
      "source": [
        "# Adjusting output and target values to observe how MSE changes\n",
        "outputs = torch.tensor([[1.0, 2.0, 3.0, 4.0, 5.0],\n",
        "                        [1.0, 2.0, 3.0, 4.0, 5.0],\n",
        "                        [1.0, 2.0, 3.0, 4.0, 5.0]], requires_grad=True)\n",
        "\n",
        "targets = torch.tensor([[1.5, 2.5, 3.5, 4.5, 5.5],\n",
        "                        [0.5, 1.5, 2.5, 3.5, 4.5],\n",
        "                        [2.0, 3.0, 4.0, 5.0, 6.0]])\n",
        "\n",
        "# Recompute MSE loss\n",
        "loss = mse_loss(outputs, targets)\n",
        "print(\"MSE Loss after modifying values:\", loss.item())\n"
      ],
      "metadata": {
        "colab": {
          "base_uri": "https://localhost:8080/"
        },
        "id": "Q7KQLG8gEeqE",
        "outputId": "e4e159c2-13be-4626-cb9a-9400f095de02"
      },
      "execution_count": 3,
      "outputs": [
        {
          "output_type": "stream",
          "name": "stdout",
          "text": [
            "MSE Loss after modifying values: 0.5\n"
          ]
        }
      ]
    },
    {
      "cell_type": "markdown",
      "source": [
        "\n",
        "**Observation**:\n",
        "- As the difference between `outputs` and `targets` increases, the MSE loss will increase, indicating that the model’s predictions are further from the true values.\n",
        "\n",
        "- **Introducing a Shape Mismatch**:\n",
        "  - MSE Loss requires the `outputs` and `targets` to have the **same shape**. Introducing a shape mismatch will result in an error.\n",
        "\n",
        "**Task**:\n",
        "- Change the shape of one of the tensors and observe the error:\n"
      ],
      "metadata": {
        "id": "p2g8pnHqJ3QO"
      }
    },
    {
      "cell_type": "code",
      "source": [
        "# Changing the shape of outputs to introduce a mismatch\n",
        "outputs = torch.randn(3, 4)  # Mismatch with targets (3, 5)\n",
        "\n",
        "try:\n",
        "    loss = mse_loss(outputs, targets)\n",
        "except Exception as e:\n",
        "    print(\"Error due to shape mismatch:\", e)\n"
      ],
      "metadata": {
        "colab": {
          "base_uri": "https://localhost:8080/"
        },
        "id": "_wUNAOFpEiCF",
        "outputId": "bd08e994-042a-4c99-c377-da1cfadf652b"
      },
      "execution_count": 4,
      "outputs": [
        {
          "output_type": "stream",
          "name": "stdout",
          "text": [
            "Error due to shape mismatch: The size of tensor a (4) must match the size of tensor b (5) at non-singleton dimension 1\n"
          ]
        },
        {
          "output_type": "stream",
          "name": "stderr",
          "text": [
            "/usr/local/lib/python3.10/dist-packages/torch/nn/modules/loss.py:538: UserWarning: Using a target size (torch.Size([3, 5])) that is different to the input size (torch.Size([3, 4])). This will likely lead to incorrect results due to broadcasting. Please ensure they have the same size.\n",
            "  return F.mse_loss(input, target, reduction=self.reduction)\n"
          ]
        }
      ]
    },
    {
      "cell_type": "markdown",
      "source": [
        "\n",
        "**Observation**:\n",
        "- PyTorch will raise an error when there is a shape mismatch, as the MSE computation is element-wise and requires both tensors to have the same number of elements.\n",
        "\n",
        "---\n",
        "\n",
        "### 5. **Exercise**\n",
        "\n",
        "- **Creating Your Own Example**:\n",
        "  - Create new tensors with different shapes and values, then compute the MSE loss.\n",
        "  - Experiment with different numbers and observe how the loss changes when the difference between predictions and targets increases or decreases.\n",
        "\n",
        "**Task**:\n",
        "- Create your own tensors and compute MSE loss:\n"
      ],
      "metadata": {
        "id": "3qu6aSRSJ3QO"
      }
    },
    {
      "cell_type": "code",
      "source": [
        "# Your own example\n",
        "outputs = torch.tensor([[2.0, 2.5], [3.0, 3.5]], requires_grad=True)\n",
        "targets = torch.tensor([[2.1, 2.6], [3.1, 3.6]])\n",
        "\n",
        "loss = mse_loss(outputs, targets)\n",
        "print(\"MSE Loss for custom example:\", loss.item())\n"
      ],
      "metadata": {
        "colab": {
          "base_uri": "https://localhost:8080/"
        },
        "id": "7nRDS1d7EmZw",
        "outputId": "5e959b45-ab99-43cd-c6d4-a50c371baeba"
      },
      "execution_count": 5,
      "outputs": [
        {
          "output_type": "stream",
          "name": "stdout",
          "text": [
            "MSE Loss for custom example: 0.00999998115003109\n"
          ]
        }
      ]
    },
    {
      "cell_type": "markdown",
      "source": [
        "\n",
        "- **Comparing MSE Loss with L1 Loss**:\n",
        "  - **L1 Loss** (also called **Mean Absolute Error**) computes the absolute difference between predictions and true values. It does not square the differences, meaning it is less sensitive to outliers.\n",
        "  \n",
        "**Task**:\n",
        "- Compare MSE and L1 losses for the same data:\n"
      ],
      "metadata": {
        "id": "eK9S4JFaJ3QP"
      }
    },
    {
      "cell_type": "code",
      "source": [
        "# Define L1 Loss function\n",
        "l1_loss = nn.L1Loss()\n",
        "\n",
        "# Compute L1 Loss\n",
        "l1_loss_value = l1_loss(outputs, targets)\n",
        "print(\"L1 Loss:\", l1_loss_value.item())\n",
        "\n",
        "# Compare with MSE Loss\n",
        "mse_loss_value = mse_loss(outputs, targets)\n",
        "print(\"MSE Loss:\", mse_loss_value.item())\n"
      ],
      "metadata": {
        "colab": {
          "base_uri": "https://localhost:8080/"
        },
        "id": "wPnjGCDsEpId",
        "outputId": "020067c9-88e1-4046-ba04-90939b641481"
      },
      "execution_count": 6,
      "outputs": [
        {
          "output_type": "stream",
          "name": "stdout",
          "text": [
            "L1 Loss: 0.09999990463256836\n",
            "MSE Loss: 0.00999998115003109\n"
          ]
        }
      ]
    },
    {
      "cell_type": "markdown",
      "source": [
        "\n",
        "**Observation**:\n",
        "- **MSE Loss** penalizes larger errors more due to the squaring of differences, while **L1 Loss** is more forgiving of outliers because it only considers the absolute difference.\n",
        "\n",
        "---\n",
        "\n",
        "### 6. **Conclusion**\n",
        "\n",
        "- **Recap of MSE Loss**:\n",
        "  - **MSE Loss** is widely used in regression tasks to measure the average squared difference between predicted values and true values.\n",
        "  - It penalizes large errors more heavily, making it sensitive to outliers in the data.\n",
        "  \n",
        "- **Difference Between MSE and L1 Loss**:\n",
        "  - **MSE Loss** is more sensitive to large errors, while **L1 Loss** (Mean Absolute Error) gives equal weight to all errors.\n",
        "  - MSE is typically used in scenarios where larger errors are more critical, while L1 can be used when outliers should not dominate the error calculation.\n",
        "\n",
        "**Quiz**:\n",
        "- Why is it important for `outputs` and `targets` to have the same shape when calculating MSE loss?\n",
        "- What is the main difference between MSE Loss and L1 Loss?\n",
        "\n",
        "**Takeaway**:\n",
        "- **MSE Loss** is crucial for regression tasks, where minimizing the squared difference between predictions and true values helps the model learn more accurate predictions.\n",
        "\n",
        "---"
      ],
      "metadata": {
        "id": "90x1EVudJ3fR"
      }
    },
    {
      "cell_type": "markdown",
      "source": [],
      "metadata": {
        "id": "bhkb7SQnJ3fS"
      }
    },
    {
      "cell_type": "markdown",
      "source": [],
      "metadata": {
        "id": "3hW4dckkJ3fS"
      }
    },
    {
      "cell_type": "markdown",
      "source": [],
      "metadata": {
        "id": "YvGdf97wJ3fS"
      }
    },
    {
      "cell_type": "markdown",
      "source": [],
      "metadata": {
        "id": "Pzo2V3V5J3fT"
      }
    },
    {
      "cell_type": "markdown",
      "source": [],
      "metadata": {
        "id": "9492lgaJJ3fT"
      }
    },
    {
      "cell_type": "markdown",
      "source": [],
      "metadata": {
        "id": "ApTMieJ305-J"
      }
    },
    {
      "cell_type": "markdown",
      "source": [],
      "metadata": {
        "id": "uAWGAlYy058k"
      }
    },
    {
      "cell_type": "markdown",
      "source": [],
      "metadata": {
        "id": "ioNbWQKS057I"
      }
    },
    {
      "cell_type": "markdown",
      "source": [],
      "metadata": {
        "id": "Zsgsxh_1055m"
      }
    },
    {
      "cell_type": "markdown",
      "source": [],
      "metadata": {
        "id": "wj9pK2su05y1"
      }
    }
  ]
}