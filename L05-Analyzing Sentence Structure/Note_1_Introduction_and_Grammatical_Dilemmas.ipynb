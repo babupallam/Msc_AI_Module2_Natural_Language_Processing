{
  "nbformat": 4,
  "nbformat_minor": 0,
  "metadata": {
    "colab": {
      "provenance": [],
      "authorship_tag": "ABX9TyMkfFJDIAZZuzDARgvhvoOt",
      "include_colab_link": true
    },
    "kernelspec": {
      "name": "python3",
      "display_name": "Python 3"
    },
    "language_info": {
      "name": "python"
    }
  },
  "cells": [
    {
      "cell_type": "markdown",
      "metadata": {
        "id": "view-in-github",
        "colab_type": "text"
      },
      "source": [
        "<a href=\"https://colab.research.google.com/github/babupallam/Msc_AI_Module2_Natural_Language_Processing/blob/main/L05-Analyzing%20Sentence%20Structure/Note_1_Introduction_and_Grammatical_Dilemmas.ipynb\" target=\"_parent\"><img src=\"https://colab.research.google.com/assets/colab-badge.svg\" alt=\"Open In Colab\"/></a>"
      ]
    },
    {
      "cell_type": "markdown",
      "source": [
        "# **8. Analyzing Sentence Structure**\n",
        "\n",
        "- Identifying patterns in word sequences or n-grams only scratches the surface of the complex constraints that govern sentences.\n",
        "- We need ways to deal with the ambiguity that natural language is famous for.\n",
        "- We also need to cope with the fact that there are an unlimited number of possible sentences, and we can only write finite programs to analyze their structures and discover their meanings.\n",
        "\n",
        "\n"
      ],
      "metadata": {
        "id": "UcwF4jLPwHTQ"
      }
    },
    {
      "cell_type": "markdown",
      "source": [
        "\n",
        "## **1. Some Grammatical Dilemmas**\n",
        "\n",
        "- Natural language complexity cannot be fully understood by just examining words in isolation or analyzing short phrases.\n",
        "- Fundamental challenges arise when dealing with natural language structure, requiring formal grammar systems to tackle these complexities.\n"
      ],
      "metadata": {
        "id": "C4xmhCBR3J4Y"
      }
    },
    {
      "cell_type": "markdown",
      "source": [
        "\n",
        "### **1.1 Linguistic Data and Unlimited Possibilities**\n",
        "\n",
        "- Language is rich and flexible, allowing speakers to generate a limitless number of novel sentences.\n",
        "\n",
        "- The infinite nature of language creates significant challenges for natural language processing and computational linguistics.\n",
        "\n",
        "- Unlike finite corpora, natural languages are inherently unbounded, and speakers can create sentences never heard before, but still understandable and grammatically correct.\n",
        "\n",
        "- Major challenge: defining and identifying parts of speech, which forms the foundation for understanding sentence structure.\n",
        "\n",
        "  - Parts of speech (e.g., nouns, verbs, adjectives, prepositions) are not always straightforward to classify.\n",
        "  - Ambiguity arises when words have multiple meanings depending on the context (e.g., \"bank\" as a financial institution vs. the side of a river).\n",
        "\n",
        "- Ambiguity in natural language is a significant obstacle to syntactic analysis.\n",
        "\n",
        "  - Words or phrases can have multiple interpretations, complicating automated parsing and analysis.\n",
        "  - Example: \"The old man the boats.\" — Here, \"man\" is used as a verb (to operate), rather than its more common noun usage.\n",
        "  - Structural ambiguity requires sophisticated parsing techniques to correctly interpret intended meanings.\n",
        "\n",
        "- Formal grammar frameworks, such as Context-Free Grammars (CFGs), help model the syntactic structure of sentences.\n",
        "\n",
        "  - CFGs capture the recursive nature of language and represent sentence structures systematically.\n",
        "  - However, CFGs also face limitations in handling the full range of linguistic phenomena found in natural languages.\n",
        "\n"
      ],
      "metadata": {
        "id": "5DRhEZks3J_U"
      }
    },
    {
      "cell_type": "markdown",
      "source": [
        "### **1.2 Ubiquitous Ambiguity**\n",
        "\n",
        "- Ambiguity is a pervasive feature of natural language, affecting both individual words and sentence structures.\n",
        "\n",
        "- Types of ambiguity:\n",
        "\n",
        "  - **Lexical Ambiguity**: A word has multiple meanings (e.g., \"bank\").\n",
        "  - **Syntactic Ambiguity**: Multiple possible structures for a sentence.\n",
        "  - **Semantic Ambiguity**: Different possible interpretations of a sentence's meaning.\n",
        "\n",
        "- Example: Groucho Marx's joke — \"I shot an elephant in my pajamas. How he got into my pajamas, I don't know.\"\n",
        "\n",
        "  - **Syntactic Ambiguity**: The prepositional phrase \"in my pajamas\" can modify either \"shot\" or \"elephant\".\n",
        "  - Resolving such ambiguities is crucial for natural language understanding as different interpretations lead to drastically different meanings.\n",
        "\n",
        "- Context-Free Grammar (CFG) can help analyze ambiguous phrases:\n",
        "\n",
        "  - CFG uses rules to define possible sentence structures.\n",
        "  - Example: \"I shot an elephant in my pajamas\" can be parsed using CFG rules to produce multiple syntax trees.\n",
        "  - By applying grammar rules systematically, CFG can highlight potential ambiguities in a sentence.\n",
        "\n",
        "- Another example: \"Visiting relatives can be tiresome.\"\n",
        "\n",
        "  - **Syntactic Ambiguity**: \"visiting\" can be a verb (the action of visiting relatives) or an adjective (describing relatives who are visiting).\n",
        "  - Different interpretations significantly change the meaning of the sentence.\n",
        "  - Parsing algorithms need to determine the most likely structure based on context to resolve ambiguity.\n",
        "\n",
        "- The goal of syntactic analysis:\n",
        "\n",
        "  - Develop systematic ways to handle ambiguities.\n",
        "  - Produce accurate representations of sentence structure.\n",
        "  - Leverage formal grammar frameworks like CFG, along with statistical methods and machine learning, to improve parsing and disambiguation in natural language processing applications.\n"
      ],
      "metadata": {
        "id": "MkZ2WQ-n3KBp"
      }
    }
  ]
}