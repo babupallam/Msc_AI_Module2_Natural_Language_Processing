{
  "nbformat": 4,
  "nbformat_minor": 0,
  "metadata": {
    "colab": {
      "provenance": [],
      "authorship_tag": "ABX9TyNNab70+shh34Y1+DrRzQ1F",
      "include_colab_link": true
    },
    "kernelspec": {
      "name": "python3",
      "display_name": "Python 3"
    },
    "language_info": {
      "name": "python"
    }
  },
  "cells": [
    {
      "cell_type": "markdown",
      "metadata": {
        "id": "view-in-github",
        "colab_type": "text"
      },
      "source": [
        "<a href=\"https://colab.research.google.com/github/babupallam/Msc_AI_Module2_Natural_Language_Processing/blob/main/L06-Feed%20Forward%20Networks%20for%20Natural%20Language%20Processing/01_MLP_Basic_Architecture_and_Setup.ipynb\" target=\"_parent\"><img src=\"https://colab.research.google.com/assets/colab-badge.svg\" alt=\"Open In Colab\"/></a>"
      ]
    },
    {
      "cell_type": "markdown",
      "source": [
        "### 1. **Introduction**\n",
        "\n",
        "- **Multilayer Perceptron (MLP)**:\n",
        "  - MLP is one of the simplest neural networks. It's a type of **feedforward neural network** where data flows in one direction: from input to output.\n",
        "  - MLP consists of layers:\n",
        "    - **Input Layer**: Takes input features (e.g., pixels of an image, data points).\n",
        "    - **Hidden Layer**: Processes the input and applies transformations using weights and activation functions.\n",
        "    - **Output Layer**: Provides the final output, typically for classification or regression.\n",
        "  \n",
        "  - **Common Usage**:\n",
        "    - **Classification** (e.g., identifying digits in images).\n",
        "    - **Regression** (predicting continuous values like house prices).\n",
        "  \n",
        "  **Observation**:\n",
        "  - MLPs are easy to understand and implement, making them an excellent starting point for deep learning.\n",
        "\n",
        "  **Demonstration**:\n",
        "  - Print a short introduction to MLPs and how they work using simple language:\n"
      ],
      "metadata": {
        "id": "Wcq3ml1-J13T"
      }
    },
    {
      "cell_type": "code",
      "source": [
        "print(\"An MLP is a feedforward neural network that consists of an input layer, hidden layer(s), and an output layer.\")\n"
      ],
      "metadata": {
        "colab": {
          "base_uri": "https://localhost:8080/"
        },
        "id": "MeJweLH7bTCs",
        "outputId": "8837662d-52d7-4787-9fc0-57ad3c1720f0"
      },
      "execution_count": 1,
      "outputs": [
        {
          "output_type": "stream",
          "name": "stdout",
          "text": [
            "An MLP is a feedforward neural network that consists of an input layer, hidden layer(s), and an output layer.\n"
          ]
        }
      ]
    },
    {
      "cell_type": "markdown",
      "source": [
        "---"
      ],
      "metadata": {
        "id": "fEjZeNfbJ18o"
      }
    },
    {
      "cell_type": "markdown",
      "source": [
        "\n",
        "### 2. **Setting Up the Environment**\n",
        "\n",
        "- **Using `InteractiveShell` for Multiple Outputs**:\n",
        "  - In Jupyter notebooks, when multiple operations occur in a single cell, sometimes only the last output is shown.\n",
        "  - By enabling `InteractiveShell.ast_node_interactivity = \"all\"`, we ensure that all operations produce outputs, which helps with debugging and visualization.\n",
        "\n",
        "  **Demonstration**:\n",
        "  - Run the following code to enable multiple outputs:\n"
      ],
      "metadata": {
        "id": "NXZ40Up4J2Bp"
      }
    },
    {
      "cell_type": "code",
      "source": [
        "from IPython.core.interactiveshell import InteractiveShell\n",
        "InteractiveShell.ast_node_interactivity = \"all\"\n"
      ],
      "metadata": {
        "id": "F9j_uI9Obo_L"
      },
      "execution_count": 2,
      "outputs": []
    },
    {
      "cell_type": "markdown",
      "source": [
        "\n",
        "- **Ensuring Reproducibility**:\n",
        "  - **Reproducibility**: Ensuring the same results when running the code multiple times.\n",
        "  - Random operations (e.g., generating random numbers, initializing neural network weights) can give different results on different runs.\n",
        "  - **Setting a seed**: By fixing a seed value, we ensure that random operations generate the same results every time.\n",
        "\n",
        "  **Observation**:\n",
        "  - Without setting seeds, neural networks can behave differently each time you train them. This makes comparison difficult.\n",
        "\n",
        "  **Demonstration**:\n",
        "  - Set a random seed for CPU and GPU operations:\n"
      ],
      "metadata": {
        "id": "UjGtIoGpJ2Fn"
      }
    },
    {
      "cell_type": "code",
      "source": [
        "import torch  # Import the torch library, which is the main PyTorch package for building and training machine learning models\n",
        "\n",
        "# The random seed is set to ensure that the operations involving randomness\n",
        "# (like weight initialization in neural networks, random sampling, etc.)\n",
        "# are reproducible. This is very important for debugging and testing.\n",
        "seed = 1337  # Define the seed value; this can be any integer. 1337 is just a chosen example.\n",
        "\n",
        "# Set the seed for generating random numbers on the CPU.\n",
        "# This ensures that all the random number generation that happens on the CPU\n",
        "# (for example, initializing weights of a model) will be deterministic.\n",
        "torch.manual_seed(seed)\n",
        "\n",
        "# If you are using GPU(s) with CUDA, this function will ensure that all random\n",
        "# number generation on the GPU(s) is also deterministic, making your results\n",
        "# reproducible across runs, even on GPUs.\n",
        "torch.cuda.manual_seed_all(seed)\n",
        "\n",
        "# This message is printed to indicate that the random seed has been set,\n",
        "# confirming to the user that reproducibility is ensured.\n",
        "print(\"Random seed set to ensure reproducibility.\")\n"
      ],
      "metadata": {
        "colab": {
          "base_uri": "https://localhost:8080/"
        },
        "id": "WDeRd0SSbwav",
        "outputId": "ecb7cc57-acc3-4b81-9c7f-2d703723053b"
      },
      "execution_count": 4,
      "outputs": [
        {
          "output_type": "execute_result",
          "data": {
            "text/plain": [
              "<torch._C.Generator at 0x7fd0fc284170>"
            ]
          },
          "metadata": {},
          "execution_count": 4
        },
        {
          "output_type": "stream",
          "name": "stdout",
          "text": [
            "Random seed set to ensure reproducibility.\n"
          ]
        }
      ]
    },
    {
      "cell_type": "markdown",
      "source": [
        "  - Compare outputs with and without setting the seed:\n"
      ],
      "metadata": {
        "id": "wztjkzHgbxxE"
      }
    },
    {
      "cell_type": "code",
      "source": [
        "# Without seed\n",
        "print(\"Without seed:\")\n",
        "print(torch.rand(2, 2))  # Generates a 2x2 tensor of random numbers without any seed.\n"
      ],
      "metadata": {
        "colab": {
          "base_uri": "https://localhost:8080/"
        },
        "id": "FO9Wl5MrbyJR",
        "outputId": "8a0a0207-ffcd-4cee-a39e-e3a3ea175fb8"
      },
      "execution_count": 7,
      "outputs": [
        {
          "output_type": "stream",
          "name": "stdout",
          "text": [
            "Without seed:\n",
            "tensor([[0.2004, 0.0287],\n",
            "        [0.5851, 0.6967]])\n"
          ]
        }
      ]
    },
    {
      "cell_type": "code",
      "source": [
        "# Without seed\n",
        "print(\"Without seed:\")\n",
        "print(torch.rand(2, 2))  # Generates a 2x2 tensor of random numbers without any seed.\n"
      ],
      "metadata": {
        "colab": {
          "base_uri": "https://localhost:8080/"
        },
        "id": "bMm13Ie0cNpZ",
        "outputId": "c7ad7cdb-a7e4-4219-b062-f899c1d01fd7"
      },
      "execution_count": 8,
      "outputs": [
        {
          "output_type": "stream",
          "name": "stdout",
          "text": [
            "Without seed:\n",
            "tensor([[0.1761, 0.2595],\n",
            "        [0.7086, 0.5809]])\n"
          ]
        }
      ]
    },
    {
      "cell_type": "markdown",
      "source": [
        "Above two results are different in each exicution"
      ],
      "metadata": {
        "id": "nVT2GpbXcSi8"
      }
    },
    {
      "cell_type": "code",
      "source": [
        "# With seed\n",
        "torch.manual_seed(seed)  # Setting the seed to a fixed value\n",
        "print(\"With seed:\")\n",
        "print(torch.rand(2, 2))  # Generates a 2x2 tensor of random numbers, but now with the seed set\n"
      ],
      "metadata": {
        "colab": {
          "base_uri": "https://localhost:8080/"
        },
        "id": "wTwkEq1ucIc1",
        "outputId": "60601591-7b35-4e3e-cd79-299157130920"
      },
      "execution_count": 10,
      "outputs": [
        {
          "output_type": "execute_result",
          "data": {
            "text/plain": [
              "<torch._C.Generator at 0x7fd0fc284170>"
            ]
          },
          "metadata": {},
          "execution_count": 10
        },
        {
          "output_type": "stream",
          "name": "stdout",
          "text": [
            "With seed:\n",
            "tensor([[0.0783, 0.4956],\n",
            "        [0.6231, 0.4224]])\n"
          ]
        }
      ]
    },
    {
      "cell_type": "code",
      "source": [
        "# With seed\n",
        "torch.manual_seed(seed)  # Setting the seed to a fixed value\n",
        "print(\"With seed:\")\n",
        "print(torch.rand(2, 2))  # Generates a 2x2 tensor of random numbers, but now with the seed set\n"
      ],
      "metadata": {
        "colab": {
          "base_uri": "https://localhost:8080/"
        },
        "id": "7oB9NjDqcPxT",
        "outputId": "8bdad0af-4495-4e05-fca2-c0bbc0ab1d28"
      },
      "execution_count": 11,
      "outputs": [
        {
          "output_type": "execute_result",
          "data": {
            "text/plain": [
              "<torch._C.Generator at 0x7fd0fc284170>"
            ]
          },
          "metadata": {},
          "execution_count": 11
        },
        {
          "output_type": "stream",
          "name": "stdout",
          "text": [
            "With seed:\n",
            "tensor([[0.0783, 0.4956],\n",
            "        [0.6231, 0.4224]])\n"
          ]
        }
      ]
    },
    {
      "cell_type": "markdown",
      "source": [
        "Above two results are same even after the second exicution"
      ],
      "metadata": {
        "id": "a2qyEK1xcWx6"
      }
    },
    {
      "cell_type": "markdown",
      "source": [
        "---\n"
      ],
      "metadata": {
        "id": "gL3uzvZ0b1GJ"
      }
    },
    {
      "cell_type": "markdown",
      "source": [
        "\n",
        "### 3. **Network Initialization**\n",
        "\n",
        "- **Defining the MLP**:\n",
        "  - An MLP consists of **fully connected (dense) layers** where each input is connected to every neuron in the next layer.\n",
        "  - PyTorch provides the `nn.Module` class, which we use to define custom models.\n",
        "\n",
        "  **Layers**:\n",
        "  - **Input layer**: The input dimension is defined by the number of features in the data (e.g., if the input is a 3D vector, `input_dim = 3`).\n",
        "  - **Hidden layer**: A hidden layer is a layer between input and output layers that applies transformations to the input data.\n",
        "  - **Output layer**: Outputs the final prediction, typically the number of classes (for classification) or a single value (for regression).\n",
        "\n",
        "  **Activation Function (ReLU)**:\n",
        "  - **ReLU (Rectified Linear Unit)**: A common activation function that outputs the input if it’s positive, otherwise it outputs zero.\n",
        "  - It introduces non-linearity, which helps the network learn complex patterns.\n",
        "  "
      ],
      "metadata": {
        "id": "-1fgr4DGJ2Jb"
      }
    },
    {
      "cell_type": "markdown",
      "source": [
        "\n",
        "  **MLP Class Definition**:\n",
        "  - Here’s how to define a basic MLP in PyTorch:\n",
        ""
      ],
      "metadata": {
        "id": "0qACGUIXJ2Kv"
      }
    },
    {
      "cell_type": "code",
      "source": [
        "import torch.nn.functional as F  # Importing the functional module from PyTorch to access activation functions like ReLU\n",
        "import torch.nn as nn  # Importing the torch.nn module to define neural network layers\n",
        "\n",
        "# Define a class for a simple Multilayer Perceptron (MLP) neural network\n",
        "class MultilayerPerceptron(nn.Module):  # Inherit from nn.Module to define a custom neural network\n",
        "    def __init__(self, input_dim, hidden_dim, output_dim):\n",
        "        # The __init__ method is the constructor that initializes the MLP's layers\n",
        "        super(MultilayerPerceptron, self).__init__()  # Call the parent class's constructor to properly initialize nn.Module\n",
        "\n",
        "        # Describe the architecture before building it\n",
        "        print(f\"Initializing Multilayer Perceptron with the following dimensions:\\n\"\n",
        "              f\"Input Layer Dimension: {input_dim}\\n\"\n",
        "              f\"Hidden Layer Dimension: {hidden_dim}\\n\"\n",
        "              f\"Output Layer Dimension: {output_dim}\")\n",
        "\n",
        "        # Defining layers in the network\n",
        "        self.fc1 = nn.Linear(input_dim, hidden_dim)  # First fully connected (dense) layer: transforms input_dim -> hidden_dim\n",
        "        print(f\"Layer 1: Fully Connected (Linear) Layer mapping {input_dim} -> {hidden_dim}\")\n",
        "\n",
        "        self.fc2 = nn.Linear(hidden_dim, output_dim)  # Second fully connected layer: transforms hidden_dim -> output_dim\n",
        "        print(f\"Layer 2: Fully Connected (Linear) Layer mapping {hidden_dim} -> {output_dim}\")\n",
        "\n",
        "        # Summarize the network architecture after initialization\n",
        "        print(\"\\nMultilayer Perceptron Initialized Successfully.\")\n",
        "\n",
        "    def forward(self, x):\n",
        "        # The forward method defines how data flows through the network\n",
        "\n",
        "        # Describe the input shape before passing through the network\n",
        "        print(f\"\\nForward Pass - Input Tensor Shape: {x.shape}\")\n",
        "\n",
        "        # Passing the input through the first fully connected layer and applying ReLU activation\n",
        "        x = F.relu(self.fc1(x))  # Apply ReLU activation to introduce non-linearity\n",
        "        print(f\"After Layer 1 (with ReLU activation) - Tensor Shape: {x.shape}\")\n",
        "\n",
        "        # Passing the data through the second fully connected layer (final output)\n",
        "        x = self.fc2(x)  # No activation applied here, as it's the final output layer\n",
        "        print(f\"After Layer 2 (Output Layer) - Tensor Shape: {x.shape}\\n\")\n",
        "\n",
        "        return x\n"
      ],
      "metadata": {
        "id": "TRToO1SYcg3E"
      },
      "execution_count": 16,
      "outputs": []
    },
    {
      "cell_type": "code",
      "source": [
        "\n",
        "# Example usage to demonstrate the architecture\n",
        "# Creating a sample MLP with input dimension 10, hidden dimension 5, and output dimension 2\n",
        "model = MultilayerPerceptron(input_dim=10, hidden_dim=5, output_dim=2)\n",
        "\n",
        "# Create a random input tensor with size (batch_size=1, input_dim=10) for testing the forward pass\n",
        "sample_input = torch.randn(1, 10)\n",
        "\n",
        "# Forward pass with sample input to visualize the flow of data through the network\n",
        "output = model.forward(sample_input)\n",
        "\n",
        "# Print the output tensor\n",
        "print(f\"Final Output: {output}\")\n"
      ],
      "metadata": {
        "colab": {
          "base_uri": "https://localhost:8080/"
        },
        "id": "B1Xijl7xe7i2",
        "outputId": "f2b54c51-265a-41f6-9de6-2d0469b3ede3"
      },
      "execution_count": 17,
      "outputs": [
        {
          "output_type": "stream",
          "name": "stdout",
          "text": [
            "Initializing Multilayer Perceptron with the following dimensions:\n",
            "Input Layer Dimension: 10\n",
            "Hidden Layer Dimension: 5\n",
            "Output Layer Dimension: 2\n",
            "Layer 1: Fully Connected (Linear) Layer mapping 10 -> 5\n",
            "Layer 2: Fully Connected (Linear) Layer mapping 5 -> 2\n",
            "\n",
            "Multilayer Perceptron Initialized Successfully.\n",
            "\n",
            "Forward Pass - Input Tensor Shape: torch.Size([1, 10])\n",
            "After Layer 1 (with ReLU activation) - Tensor Shape: torch.Size([1, 5])\n",
            "After Layer 2 (Output Layer) - Tensor Shape: torch.Size([1, 2])\n",
            "\n",
            "Final Output: tensor([[-0.3825, -0.5920]], grad_fn=<AddmmBackward0>)\n"
          ]
        }
      ]
    },
    {
      "cell_type": "markdown",
      "source": [
        "\n",
        "  **Observation**:\n",
        "  - Using ReLU ensures that only positive values are passed through, which helps prevent problems like vanishing gradients.\n",
        "\n",
        "  **Demonstration**:\n",
        "  - Instantiate and print the model:\n"
      ],
      "metadata": {
        "id": "oe0qgLVCJ3QK"
      }
    },
    {
      "cell_type": "code",
      "source": [
        "input_dim = 3  # Number of features or dimensions in the input data\n",
        "hidden_dim = 100  # Number of neurons in the hidden layer\n",
        "output_dim = 4  # Number of output classes or predictions\n",
        "mlp = MultilayerPerceptron(input_dim, hidden_dim, output_dim)  # Instantiate the MLP model with defined dimensions\n",
        "print(mlp)  # Print the structure of the MLP model\n"
      ],
      "metadata": {
        "colab": {
          "base_uri": "https://localhost:8080/"
        },
        "id": "QrhkQtuzdx1u",
        "outputId": "48f242ca-3e06-4665-dab5-b9cd878697a5"
      },
      "execution_count": 18,
      "outputs": [
        {
          "output_type": "stream",
          "name": "stdout",
          "text": [
            "Initializing Multilayer Perceptron with the following dimensions:\n",
            "Input Layer Dimension: 3\n",
            "Hidden Layer Dimension: 100\n",
            "Output Layer Dimension: 4\n",
            "Layer 1: Fully Connected (Linear) Layer mapping 3 -> 100\n",
            "Layer 2: Fully Connected (Linear) Layer mapping 100 -> 4\n",
            "\n",
            "Multilayer Perceptron Initialized Successfully.\n",
            "MultilayerPerceptron(\n",
            "  (fc1): Linear(in_features=3, out_features=100, bias=True)\n",
            "  (fc2): Linear(in_features=100, out_features=4, bias=True)\n",
            ")\n"
          ]
        }
      ]
    },
    {
      "cell_type": "markdown",
      "source": [
        "\n",
        "  - Pass a random input through the network and print the output:\n"
      ],
      "metadata": {
        "id": "_W91bPV7J3QM"
      }
    },
    {
      "cell_type": "code",
      "source": [
        "x_input = torch.rand(2, input_dim)  # Create a random input tensor with shape (2, input_dim)\n",
        "output = mlp(x_input)  # Pass the input through the MLP model to get the output\n",
        "print(\"Model output:\", output)  # Print the output of the model\n"
      ],
      "metadata": {
        "colab": {
          "base_uri": "https://localhost:8080/"
        },
        "id": "lVHeISdQfAS-",
        "outputId": "c4f5c650-8f77-4d69-cdcb-9efdf2862b87"
      },
      "execution_count": 19,
      "outputs": [
        {
          "output_type": "stream",
          "name": "stdout",
          "text": [
            "\n",
            "Forward Pass - Input Tensor Shape: torch.Size([2, 3])\n",
            "After Layer 1 (with ReLU activation) - Tensor Shape: torch.Size([2, 100])\n",
            "After Layer 2 (Output Layer) - Tensor Shape: torch.Size([2, 4])\n",
            "\n",
            "Model output: tensor([[-0.1347,  0.1418,  0.1305, -0.2920],\n",
            "        [-0.1277,  0.1504,  0.0810, -0.2548]], grad_fn=<AddmmBackward0>)\n"
          ]
        }
      ]
    },
    {
      "cell_type": "markdown",
      "source": [
        "---\n"
      ],
      "metadata": {
        "id": "cRx2skpofAxO"
      }
    },
    {
      "cell_type": "markdown",
      "source": [
        "\n",
        "### 4. **Exercise: Modify the Hidden Units**\n"
      ],
      "metadata": {
        "id": "tnzSDAL0J3QN"
      }
    },
    {
      "cell_type": "markdown",
      "source": [
        "\n",
        "- **Changing the Hidden Layer Size**:\n",
        "  - The number of hidden units (neurons in the hidden layer) determines how much the model can learn.\n",
        "  - More hidden units allow the model to capture more complex patterns, but too many may lead to overfitting.\n",
        "\n",
        "  **Task**:\n",
        "  - Change the number of hidden units (e.g., from 100 to 50, 200, etc.) and observe how the model structure changes.\n",
        "  \n",
        "  **Demonstration**:\n",
        "  - Modify the hidden dimension and observe the number of parameters:\n"
      ],
      "metadata": {
        "id": "p2g8pnHqJ3QO"
      }
    },
    {
      "cell_type": "code",
      "source": [
        "hidden_dim = 50  # Modify the number of neurons in the hidden layer\n",
        "mlp = MultilayerPerceptron(input_dim, hidden_dim, output_dim)  # Re-instantiate the MLP model with the updated hidden_dim\n",
        "print(f\"Model with {hidden_dim} hidden units:\", mlp)  # Print the new model architecture\n"
      ],
      "metadata": {
        "colab": {
          "base_uri": "https://localhost:8080/"
        },
        "id": "NPFJ9QpIfZic",
        "outputId": "3aa563e7-c70d-4f8d-9592-50da0fd89f5a"
      },
      "execution_count": 20,
      "outputs": [
        {
          "output_type": "stream",
          "name": "stdout",
          "text": [
            "Initializing Multilayer Perceptron with the following dimensions:\n",
            "Input Layer Dimension: 3\n",
            "Hidden Layer Dimension: 50\n",
            "Output Layer Dimension: 4\n",
            "Layer 1: Fully Connected (Linear) Layer mapping 3 -> 50\n",
            "Layer 2: Fully Connected (Linear) Layer mapping 50 -> 4\n",
            "\n",
            "Multilayer Perceptron Initialized Successfully.\n",
            "Model with 50 hidden units: MultilayerPerceptron(\n",
            "  (fc1): Linear(in_features=3, out_features=50, bias=True)\n",
            "  (fc2): Linear(in_features=50, out_features=4, bias=True)\n",
            ")\n"
          ]
        }
      ]
    },
    {
      "cell_type": "markdown",
      "source": [
        "\n",
        "- **Observation**:\n",
        "  - Fewer hidden units mean fewer learnable parameters, which may reduce the model’s capacity to learn complex data patterns.\n",
        "\n",
        "  - Check the total number of parameters in the model:\n"
      ],
      "metadata": {
        "id": "3qu6aSRSJ3QO"
      }
    },
    {
      "cell_type": "code",
      "source": [
        "def count_parameters(model):\n",
        "    # This function sums the number of parameters in the model that require gradients\n",
        "    return sum(p.numel() for p in model.parameters() if p.requires_grad)\n",
        "\n",
        "print(\"Total parameters:\", count_parameters(mlp))  # Print the total number of trainable parameters in the model\n"
      ],
      "metadata": {
        "colab": {
          "base_uri": "https://localhost:8080/"
        },
        "id": "dwtgY-BmfjMC",
        "outputId": "1599779a-4c64-43e6-dd05-dfb2ff6ab62e"
      },
      "execution_count": 21,
      "outputs": [
        {
          "output_type": "stream",
          "name": "stdout",
          "text": [
            "Total parameters: 404\n"
          ]
        }
      ]
    },
    {
      "cell_type": "markdown",
      "source": [
        "---\n"
      ],
      "metadata": {
        "id": "2RqazMfufjmS"
      }
    },
    {
      "cell_type": "markdown",
      "source": [
        "\n",
        "### 5. **Conclusion**\n",
        "\n",
        "- **Recap**:\n",
        "  - MLPs are simple yet powerful neural networks, consisting of input, hidden, and output layers.\n",
        "  - ReLU helps introduce non-linearity, making the model capable of learning more complex patterns.\n",
        "  - Setting a random seed ensures reproducibility, an important aspect when comparing models.\n"
      ],
      "metadata": {
        "id": "eK9S4JFaJ3QP"
      }
    },
    {
      "cell_type": "markdown",
      "source": [
        "\n",
        "- **Extending the MLP**:\n",
        "  - To extend this basic MLP for more complex tasks, you can add more hidden layers, use regularization techniques like **dropout**, or even include **batch normalization** to stabilize learning.\n",
        "\n",
        "  **Demonstration**:\n",
        "  - Add more layers to make the MLP deeper:\n",
        "    ```python\n",
        "    class DeepMLP(nn.Module):\n",
        "        def __init__(self, input_dim, hidden_dim, output_dim):\n",
        "            super(DeepMLP, self).__init__()\n",
        "            self.fc1 = nn.Linear(input_dim, hidden_dim)\n",
        "            self.fc2 = nn.Linear(hidden_dim, hidden_dim)\n",
        "            self.fc3 = nn.Linear(hidden_dim, output_dim)\n",
        "\n",
        "        def forward(self, x):\n",
        "            x = F.relu(self.fc1(x))\n",
        "            x = F.relu(self.fc2(x))\n",
        "            return self.fc3(x)\n",
        "\n",
        "    deep_mlp = DeepMLP(input_dim, hidden_dim, output_dim)\n",
        "    print(\"Deep MLP with two hidden layers:\", deep_mlp)\n",
        "    ```\n"
      ],
      "metadata": {
        "id": "90x1EVudJ3fR"
      }
    },
    {
      "cell_type": "markdown",
      "source": [
        "### Observation 1"
      ],
      "metadata": {
        "id": "bhkb7SQnJ3fS"
      }
    },
    {
      "cell_type": "code",
      "source": [
        "import torch\n",
        "import torch.nn.functional as F  # Importing the functional module from PyTorch to access activation functions like ReLU\n",
        "import torch.nn as nn  # Importing the torch.nn module to define neural network layers\n",
        "\n",
        "# Define a class for a simple Multilayer Perceptron (MLP) neural network\n",
        "class MultilayerPerceptron(nn.Module):  # Inherit from nn.Module to define a custom neural network\n",
        "    def __init__(self, input_dim, hidden_dim, output_dim):\n",
        "        # The __init__ method is the constructor that initializes the MLP's layers\n",
        "        super(MultilayerPerceptron, self).__init__()  # Call the parent class's constructor to properly initialize nn.Module\n",
        "\n",
        "        # Describe the architecture before building it\n",
        "        print(f\"Initializing Multilayer Perceptron with the following dimensions:\\n\"\n",
        "              f\"Input Layer Dimension: {input_dim}\\n\"\n",
        "              f\"Hidden Layer Dimension: {hidden_dim}\\n\"\n",
        "              f\"Output Layer Dimension: {output_dim}\")\n",
        "\n",
        "        # Defining layers in the network\n",
        "        self.fc1 = nn.Linear(input_dim, hidden_dim)  # First fully connected (dense) layer: transforms input_dim -> hidden_dim\n",
        "        print(f\"Layer 1: Fully Connected (Linear) Layer mapping {input_dim} -> {hidden_dim}\")\n",
        "\n",
        "        self.fc2 = nn.Linear(hidden_dim, output_dim)  # Second fully connected layer: transforms hidden_dim -> output_dim\n",
        "        print(f\"Layer 2: Fully Connected (Linear) Layer mapping {hidden_dim} -> {output_dim}\")\n",
        "\n",
        "        # Summarize the network architecture after initialization\n",
        "        print(\"\\nMultilayer Perceptron Initialized Successfully.\")\n",
        "\n",
        "    def forward(self, x):\n",
        "        # The forward method defines how data flows through the network\n",
        "\n",
        "        # Describe the input shape before passing through the network\n",
        "        print(f\"\\nForward Pass - Input Tensor Shape: {x.shape}\")\n",
        "\n",
        "        # Passing the input through the first fully connected layer and applying ReLU activation\n",
        "        x = F.relu(self.fc1(x))  # Apply ReLU activation to introduce non-linearity\n",
        "        print(f\"After Layer 1 (with ReLU activation) - Tensor Shape: {x.shape}\")\n",
        "\n",
        "        # Passing the data through the second fully connected layer (final output)\n",
        "        x = self.fc2(x)  # No activation applied here, as it's the final output layer\n",
        "        print(f\"After Layer 2 (Output Layer) - Tensor Shape: {x.shape}\\n\")\n",
        "\n",
        "        return x\n",
        "\n",
        "    def describe_model_architecture(self):\n",
        "        # Additional method to describe more details about the architecture\n",
        "        print(\"\\n==== Model Architecture Description ====\")\n",
        "        print(f\"First Layer:\\n\\tFully Connected Layer with {self.fc1.in_features} input features \"\n",
        "              f\"and {self.fc1.out_features} output features.\")\n",
        "        print(\"This layer transforms the input data and introduces non-linearity using the ReLU activation function.\")\n",
        "\n",
        "        print(f\"Second Layer:\\n\\tFully Connected Layer with {self.fc2.in_features} input features \"\n",
        "              f\"and {self.fc2.out_features} output features.\")\n",
        "        print(\"This layer produces the final output without any activation function.\")\n",
        "        print(\"========================================\\n\")\n",
        "\n"
      ],
      "metadata": {
        "id": "AgQJrVLHgHaz"
      },
      "execution_count": 23,
      "outputs": []
    },
    {
      "cell_type": "code",
      "source": [
        "# Example usage to demonstrate the architecture and features\n",
        "# Creating a sample MLP with input dimension 10, hidden dimension 5, and output dimension 2\n",
        "model = MultilayerPerceptron(input_dim=10, hidden_dim=5, output_dim=2)\n",
        "\n",
        "# Call the method to describe the model architecture\n",
        "model.describe_model_architecture()\n",
        "\n",
        "# Create a random input tensor with size (batch_size=1, input_dim=10) for testing the forward pass\n",
        "sample_input = torch.randn(1, 10)\n",
        "\n",
        "# Forward pass with sample input to visualize the flow of data through the network\n",
        "output = model.forward(sample_input)\n",
        "\n"
      ],
      "metadata": {
        "colab": {
          "base_uri": "https://localhost:8080/"
        },
        "id": "sTHJbUc6gMsl",
        "outputId": "9d2a99cc-915f-49c7-9589-51892288bc39"
      },
      "execution_count": 24,
      "outputs": [
        {
          "output_type": "stream",
          "name": "stdout",
          "text": [
            "Initializing Multilayer Perceptron with the following dimensions:\n",
            "Input Layer Dimension: 10\n",
            "Hidden Layer Dimension: 5\n",
            "Output Layer Dimension: 2\n",
            "Layer 1: Fully Connected (Linear) Layer mapping 10 -> 5\n",
            "Layer 2: Fully Connected (Linear) Layer mapping 5 -> 2\n",
            "\n",
            "Multilayer Perceptron Initialized Successfully.\n",
            "\n",
            "==== Model Architecture Description ====\n",
            "First Layer:\n",
            "\tFully Connected Layer with 10 input features and 5 output features.\n",
            "This layer transforms the input data and introduces non-linearity using the ReLU activation function.\n",
            "Second Layer:\n",
            "\tFully Connected Layer with 5 input features and 2 output features.\n",
            "This layer produces the final output without any activation function.\n",
            "========================================\n",
            "\n",
            "\n",
            "Forward Pass - Input Tensor Shape: torch.Size([1, 10])\n",
            "After Layer 1 (with ReLU activation) - Tensor Shape: torch.Size([1, 5])\n",
            "After Layer 2 (Output Layer) - Tensor Shape: torch.Size([1, 2])\n",
            "\n"
          ]
        }
      ]
    },
    {
      "cell_type": "code",
      "source": [
        "# Print the output tensor\n",
        "print(f\"Final Output: {output}\\n\")\n",
        "\n",
        "# Observing Layer Weights and Biases\n",
        "print(\"\\n==== Layer Weights and Biases Observation ====\")\n",
        "print(f\"Layer 1 Weights:\\n{model.fc1.weight}\")\n",
        "print(f\"Layer 1 Biases:\\n{model.fc1.bias}\")\n",
        "print(f\"Layer 2 Weights:\\n{model.fc2.weight}\")\n",
        "print(f\"Layer 2 Biases:\\n{model.fc2.bias}\")\n",
        "print(\"================================================\")\n",
        "\n"
      ],
      "metadata": {
        "colab": {
          "base_uri": "https://localhost:8080/"
        },
        "id": "5wyzyN14gQMA",
        "outputId": "3915babd-d15d-48b9-cbc6-4851d58d9101"
      },
      "execution_count": 25,
      "outputs": [
        {
          "output_type": "stream",
          "name": "stdout",
          "text": [
            "Final Output: tensor([[0.2676, 0.2072]], grad_fn=<AddmmBackward0>)\n",
            "\n",
            "\n",
            "==== Layer Weights and Biases Observation ====\n",
            "Layer 1 Weights:\n",
            "Parameter containing:\n",
            "tensor([[-0.1742, -0.0934, -0.0014, -0.1310, -0.0402, -0.2854,  0.1765, -0.0650,\n",
            "         -0.1880,  0.1912],\n",
            "        [-0.2435,  0.0076, -0.2248,  0.0050, -0.1460,  0.2338, -0.1665,  0.1819,\n",
            "         -0.1094, -0.2144],\n",
            "        [-0.2874,  0.1547,  0.0313, -0.0147,  0.2173,  0.0531,  0.3005, -0.1478,\n",
            "          0.0837,  0.2514],\n",
            "        [ 0.2140, -0.2625, -0.0409,  0.1367,  0.1092, -0.3127, -0.0341, -0.1835,\n",
            "          0.1204,  0.0943],\n",
            "        [ 0.0597, -0.2924, -0.2388, -0.1106, -0.0437, -0.1526, -0.2982,  0.2189,\n",
            "         -0.1851,  0.0933]], requires_grad=True)\n",
            "Layer 1 Biases:\n",
            "Parameter containing:\n",
            "tensor([ 0.0401,  0.2618, -0.0426, -0.1637, -0.2500], requires_grad=True)\n",
            "Layer 2 Weights:\n",
            "Parameter containing:\n",
            "tensor([[-1.2970e-01, -3.6828e-04, -2.3133e-01,  2.1545e-01, -3.8144e-01],\n",
            "        [-4.4117e-01, -1.4184e-01, -1.8915e-01,  3.5155e-01, -3.5992e-01]],\n",
            "       requires_grad=True)\n",
            "Layer 2 Biases:\n",
            "Parameter containing:\n",
            "tensor([0.2541, 0.2278], requires_grad=True)\n",
            "================================================\n"
          ]
        }
      ]
    },
    {
      "cell_type": "code",
      "source": [
        "# Demonstration of input-output relation by feeding multiple inputs\n",
        "batch_input = torch.randn(5, 10)  # Simulating a batch of 5 input samples\n",
        "print(\"\\nForward Pass with Batch of Inputs\")\n",
        "print(f\"Input Shape (Batch of 5 samples): {batch_input.shape}\")\n",
        "\n",
        "# Pass batch through the network\n",
        "batch_output = model.forward(batch_input)\n",
        "print(f\"Output Shape after Forward Pass: {batch_output.shape}\\n\")\n",
        "\n"
      ],
      "metadata": {
        "colab": {
          "base_uri": "https://localhost:8080/"
        },
        "id": "cX4dNdEogTTy",
        "outputId": "1716dcca-7ab4-40b5-c735-901fe66f6a86"
      },
      "execution_count": 26,
      "outputs": [
        {
          "output_type": "stream",
          "name": "stdout",
          "text": [
            "\n",
            "Forward Pass with Batch of Inputs\n",
            "Input Shape (Batch of 5 samples): torch.Size([5, 10])\n",
            "\n",
            "Forward Pass - Input Tensor Shape: torch.Size([5, 10])\n",
            "After Layer 1 (with ReLU activation) - Tensor Shape: torch.Size([5, 5])\n",
            "After Layer 2 (Output Layer) - Tensor Shape: torch.Size([5, 2])\n",
            "\n",
            "Output Shape after Forward Pass: torch.Size([5, 2])\n",
            "\n"
          ]
        }
      ]
    },
    {
      "cell_type": "code",
      "source": [
        "# Plotting Weight Distributions for Deeper Understanding (Visualization)\n",
        "import matplotlib.pyplot as plt\n",
        "\n",
        "def plot_weights(layer, layer_name):\n",
        "    # Plot the weights of the given layer\n",
        "    plt.hist(layer.weight.detach().numpy().flatten(), bins=20, alpha=0.7)\n",
        "    plt.title(f\"Weight Distribution in {layer_name}\")\n",
        "    plt.xlabel(\"Weight values\")\n",
        "    plt.ylabel(\"Frequency\")\n",
        "    plt.show()\n",
        "\n"
      ],
      "metadata": {
        "id": "DP9yrANLgVGI"
      },
      "execution_count": 27,
      "outputs": []
    },
    {
      "cell_type": "code",
      "source": [
        "# Visualize weight distribution for both layers\n",
        "plot_weights(model.fc1, \"Layer 1\")\n",
        "plot_weights(model.fc2, \"Layer 2\")\n",
        "\n",
        "# Analyzing the effect of input scaling\n",
        "scaled_input = torch.randn(1, 10) * 100  # Creating a scaled-up version of the input\n",
        "print(\"\\nForward Pass with Scaled Input\")\n",
        "print(f\"Scaled Input:\\n{scaled_input}\")\n",
        "\n",
        "# Pass scaled input through the network\n",
        "scaled_output = model.forward(scaled_input)\n",
        "print(f\"Output for Scaled Input: {scaled_output}\\n\")\n",
        "\n"
      ],
      "metadata": {
        "colab": {
          "base_uri": "https://localhost:8080/",
          "height": 1000
        },
        "id": "F3clGK9jgWwF",
        "outputId": "04d86af4-5596-4f71-f6ba-2f382c7f353e"
      },
      "execution_count": 28,
      "outputs": [
        {
          "output_type": "display_data",
          "data": {
            "text/plain": [
              "<Figure size 640x480 with 1 Axes>"
            ],
            "image/png": "[encoded data removed]"
          },
          "metadata": {}
        },
        {
          "output_type": "display_data",
          "data": {
            "text/plain": [
              "<Figure size 640x480 with 1 Axes>"
            ],
            "image/png": "[encoded data removed]"
          },
          "metadata": {}
        },
        {
          "output_type": "stream",
          "name": "stdout",
          "text": [
            "\n",
            "Forward Pass with Scaled Input\n",
            "Scaled Input:\n",
            "tensor([[ -58.3783,   12.1119,  203.3037,  -10.2780,  -64.4596,   94.9214,\n",
            "         -122.1876,    3.4162,  110.2990,   83.1928]])\n",
            "\n",
            "Forward Pass - Input Tensor Shape: torch.Size([1, 10])\n",
            "After Layer 1 (with ReLU activation) - Tensor Shape: torch.Size([1, 5])\n",
            "After Layer 2 (Output Layer) - Tensor Shape: torch.Size([1, 2])\n",
            "\n",
            "Output for Scaled Input: tensor([[-1.8487, -1.4916]], grad_fn=<AddmmBackward0>)\n",
            "\n"
          ]
        }
      ]
    }
  ]
}