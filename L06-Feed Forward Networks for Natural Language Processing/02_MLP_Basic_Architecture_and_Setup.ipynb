{
  "nbformat": 4,
  "nbformat_minor": 0,
  "metadata": {
    "colab": {
      "provenance": [],
      "authorship_tag": "ABX9TyPs37NOgusbNYP0RwyNwB88",
      "include_colab_link": true
    },
    "kernelspec": {
      "name": "python3",
      "display_name": "Python 3"
    },
    "language_info": {
      "name": "python"
    }
  },
  "cells": [
    {
      "cell_type": "markdown",
      "metadata": {
        "id": "view-in-github",
        "colab_type": "text"
      },
      "source": [
        "<a href=\"https://colab.research.google.com/github/babupallam/Msc_AI_Module2_Natural_Language_Processing/blob/main/L06-Feed%20Forward%20Networks%20for%20Natural%20Language%20Processing/02_MLP_Basic_Architecture_and_Setup.ipynb\" target=\"_parent\"><img src=\"https://colab.research.google.com/assets/colab-badge.svg\" alt=\"Open In Colab\"/></a>"
      ]
    },
    {
      "cell_type": "markdown",
      "source": [
        "### 1. **Introduction**\n",
        "\n",
        "- **Multilayer Perceptron (MLP)**:\n",
        "  - MLP is one of the simplest neural networks. It's a type of **feedforward neural network** where data flows in one direction: from input to output.\n",
        "  - MLP consists of layers:\n",
        "    - **Input Layer**: Takes input features (e.g., pixels of an image, data points).\n",
        "    - **Hidden Layer**: Processes the input and applies transformations using weights and activation functions.\n",
        "    - **Output Layer**: Provides the final output, typically for classification or regression.\n",
        "  \n",
        "  - **Common Usage**:\n",
        "    - **Classification** (e.g., identifying digits in images).\n",
        "    - **Regression** (predicting continuous values like house prices).\n",
        "  \n",
        "  **Observation**:\n",
        "  - MLPs are easy to understand and implement, making them an excellent starting point for deep learning.\n",
        "\n",
        "  **Demonstration**:\n",
        "  - Print a short introduction to MLPs and how they work using simple language:\n"
      ],
      "metadata": {
        "id": "Wcq3ml1-J13T"
      }
    },
    {
      "cell_type": "code",
      "source": [
        "print(\"An MLP is a feedforward neural network that consists of an input layer, hidden layer(s), and an output layer.\")\n"
      ],
      "metadata": {
        "colab": {
          "base_uri": "https://localhost:8080/"
        },
        "id": "MeJweLH7bTCs",
        "outputId": "23667a9c-03fa-4a62-c2b2-9bf2076df6cd"
      },
      "execution_count": 93,
      "outputs": [
        {
          "output_type": "stream",
          "name": "stdout",
          "text": [
            "An MLP is a feedforward neural network that consists of an input layer, hidden layer(s), and an output layer.\n"
          ]
        }
      ]
    },
    {
      "cell_type": "markdown",
      "source": [
        "---"
      ],
      "metadata": {
        "id": "fEjZeNfbJ18o"
      }
    },
    {
      "cell_type": "markdown",
      "source": [
        "\n",
        "### 2. **Setting Up the Environment**\n",
        "\n",
        "- **Using `InteractiveShell` for Multiple Outputs**:\n",
        "  - In Jupyter notebooks, when multiple operations occur in a single cell, sometimes only the last output is shown.\n",
        "  - By enabling `InteractiveShell.ast_node_interactivity = \"all\"`, we ensure that all operations produce outputs, which helps with debugging and visualization.\n",
        "\n",
        "  **Demonstration**:\n",
        "  - Run the following code to enable multiple outputs:\n"
      ],
      "metadata": {
        "id": "NXZ40Up4J2Bp"
      }
    },
    {
      "cell_type": "code",
      "source": [
        "from IPython.core.interactiveshell import InteractiveShell\n",
        "InteractiveShell.ast_node_interactivity = \"all\"\n"
      ],
      "metadata": {
        "id": "F9j_uI9Obo_L"
      },
      "execution_count": 94,
      "outputs": []
    },
    {
      "cell_type": "markdown",
      "source": [
        "\n",
        "- **Ensuring Reproducibility**:\n",
        "  - **Reproducibility**: Ensuring the same results when running the code multiple times.\n",
        "  - Random operations (e.g., generating random numbers, initializing neural network weights) can give different results on different runs.\n",
        "  - **Setting a seed**: By fixing a seed value, we ensure that random operations generate the same results every time.\n",
        "\n",
        "  **Observation**:\n",
        "  - Without setting seeds, neural networks can behave differently each time you train them. This makes comparison difficult.\n",
        "\n",
        "  **Demonstration**:\n",
        "  - Set a random seed for CPU and GPU operations:\n"
      ],
      "metadata": {
        "id": "UjGtIoGpJ2Fn"
      }
    },
    {
      "cell_type": "code",
      "source": [
        "import torch  # Import the torch library, which is the main PyTorch package for building and training machine learning models\n",
        "\n",
        "# The random seed is set to ensure that the operations involving randomness\n",
        "# (like weight initialization in neural networks, random sampling, etc.)\n",
        "# are reproducible. This is very important for debugging and testing.\n",
        "seed = 1337  # Define the seed value; this can be any integer. 1337 is just a chosen example.\n",
        "\n",
        "# Set the seed for generating random numbers on the CPU.\n",
        "# This ensures that all the random number generation that happens on the CPU\n",
        "# (for example, initializing weights of a model) will be deterministic.\n",
        "torch.manual_seed(seed)\n",
        "\n",
        "# If you are using GPU(s) with CUDA, this function will ensure that all random\n",
        "# number generation on the GPU(s) is also deterministic, making your results\n",
        "# reproducible across runs, even on GPUs.\n",
        "torch.cuda.manual_seed_all(seed)\n",
        "\n",
        "# This message is printed to indicate that the random seed has been set,\n",
        "# confirming to the user that reproducibility is ensured.\n",
        "print(\"Random seed set to ensure reproducibility.\")\n"
      ],
      "metadata": {
        "colab": {
          "base_uri": "https://localhost:8080/"
        },
        "id": "WDeRd0SSbwav",
        "outputId": "5dae94c4-0cae-4428-c8c2-c5b163ce1f7f"
      },
      "execution_count": 95,
      "outputs": [
        {
          "output_type": "execute_result",
          "data": {
            "text/plain": [
              "<torch._C.Generator at 0x7fd0fc284170>"
            ]
          },
          "metadata": {},
          "execution_count": 95
        },
        {
          "output_type": "stream",
          "name": "stdout",
          "text": [
            "Random seed set to ensure reproducibility.\n"
          ]
        }
      ]
    },
    {
      "cell_type": "markdown",
      "source": [
        "  - Compare outputs with and without setting the seed:\n"
      ],
      "metadata": {
        "id": "wztjkzHgbxxE"
      }
    },
    {
      "cell_type": "code",
      "source": [
        "# Without seed\n",
        "print(\"Without seed:\")\n",
        "print(torch.rand(2, 2))  # Generates a 2x2 tensor of random numbers without any seed.\n"
      ],
      "metadata": {
        "colab": {
          "base_uri": "https://localhost:8080/"
        },
        "id": "FO9Wl5MrbyJR",
        "outputId": "d7422899-ce17-4fd6-82e8-55285578a84a"
      },
      "execution_count": 96,
      "outputs": [
        {
          "output_type": "stream",
          "name": "stdout",
          "text": [
            "Without seed:\n",
            "tensor([[0.0783, 0.4956],\n",
            "        [0.6231, 0.4224]])\n"
          ]
        }
      ]
    },
    {
      "cell_type": "code",
      "source": [
        "# Without seed\n",
        "print(\"Without seed:\")\n",
        "print(torch.rand(2, 2))  # Generates a 2x2 tensor of random numbers without any seed.\n"
      ],
      "metadata": {
        "colab": {
          "base_uri": "https://localhost:8080/"
        },
        "id": "bMm13Ie0cNpZ",
        "outputId": "0aec020d-d6fe-4275-966f-26efa86f3349"
      },
      "execution_count": 97,
      "outputs": [
        {
          "output_type": "stream",
          "name": "stdout",
          "text": [
            "Without seed:\n",
            "tensor([[0.2004, 0.0287],\n",
            "        [0.5851, 0.6967]])\n"
          ]
        }
      ]
    },
    {
      "cell_type": "markdown",
      "source": [
        "Above two results are different in each exicution"
      ],
      "metadata": {
        "id": "nVT2GpbXcSi8"
      }
    },
    {
      "cell_type": "code",
      "source": [
        "# With seed\n",
        "torch.manual_seed(seed)  # Setting the seed to a fixed value\n",
        "print(\"With seed:\")\n",
        "print(torch.rand(2, 2))  # Generates a 2x2 tensor of random numbers, but now with the seed set\n"
      ],
      "metadata": {
        "colab": {
          "base_uri": "https://localhost:8080/"
        },
        "id": "wTwkEq1ucIc1",
        "outputId": "a2fb07ef-25c3-419d-a02c-cf9f69327d85"
      },
      "execution_count": 98,
      "outputs": [
        {
          "output_type": "execute_result",
          "data": {
            "text/plain": [
              "<torch._C.Generator at 0x7fd0fc284170>"
            ]
          },
          "metadata": {},
          "execution_count": 98
        },
        {
          "output_type": "stream",
          "name": "stdout",
          "text": [
            "With seed:\n",
            "tensor([[0.0783, 0.4956],\n",
            "        [0.6231, 0.4224]])\n"
          ]
        }
      ]
    },
    {
      "cell_type": "code",
      "source": [
        "# With seed\n",
        "torch.manual_seed(seed)  # Setting the seed to a fixed value\n",
        "print(\"With seed:\")\n",
        "print(torch.rand(2, 2))  # Generates a 2x2 tensor of random numbers, but now with the seed set\n"
      ],
      "metadata": {
        "colab": {
          "base_uri": "https://localhost:8080/"
        },
        "id": "7oB9NjDqcPxT",
        "outputId": "283239ca-bfc2-4790-a3fc-9e43cdf0fb31"
      },
      "execution_count": 99,
      "outputs": [
        {
          "output_type": "execute_result",
          "data": {
            "text/plain": [
              "<torch._C.Generator at 0x7fd0fc284170>"
            ]
          },
          "metadata": {},
          "execution_count": 99
        },
        {
          "output_type": "stream",
          "name": "stdout",
          "text": [
            "With seed:\n",
            "tensor([[0.0783, 0.4956],\n",
            "        [0.6231, 0.4224]])\n"
          ]
        }
      ]
    },
    {
      "cell_type": "markdown",
      "source": [
        "Above two results are same even after the second exicution"
      ],
      "metadata": {
        "id": "a2qyEK1xcWx6"
      }
    },
    {
      "cell_type": "markdown",
      "source": [
        "---\n"
      ],
      "metadata": {
        "id": "gL3uzvZ0b1GJ"
      }
    },
    {
      "cell_type": "markdown",
      "source": [
        "\n",
        "### 3. **Network Initialization**\n",
        "\n",
        "- **Defining the MLP**:\n",
        "  - An MLP consists of **fully connected (dense) layers** where each input is connected to every neuron in the next layer.\n",
        "  - PyTorch provides the `nn.Module` class, which we use to define custom models.\n",
        "\n",
        "  **Layers**:\n",
        "  - **Input layer**: The input dimension is defined by the number of features in the data (e.g., if the input is a 3D vector, `input_dim = 3`).\n",
        "  - **Hidden layer**: A hidden layer is a layer between input and output layers that applies transformations to the input data.\n",
        "  - **Output layer**: Outputs the final prediction, typically the number of classes (for classification) or a single value (for regression).\n",
        "\n",
        "  **Activation Function (ReLU)**:\n",
        "  - **ReLU (Rectified Linear Unit)**: A common activation function that outputs the input if it’s positive, otherwise it outputs zero.\n",
        "  - It introduces non-linearity, which helps the network learn complex patterns.\n",
        "  "
      ],
      "metadata": {
        "id": "-1fgr4DGJ2Jb"
      }
    },
    {
      "cell_type": "markdown",
      "source": [
        "\n",
        "  **MLP Class Definition**:\n",
        "  - Here’s how to define a basic MLP in PyTorch:\n"
      ],
      "metadata": {
        "id": "0qACGUIXJ2Kv"
      }
    },
    {
      "cell_type": "code",
      "source": [
        "import torch.nn.functional as F  # Importing the functional module from PyTorch to access activation functions like ReLU\n",
        "import torch.nn as nn  # Importing the torch.nn module to define neural network layers\n",
        "\n",
        "# Define a class for a simple Multilayer Perceptron (MLP) neural network\n",
        "class MultilayerPerceptron(nn.Module):  # Inherit from nn.Module to define a custom neural network\n",
        "    def __init__(self, input_dim, hidden_dim, output_dim):\n",
        "        # The __init__ method is the constructor that initializes the MLP's layers\n",
        "        super(MultilayerPerceptron, self).__init__()  # Call the parent class's constructor to properly initialize nn.Module\n",
        "\n",
        "        # Describe the architecture before building it\n",
        "        print(f\"Initializing Multilayer Perceptron with the following dimensions:\\n\"\n",
        "              f\"Input Layer Dimension: {input_dim}\\n\"\n",
        "              f\"Hidden Layer Dimension: {hidden_dim}\\n\"\n",
        "              f\"Output Layer Dimension: {output_dim}\")\n",
        "\n",
        "        # Defining layers in the network\n",
        "        self.fc1 = nn.Linear(input_dim, hidden_dim)  # First fully connected (dense) layer: transforms input_dim -> hidden_dim\n",
        "        print(f\"Layer 1: Fully Connected (Linear) Layer mapping {input_dim} -> {hidden_dim}\")\n",
        "\n",
        "        self.fc2 = nn.Linear(hidden_dim, output_dim)  # Second fully connected layer: transforms hidden_dim -> output_dim\n",
        "        print(f\"Layer 2: Fully Connected (Linear) Layer mapping {hidden_dim} -> {output_dim}\")\n",
        "\n",
        "        # Summarize the network architecture after initialization\n",
        "        print(\"\\nMultilayer Perceptron Initialized Successfully.\")\n",
        "\n",
        "    def forward(self, x):\n",
        "        # The forward method defines how data flows through the network\n",
        "\n",
        "        # Describe the input shape before passing through the network\n",
        "        print(f\"\\nForward Pass - Input Tensor Shape: {x.shape}\")\n",
        "\n",
        "        # Passing the input through the first fully connected layer and applying ReLU activation\n",
        "        x = F.relu(self.fc1(x))  # Apply ReLU activation to introduce non-linearity\n",
        "        print(f\"After Layer 1 (with ReLU activation) - Tensor Shape: {x.shape}\")\n",
        "\n",
        "        # Passing the data through the second fully connected layer (final output)\n",
        "        x = self.fc2(x)  # No activation applied here, as it's the final output layer\n",
        "        print(f\"After Layer 2 (Output Layer) - Tensor Shape: {x.shape}\\n\")\n",
        "\n",
        "        return x\n"
      ],
      "metadata": {
        "id": "TRToO1SYcg3E"
      },
      "execution_count": 100,
      "outputs": []
    },
    {
      "cell_type": "code",
      "source": [
        "\n",
        "# Example usage to demonstrate the architecture\n",
        "# Creating a sample MLP with input dimension 10, hidden dimension 5, and output dimension 2\n",
        "model = MultilayerPerceptron(input_dim=10, hidden_dim=5, output_dim=2)\n",
        "\n",
        "# Create a random input tensor with size (batch_size=1, input_dim=10) for testing the forward pass\n",
        "sample_input = torch.randn(1, 10)\n",
        "\n",
        "# Forward pass with sample input to visualize the flow of data through the network\n",
        "output = model.forward(sample_input)\n",
        "\n",
        "# Print the output tensor\n",
        "print(f\"Final Output: {output}\")\n"
      ],
      "metadata": {
        "colab": {
          "base_uri": "https://localhost:8080/"
        },
        "id": "B1Xijl7xe7i2",
        "outputId": "1d895bdf-61d9-4371-ebd5-e00452176ee7"
      },
      "execution_count": 101,
      "outputs": [
        {
          "output_type": "stream",
          "name": "stdout",
          "text": [
            "Initializing Multilayer Perceptron with the following dimensions:\n",
            "Input Layer Dimension: 10\n",
            "Hidden Layer Dimension: 5\n",
            "Output Layer Dimension: 2\n",
            "Layer 1: Fully Connected (Linear) Layer mapping 10 -> 5\n",
            "Layer 2: Fully Connected (Linear) Layer mapping 5 -> 2\n",
            "\n",
            "Multilayer Perceptron Initialized Successfully.\n",
            "\n",
            "Forward Pass - Input Tensor Shape: torch.Size([1, 10])\n",
            "After Layer 1 (with ReLU activation) - Tensor Shape: torch.Size([1, 5])\n",
            "After Layer 2 (Output Layer) - Tensor Shape: torch.Size([1, 2])\n",
            "\n",
            "Final Output: tensor([[-0.0720, -0.2881]], grad_fn=<AddmmBackward0>)\n"
          ]
        }
      ]
    },
    {
      "cell_type": "markdown",
      "source": [
        "\n",
        "  **Observation**:\n",
        "  - Using ReLU ensures that only positive values are passed through, which helps prevent problems like vanishing gradients.\n",
        "\n",
        "  **Demonstration**:\n",
        "  - Instantiate and print the model:\n"
      ],
      "metadata": {
        "id": "oe0qgLVCJ3QK"
      }
    },
    {
      "cell_type": "code",
      "source": [
        "input_dim = 3  # Number of features or dimensions in the input data\n",
        "hidden_dim = 100  # Number of neurons in the hidden layer\n",
        "output_dim = 4  # Number of output classes or predictions\n",
        "mlp = MultilayerPerceptron(input_dim, hidden_dim, output_dim)  # Instantiate the MLP model with defined dimensions\n",
        "print(mlp)  # Print the structure of the MLP model\n"
      ],
      "metadata": {
        "colab": {
          "base_uri": "https://localhost:8080/"
        },
        "id": "QrhkQtuzdx1u",
        "outputId": "b1496450-63c0-41cc-bc69-8c0c23dae031"
      },
      "execution_count": 102,
      "outputs": [
        {
          "output_type": "stream",
          "name": "stdout",
          "text": [
            "Initializing Multilayer Perceptron with the following dimensions:\n",
            "Input Layer Dimension: 3\n",
            "Hidden Layer Dimension: 100\n",
            "Output Layer Dimension: 4\n",
            "Layer 1: Fully Connected (Linear) Layer mapping 3 -> 100\n",
            "Layer 2: Fully Connected (Linear) Layer mapping 100 -> 4\n",
            "\n",
            "Multilayer Perceptron Initialized Successfully.\n",
            "MultilayerPerceptron(\n",
            "  (fc1): Linear(in_features=3, out_features=100, bias=True)\n",
            "  (fc2): Linear(in_features=100, out_features=4, bias=True)\n",
            ")\n"
          ]
        }
      ]
    },
    {
      "cell_type": "markdown",
      "source": [
        "\n",
        "  - Pass a random input through the network and print the output:\n"
      ],
      "metadata": {
        "id": "_W91bPV7J3QM"
      }
    },
    {
      "cell_type": "code",
      "source": [
        "x_input = torch.rand(2, input_dim)  # Create a random input tensor with shape (2, input_dim)\n",
        "output = mlp(x_input)  # Pass the input through the MLP model to get the output\n",
        "print(\"Model output:\", output)  # Print the output of the model\n"
      ],
      "metadata": {
        "colab": {
          "base_uri": "https://localhost:8080/"
        },
        "id": "lVHeISdQfAS-",
        "outputId": "b14903ba-ede7-40de-ae60-d77fd31614a9"
      },
      "execution_count": 103,
      "outputs": [
        {
          "output_type": "stream",
          "name": "stdout",
          "text": [
            "\n",
            "Forward Pass - Input Tensor Shape: torch.Size([2, 3])\n",
            "After Layer 1 (with ReLU activation) - Tensor Shape: torch.Size([2, 100])\n",
            "After Layer 2 (Output Layer) - Tensor Shape: torch.Size([2, 4])\n",
            "\n",
            "Model output: tensor([[-0.3270,  0.2411,  0.1128,  0.0767],\n",
            "        [-0.1136,  0.1826, -0.0087,  0.0026]], grad_fn=<AddmmBackward0>)\n"
          ]
        }
      ]
    },
    {
      "cell_type": "markdown",
      "source": [
        "---\n"
      ],
      "metadata": {
        "id": "cRx2skpofAxO"
      }
    },
    {
      "cell_type": "markdown",
      "source": [
        "\n",
        "### 4. **Exercise: Modify the Hidden Units**\n"
      ],
      "metadata": {
        "id": "tnzSDAL0J3QN"
      }
    },
    {
      "cell_type": "markdown",
      "source": [
        "\n",
        "- **Changing the Hidden Layer Size**:\n",
        "  - The number of hidden units (neurons in the hidden layer) determines how much the model can learn.\n",
        "  - More hidden units allow the model to capture more complex patterns, but too many may lead to overfitting.\n",
        "\n",
        "  **Task**:\n",
        "  - Change the number of hidden units (e.g., from 100 to 50, 200, etc.) and observe how the model structure changes.\n",
        "  \n",
        "  **Demonstration**:\n",
        "  - Modify the hidden dimension and observe the number of parameters:\n"
      ],
      "metadata": {
        "id": "p2g8pnHqJ3QO"
      }
    },
    {
      "cell_type": "code",
      "source": [
        "hidden_dim = 50  # Modify the number of neurons in the hidden layer\n",
        "mlp = MultilayerPerceptron(input_dim, hidden_dim, output_dim)  # Re-instantiate the MLP model with the updated hidden_dim\n",
        "print(f\"Model with {hidden_dim} hidden units:\", mlp)  # Print the new model architecture\n"
      ],
      "metadata": {
        "colab": {
          "base_uri": "https://localhost:8080/"
        },
        "id": "NPFJ9QpIfZic",
        "outputId": "ed8ee127-fb2a-491d-f230-848e93048265"
      },
      "execution_count": 104,
      "outputs": [
        {
          "output_type": "stream",
          "name": "stdout",
          "text": [
            "Initializing Multilayer Perceptron with the following dimensions:\n",
            "Input Layer Dimension: 3\n",
            "Hidden Layer Dimension: 50\n",
            "Output Layer Dimension: 4\n",
            "Layer 1: Fully Connected (Linear) Layer mapping 3 -> 50\n",
            "Layer 2: Fully Connected (Linear) Layer mapping 50 -> 4\n",
            "\n",
            "Multilayer Perceptron Initialized Successfully.\n",
            "Model with 50 hidden units: MultilayerPerceptron(\n",
            "  (fc1): Linear(in_features=3, out_features=50, bias=True)\n",
            "  (fc2): Linear(in_features=50, out_features=4, bias=True)\n",
            ")\n"
          ]
        }
      ]
    },
    {
      "cell_type": "markdown",
      "source": [
        "\n",
        "- **Observation**:\n",
        "  - Fewer hidden units mean fewer learnable parameters, which may reduce the model’s capacity to learn complex data patterns.\n",
        "\n",
        "  - Check the total number of parameters in the model:\n"
      ],
      "metadata": {
        "id": "3qu6aSRSJ3QO"
      }
    },
    {
      "cell_type": "code",
      "source": [
        "def count_parameters(model):\n",
        "    # This function sums the number of parameters in the model that require gradients\n",
        "    return sum(p.numel() for p in model.parameters() if p.requires_grad)\n",
        "\n",
        "print(\"Total parameters:\", count_parameters(mlp))  # Print the total number of trainable parameters in the model\n"
      ],
      "metadata": {
        "colab": {
          "base_uri": "https://localhost:8080/"
        },
        "id": "dwtgY-BmfjMC",
        "outputId": "322810a8-ac06-4866-ab63-61f207d9b0b7"
      },
      "execution_count": 105,
      "outputs": [
        {
          "output_type": "stream",
          "name": "stdout",
          "text": [
            "Total parameters: 404\n"
          ]
        }
      ]
    },
    {
      "cell_type": "markdown",
      "source": [
        "---\n"
      ],
      "metadata": {
        "id": "2RqazMfufjmS"
      }
    },
    {
      "cell_type": "markdown",
      "source": [
        "\n",
        "### 5. **Conclusion**\n",
        "\n",
        "- **Recap**:\n",
        "  - MLPs are simple yet powerful neural networks, consisting of input, hidden, and output layers.\n",
        "  - ReLU helps introduce non-linearity, making the model capable of learning more complex patterns.\n",
        "  - Setting a random seed ensures reproducibility, an important aspect when comparing models.\n"
      ],
      "metadata": {
        "id": "eK9S4JFaJ3QP"
      }
    },
    {
      "cell_type": "markdown",
      "source": [
        "\n",
        "- **Extending the MLP**:\n",
        "  - To extend this basic MLP for more complex tasks, you can add more hidden layers, use regularization techniques like **dropout**, or even include **batch normalization** to stabilize learning.\n",
        "\n",
        "  **Demonstration**:\n",
        "  - Add more layers to make the MLP deeper:\n",
        "    ```python\n",
        "    class DeepMLP(nn.Module):\n",
        "        def __init__(self, input_dim, hidden_dim, output_dim):\n",
        "            super(DeepMLP, self).__init__()\n",
        "            self.fc1 = nn.Linear(input_dim, hidden_dim)\n",
        "            self.fc2 = nn.Linear(hidden_dim, hidden_dim)\n",
        "            self.fc3 = nn.Linear(hidden_dim, output_dim)\n",
        "\n",
        "        def forward(self, x):\n",
        "            x = F.relu(self.fc1(x))\n",
        "            x = F.relu(self.fc2(x))\n",
        "            return self.fc3(x)\n",
        "\n",
        "    deep_mlp = DeepMLP(input_dim, hidden_dim, output_dim)\n",
        "    print(\"Deep MLP with two hidden layers:\", deep_mlp)\n",
        "    ```\n"
      ],
      "metadata": {
        "id": "90x1EVudJ3fR"
      }
    },
    {
      "cell_type": "markdown",
      "source": [
        "### Observation 1"
      ],
      "metadata": {
        "id": "bhkb7SQnJ3fS"
      }
    },
    {
      "cell_type": "code",
      "source": [
        "import torch\n",
        "import torch.nn.functional as F  # Importing the functional module from PyTorch to access activation functions like ReLU\n",
        "import torch.nn as nn  # Importing the torch.nn module to define neural network layers\n",
        "\n",
        "# Define a class for a simple Multilayer Perceptron (MLP) neural network\n",
        "class MultilayerPerceptron(nn.Module):  # Inherit from nn.Module to define a custom neural network\n",
        "    def __init__(self, input_dim, hidden_dim, output_dim):\n",
        "        # The __init__ method is the constructor that initializes the MLP's layers\n",
        "        super(MultilayerPerceptron, self).__init__()  # Call the parent class's constructor to properly initialize nn.Module\n",
        "\n",
        "        # Describe the architecture before building it\n",
        "        print(f\"Initializing Multilayer Perceptron with the following dimensions:\\n\"\n",
        "              f\"Input Layer Dimension: {input_dim}\\n\"\n",
        "              f\"Hidden Layer Dimension: {hidden_dim}\\n\"\n",
        "              f\"Output Layer Dimension: {output_dim}\")\n",
        "\n",
        "        # Defining layers in the network\n",
        "        self.fc1 = nn.Linear(input_dim, hidden_dim)  # First fully connected (dense) layer: transforms input_dim -> hidden_dim\n",
        "        print(f\"Layer 1: Fully Connected (Linear) Layer mapping {input_dim} -> {hidden_dim}\")\n",
        "\n",
        "        self.fc2 = nn.Linear(hidden_dim, output_dim)  # Second fully connected layer: transforms hidden_dim -> output_dim\n",
        "        print(f\"Layer 2: Fully Connected (Linear) Layer mapping {hidden_dim} -> {output_dim}\")\n",
        "\n",
        "        # Summarize the network architecture after initialization\n",
        "        print(\"\\nMultilayer Perceptron Initialized Successfully.\")\n",
        "\n",
        "    def forward(self, x):\n",
        "        # The forward method defines how data flows through the network\n",
        "\n",
        "        # Describe the input shape before passing through the network\n",
        "        print(f\"\\nForward Pass - Input Tensor Shape: {x.shape}\")\n",
        "\n",
        "        # Passing the input through the first fully connected layer and applying ReLU activation\n",
        "        x = F.relu(self.fc1(x))  # Apply ReLU activation to introduce non-linearity\n",
        "        print(f\"After Layer 1 (with ReLU activation) - Tensor Shape: {x.shape}\")\n",
        "\n",
        "        # Passing the data through the second fully connected layer (final output)\n",
        "        x = self.fc2(x)  # No activation applied here, as it's the final output layer\n",
        "        print(f\"After Layer 2 (Output Layer) - Tensor Shape: {x.shape}\\n\")\n",
        "\n",
        "        return x\n",
        "\n",
        "    def describe_model_architecture(self):\n",
        "        # Additional method to describe more details about the architecture\n",
        "        print(\"\\n==== Model Architecture Description ====\")\n",
        "        print(f\"First Layer:\\n\\tFully Connected Layer with {self.fc1.in_features} input features \"\n",
        "              f\"and {self.fc1.out_features} output features.\")\n",
        "        print(\"This layer transforms the input data and introduces non-linearity using the ReLU activation function.\")\n",
        "\n",
        "        print(f\"Second Layer:\\n\\tFully Connected Layer with {self.fc2.in_features} input features \"\n",
        "              f\"and {self.fc2.out_features} output features.\")\n",
        "        print(\"This layer produces the final output without any activation function.\")\n",
        "        print(\"========================================\\n\")\n",
        "\n"
      ],
      "metadata": {
        "id": "AgQJrVLHgHaz"
      },
      "execution_count": 106,
      "outputs": []
    },
    {
      "cell_type": "code",
      "source": [
        "# Example usage to demonstrate the architecture and features\n",
        "# Creating a sample MLP with input dimension 10, hidden dimension 5, and output dimension 2\n",
        "model = MultilayerPerceptron(input_dim=10, hidden_dim=5, output_dim=2)\n",
        "\n",
        "# Call the method to describe the model architecture\n",
        "model.describe_model_architecture()\n",
        "\n",
        "# Create a random input tensor with size (batch_size=1, input_dim=10) for testing the forward pass\n",
        "sample_input = torch.randn(1, 10)\n",
        "\n",
        "# Forward pass with sample input to visualize the flow of data through the network\n",
        "output = model.forward(sample_input)\n",
        "\n"
      ],
      "metadata": {
        "colab": {
          "base_uri": "https://localhost:8080/"
        },
        "id": "sTHJbUc6gMsl",
        "outputId": "84b4ee1b-821c-4853-e3d5-ead4a98b40c9"
      },
      "execution_count": 107,
      "outputs": [
        {
          "output_type": "stream",
          "name": "stdout",
          "text": [
            "Initializing Multilayer Perceptron with the following dimensions:\n",
            "Input Layer Dimension: 10\n",
            "Hidden Layer Dimension: 5\n",
            "Output Layer Dimension: 2\n",
            "Layer 1: Fully Connected (Linear) Layer mapping 10 -> 5\n",
            "Layer 2: Fully Connected (Linear) Layer mapping 5 -> 2\n",
            "\n",
            "Multilayer Perceptron Initialized Successfully.\n",
            "\n",
            "==== Model Architecture Description ====\n",
            "First Layer:\n",
            "\tFully Connected Layer with 10 input features and 5 output features.\n",
            "This layer transforms the input data and introduces non-linearity using the ReLU activation function.\n",
            "Second Layer:\n",
            "\tFully Connected Layer with 5 input features and 2 output features.\n",
            "This layer produces the final output without any activation function.\n",
            "========================================\n",
            "\n",
            "\n",
            "Forward Pass - Input Tensor Shape: torch.Size([1, 10])\n",
            "After Layer 1 (with ReLU activation) - Tensor Shape: torch.Size([1, 5])\n",
            "After Layer 2 (Output Layer) - Tensor Shape: torch.Size([1, 2])\n",
            "\n"
          ]
        }
      ]
    },
    {
      "cell_type": "code",
      "source": [
        "# Print the output tensor\n",
        "print(f\"Final Output: {output}\\n\")\n",
        "\n",
        "# Observing Layer Weights and Biases\n",
        "print(\"\\n==== Layer Weights and Biases Observation ====\")\n",
        "print(f\"Layer 1 Weights:\\n{model.fc1.weight}\")\n",
        "print(f\"Layer 1 Biases:\\n{model.fc1.bias}\")\n",
        "print(f\"Layer 2 Weights:\\n{model.fc2.weight}\")\n",
        "print(f\"Layer 2 Biases:\\n{model.fc2.bias}\")\n",
        "print(\"================================================\")\n",
        "\n"
      ],
      "metadata": {
        "colab": {
          "base_uri": "https://localhost:8080/"
        },
        "id": "5wyzyN14gQMA",
        "outputId": "13a0be96-35f1-4e78-b478-b5dab079e111"
      },
      "execution_count": 108,
      "outputs": [
        {
          "output_type": "stream",
          "name": "stdout",
          "text": [
            "Final Output: tensor([[-0.3280, -0.2255]], grad_fn=<AddmmBackward0>)\n",
            "\n",
            "\n",
            "==== Layer Weights and Biases Observation ====\n",
            "Layer 1 Weights:\n",
            "Parameter containing:\n",
            "tensor([[ 0.0930,  0.2063, -0.1490,  0.0078, -0.0095,  0.0277, -0.0648, -0.2445,\n",
            "          0.1920, -0.1912],\n",
            "        [-0.1206, -0.1298, -0.2388, -0.2586,  0.1917,  0.0941,  0.3041,  0.1580,\n",
            "          0.1951,  0.1425],\n",
            "        [ 0.2506, -0.1415, -0.0209, -0.2638, -0.2656, -0.2213, -0.1848,  0.1752,\n",
            "         -0.1529,  0.0462],\n",
            "        [-0.1248, -0.0715, -0.0339, -0.2682,  0.1187,  0.1203,  0.2282, -0.2464,\n",
            "         -0.2410, -0.0806],\n",
            "        [-0.0673, -0.1198,  0.2361, -0.1444,  0.0330, -0.0675,  0.2106, -0.0703,\n",
            "         -0.1544, -0.0332]], requires_grad=True)\n",
            "Layer 1 Biases:\n",
            "Parameter containing:\n",
            "tensor([-0.0113, -0.0177,  0.1917, -0.0284,  0.0644], requires_grad=True)\n",
            "Layer 2 Weights:\n",
            "Parameter containing:\n",
            "tensor([[ 0.2292,  0.4019,  0.3817,  0.0501, -0.0978],\n",
            "        [ 0.3812,  0.0150,  0.3503, -0.0838, -0.1793]], requires_grad=True)\n",
            "Layer 2 Biases:\n",
            "Parameter containing:\n",
            "tensor([-0.3387, -0.2076], requires_grad=True)\n",
            "================================================\n"
          ]
        }
      ]
    },
    {
      "cell_type": "code",
      "source": [
        "# Demonstration of input-output relation by feeding multiple inputs\n",
        "batch_input = torch.randn(5, 10)  # Simulating a batch of 5 input samples\n",
        "print(\"\\nForward Pass with Batch of Inputs\")\n",
        "print(f\"Input Shape (Batch of 5 samples): {batch_input.shape}\")\n",
        "\n",
        "# Pass batch through the network\n",
        "batch_output = model.forward(batch_input)\n",
        "print(f\"Output Shape after Forward Pass: {batch_output.shape}\\n\")\n",
        "\n"
      ],
      "metadata": {
        "colab": {
          "base_uri": "https://localhost:8080/"
        },
        "id": "cX4dNdEogTTy",
        "outputId": "f4640beb-5f31-4b79-b5e3-8abd21ab13aa"
      },
      "execution_count": 109,
      "outputs": [
        {
          "output_type": "stream",
          "name": "stdout",
          "text": [
            "\n",
            "Forward Pass with Batch of Inputs\n",
            "Input Shape (Batch of 5 samples): torch.Size([5, 10])\n",
            "\n",
            "Forward Pass - Input Tensor Shape: torch.Size([5, 10])\n",
            "After Layer 1 (with ReLU activation) - Tensor Shape: torch.Size([5, 5])\n",
            "After Layer 2 (Output Layer) - Tensor Shape: torch.Size([5, 2])\n",
            "\n",
            "Output Shape after Forward Pass: torch.Size([5, 2])\n",
            "\n"
          ]
        }
      ]
    },
    {
      "cell_type": "code",
      "source": [
        "# Plotting Weight Distributions for Deeper Understanding (Visualization)\n",
        "import matplotlib.pyplot as plt\n",
        "\n",
        "def plot_weights(layer, layer_name):\n",
        "    # Plot the weights of the given layer\n",
        "    plt.hist(layer.weight.detach().numpy().flatten(), bins=20, alpha=0.7)\n",
        "    plt.title(f\"Weight Distribution in {layer_name}\")\n",
        "    plt.xlabel(\"Weight values\")\n",
        "    plt.ylabel(\"Frequency\")\n",
        "    plt.show()\n",
        "\n"
      ],
      "metadata": {
        "id": "DP9yrANLgVGI"
      },
      "execution_count": 110,
      "outputs": []
    },
    {
      "cell_type": "code",
      "source": [
        "# Visualize weight distribution for both layers\n",
        "plot_weights(model.fc1, \"Layer 1\")\n",
        "plot_weights(model.fc2, \"Layer 2\")\n",
        "\n",
        "# Analyzing the effect of input scaling\n",
        "scaled_input = torch.randn(1, 10) * 100  # Creating a scaled-up version of the input\n",
        "print(\"\\nForward Pass with Scaled Input\")\n",
        "print(f\"Scaled Input:\\n{scaled_input}\")\n",
        "\n",
        "# Pass scaled input through the network\n",
        "scaled_output = model.forward(scaled_input)\n",
        "print(f\"Output for Scaled Input: {scaled_output}\\n\")\n",
        "\n"
      ],
      "metadata": {
        "id": "F3clGK9jgWwF",
        "outputId": "003b8c98-6ea6-420f-b016-c77e6ab3d3ab",
        "colab": {
          "base_uri": "https://localhost:8080/",
          "height": 1000
        }
      },
      "execution_count": 111,
      "outputs": [
        {
          "output_type": "display_data",
          "data": {
            "text/plain": [
              "<Figure size 640x480 with 1 Axes>"
            ],
            "image/png": "[encoded data removed]"
          },
          "metadata": {}
        },
        {
          "output_type": "display_data",
          "data": {
            "text/plain": [
              "<Figure size 640x480 with 1 Axes>"
            ],
            "image/png": "[encoded data removed]"
          },
          "metadata": {}
        },
        {
          "output_type": "stream",
          "name": "stdout",
          "text": [
            "\n",
            "Forward Pass with Scaled Input\n",
            "Scaled Input:\n",
            "tensor([[-218.9364,  -60.2151, -186.5686,   65.3249,   42.2429,  -61.8102,\n",
            "          247.9217,  -87.7147, -162.1529,    7.9995]])\n",
            "\n",
            "Forward Pass - Input Tensor Shape: torch.Size([1, 10])\n",
            "After Layer 1 (with ReLU activation) - Tensor Shape: torch.Size([1, 5])\n",
            "After Layer 2 (Output Layer) - Tensor Shape: torch.Size([1, 2])\n",
            "\n",
            "Output for Scaled Input: tensor([[ 39.0607, -20.3125]], grad_fn=<AddmmBackward0>)\n",
            "\n"
          ]
        }
      ]
    },
    {
      "cell_type": "markdown",
      "source": [
        "\n",
        "### 1. **Observation: Input Size Affects Layer Initialization**\n",
        "   - The number of input features directly influences the size of the weight matrix in the first layer.\n",
        "   - **Demonstration**:\n"
      ],
      "metadata": {
        "id": "JkGTLRJerWAc"
      }
    },
    {
      "cell_type": "code",
      "source": [
        "input_dim = 3  # Number of input features (dimensionality of input)\n",
        "mlp = nn.Linear(input_dim, 5)  # Initialize a linear layer that maps input_dim (3) to output_dim (5)\n",
        "\n",
        "# Display details about the weight matrix\n",
        "print(\"Weight matrix:\")\n",
        "print(mlp.weight)  # Displays the actual weight values of the linear layer\n",
        "print(\"Shape of weight matrix:\")\n",
        "print(mlp.weight.shape)  # Displays the shape of the weight matrix, should be (5, 3)\n",
        "\n",
        "# Display details about the bias term\n",
        "print(\"Bias term:\")\n",
        "print(mlp.bias)  # Displays the bias values of the linear layer\n",
        "print(\"Shape of bias term:\")\n",
        "print(mlp.bias.shape)  # Displays the shape of the bias term, should be (5,)\n"
      ],
      "metadata": {
        "colab": {
          "base_uri": "https://localhost:8080/"
        },
        "id": "eC98PqzlsIZj",
        "outputId": "94026d46-0f37-4e12-c08a-a129a204080b"
      },
      "execution_count": 112,
      "outputs": [
        {
          "output_type": "stream",
          "name": "stdout",
          "text": [
            "Weight matrix:\n",
            "Parameter containing:\n",
            "tensor([[ 0.2785, -0.2316, -0.5017],\n",
            "        [-0.1514, -0.0117,  0.4708],\n",
            "        [-0.4189, -0.5601, -0.4171],\n",
            "        [-0.1606, -0.3289, -0.0321],\n",
            "        [ 0.2608, -0.3033, -0.3102]], requires_grad=True)\n",
            "Shape of weight matrix:\n",
            "torch.Size([5, 3])\n",
            "Bias term:\n",
            "Parameter containing:\n",
            "tensor([-0.0169,  0.1065,  0.2748, -0.3411,  0.3643], requires_grad=True)\n",
            "Shape of bias term:\n",
            "torch.Size([5])\n"
          ]
        }
      ]
    },
    {
      "cell_type": "markdown",
      "source": [
        "   - **Explanation**: The weight matrix has a shape of `(output_dim, input_dim)`, where each row corresponds to weights for one output neuron, and each column corresponds to an input feature.\n",
        "\n",
        "---\n"
      ],
      "metadata": {
        "id": "8jE9ry5PsFcw"
      }
    },
    {
      "cell_type": "markdown",
      "source": [
        "\n",
        "### Weight Matrix:\n",
        "- **Dimensions Explanation**:\n",
        "  The weight matrix in a fully connected linear layer connects each input feature to every output feature. Therefore, its shape must be `(output_dim, input_dim)`.\n",
        "\n",
        "  In your example:\n",
        "  - The **input_dim** is `3`, meaning there are 3 input features (or neurons).\n",
        "  - The **output_dim** is `5`, meaning the layer produces 5 output values (or neurons).\n",
        "  \n",
        "  To compute each output, the model needs a weight for every input feature for each of the 5 output neurons. This results in a **weight matrix** of shape `(5, 3)`:\n",
        "  - 5 rows (one for each output neuron).\n",
        "  - 3 columns (one for each input feature).\n",
        "\n",
        "  Mathematically, each row of the weight matrix corresponds to the weights applied to a specific output neuron, and each column corresponds to a specific input feature. During the forward pass, the input is multiplied by this weight matrix to generate the outputs.\n",
        "\n",
        "  Example for a layer with 3 inputs and 5 outputs:\n",
        "  ```plaintext\n",
        "  Weight matrix:\n",
        "  [\n",
        "    [w11, w12, w13],  # Weights connecting input 1, 2, 3 to output 1\n",
        "    [w21, w22, w23],  # Weights connecting input 1, 2, 3 to output 2\n",
        "    [w31, w32, w33],  # Weights connecting input 1, 2, 3 to output 3\n",
        "    [w41, w42, w43],  # Weights connecting input 1, 2, 3 to output 4\n",
        "    [w51, w52, w53]   # Weights connecting input 1, 2, 3 to output 5\n",
        "  ]\n",
        "  ```\n",
        "\n",
        "### Bias Term:\n",
        "- **Dimensions Explanation**:\n",
        "  Each output neuron in the layer also has an associated bias value. The bias is added to the result of the weighted sum of inputs for each output neuron.\n",
        "  \n",
        "  Since there are `5` output neurons, you need a bias term for each of them, leading to a **bias vector** of shape `(5,)`. This means:\n",
        "  - 1 bias value is added to the weighted sum of inputs for each of the 5 output neurons.\n"
      ],
      "metadata": {
        "id": "VTuBxQX2tguE"
      }
    },
    {
      "cell_type": "markdown",
      "source": [
        "Neurons in each layer:\n",
        "\n",
        "\n",
        "\n",
        "![image.png](data:image/png;base64,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)"
      ],
      "metadata": {
        "id": "MGI2brpptz9n"
      }
    },
    {
      "cell_type": "markdown",
      "source": [
        "\n",
        "### 2. **Observation: ReLU Avoids Vanishing Gradients**\n",
        "   - The ReLU activation function is widely used to prevent vanishing gradient problems and helps improve gradient flow in deep networks.\n",
        "   - **Demonstration**:\n"
      ],
      "metadata": {
        "id": "x19dOTHMrV6Z"
      }
    },
    {
      "cell_type": "code",
      "source": [
        "x = torch.tensor([-1.0, 0.0, 1.0, 2.0])  # Define a 1D tensor with 4 values (including negative and positive)\n",
        "relu_output = F.relu(x)  # Apply the ReLU activation function element-wise\n",
        "print(\"ReLU applied on input:\", relu_output)  # Print the result after applying ReLU\n",
        "# ReLU outputs the input directly if it’s positive; otherwise, it outputs zero. This helps avoid issues where gradients shrink and stop the network from learning, which is common in activations like sigmoid and tanh."
      ],
      "metadata": {
        "colab": {
          "base_uri": "https://localhost:8080/"
        },
        "id": "zzk9ZINhssA7",
        "outputId": "d2eaae35-20a7-4f65-e989-e01e3f6f0986"
      },
      "execution_count": 113,
      "outputs": [
        {
          "output_type": "stream",
          "name": "stdout",
          "text": [
            "ReLU applied on input: tensor([0., 0., 1., 2.])\n"
          ]
        }
      ]
    },
    {
      "cell_type": "markdown",
      "source": [
        "ReLU Activation (F.relu(x)):\n",
        "  - ReLU (Rectified Linear Unit) is a simple activation function that works as follows:\n",
        "    - If the input is positive or zero, ReLU returns the input as is (i.e., f(x) = x).\n",
        "    - If the input is negative, ReLU returns 0 (i.e., f(x) = 0)."
      ],
      "metadata": {
        "id": "Q6CRjY_HtG53"
      }
    },
    {
      "cell_type": "markdown",
      "source": [
        "![image.png](data:image/png;base64,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)"
      ],
      "metadata": {
        "id": "N18fCragtRza"
      }
    },
    {
      "cell_type": "markdown",
      "source": [
        "---\n",
        "\n",
        "### 3. **Observation: Hidden Layer Size Increases Model Capacity**\n",
        "   - The size of the hidden layer determines the model’s capacity to learn patterns from data. Larger hidden layers can model more complex relationships.\n",
        "   - **Demonstration**:\n"
      ],
      "metadata": {
        "id": "F3hYqwQwrV3t"
      }
    },
    {
      "cell_type": "code",
      "source": [
        "mlp = MultilayerPerceptron(input_dim=3, hidden_dim=50, output_dim=4)\n",
        "print(\"MLP structure:\", mlp)\n",
        "\n",
        "\n",
        "#The number of neurons in the hidden layer controls how many patterns the model can capture. More hidden units mean the model has more representational power but may also overfit on small datasets.\n"
      ],
      "metadata": {
        "colab": {
          "base_uri": "https://localhost:8080/"
        },
        "id": "LsNcp2EYt7IF",
        "outputId": "e763d7a5-1236-449c-dd24-04500e151b1c"
      },
      "execution_count": 114,
      "outputs": [
        {
          "output_type": "stream",
          "name": "stdout",
          "text": [
            "Initializing Multilayer Perceptron with the following dimensions:\n",
            "Input Layer Dimension: 3\n",
            "Hidden Layer Dimension: 50\n",
            "Output Layer Dimension: 4\n",
            "Layer 1: Fully Connected (Linear) Layer mapping 3 -> 50\n",
            "Layer 2: Fully Connected (Linear) Layer mapping 50 -> 4\n",
            "\n",
            "Multilayer Perceptron Initialized Successfully.\n",
            "MLP structure: MultilayerPerceptron(\n",
            "  (fc1): Linear(in_features=3, out_features=50, bias=True)\n",
            "  (fc2): Linear(in_features=50, out_features=4, bias=True)\n",
            ")\n"
          ]
        }
      ]
    },
    {
      "cell_type": "markdown",
      "source": [],
      "metadata": {
        "id": "ZD5mtOoXt5qq"
      }
    },
    {
      "cell_type": "markdown",
      "source": [
        "\n",
        "---\n",
        "\n",
        "### 4. **Observation: Forward Pass Processes Input Through the Network**\n",
        "   - During the forward pass, input data flows through each layer, where weights and activations are applied to produce the final output.\n",
        "   - **Demonstration**:\n"
      ],
      "metadata": {
        "id": "jCmLhGSdrV1H"
      }
    },
    {
      "cell_type": "code",
      "source": [
        "import torch\n",
        "import torch.nn as nn\n",
        "import torch.nn.functional as F\n",
        "\n",
        "# Define the Multilayer Perceptron class\n",
        "class MultilayerPerceptronMoreDetailed(nn.Module):\n",
        "    def __init__(self, input_dim, hidden_dim, output_dim):\n",
        "        super(MultilayerPerceptronMoreDetailed, self).__init__()\n",
        "        # Define the layers with their dimensions\n",
        "        self.fc1 = nn.Linear(input_dim, hidden_dim)  # First fully connected layer (input -> hidden)\n",
        "        self.fc2 = nn.Linear(hidden_dim, output_dim)  # Second fully connected layer (hidden -> output)\n",
        "\n",
        "    def forward(self, x):\n",
        "        # Print the input tensor details\n",
        "        print(\"Input to the network (x):\")\n",
        "        print(f\" - Shape: {x.shape} (batch_size={x.shape[0]}, input_dim={x.shape[1]})\")\n",
        "        print(f\" - Values:\\n{x}\")\n",
        "\n",
        "        # First layer: Linear transformation (input -> hidden layer)\n",
        "        print(\"\\nFirst Layer (fc1):\")\n",
        "        print(f\" - Number of input neurons: {self.fc1.in_features} (input_dim)\")\n",
        "        print(f\" - Number of output neurons: {self.fc1.out_features} (hidden_dim)\")\n",
        "        print(\" - Weight matrix shape:\", self.fc1.weight.shape)\n",
        "        print(f\" - Weight matrix values:\\n{self.fc1.weight}\")\n",
        "        print(\" - Bias shape:\", self.fc1.bias.shape)\n",
        "        print(f\" - Bias values:\\n{self.fc1.bias}\")\n",
        "\n",
        "        # Apply the first linear transformation\n",
        "        x = self.fc1(x)\n",
        "        print(\"\\nOutput after Linear Transformation (fc1):\")\n",
        "        print(f\" - Shape: {x.shape} (batch_size={x.shape[0]}, hidden_dim={self.fc1.out_features})\")\n",
        "        print(f\" - Values:\\n{x}\")\n",
        "\n",
        "        # Apply ReLU activation after the first layer\n",
        "        x = F.relu(x)\n",
        "        print(\"\\nOutput after ReLU Activation (fc1):\")\n",
        "        print(f\" - Shape: {x.shape} (batch_size={x.shape[0]}, hidden_dim={self.fc1.out_features})\")\n",
        "        print(f\" - Values:\\n{x}\")\n",
        "\n",
        "        # Second layer: Linear transformation (hidden -> output layer)\n",
        "        print(\"\\nSecond Layer (fc2):\")\n",
        "        print(f\" - Number of input neurons: {self.fc2.in_features} (hidden_dim)\")\n",
        "        print(f\" - Number of output neurons: {self.fc2.out_features} (output_dim)\")\n",
        "        print(\" - Weight matrix shape:\", self.fc2.weight.shape)\n",
        "        print(f\" - Weight matrix values:\\n{self.fc2.weight}\")\n",
        "        print(\" - Bias shape:\", self.fc2.bias.shape)\n",
        "        print(f\" - Bias values:\\n{self.fc2.bias}\")\n",
        "\n",
        "        # Apply the second linear transformation\n",
        "        x = self.fc2(x)\n",
        "        print(\"\\nOutput after Linear Transformation (fc2):\")\n",
        "        print(f\" - Shape: {x.shape} (batch_size={x.shape[0]}, output_dim={self.fc2.out_features})\")\n",
        "        print(f\" - Values:\\n{x}\")\n",
        "\n",
        "        return x\n",
        "\n"
      ],
      "metadata": {
        "id": "6vx_CzR-uDxk"
      },
      "execution_count": 115,
      "outputs": []
    },
    {
      "cell_type": "code",
      "source": [
        "# Define model dimensions\n",
        "input_dim = 3  # Number of input features (input dimension)\n",
        "hidden_dim = 5  # Number of neurons in the hidden layer\n",
        "output_dim = 2  # Number of output neurons (output dimension)\n",
        "\n",
        "# Instantiate the model\n",
        "mlpMoreDetailed = MultilayerPerceptronMoreDetailed(input_dim, hidden_dim, output_dim)\n",
        "\n",
        "# Create a random input tensor\n",
        "x_input = torch.rand(2, input_dim)  # Batch of 2 samples, each with 3 features (input_dim = 3)\n",
        "print(\"\\nRandom input tensor (x_input):\")\n",
        "print(f\" - Shape: {x_input.shape} (batch_size={x_input.shape[0]}, input_dim={x_input.shape[1]})\")\n",
        "print(f\" - Values:\\n{x_input}\")\n",
        "\n",
        "# Perform the forward pass\n",
        "output = mlpMoreDetailed(x_input)  # Pass the input through the model\n",
        "print(\"\\nFinal Model Output:\")\n",
        "print(f\" - Shape: {output.shape} (batch_size={output.shape[0]}, output_dim={output.shape[1]})\")\n",
        "print(f\" - Values:\\n{output}\")\n"
      ],
      "metadata": {
        "colab": {
          "base_uri": "https://localhost:8080/"
        },
        "id": "NvEa6d9YusZ1",
        "outputId": "00966b00-66b7-4b35-a437-7ec63023f280"
      },
      "execution_count": 116,
      "outputs": [
        {
          "output_type": "stream",
          "name": "stdout",
          "text": [
            "\n",
            "Random input tensor (x_input):\n",
            " - Shape: torch.Size([2, 3]) (batch_size=2, input_dim=3)\n",
            " - Values:\n",
            "tensor([[0.0847, 0.4053, 0.8108],\n",
            "        [0.0601, 0.0327, 0.2494]])\n",
            "Input to the network (x):\n",
            " - Shape: torch.Size([2, 3]) (batch_size=2, input_dim=3)\n",
            " - Values:\n",
            "tensor([[0.0847, 0.4053, 0.8108],\n",
            "        [0.0601, 0.0327, 0.2494]])\n",
            "\n",
            "First Layer (fc1):\n",
            " - Number of input neurons: 3 (input_dim)\n",
            " - Number of output neurons: 5 (hidden_dim)\n",
            " - Weight matrix shape: torch.Size([5, 3])\n",
            " - Weight matrix values:\n",
            "Parameter containing:\n",
            "tensor([[-0.2705, -0.2056, -0.1716],\n",
            "        [-0.0891,  0.2956,  0.4689],\n",
            "        [-0.1771,  0.2169, -0.5488],\n",
            "        [-0.2345,  0.4619,  0.1282],\n",
            "        [-0.1205,  0.5015,  0.2825]], requires_grad=True)\n",
            " - Bias shape: torch.Size([5])\n",
            " - Bias values:\n",
            "Parameter containing:\n",
            "tensor([-0.3819, -0.2437,  0.4982, -0.3311, -0.2723], requires_grad=True)\n",
            "\n",
            "Output after Linear Transformation (fc1):\n",
            " - Shape: torch.Size([2, 5]) (batch_size=2, hidden_dim=5)\n",
            " - Values:\n",
            "tensor([[-0.6273,  0.2488,  0.1261, -0.0598,  0.1498],\n",
            "        [-0.4477, -0.1224,  0.3577, -0.2981, -0.1927]],\n",
            "       grad_fn=<AddmmBackward0>)\n",
            "\n",
            "Output after ReLU Activation (fc1):\n",
            " - Shape: torch.Size([2, 5]) (batch_size=2, hidden_dim=5)\n",
            " - Values:\n",
            "tensor([[0.0000, 0.2488, 0.1261, 0.0000, 0.1498],\n",
            "        [0.0000, 0.0000, 0.3577, 0.0000, 0.0000]], grad_fn=<ReluBackward0>)\n",
            "\n",
            "Second Layer (fc2):\n",
            " - Number of input neurons: 5 (hidden_dim)\n",
            " - Number of output neurons: 2 (output_dim)\n",
            " - Weight matrix shape: torch.Size([2, 5])\n",
            " - Weight matrix values:\n",
            "Parameter containing:\n",
            "tensor([[-0.2611,  0.3311,  0.3134,  0.2897, -0.3669],\n",
            "        [ 0.1023,  0.3369, -0.4426, -0.4196, -0.0510]], requires_grad=True)\n",
            " - Bias shape: torch.Size([2])\n",
            " - Bias values:\n",
            "Parameter containing:\n",
            "tensor([ 0.1251, -0.4449], requires_grad=True)\n",
            "\n",
            "Output after Linear Transformation (fc2):\n",
            " - Shape: torch.Size([2, 2]) (batch_size=2, output_dim=2)\n",
            " - Values:\n",
            "tensor([[ 0.1920, -0.4245],\n",
            "        [ 0.2372, -0.6032]], grad_fn=<AddmmBackward0>)\n",
            "\n",
            "Final Model Output:\n",
            " - Shape: torch.Size([2, 2]) (batch_size=2, output_dim=2)\n",
            " - Values:\n",
            "tensor([[ 0.1920, -0.4245],\n",
            "        [ 0.2372, -0.6032]], grad_fn=<AddmmBackward0>)\n"
          ]
        }
      ]
    },
    {
      "cell_type": "markdown",
      "source": [
        "\n",
        "---\n",
        "\n",
        "### 5. **Observation: Softmax Converts Logits into Probabilities**\n",
        "   - Softmax is applied to the output of the final layer to convert logits into probabilities for classification tasks.\n",
        "   - **Demonstration**:\n"
      ],
      "metadata": {
        "id": "bkac4O1CrVy6"
      }
    },
    {
      "cell_type": "code",
      "source": [
        "logits = mlp(x_input)\n",
        "probabilities = F.softmax(logits, dim=1)\n",
        "print(\"Probabilities after softmax:\", probabilities)\n",
        "# The logits are raw scores from the network. Softmax normalizes these values, transforming them into probabilities that sum to 1, which is useful when the network needs to output class probabilities.\n"
      ],
      "metadata": {
        "colab": {
          "base_uri": "https://localhost:8080/"
        },
        "id": "2SOpKZhqvat0",
        "outputId": "d640d7ad-3b97-46d0-be5b-f73285b7261e"
      },
      "execution_count": 117,
      "outputs": [
        {
          "output_type": "stream",
          "name": "stdout",
          "text": [
            "\n",
            "Forward Pass - Input Tensor Shape: torch.Size([2, 3])\n",
            "After Layer 1 (with ReLU activation) - Tensor Shape: torch.Size([2, 50])\n",
            "After Layer 2 (Output Layer) - Tensor Shape: torch.Size([2, 4])\n",
            "\n",
            "Probabilities after softmax: tensor([[0.1853, 0.3575, 0.2129, 0.2443],\n",
            "        [0.2060, 0.3470, 0.2127, 0.2343]], grad_fn=<SoftmaxBackward0>)\n"
          ]
        }
      ]
    },
    {
      "cell_type": "markdown",
      "source": [
        "\n",
        "---\n",
        "\n",
        "### 6. **Observation: Loss Function Choice Affects Model Behavior**\n",
        "   - The loss function you choose depends on the task (e.g., CrossEntropy for classification, MSE for regression).\n",
        "   - **Demonstration**:\n"
      ],
      "metadata": {
        "id": "Qeq-tVAFrVvm"
      }
    },
    {
      "cell_type": "code",
      "source": [
        "loss_fn = nn.CrossEntropyLoss()\n",
        "logits = mlp(x_input)\n",
        "target = torch.tensor([1, 0])  # True labels\n",
        "loss = loss_fn(logits, target)\n",
        "print(\"Loss value:\", loss.item())\n",
        "\n",
        "\n",
        "# CrossEntropyLoss combines softmax and log loss, making it ideal for classification tasks. The loss value reflects how far the predicted logits are from the true target labels.\n"
      ],
      "metadata": {
        "colab": {
          "base_uri": "https://localhost:8080/"
        },
        "id": "T2G5_hj_v_zN",
        "outputId": "cee1ca92-d74a-49e3-ca99-37a8a94e8ed4"
      },
      "execution_count": 118,
      "outputs": [
        {
          "output_type": "stream",
          "name": "stdout",
          "text": [
            "\n",
            "Forward Pass - Input Tensor Shape: torch.Size([2, 3])\n",
            "After Layer 1 (with ReLU activation) - Tensor Shape: torch.Size([2, 50])\n",
            "After Layer 2 (Output Layer) - Tensor Shape: torch.Size([2, 4])\n",
            "\n",
            "Loss value: 1.3043384552001953\n"
          ]
        }
      ]
    },
    {
      "cell_type": "markdown",
      "source": [
        "\n",
        "---\n",
        "\n",
        "### 7. **Observation: Model Parameters Include Weights and Biases**\n",
        "   - Each layer in an MLP has associated weights and biases, which are learnable parameters.\n",
        "   - **Demonstration**:\n"
      ],
      "metadata": {
        "id": "FMTcqGXArVs0"
      }
    },
    {
      "cell_type": "code",
      "source": [
        "for name, param in mlp.named_parameters():\n",
        "    print(f\"Parameter {name}: {param.shape}\")\n",
        "# Each layer's parameters (weights and biases) are trained during the backpropagation process. The weights connect inputs to neurons, while biases shift the activation function's output.\n"
      ],
      "metadata": {
        "colab": {
          "base_uri": "https://localhost:8080/"
        },
        "id": "AwJPn7QcwcSL",
        "outputId": "14711b39-46fa-4849-cc45-e72014da3851"
      },
      "execution_count": 119,
      "outputs": [
        {
          "output_type": "stream",
          "name": "stdout",
          "text": [
            "Parameter fc1.weight: torch.Size([50, 3])\n",
            "Parameter fc1.bias: torch.Size([50])\n",
            "Parameter fc2.weight: torch.Size([4, 50])\n",
            "Parameter fc2.bias: torch.Size([4])\n"
          ]
        }
      ]
    },
    {
      "cell_type": "markdown",
      "source": [
        "\n",
        "---\n",
        "\n",
        "### 8. **Observation: Optimizer Adjusts Weights During Training**\n",
        "   - The optimizer updates the model’s parameters using gradients to minimize the loss function.\n",
        "   - **Demonstration**:\n"
      ],
      "metadata": {
        "id": "iLfwhYiQrVqW"
      }
    },
    {
      "cell_type": "code",
      "source": [
        "optimizer = torch.optim.Adam(mlp.parameters(), lr=0.001)\n",
        "optimizer.zero_grad()  # Clear previous gradients\n",
        "loss.backward()  # Compute gradients\n",
        "optimizer.step()  # Update weights\n",
        "\n",
        "\n",
        "# The optimizer adjusts the model's weights after each forward and backward pass. It uses the gradients computed from the loss function to update the parameters in the direction that reduces the error.\n"
      ],
      "metadata": {
        "id": "_IAuQFTnwh4_"
      },
      "execution_count": 120,
      "outputs": []
    },
    {
      "cell_type": "markdown",
      "source": [
        "\n",
        "---\n",
        "\n",
        "### 9. **Observation: Overfitting Occurs with Too Many Hidden Units**\n",
        "   - Having too many hidden units can lead to overfitting, where the model memorizes the training data but fails to generalize to new data.\n",
        "   - **Demonstration**:\n",
        "     ```python\n",
        "     mlp = MultilayerPerceptron(input_dim=3, hidden_dim=500, output_dim=4)\n",
        "     ```\n",
        "   - **Explanation**: Overfitting occurs when the model becomes too complex and captures noise in the training data. Regularization techniques like dropout or reducing the number of hidden units can help mitigate overfitting.\n"
      ],
      "metadata": {
        "id": "MIHns7-arVne"
      }
    },
    {
      "cell_type": "markdown",
      "source": [
        "\n",
        "---\n",
        "\n",
        "### 10. **Observation: Model Evaluation Mode Disables Dropout**\n",
        "   - The model must be switched to evaluation mode to disable dropout and batch normalization when making predictions.\n",
        "   - **Demonstration**:\n"
      ],
      "metadata": {
        "id": "t5CvU_LkrVlQ"
      }
    },
    {
      "cell_type": "code",
      "source": [
        "mlp.eval()  # Set model to evaluation mode\n",
        "output = mlp(x_input)\n",
        "print(\"Model output during evaluation:\", output)\n",
        "\n",
        "\n",
        "# During training, dropout randomly deactivates neurons to prevent overfitting. However, during evaluation, dropout is turned off to ensure that all neurons contribute to the final prediction.\n",
        "\n"
      ],
      "metadata": {
        "colab": {
          "base_uri": "https://localhost:8080/"
        },
        "id": "NnVnwMwywrkk",
        "outputId": "2ef9ddd2-c8aa-4eb2-9bf0-dbf0d9098240"
      },
      "execution_count": 121,
      "outputs": [
        {
          "output_type": "execute_result",
          "data": {
            "text/plain": [
              "MultilayerPerceptron(\n",
              "  (fc1): Linear(in_features=3, out_features=50, bias=True)\n",
              "  (fc2): Linear(in_features=50, out_features=4, bias=True)\n",
              ")"
            ]
          },
          "metadata": {},
          "execution_count": 121
        },
        {
          "output_type": "stream",
          "name": "stdout",
          "text": [
            "\n",
            "Forward Pass - Input Tensor Shape: torch.Size([2, 3])\n",
            "After Layer 1 (with ReLU activation) - Tensor Shape: torch.Size([2, 50])\n",
            "After Layer 2 (Output Layer) - Tensor Shape: torch.Size([2, 4])\n",
            "\n",
            "Model output during evaluation: tensor([[-0.4794,  0.1807, -0.3616, -0.2258],\n",
            "        [-0.3411,  0.1792, -0.3265, -0.2310]], grad_fn=<AddmmBackward0>)\n"
          ]
        }
      ]
    },
    {
      "cell_type": "markdown",
      "source": [
        "\n",
        "### 11. **Observation: Weight Initialization Affects Learning**\n",
        "   - Proper weight initialization ensures good gradient flow and faster convergence during training.\n",
        "   - **Demonstration**:\n"
      ],
      "metadata": {
        "id": "BANfdXRRrypX"
      }
    },
    {
      "cell_type": "code",
      "source": [
        "mlp = nn.Linear(3, 5)  # Define a new layer\n",
        "nn.init.xavier_uniform_(mlp.weight)  # Xavier initialization\n",
        "print(\"Initialized weights:\\n\", mlp.weight)\n",
        "\n",
        "\n",
        "# Xavier initialization sets the weights in a way that maintains the variance of activations across layers, improving training performance by avoiding vanishing/exploding gradients.\n"
      ],
      "metadata": {
        "colab": {
          "base_uri": "https://localhost:8080/"
        },
        "id": "Txn7BOz3wyXr",
        "outputId": "005b25fd-0b65-4f98-a34a-1939c6c5cbf3"
      },
      "execution_count": 122,
      "outputs": [
        {
          "output_type": "execute_result",
          "data": {
            "text/plain": [
              "Parameter containing:\n",
              "tensor([[-0.3025, -0.2395, -0.1336],\n",
              "        [ 0.4288,  0.3941, -0.1658],\n",
              "        [ 0.4233,  0.0859,  0.6379],\n",
              "        [-0.4319,  0.7319, -0.4188],\n",
              "        [ 0.3703,  0.6973, -0.4751]], requires_grad=True)"
            ]
          },
          "metadata": {},
          "execution_count": 122
        },
        {
          "output_type": "stream",
          "name": "stdout",
          "text": [
            "Initialized weights:\n",
            " Parameter containing:\n",
            "tensor([[-0.3025, -0.2395, -0.1336],\n",
            "        [ 0.4288,  0.3941, -0.1658],\n",
            "        [ 0.4233,  0.0859,  0.6379],\n",
            "        [-0.4319,  0.7319, -0.4188],\n",
            "        [ 0.3703,  0.6973, -0.4751]], requires_grad=True)\n"
          ]
        }
      ]
    },
    {
      "cell_type": "markdown",
      "source": [
        "\n",
        "---\n",
        "\n",
        "### 12. **Observation: `requires_grad=True` Indicates Trainable Parameters**\n",
        "   - Parameters in a model that have `requires_grad=True` will accumulate gradients during backpropagation.\n",
        "   - **Demonstration**:\n",
        "     ```python\n",
        "     for param in mlp.parameters():\n",
        "         print(f\"Requires gradient: {param.requires_grad}\")\n",
        "     ```\n",
        "   - **Explanation**: Only parameters with `requires_grad=True` are updated during training. This setting ensures that PyTorch tracks gradients for these parameters during backpropagation.\n"
      ],
      "metadata": {
        "id": "vq2brqsirym0"
      }
    },
    {
      "cell_type": "markdown",
      "source": [
        "\n",
        "---\n",
        "\n",
        "### 13. **Observation: Bias Parameters are Automatically Added**\n",
        "   - By default, PyTorch’s `nn.Linear()` adds bias parameters, which shift the activation function's output.\n",
        "   - **Demonstration**:\n",
        "     ```python\n",
        "     mlp = nn.Linear(3, 5)  # Linear layer with bias\n",
        "     print(\"Bias terms:\\n\", mlp.bias)\n",
        "     ```\n",
        "   - **Explanation**: The bias helps the model adjust the output even when all input features are zero, adding flexibility to the model's learning process.\n"
      ],
      "metadata": {
        "id": "YV8Cjpgpryjz"
      }
    },
    {
      "cell_type": "markdown",
      "source": [
        "\n",
        "---\n",
        "\n",
        "### 19. **Observation: Dropout Introduces Random Noise to Prevent Overfitting**\n",
        "   - Dropout randomly deactivates neurons during training to prevent the model from overfitting on the training data.\n",
        "   - **Demonstration**:\n"
      ],
      "metadata": {
        "id": "XpUlMLbWryRV"
      }
    },
    {
      "cell_type": "code",
      "source": [
        "dropout = nn.Dropout(p=0.5)  # 50% dropout\n",
        "input_data = torch.rand(1, 5)\n",
        "print(\"Input before dropout:\", input_data)\n",
        "print(\"Input after dropout:\", dropout(input_data))\n",
        "\n",
        "\n",
        "# Dropout is a regularization technique where neurons are randomly dropped (set to zero) during training, helping the model become less reliant on specific neurons and improving generalization.\n"
      ],
      "metadata": {
        "colab": {
          "base_uri": "https://localhost:8080/"
        },
        "id": "IbOhwS8txFuY",
        "outputId": "c79112cd-4910-4ad8-9e5b-9c9d606c462e"
      },
      "execution_count": 123,
      "outputs": [
        {
          "output_type": "stream",
          "name": "stdout",
          "text": [
            "Input before dropout: tensor([[0.2376, 0.8432, 0.8468, 0.5652, 0.7916]])\n",
            "Input after dropout: tensor([[0.4753, 1.6865, 0.0000, 1.1304, 1.5831]])\n"
          ]
        }
      ]
    },
    {
      "cell_type": "markdown",
      "source": [
        "\n",
        "---\n",
        "\n",
        "### 20. **Observation: Customizing the MLP Architecture**\n",
        "   - The MLP architecture can be customized by adding more layers, changing the number of neurons, or altering activations.\n",
        "   - **Demonstration**:\n"
      ],
      "metadata": {
        "id": "PO6ZbTZDryAS"
      }
    },
    {
      "cell_type": "code",
      "source": [
        "class CustomMLP(nn.Module):\n",
        "    def __init__(self, input_dim, hidden_dim1, hidden_dim2, output_dim):\n",
        "        super(CustomMLP, self).__init__()\n",
        "        self.fc1 = nn.Linear(input_dim, hidden_dim1)\n",
        "        self.fc2 = nn.Linear(hidden_dim1, hidden_dim2)\n",
        "        self.fc3 = nn.Linear(hidden_dim2, output_dim)\n",
        "\n",
        "    def forward(self, x):\n",
        "        x = F.relu(self.fc1(x))\n",
        "        x = F.relu(self.fc2(x))\n",
        "        return self.fc3(x)\n",
        "\n",
        "custom_mlp = CustomMLP(3, 10, 5, 4)\n",
        "print(custom_mlp)\n",
        "\n",
        "\n",
        "# This example demonstrates how to extend an MLP by adding more layers and neurons. Deeper networks can capture more complex relationships but also require more computational power and can be prone to overfitting.\n"
      ],
      "metadata": {
        "colab": {
          "base_uri": "https://localhost:8080/"
        },
        "id": "3zoJtovWvvT-",
        "outputId": "c56007af-93b4-4626-bc44-df9ede9a5854"
      },
      "execution_count": 124,
      "outputs": [
        {
          "output_type": "stream",
          "name": "stdout",
          "text": [
            "CustomMLP(\n",
            "  (fc1): Linear(in_features=3, out_features=10, bias=True)\n",
            "  (fc2): Linear(in_features=10, out_features=5, bias=True)\n",
            "  (fc3): Linear(in_features=5, out_features=4, bias=True)\n",
            ")\n"
          ]
        }
      ]
    }
  ]
}