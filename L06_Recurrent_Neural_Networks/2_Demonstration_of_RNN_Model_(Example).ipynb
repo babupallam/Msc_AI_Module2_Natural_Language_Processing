{
  "nbformat": 4,
  "nbformat_minor": 0,
  "metadata": {
    "colab": {
      "provenance": [],
      "authorship_tag": "ABX9TyOjl9W5KlgC35hQJ8dDbmlr",
      "include_colab_link": true
    },
    "kernelspec": {
      "name": "python3",
      "display_name": "Python 3"
    },
    "language_info": {
      "name": "python"
    }
  },
  "cells": [
    {
      "cell_type": "markdown",
      "metadata": {
        "id": "view-in-github",
        "colab_type": "text"
      },
      "source": [
        "<a href=\"https://colab.research.google.com/github/babupallam/Msc_AI_Module2_Natural_Language_Processing/blob/main/L07_Recurrent_Neural_Networks/2_Demonstration_of_RNN_Model_(Example).ipynb\" target=\"_parent\"><img src=\"https://colab.research.google.com/assets/colab-badge.svg\" alt=\"Open In Colab\"/></a>"
      ]
    },
    {
      "cell_type": "markdown",
      "source": [],
      "metadata": {
        "id": "hubejFyqx3TA"
      }
    },
    {
      "cell_type": "markdown",
      "source": [
        "#### **2.1. Preparing the Data**\n",
        "\n",
        "In most machine learning tasks, data preparation is a critical first step. For Recurrent Neural Networks (RNNs), this is especially important when working with sequential data such as text, speech, or time series. In this case, we are dealing with text data, where the goal is to classify names based on their origin.\n",
        "\n",
        "**Steps to Prepare the Data:**\n",
        "1. **Dataset Selection**: (Example)\n",
        "   - The dataset consists of names from 18 different languages, stored in separate text files (`[Language].txt`). Each file contains a list of names, one per line.\n",
        "\n",
        "2. **Download and Organize the Data**:\n",
        "   - Download the dataset files.\n",
        "   - Place them in a directory structure that is easy to access during processing.\n",
        "\n",
        "3. **Preprocessing the Data**:\n",
        "   - Convert the names from Unicode to ASCII to make them compatible with the model.\n",
        "   - Organize the data by creating a dictionary, where each key represents a language and each value is a list of names corresponding to that language.\n",
        "\n",
        "**Code to Prepare the Data:**\n"
      ],
      "metadata": {
        "id": "WzsuSIX4y_Mu"
      }
    },
    {
      "cell_type": "code",
      "source": [
        "import glob  # Module to retrieve file paths using patterns\n",
        "import os    # Module to interact with the operating system (e.g., file paths)\n",
        "import unicodedata  # Provides access to Unicode character properties\n",
        "import string  # Contains common string constants (like ASCII letters)\n",
        "\n",
        "# Define all valid characters that we will allow in the processed names.\n",
        "# This includes all ASCII letters (both uppercase and lowercase), and a few punctuation characters: \" .,'\"\n",
        "all_letters = string.ascii_letters + \" .,;'\"\n",
        "n_letters = len(all_letters)  # Total number of valid characters\n",
        "\n",
        "# Function to convert a Unicode string into plain ASCII.\n",
        "# It removes any accents or diacritics by normalizing the string to 'NFD' form.\n",
        "# Then, it filters out characters that are not part of the 'Mn' category (which represents combining marks, like accents),\n",
        "# and finally, only retains characters that are in the list of allowed ASCII characters (all_letters).\n",
        "def unicodeToAscii(s):\n",
        "    return ''.join(\n",
        "        c for c in unicodedata.normalize('NFD', s)\n",
        "        if unicodedata.category(c) != 'Mn'  # Exclude diacritic marks\n",
        "        and c in all_letters  # Only keep characters that are in the predefined list (ASCII letters + punctuation)\n",
        "    )\n",
        "\n",
        "# Example usage of the unicodeToAscii function to convert a name with accented characters\n",
        "# This will remove the accents and convert the name to a plain ASCII representation.\n",
        "print(unicodeToAscii(\"Ślusàrski\"))  # Output: Slusarski\n",
        "\n",
        "# Dictionary to store names, categorized by language.\n",
        "# Keys are language names (like 'Arabic', 'English', etc.), and values are lists of names from that language.\n",
        "category_lines = {}\n",
        "\n",
        "# List to store all the categories (languages) found in the dataset.\n",
        "all_categories = []\n",
        "\n",
        "# Function to read lines from a file, process each line by converting it to ASCII, and return the processed lines.\n",
        "# The file is opened with UTF-8 encoding, and each line is stripped of leading/trailing whitespace.\n",
        "# It returns a list of names, where each name has been converted to ASCII using unicodeToAscii.\n",
        "def readLines(filename):\n",
        "    with open(filename, encoding='utf-8') as f:\n",
        "        return [unicodeToAscii(line.strip()) for line in f]\n",
        "\n",
        "# Use glob to find all text files in the 'data/names/' directory that match the pattern '*.txt'.\n",
        "# Each file contains names for a particular language, and the language is inferred from the filename.\n",
        "# For each file:\n",
        "# - Extract the category (language) from the filename.\n",
        "# - Append the category to all_categories.\n",
        "# - Read the lines (names) from the file, process them with readLines, and store them in the category_lines dictionary.\n",
        "for filename in glob.glob('data/names/*.txt'):\n",
        "    # Extract the category name by stripping the file extension from the filename\n",
        "    # Example: 'data/names/Arabic.txt' -> 'Arabic'\n",
        "    category = os.path.splitext(os.path.basename(filename))[0]\n",
        "\n",
        "    # Add the category to the list of all categories\n",
        "    all_categories.append(category)\n",
        "\n",
        "    # Read the lines from the file, convert them to ASCII, and store them in the dictionary\n",
        "    lines = readLines(filename)\n",
        "    category_lines[category] = lines\n",
        "\n",
        "# Get the number of categories (languages) we have loaded\n",
        "n_categories = len(all_categories)\n",
        "\n",
        "# Output the list of all categories (languages)\n",
        "print(all_categories)  # Output: ['Arabic', 'Chinese', 'Czech', ...]\n",
        "print(n_categories)  # Output: 18\n",
        "print(category_lines['Arabic'][:5])  # Output: ['Arabic', 'Arabicam', 'Arabicer', 'Arabices', 'Arabicino']\n"
      ],
      "metadata": {
        "colab": {
          "base_uri": "https://localhost:8080/"
        },
        "id": "umjg--AScgYR",
        "outputId": "a1932c34-f299-4232-ef68-ceb2042495de"
      },
      "execution_count": 36,
      "outputs": [
        {
          "output_type": "stream",
          "name": "stdout",
          "text": [
            "Slusarski\n",
            "['Polish', 'English', 'Italian', 'German', 'Russian', 'Czech', 'Portuguese', 'Chinese', 'Arabic', 'Spanish', 'Scottish', 'Korean', 'Greek', 'Japanese', 'French', 'Dutch', 'Irish', 'Vietnamese']\n",
            "18\n",
            "['Khoury', 'Nahas', 'Daher', 'Gerges', 'Nazari']\n"
          ]
        }
      ]
    },
    {
      "cell_type": "markdown",
      "source": [
        "\n",
        "**Explanation:**\n",
        "- The `unicodeToAscii` function converts any Unicode characters to ASCII, which is important because many names in different languages might have special characters.\n",
        "- The `category_lines` dictionary stores the names categorized by language, which will be used later to create tensors for training the model.\n",
        "\n",
        "---\n"
      ],
      "metadata": {
        "id": "HHo20Y9zy_Xm"
      }
    },
    {
      "cell_type": "markdown",
      "source": [
        "\n",
        "#### **2.2. Turning Names into Tensors**\n",
        "\n",
        "Before feeding the data into the RNN, we need to convert the names (which are sequences of characters) into tensors that the RNN can process. This is done using **one-hot encoding**.\n",
        "\n",
        "**One-hot Encoding Explanation:**\n",
        "- A one-hot vector is a representation where all elements are zero, except for one element that is set to 1.\n",
        "- Each letter in a name is represented by a one-hot vector of size `<1 x n_letters>`, where `n_letters` is the total number of possible characters (e.g., all letters in the alphabet, plus some punctuation).\n",
        "- A name is represented as a sequence of one-hot vectors.\n",
        "\n",
        "**Code for One-hot Encoding and Tensor Conversion:**\n"
      ],
      "metadata": {
        "id": "E5F9-hGBy_aT"
      }
    },
    {
      "cell_type": "code",
      "source": [
        "import torch  # PyTorch library for creating and manipulating tensors\n",
        "\n",
        "# Function to convert a single letter into a one-hot encoded tensor\n",
        "# Each letter is represented by a tensor of size (1, n_letters), where n_letters is the total number of possible letters.\n",
        "# A one-hot tensor means all elements are zero except for a single element that is 1, which corresponds to the letter's position.\n",
        "def letterToTensor(letter):\n",
        "    # Initialize a tensor of zeros with shape (1, n_letters).\n",
        "    # This will represent the one-hot encoding of the letter.\n",
        "    tensor = torch.zeros(1, n_letters)\n",
        "\n",
        "    # Find the index of the letter in the 'all_letters' string.\n",
        "    # Then, set the corresponding position in the tensor to 1.\n",
        "    # This converts the letter into a one-hot encoded vector.\n",
        "    tensor[0][all_letters.find(letter)] = 1\n",
        "    return tensor\n",
        "\n",
        "# Function to convert a name (a sequence of letters) into a 3D tensor.\n",
        "# The resulting tensor will have shape (len(name), 1, n_letters), where:\n",
        "# - len(name) is the number of characters in the name (time steps),\n",
        "# - 1 is the batch size (each name is treated as a separate sequence),\n",
        "# - n_letters is the size of the one-hot encoded vector for each character.\n",
        "def nameToTensor(name):\n",
        "    # Initialize a tensor of zeros with shape (len(name), 1, n_letters).\n",
        "    # This tensor will store the one-hot encoded vectors for each letter in the name.\n",
        "    tensor = torch.zeros(len(name), 1, n_letters)\n",
        "\n",
        "    # Loop through each letter in the name and one-hot encode it.\n",
        "    # 'enumerate(name)' gives us both the index (i) and the letter itself.\n",
        "    for i, letter in enumerate(name):\n",
        "        # Find the index of the letter in 'all_letters' and set the corresponding position in the tensor to 1.\n",
        "        tensor[i][0][all_letters.find(letter)] = 1\n",
        "\n",
        "    # Return the 3D tensor representing the name\n",
        "    return tensor\n",
        "\n",
        "\n",
        "# Example usage of the letterToTensor function\n",
        "# This prints the one-hot encoded tensor for the letter 'J'.\n",
        "# The output will be a tensor with a single row (1x57), where the 1 corresponds to the index of 'J' in all_letters.\n",
        "print(letterToTensor('J'))  # Output: tensor([[0., 0., 0., ..., 0., 1., 0.]])\n",
        "\n",
        "# Example usage of the nameToTensor function\n",
        "# This converts the name 'Jones' into a 3D tensor where each letter is one-hot encoded.\n",
        "# The resulting tensor will have shape (5, 1, 57) because 'Jones' has 5 letters, each represented by a one-hot encoded vector of size 57.\n",
        "print(nameToTensor('Jones').size())  # Output: torch.Size([5, 1, 57])\n",
        "print(nameToTensor('Jones'))\n"
      ],
      "metadata": {
        "colab": {
          "base_uri": "https://localhost:8080/"
        },
        "id": "feUVALGDcj-d",
        "outputId": "4300e9fb-7b02-48c2-ea2e-71990478a0fc"
      },
      "execution_count": 37,
      "outputs": [
        {
          "output_type": "stream",
          "name": "stdout",
          "text": [
            "tensor([[0., 0., 0., 0., 0., 0., 0., 0., 0., 0., 0., 0., 0., 0., 0., 0., 0., 0.,\n",
            "         0., 0., 0., 0., 0., 0., 0., 0., 0., 0., 0., 0., 0., 0., 0., 0., 0., 1.,\n",
            "         0., 0., 0., 0., 0., 0., 0., 0., 0., 0., 0., 0., 0., 0., 0., 0., 0., 0.,\n",
            "         0., 0., 0.]])\n",
            "torch.Size([5, 1, 57])\n",
            "tensor([[[0., 0., 0., 0., 0., 0., 0., 0., 0., 0., 0., 0., 0., 0., 0., 0., 0.,\n",
            "          0., 0., 0., 0., 0., 0., 0., 0., 0., 0., 0., 0., 0., 0., 0., 0., 0.,\n",
            "          0., 1., 0., 0., 0., 0., 0., 0., 0., 0., 0., 0., 0., 0., 0., 0., 0.,\n",
            "          0., 0., 0., 0., 0., 0.]],\n",
            "\n",
            "        [[0., 0., 0., 0., 0., 0., 0., 0., 0., 0., 0., 0., 0., 0., 1., 0., 0.,\n",
            "          0., 0., 0., 0., 0., 0., 0., 0., 0., 0., 0., 0., 0., 0., 0., 0., 0.,\n",
            "          0., 0., 0., 0., 0., 0., 0., 0., 0., 0., 0., 0., 0., 0., 0., 0., 0.,\n",
            "          0., 0., 0., 0., 0., 0.]],\n",
            "\n",
            "        [[0., 0., 0., 0., 0., 0., 0., 0., 0., 0., 0., 0., 0., 1., 0., 0., 0.,\n",
            "          0., 0., 0., 0., 0., 0., 0., 0., 0., 0., 0., 0., 0., 0., 0., 0., 0.,\n",
            "          0., 0., 0., 0., 0., 0., 0., 0., 0., 0., 0., 0., 0., 0., 0., 0., 0.,\n",
            "          0., 0., 0., 0., 0., 0.]],\n",
            "\n",
            "        [[0., 0., 0., 0., 1., 0., 0., 0., 0., 0., 0., 0., 0., 0., 0., 0., 0.,\n",
            "          0., 0., 0., 0., 0., 0., 0., 0., 0., 0., 0., 0., 0., 0., 0., 0., 0.,\n",
            "          0., 0., 0., 0., 0., 0., 0., 0., 0., 0., 0., 0., 0., 0., 0., 0., 0.,\n",
            "          0., 0., 0., 0., 0., 0.]],\n",
            "\n",
            "        [[0., 0., 0., 0., 0., 0., 0., 0., 0., 0., 0., 0., 0., 0., 0., 0., 0.,\n",
            "          0., 1., 0., 0., 0., 0., 0., 0., 0., 0., 0., 0., 0., 0., 0., 0., 0.,\n",
            "          0., 0., 0., 0., 0., 0., 0., 0., 0., 0., 0., 0., 0., 0., 0., 0., 0.,\n",
            "          0., 0., 0., 0., 0., 0.]]])\n"
          ]
        }
      ]
    },
    {
      "cell_type": "markdown",
      "source": [
        "\n",
        "**Explanation:**\n",
        "- The `letterToTensor` function converts a single letter into a one-hot encoded tensor.\n",
        "- The `nameToTensor` function converts a sequence of letters (i.e., a name) into a tensor, where each row is the one-hot encoded vector of a letter.\n",
        "\n",
        "---\n"
      ],
      "metadata": {
        "id": "TvWhsCFNy_dR"
      }
    },
    {
      "cell_type": "markdown",
      "source": [
        "\n",
        "#### **2.3. Creating the RNN Model**\n",
        "\n",
        "Now that the data is prepared, we can focus on building the RNN model. In PyTorch, we define an RNN by creating a class that inherits from `torch.nn.Module`.\n",
        "\n",
        "**Model Architecture:**\n",
        "- The RNN takes an input (a one-hot vector representing a character) and a hidden state from the previous time step.\n",
        "- The hidden state gets updated with each time step based on the input and the previous hidden state.\n",
        "- After processing the input, the RNN outputs a prediction (the language category) and updates the hidden state for the next time step.\n",
        "\n",
        "**Code for Defining the RNN Model:**\n"
      ],
      "metadata": {
        "id": "nXdKIsivy_f5"
      }
    },
    {
      "cell_type": "code",
      "source": [
        "import torch.nn as nn\n",
        "import torch.nn.functional as F\n",
        "import torch\n",
        "\n",
        "# Define a simple RNN class that extends nn.Module\n",
        "class RNN(nn.Module):\n",
        "    def __init__(self, input_size, hidden_size, output_size):\n",
        "        super(RNN, self).__init__()\n",
        "\n",
        "        # Store the hidden layer size\n",
        "        self.hidden_size = hidden_size\n",
        "\n",
        "        # Define the linear layer that computes the next hidden state\n",
        "        self.i2h = nn.Linear(input_size + hidden_size, hidden_size)\n",
        "\n",
        "        # Define the linear layer that computes the output\n",
        "        self.i2o = nn.Linear(input_size + hidden_size, output_size)\n",
        "\n",
        "        # Define the LogSoftmax layer to convert outputs to log-probabilities\n",
        "        self.softmax = nn.LogSoftmax(dim=1)\n",
        "\n",
        "    # Define the forward pass through the RNN\n",
        "    def forward(self, input, hidden):\n",
        "        #print(f\"Input size: {input.size()}\")  # Display size of input\n",
        "        #print(f\"Hidden size before update: {hidden.size()}\")  # Display size of hidden state\n",
        "\n",
        "        # Concatenate the input and hidden state\n",
        "        combined = torch.cat((input, hidden), 1)\n",
        "        #print(f\"Combined input-hidden size: {combined.size()}\")  # Display size after concatenation\n",
        "\n",
        "        # Compute the next hidden state\n",
        "        hidden = self.i2h(combined)\n",
        "        #print(f\"Hidden state after update: {hidden.size()}\")  # Display size of updated hidden state\n",
        "\n",
        "        # Compute the output\n",
        "        output = self.i2o(combined)\n",
        "        #print(f\"Output before softmax: {output}\")  # Display raw output (logits)\n",
        "\n",
        "        # Apply the softmax to the output\n",
        "        output = self.softmax(output)\n",
        "        #print(f\"Output after softmax: {output}\")  # Display log-probabilities\n",
        "\n",
        "        return output, hidden\n",
        "\n",
        "    # Initialize the hidden state with zeros\n",
        "    def init_hidden(self):\n",
        "        return torch.zeros(1, self.hidden_size)\n"
      ],
      "metadata": {
        "id": "veHwjRWDcoLA"
      },
      "execution_count": 38,
      "outputs": []
    },
    {
      "cell_type": "code",
      "source": [
        "# Assuming n_letters is the number of unique characters in the dataset and n_categories is the number of output classes\n",
        "n_letters = 57  # Example: number of possible input letters (e.g., 26 letters, uppercase, lowercase, punctuation)\n",
        "n_categories = 18  # Example: number of possible output categories (e.g., different languages or classes)\n",
        "\n",
        "# Example usage of the RNN class\n",
        "n_hidden = 128  # Hidden state size\n",
        "\n",
        "# Create an instance of the RNN\n",
        "rnn = RNN(n_letters, n_hidden, n_categories)\n",
        "\n",
        "# Create a dummy input tensor for the letter 'A'\n",
        "input_tensor = letterToTensor('A')\n",
        "print(f\"Input tensor for 'A': {input_tensor}\")\n",
        "\n",
        "# Initialize the hidden state to zeros\n",
        "hidden_tensor = rnn.init_hidden()\n",
        "print(f\"Initial hidden state: {hidden_tensor}\")\n",
        "\n",
        "# Pass the input tensor and the initial hidden state through the RNN\n",
        "print(\"\\n--- Forward pass ---\")\n",
        "output, next_hidden = rnn(input_tensor, hidden_tensor)\n",
        "\n",
        "# Final output\n",
        "print(f\"\\nFinal Output: {output}\")\n",
        "print(f\"Final Output Shape: {output.shape}\")\n",
        "\n",
        "# Final hidden state\n",
        "\n",
        "print(f\"Next Hidden State: {next_hidden}\")\n",
        "print(f\"Next Hidden State Shape: {next_hidden.shape}\")\n"
      ],
      "metadata": {
        "colab": {
          "base_uri": "https://localhost:8080/"
        },
        "id": "_QcrWJ-okstJ",
        "outputId": "70914107-96c5-48ba-9279-5b1c8e2f5245"
      },
      "execution_count": 39,
      "outputs": [
        {
          "output_type": "stream",
          "name": "stdout",
          "text": [
            "Input tensor for 'A': tensor([[0., 0., 0., 0., 0., 0., 0., 0., 0., 0., 0., 0., 0., 0., 0., 0., 0., 0.,\n",
            "         0., 0., 0., 0., 0., 0., 0., 0., 1., 0., 0., 0., 0., 0., 0., 0., 0., 0.,\n",
            "         0., 0., 0., 0., 0., 0., 0., 0., 0., 0., 0., 0., 0., 0., 0., 0., 0., 0.,\n",
            "         0., 0., 0.]])\n",
            "Initial hidden state: tensor([[0., 0., 0., 0., 0., 0., 0., 0., 0., 0., 0., 0., 0., 0., 0., 0., 0., 0., 0., 0., 0., 0., 0., 0.,\n",
            "         0., 0., 0., 0., 0., 0., 0., 0., 0., 0., 0., 0., 0., 0., 0., 0., 0., 0., 0., 0., 0., 0., 0., 0.,\n",
            "         0., 0., 0., 0., 0., 0., 0., 0., 0., 0., 0., 0., 0., 0., 0., 0., 0., 0., 0., 0., 0., 0., 0., 0.,\n",
            "         0., 0., 0., 0., 0., 0., 0., 0., 0., 0., 0., 0., 0., 0., 0., 0., 0., 0., 0., 0., 0., 0., 0., 0.,\n",
            "         0., 0., 0., 0., 0., 0., 0., 0., 0., 0., 0., 0., 0., 0., 0., 0., 0., 0., 0., 0., 0., 0., 0., 0.,\n",
            "         0., 0., 0., 0., 0., 0., 0., 0.]])\n",
            "\n",
            "--- Forward pass ---\n",
            "\n",
            "Final Output: tensor([[-2.9793, -2.9372, -2.9680, -2.8093, -2.8886, -2.8138, -2.8459, -2.9567,\n",
            "         -2.8097, -2.9365, -2.9495, -2.9770, -2.8700, -2.9527, -2.8284, -2.8126,\n",
            "         -2.7854, -2.9477]], grad_fn=<LogSoftmaxBackward0>)\n",
            "Final Output Shape: torch.Size([1, 18])\n",
            "Next Hidden State: tensor([[-6.0827e-02,  3.9609e-03,  3.0991e-03, -5.9853e-03,  4.0823e-02,\n",
            "         -8.3568e-02,  8.4877e-02,  8.2514e-02, -4.7933e-03,  5.0991e-02,\n",
            "         -2.9191e-03, -6.4922e-02, -9.5955e-02,  1.9245e-03,  2.6726e-02,\n",
            "          7.8238e-02, -5.8517e-02,  1.8464e-02, -7.0159e-02, -5.8976e-02,\n",
            "         -5.3112e-02,  1.1599e-02, -1.2258e-01,  1.8737e-02, -3.5026e-02,\n",
            "          7.0745e-02,  7.1585e-02,  3.7190e-02, -6.1003e-02, -4.3825e-02,\n",
            "          4.2641e-02, -7.0243e-03, -7.0882e-02, -1.0574e-01, -4.2672e-02,\n",
            "         -1.5409e-02,  1.0006e-01, -2.7227e-02, -3.4815e-02,  9.1422e-03,\n",
            "         -7.4967e-03,  2.3985e-02,  6.7592e-02, -8.0767e-02, -7.7299e-02,\n",
            "          1.2757e-03,  4.5597e-02,  9.2594e-02, -9.9557e-03, -3.1364e-02,\n",
            "         -4.0649e-02, -9.1058e-02, -8.0168e-05, -6.4404e-02,  2.3574e-02,\n",
            "          5.3948e-02, -6.1907e-02,  1.4848e-02, -4.7854e-03, -1.1683e-01,\n",
            "         -7.1805e-03,  5.2523e-02, -5.0958e-02, -3.8443e-02,  3.0745e-02,\n",
            "          7.6567e-03, -1.5651e-02, -2.0442e-02,  3.2371e-03, -1.0822e-02,\n",
            "         -7.2070e-02,  3.3859e-02, -5.5815e-03,  4.6755e-02,  8.5846e-02,\n",
            "          7.3155e-02, -2.6617e-03,  1.9950e-02, -5.4638e-02, -5.7384e-04,\n",
            "         -2.6634e-02, -3.3783e-02,  6.8477e-03,  3.3777e-02,  5.0808e-03,\n",
            "          2.7265e-02,  2.7805e-02,  1.0505e-01,  7.8176e-04, -4.6867e-02,\n",
            "         -8.9103e-02, -5.0411e-03, -4.6072e-02,  9.0454e-02,  6.8939e-02,\n",
            "          5.6865e-02,  3.3270e-02, -4.1564e-02,  4.4778e-02,  1.1587e-01,\n",
            "          1.2308e-01,  8.7664e-03, -8.5576e-02, -1.0211e-01,  1.9582e-02,\n",
            "         -1.3417e-01, -1.0786e-01, -1.2864e-01,  4.3803e-02, -1.0227e-02,\n",
            "         -1.4404e-02, -6.1420e-02, -8.1011e-03,  3.1007e-03, -1.0430e-01,\n",
            "          2.0064e-02, -1.1512e-02,  9.3169e-02,  3.3185e-02, -3.2339e-02,\n",
            "         -1.4267e-02,  4.6645e-02, -2.2938e-02,  8.8304e-02, -1.6930e-02,\n",
            "         -3.0968e-02, -9.2398e-02, -7.3670e-02]], grad_fn=<AddmmBackward0>)\n",
            "Next Hidden State Shape: torch.Size([1, 128])\n"
          ]
        }
      ]
    },
    {
      "cell_type": "markdown",
      "source": [
        "\n",
        "**Explanation:**\n",
        "- The `RNN` class defines an RNN model with two fully connected layers: one for updating the hidden state (`i2h`) and one for generating the output (`i2o`).\n",
        "- The `forward` method takes an input tensor and a hidden state, concatenates them, and passes them through the network to produce an output and an updated hidden state.\n",
        "- The `init_hidden` method initializes the hidden state to zeros before the first time step.\n",
        "\n",
        "**Components of the Model**:\n",
        "- **Input Layer (`i2h`)**: Combines the input and the hidden state from the previous time step to produce a new hidden state.\n",
        "- **Output Layer (`i2o`)**: Uses the hidden state to predict the class (language) of the input name.\n",
        "- **Softmax Layer**: Converts the raw outputs into probabilities, indicating how likely the input belongs to each category.\n",
        "\n",
        "---\n"
      ],
      "metadata": {
        "id": "1eqyy-Eby_i7"
      }
    },
    {
      "cell_type": "markdown",
      "source": [
        "\n",
        "#### **2.4. Understanding the Flow of Data**\n",
        "\n",
        "**Data Flow in the RNN**:\n",
        "1. **Input Processing**:\n",
        "   - A name is broken down into its constituent letters.\n",
        "   - Each letter is converted into a one-hot vector.\n",
        "2. **Sequential Processing**:\n",
        "   - The RNN processes each letter in the name one by one.\n",
        "   - At each time step, the RNN takes the current letter and the hidden state from the previous step to compute a new hidden state and an output.\n",
        "3. **Final Prediction**:\n",
        "   - After processing the last letter in the sequence, the final output is taken as the prediction of the language category.\n",
        "\n",
        "**Explanation of the Flow**:\n",
        "- Each letter of the name is processed sequentially.\n",
        "- The hidden state is updated at each time step, allowing the RNN to \"remember\" information from earlier in the sequence.\n",
        "- The final hidden state and output are used to classify the name based on the patterns the model has learned during training.\n"
      ],
      "metadata": {
        "id": "b4BrYaEey_l9"
      }
    },
    {
      "cell_type": "markdown",
      "source": [
        "---\n",
        "---\n",
        "---\n",
        "---\n",
        "---\n",
        "---\n",
        "---\n",
        "---\n",
        "---\n",
        "---"
      ],
      "metadata": {
        "id": "TbtiSnc2q_GD"
      }
    },
    {
      "cell_type": "markdown",
      "source": [
        "#### **3.1. Training the RNN**\n",
        "\n",
        "- The goal of training is to adjust the model’s parameters (weights) so that the predictions become more accurate over time.\n",
        "- The training process involves feeding data into the network, comparing the predictions to the actual values (i.e., the correct language), calculating the loss, and using this loss to update the network’s weights.\n",
        "\n",
        "**Training Process Overview:**\n",
        "1. **Forward Pass**: Pass the input through the RNN to get the predicted output and the updated hidden state.\n",
        "2. **Loss Calculation**: Compare the predicted output to the target (true label) using a loss function.\n",
        "3. **Backward Pass (Backpropagation)**: Calculate the gradients of the loss with respect to each weight in the network (this helps identify which weights need adjusting).\n",
        "4. **Weight Update**: Update the weights using an optimizer, which applies the gradients to minimize the loss.\n",
        "5. **Repeat**: Repeat the process for each name in the training set over multiple epochs (iterations).\n",
        "\n",
        "---\n",
        "\n",
        "**Code for Training the RNN:**\n"
      ],
      "metadata": {
        "id": "LriFEVIUrLQK"
      }
    },
    {
      "cell_type": "code",
      "source": [
        "# Function to get the predicted language/category from the RNN's output\n",
        "# The output is a tensor of log-probabilities for each category (language)\n",
        "def categoryFromOutput(output):\n",
        "    # Use topk(1) to get the index of the highest probability (top category)\n",
        "    # top_n is the value (log-probability), and top_i is the index of the category with the highest probability\n",
        "    top_n, top_i = output.topk(1)\n",
        "\n",
        "    # Convert the index tensor into a Python integer (this is the index of the predicted category)\n",
        "    category_i = top_i[0].item()\n",
        "\n",
        "    # Return the name of the category (language) and its index\n",
        "    return all_categories[category_i], category_i"
      ],
      "metadata": {
        "id": "TcqPDR4NsZm-"
      },
      "execution_count": 40,
      "outputs": []
    },
    {
      "cell_type": "code",
      "source": [
        "import torch.optim as optim  # Import optimizer from PyTorch\n",
        "\n",
        "# Define the loss function and the optimizer\n",
        "# NLLLoss (Negative Log Likelihood Loss) is a good loss function for classification tasks when using log-softmax output\n",
        "criterion = nn.NLLLoss()\n",
        "\n",
        "# Define the optimizer (Stochastic Gradient Descent)\n",
        "# We're passing the RNN's parameters to the optimizer so it knows which weights to update\n",
        "optimizer = optim.SGD(rnn.parameters(), lr=0.005)  # Learning rate is set to 0.005\n",
        "\n",
        "# Helper function to get a random training example (a name and its corresponding category/language)\n",
        "# This simulates loading a random sample from the dataset\n",
        "def randomTrainingExample():\n",
        "    import random\n",
        "    # Randomly choose a category (language) from the list of categories\n",
        "    category = random.choice(all_categories)\n",
        "\n",
        "    # Randomly choose a name from the list of names corresponding to that category\n",
        "    line = random.choice(category_lines[category])\n",
        "\n",
        "    # Convert the category (language) to a tensor (index of the category)\n",
        "    category_tensor = torch.tensor([all_categories.index(category)], dtype=torch.long)\n",
        "\n",
        "    # Convert the name (sequence of letters) to a tensor (sequence of one-hot vectors)\n",
        "    line_tensor = nameToTensor(line)\n",
        "\n",
        "    # Return the category, name, and the corresponding tensors\n",
        "    return category, line, category_tensor, line_tensor\n",
        "\n",
        "# Training function that trains the model on a single name\n",
        "def train(category_tensor, line_tensor):\n",
        "    # Initialize the hidden state to zeros at the start of each training sequence\n",
        "    hidden = rnn.init_hidden()\n",
        "\n",
        "    # Zero the gradients in the model before the forward pass\n",
        "    rnn.zero_grad()\n",
        "\n",
        "    # Process each letter in the name through the RNN, one by one\n",
        "    for i in range(line_tensor.size()[0]):  # For each letter in the name\n",
        "        output, hidden = rnn(line_tensor[i], hidden)  # Forward pass: input the letter and hidden state\n",
        "\n",
        "    # Compute the loss using the final output of the RNN and the correct category (language)\n",
        "    loss = criterion(output, category_tensor)\n",
        "\n",
        "    # Perform the backward pass to compute gradients (backpropagation)\n",
        "    loss.backward()\n",
        "\n",
        "    # Update the model's weights using the optimizer\n",
        "    optimizer.step()\n",
        "\n",
        "    # Return the output and the loss (for tracking during training)\n",
        "    return output, loss.item()\n",
        "\n",
        "# Example training loop to train the model over multiple iterations\n",
        "n_iters = 100000  # Number of training iterations\n",
        "print_every = 5000  # Print progress every 5000 iterations\n",
        "plot_every = 1000  # Store the loss for plotting every 1000 iterations\n",
        "\n",
        "# Variables to track the loss during training\n",
        "current_loss = 0\n",
        "all_losses = []\n",
        "\n",
        "# Main training loop\n",
        "for iter in range(1, n_iters + 1):\n",
        "    # Get a random training example (a name and its category)\n",
        "    category, line, category_tensor, line_tensor = randomTrainingExample()\n",
        "\n",
        "    # Train the model on this example and get the output and loss\n",
        "    output, loss = train(category_tensor, line_tensor)\n",
        "\n",
        "    # Accumulate the loss for tracking\n",
        "    current_loss += loss\n",
        "\n",
        "    # Print progress every 'print_every' iterations\n",
        "    if iter % print_every == 0:\n",
        "        # Convert the model's output (log-probabilities) into a guess for the category\n",
        "        guess, guess_i = categoryFromOutput(output)\n",
        "\n",
        "        # Check if the guess is correct\n",
        "        correct = '✓' if guess == category else '✗ (%s)' % category\n",
        "\n",
        "\n",
        "    # Store the average loss for every 'plot_every' iterations for later visualization\n",
        "    if iter % plot_every == 0:\n",
        "        all_losses.append(current_loss / plot_every)  # Average loss over the last 'plot_every' iterations\n",
        "        current_loss = 0  # Reset the current loss accumulator\n",
        "\n",
        "        # Print the iteration number, percentage of completion, loss, the name being trained, and the model's guess\n",
        "        print(f\"{iter} {iter / n_iters * 100:.1f}% Loss: {loss:.4f} Name: {line} Guess: {guess} {correct}\")\n"
      ],
      "metadata": {
        "colab": {
          "base_uri": "https://localhost:8080/"
        },
        "id": "mvRGSxwfl2pH",
        "outputId": "f3cbcfb4-4a70-474d-a659-730f813b147c"
      },
      "execution_count": 41,
      "outputs": [
        {
          "output_type": "stream",
          "name": "stdout",
          "text": [
            "1000 1.0% Loss: 3.0380 Name: Vlach Guess: Japanese ✓\n",
            "2000 2.0% Loss: 2.7731 Name: Slepica Guess: Japanese ✓\n",
            "3000 3.0% Loss: 2.9235 Name: Ramecker Guess: Japanese ✓\n",
            "4000 4.0% Loss: 1.5579 Name: Gomatos Guess: Japanese ✓\n",
            "5000 5.0% Loss: 2.9592 Name: Benfield Guess: Russian ✗ (English)\n",
            "6000 6.0% Loss: 3.5167 Name: Roig Guess: Russian ✗ (English)\n",
            "7000 7.0% Loss: 1.5349 Name: Cho Guess: Russian ✗ (English)\n",
            "8000 8.0% Loss: 3.1458 Name: Howells Guess: Russian ✗ (English)\n",
            "9000 9.0% Loss: 1.5673 Name: Baik Guess: Russian ✗ (English)\n",
            "10000 10.0% Loss: 2.6218 Name: Sleiman Guess: Irish ✗ (Arabic)\n",
            "11000 11.0% Loss: 1.9992 Name: Vavra Guess: Irish ✗ (Arabic)\n",
            "12000 12.0% Loss: 3.3717 Name: Trieu Guess: Irish ✗ (Arabic)\n",
            "13000 13.0% Loss: 2.3346 Name: Jerdev Guess: Irish ✗ (Arabic)\n",
            "14000 14.0% Loss: 2.9662 Name: Truong Guess: Irish ✗ (Arabic)\n",
            "15000 15.0% Loss: 1.8316 Name: Masih Guess: Russian ✗ (Arabic)\n",
            "16000 16.0% Loss: 1.3018 Name: Cheng Guess: Russian ✗ (Arabic)\n",
            "17000 17.0% Loss: 1.9911 Name: Mustafa Guess: Russian ✗ (Arabic)\n",
            "18000 18.0% Loss: 2.7709 Name: Szewc Guess: Russian ✗ (Arabic)\n",
            "19000 19.0% Loss: 1.7139 Name: Gordon Guess: Russian ✗ (Arabic)\n",
            "20000 20.0% Loss: 2.5721 Name: Snelling Guess: German ✗ (English)\n",
            "21000 21.0% Loss: 2.9452 Name: Christou Guess: German ✗ (English)\n",
            "22000 22.0% Loss: 0.8243 Name: Cracchiolo Guess: German ✗ (English)\n",
            "23000 23.0% Loss: 1.8171 Name: Murphy Guess: German ✗ (English)\n",
            "24000 24.0% Loss: 1.6472 Name: Mansour Guess: German ✗ (English)\n",
            "25000 25.0% Loss: 2.1789 Name: Niadh Guess: Japanese ✗ (Irish)\n",
            "26000 26.0% Loss: 1.3046 Name: Esteves Guess: Japanese ✗ (Irish)\n",
            "27000 27.0% Loss: 2.6826 Name: Gouveia Guess: Japanese ✗ (Irish)\n",
            "28000 28.0% Loss: 0.8551 Name: Kuramoto Guess: Japanese ✗ (Irish)\n",
            "29000 29.0% Loss: 1.9836 Name: Roma Guess: Japanese ✗ (Irish)\n",
            "30000 30.0% Loss: 1.2888 Name: Liu Guess: Korean ✗ (Chinese)\n",
            "31000 31.0% Loss: 0.8472 Name: Piontek Guess: Korean ✗ (Chinese)\n",
            "32000 32.0% Loss: 4.4692 Name: Gerges Guess: Korean ✗ (Chinese)\n",
            "33000 33.0% Loss: 1.0883 Name: Trujillo Guess: Korean ✗ (Chinese)\n",
            "34000 34.0% Loss: 2.0705 Name: Rousses Guess: Korean ✗ (Chinese)\n",
            "35000 35.0% Loss: 2.8727 Name: Smith Guess: German ✗ (Scottish)\n",
            "36000 36.0% Loss: 1.2492 Name: Lavoie Guess: German ✗ (Scottish)\n",
            "37000 37.0% Loss: 1.1739 Name: Parisi Guess: German ✗ (Scottish)\n",
            "38000 38.0% Loss: 2.2044 Name: O'Bree Guess: German ✗ (Scottish)\n",
            "39000 39.0% Loss: 1.0599 Name: Albert Guess: German ✗ (Scottish)\n",
            "40000 40.0% Loss: 1.1959 Name: Hoang Guess: Vietnamese ✓\n",
            "41000 41.0% Loss: 3.0270 Name: Koumans Guess: Vietnamese ✓\n",
            "42000 42.0% Loss: 0.9804 Name: Kattan Guess: Vietnamese ✓\n",
            "43000 43.0% Loss: 1.2635 Name: Jager Guess: Vietnamese ✓\n",
            "44000 44.0% Loss: 1.3439 Name: Bruce Guess: Vietnamese ✓\n",
            "45000 45.0% Loss: 0.9005 Name: Ho Guess: Korean ✓\n",
            "46000 46.0% Loss: 2.3337 Name: Farre Guess: Korean ✓\n",
            "47000 47.0% Loss: 2.9727 Name: Bear Guess: Korean ✓\n",
            "48000 48.0% Loss: 2.0276 Name: Jordison Guess: Korean ✓\n",
            "49000 49.0% Loss: 1.8645 Name: Dael Guess: Korean ✓\n",
            "50000 50.0% Loss: 2.2691 Name: Rothschild Guess: Scottish ✗ (German)\n",
            "51000 51.0% Loss: 1.2627 Name: Kang Guess: Scottish ✗ (German)\n",
            "52000 52.0% Loss: 2.1155 Name: Osborne Guess: Scottish ✗ (German)\n",
            "53000 53.0% Loss: 0.8852 Name: Saliba Guess: Scottish ✗ (German)\n",
            "54000 54.0% Loss: 0.4144 Name: Vinchugov Guess: Scottish ✗ (German)\n",
            "55000 55.0% Loss: 1.8202 Name: Tohill Guess: Irish ✗ (English)\n",
            "56000 56.0% Loss: 1.0501 Name: Paget Guess: Irish ✗ (English)\n",
            "57000 57.0% Loss: 0.6996 Name: Liu Guess: Irish ✗ (English)\n",
            "58000 58.0% Loss: 0.3765 Name: Paszek Guess: Irish ✗ (English)\n",
            "59000 59.0% Loss: 1.5751 Name: Rodagh Guess: Irish ✗ (English)\n",
            "60000 60.0% Loss: 0.8474 Name: Ngo Guess: Vietnamese ✓\n",
            "61000 61.0% Loss: 3.9622 Name: Marti Guess: Vietnamese ✓\n",
            "62000 62.0% Loss: 3.0086 Name: Arai Guess: Vietnamese ✓\n",
            "63000 63.0% Loss: 1.0316 Name: Travert Guess: Vietnamese ✓\n",
            "64000 64.0% Loss: 1.4919 Name: Opizka Guess: Vietnamese ✓\n",
            "65000 65.0% Loss: 1.1426 Name: Abrami Guess: Arabic ✗ (Italian)\n",
            "66000 66.0% Loss: 0.7219 Name: Zhao Guess: Arabic ✗ (Italian)\n",
            "67000 67.0% Loss: 1.5144 Name: Michael Guess: Arabic ✗ (Italian)\n",
            "68000 68.0% Loss: 0.5391 Name: Dickson Guess: Arabic ✗ (Italian)\n",
            "69000 69.0% Loss: 1.5628 Name: Astley Guess: Arabic ✗ (Italian)\n",
            "70000 70.0% Loss: 1.3469 Name: Zangari Guess: Japanese ✗ (Italian)\n",
            "71000 71.0% Loss: 2.2214 Name: Essa Guess: Japanese ✗ (Italian)\n",
            "72000 72.0% Loss: 0.0299 Name: Stawski Guess: Japanese ✗ (Italian)\n",
            "73000 73.0% Loss: 2.7874 Name: Diarmaid Guess: Japanese ✗ (Italian)\n",
            "74000 74.0% Loss: 2.5628 Name: Pachr Guess: Japanese ✗ (Italian)\n",
            "75000 75.0% Loss: 2.5598 Name: Jourdan Guess: Irish ✗ (English)\n",
            "76000 76.0% Loss: 1.8041 Name: Bavtrukevitch Guess: Irish ✗ (English)\n",
            "77000 77.0% Loss: 3.4438 Name: Niftrik Guess: Irish ✗ (English)\n",
            "78000 78.0% Loss: 1.3996 Name: Ryskamp Guess: Irish ✗ (English)\n",
            "79000 79.0% Loss: 1.4808 Name: Freitas Guess: Irish ✗ (English)\n",
            "80000 80.0% Loss: 3.8094 Name: Adam Guess: Arabic ✗ (German)\n",
            "81000 81.0% Loss: 2.6032 Name: Schuyler Guess: Arabic ✗ (German)\n",
            "82000 82.0% Loss: 0.4614 Name: Maciomhair Guess: Arabic ✗ (German)\n",
            "83000 83.0% Loss: 2.6402 Name: Kono Guess: Arabic ✗ (German)\n",
            "84000 84.0% Loss: 1.1428 Name: Monette Guess: Arabic ✗ (German)\n",
            "85000 85.0% Loss: 0.2326 Name: Mitsuya Guess: Japanese ✓\n",
            "86000 86.0% Loss: 1.8175 Name: Jameson Guess: Japanese ✓\n",
            "87000 87.0% Loss: 3.6801 Name: Grunewald Guess: Japanese ✓\n",
            "88000 88.0% Loss: 0.6479 Name: Chajengin Guess: Japanese ✓\n",
            "89000 89.0% Loss: 0.4886 Name: Mai Guess: Japanese ✓\n",
            "90000 90.0% Loss: 0.6228 Name: Saikov Guess: Russian ✓\n",
            "91000 91.0% Loss: 0.4909 Name: Kattan Guess: Russian ✓\n",
            "92000 92.0% Loss: 0.0975 Name: Adamczyk Guess: Russian ✓\n",
            "93000 93.0% Loss: 0.0538 Name: Seighin Guess: Russian ✓\n",
            "94000 94.0% Loss: 0.2149 Name: Mateus Guess: Russian ✓\n",
            "95000 95.0% Loss: 1.8056 Name: Zeman Guess: Czech ✓\n",
            "96000 96.0% Loss: 1.6812 Name: Isa Guess: Czech ✓\n",
            "97000 97.0% Loss: 0.7192 Name: Chang Guess: Czech ✓\n",
            "98000 98.0% Loss: 0.4729 Name: Naoimhin Guess: Czech ✓\n",
            "99000 99.0% Loss: 2.7291 Name: Bran Guess: Czech ✓\n",
            "100000 100.0% Loss: 2.0695 Name: Keable Guess: Spanish ✗ (English)\n"
          ]
        }
      ]
    },
    {
      "cell_type": "markdown",
      "source": [
        "\n",
        "**Explanation**:\n",
        "- **Loss Function**: We use `nn.NLLLoss()` because the final layer of the RNN uses `LogSoftmax`, and NLLLoss is designed to work with log-probabilities.\n",
        "- **Optimizer**: We use Stochastic Gradient Descent (SGD) to update the weights. The learning rate is set to 0.005.\n",
        "- **Training Loop**: For each iteration, a random name and its corresponding language category are selected, and the model is trained on that example. The progress and loss are printed periodically.\n",
        "\n",
        "---\n"
      ],
      "metadata": {
        "id": "G701wLQ3rLQO"
      }
    },
    {
      "cell_type": "markdown",
      "source": [
        "\n",
        "#### **3.2. Evaluating the RNN**\n",
        "\n",
        "After training the RNN, it's important to evaluate how well it performs on unseen data. Evaluation can be done by running the model on test examples that the RNN hasn't seen before, and checking how well it predicts the correct category.\n",
        "\n",
        "**Steps for Evaluation**:\n",
        "1. **Run the RNN in Evaluation Mode**: Use the model without updating the weights or computing the gradients (i.e., no backpropagation).\n",
        "2. **Generate Predictions**: For each test input (name), let the RNN predict the language category.\n",
        "3. **Measure Accuracy**: Compare the predicted category with the actual category to calculate accuracy.\n",
        "\n",
        "**Code for Evaluation**:\n"
      ],
      "metadata": {
        "id": "RiAnZmJrrLQO"
      }
    },
    {
      "cell_type": "code",
      "source": [
        "\n",
        "# Function to evaluate the RNN on a new name (without updating weights)\n",
        "# This is like doing a forward pass without training (inference mode)\n",
        "def evaluate(line_tensor):\n",
        "    # Initialize the hidden state to zeros\n",
        "    hidden = rnn.init_hidden()\n",
        "\n",
        "    # Process each letter in the name through the RNN\n",
        "    # This is similar to how the training loop works, but without computing loss or updating gradients\n",
        "    for i in range(line_tensor.size()[0]):\n",
        "        output, hidden = rnn(line_tensor[i], hidden)  # Forward pass through the RNN\n",
        "\n",
        "    # Return the final output (log-probabilities for each category)\n",
        "    return output\n",
        "\n",
        "# Example of running evaluation on a single name\n",
        "name = \"Jackson\"  # Example name to classify\n",
        "line_tensor = nameToTensor(name)  # Convert the name into a tensor of one-hot encoded letters\n",
        "\n",
        "# Get the RNN's output for the name \"Jackson\"\n",
        "output = evaluate(line_tensor)\n",
        "\n",
        "# Get the predicted category (language) and its index from the output\n",
        "guess, guess_i = categoryFromOutput(output)\n",
        "\n",
        "# Print the name and the predicted language\n",
        "print(f'Name: {name} Predicted language: {guess}')\n",
        "\n",
        "\n",
        "\n"
      ],
      "metadata": {
        "id": "6kZ4gbl_l7lb",
        "colab": {
          "base_uri": "https://localhost:8080/"
        },
        "outputId": "4cbade7b-3f17-4496-e302-1db6746c2e3d"
      },
      "execution_count": 48,
      "outputs": [
        {
          "output_type": "stream",
          "name": "stdout",
          "text": [
            "Name: Jackson Predicted language: Scottish\n"
          ]
        }
      ]
    },
    {
      "cell_type": "markdown",
      "source": [
        "Explanation :\n",
        "\n",
        "1. **`categoryFromOutput(output)`**:\n",
        "   - This function takes the output tensor (log-probabilities for each category) and identifies the category with the highest probability.\n",
        "   - `output.topk(1)` finds the index of the category with the highest log-probability. It returns both the log-probability (`top_n`) and the index (`top_i`).\n",
        "   - The index is converted to a Python integer (`category_i = top_i[0].item()`), and the corresponding category name is retrieved from `all_categories`.\n",
        "\n",
        "2. **`evaluate(line_tensor)`**:\n",
        "   - This function runs the RNN on a new name (without training). It works similarly to the forward pass during training but is used for prediction (inference).\n",
        "   - A new hidden state is initialized at the start, and each letter in the name is processed sequentially through the RNN.\n",
        "   - The final output, after processing the entire name, is returned. This output contains the log-probabilities for each category.\n",
        "\n",
        "3. **Evaluation Example**:\n",
        "   - The name `\"Jackson\"` is converted to a tensor (`line_tensor`) using `nameToTensor`.\n",
        "   - The `evaluate()` function runs the RNN on this name and returns the output.\n",
        "   - `categoryFromOutput()` is used to extract the predicted category from the output.\n",
        "   - Finally, the name and predicted language are printed.\n"
      ],
      "metadata": {
        "id": "QFZh6938rLQP"
      }
    },
    {
      "cell_type": "markdown",
      "source": [
        "\n",
        "#### **3.3. Tracking Performance with a Confusion Matrix**\n",
        "\n",
        "A useful tool for evaluating classification models is the **confusion matrix**. It helps visualize how well the model is performing across different categories by showing where it makes correct and incorrect predictions.\n",
        "\n",
        "**Steps to Create a Confusion Matrix**:\n",
        "1. **Run the Model on Test Data**: Evaluate the model on several test names.\n",
        "2. **Record the Predictions**: For each name, record both the actual language and the predicted language.\n",
        "3. **Create a Matrix**: For each language (row), the predicted languages (columns) are populated based on the model’s output.\n",
        "4. **Normalize the Matrix**: Normalize the matrix to compare performance across languages more easily.\n",
        "\n",
        "**Code for Confusion Matrix**:\n"
      ],
      "metadata": {
        "id": "wDtqv0h8rLQQ"
      }
    },
    {
      "cell_type": "code",
      "source": [
        "import matplotlib.pyplot as plt  # For plotting the confusion matrix\n",
        "import matplotlib.ticker as ticker  # For controlling tick marks on the plot\n",
        "\n",
        "# Initialize a confusion matrix of size [n_categories, n_categories]\n",
        "# It will keep track of how often each actual category (language) is predicted as each possible category.\n",
        "confusion = torch.zeros(n_categories, n_categories)\n",
        "\n",
        "n_confusion = 10000  # Number of examples to evaluate and populate the confusion matrix\n",
        "\n",
        "# Evaluate a set of random examples to fill the confusion matrix\n",
        "for i in range(n_confusion):\n",
        "    # Get a random training example (a name and its actual category)\n",
        "    category, line, category_tensor, line_tensor = randomTrainingExample()\n",
        "\n",
        "    # Get the model's output for the name\n",
        "    output = evaluate(line_tensor)\n",
        "\n",
        "    # Convert the output into the predicted category and its index\n",
        "    guess, guess_i = categoryFromOutput(output)\n",
        "\n",
        "    # Get the index of the actual category (true label)\n",
        "    category_i = all_categories.index(category)\n",
        "\n",
        "    # Increment the confusion matrix at the position [actual category][predicted category]\n",
        "    confusion[category_i][guess_i] += 1\n",
        "\n",
        "# Normalize the confusion matrix by dividing each row by the sum of that row\n",
        "# This ensures each row represents proportions, making the matrix easier to interpret\n",
        "for i in range(n_categories):\n",
        "    confusion[i] = confusion[i] / confusion[i].sum()\n",
        "\n",
        "# Plotting the confusion matrix\n",
        "fig = plt.figure()  # Create a new figure for the plot\n",
        "ax = fig.add_subplot(111)  # Add a subplot (a single plot in this case)\n",
        "\n",
        "# Plot the confusion matrix using a color map (matshow)\n",
        "cax = ax.matshow(confusion.numpy())  # Convert the confusion matrix to a NumPy array for plotting\n",
        "fig.colorbar(cax)  # Add a color bar to indicate the scale of the values\n",
        "\n",
        "# Set up the axis labels (category names) for both axes\n",
        "# The x-axis will represent the predicted categories and the y-axis will represent the actual categories\n",
        "ax.set_xticklabels([''] + all_categories, rotation=90)  # Rotate x-axis labels for readability\n",
        "ax.set_yticklabels([''] + all_categories)\n",
        "\n",
        "# Ensure that tick labels are placed at every tick (i.e., for every category)\n",
        "ax.xaxis.set_major_locator(ticker.MultipleLocator(1))  # Set major ticks on the x-axis\n",
        "ax.yaxis.set_major_locator(ticker.MultipleLocator(1))  # Set major ticks on the y-axis\n",
        "\n",
        "# Display the plot\n",
        "plt.show()\n"
      ],
      "metadata": {
        "id": "ZCQNeEGFl-_i",
        "colab": {
          "base_uri": "https://localhost:8080/",
          "height": 575
        },
        "outputId": "98fff9f8-5755-431e-efac-b4d97005fba6"
      },
      "execution_count": 43,
      "outputs": [
        {
          "output_type": "stream",
          "name": "stderr",
          "text": [
            "<ipython-input-43-6d4b418f8ac7>:42: UserWarning: FixedFormatter should only be used together with FixedLocator\n",
            "  ax.set_xticklabels([''] + all_categories, rotation=90)  # Rotate x-axis labels for readability\n",
            "<ipython-input-43-6d4b418f8ac7>:43: UserWarning: FixedFormatter should only be used together with FixedLocator\n",
            "  ax.set_yticklabels([''] + all_categories)\n"
          ]
        },
        {
          "output_type": "display_data",
          "data": {
            "text/plain": [
              "<Figure size 640x480 with 2 Axes>"
            ],
            "image/png": "[encoded data removed]"
          },
          "metadata": {}
        }
      ]
    },
    {
      "cell_type": "markdown",
      "source": [
        "\n",
        "**Explanation**:\n",
        "- **Confusion Matrix**: The matrix keeps track of how often the model predicts each category correctly (diagonal entries) or incorrectly (off-diagonal entries).\n",
        "- **Normalization**: Dividing by the row sum ensures that each row represents the distribution of predictions for that language, making it easier to see where the model is making mistakes.\n",
        "\n",
        "---\n"
      ],
      "metadata": {
        "id": "ZzEMbINJrLQQ"
      }
    },
    {
      "cell_type": "markdown",
      "source": [
        "\n",
        "#### **3.4. Plotting the Training Loss and Validation Loss**\n",
        "\n",
        "Plotting the loss during training helps monitor how well the model is learning. A decreasing loss generally indicates that the model is improving.\n",
        "\n",
        "**Code for Plotting the Training Loss**:\n"
      ],
      "metadata": {
        "id": "JrwKgwi4rLQR"
      }
    },
    {
      "cell_type": "code",
      "source": [
        "# Create a new figure for plotting the loss\n",
        "plt.figure()\n",
        "\n",
        "# Plot the list of losses (collected during training)\n",
        "# all_losses contains the average loss recorded at regular intervals (e.g., every 1000 iterations)\n",
        "plt.plot(all_losses)\n",
        "\n",
        "# Label the x-axis as 'Iterations (in thousands)'\n",
        "# This indicates that the x-axis represents the number of training iterations\n",
        "plt.xlabel('Iterations (in thousands)')\n",
        "\n",
        "# Label the y-axis as 'Loss'\n",
        "# The y-axis shows the loss values, which measure how well the model is performing (lower is better)\n",
        "plt.ylabel('Loss')\n",
        "\n",
        "# Add a title to the plot\n",
        "plt.title('Training Loss Over Time')\n",
        "\n",
        "# Display the plot\n",
        "plt.show()\n"
      ],
      "metadata": {
        "colab": {
          "base_uri": "https://localhost:8080/",
          "height": 472
        },
        "id": "GtFCWfPXtmJJ",
        "outputId": "378b34e2-5a62-4688-d7cd-39c12f5ed7e0"
      },
      "execution_count": 44,
      "outputs": [
        {
          "output_type": "display_data",
          "data": {
            "text/plain": [
              "<Figure size 640x480 with 1 Axes>"
            ],
            "image/png": "[encoded data removed]"
          },
          "metadata": {}
        }
      ]
    },
    {
      "cell_type": "markdown",
      "source": [
        "\n",
        "**Explanation**:\n",
        "- **all_losses**: This list stores the average loss for every 1000 iterations.\n",
        "- **Plot**: The plot shows how the loss decreases over time, indicating whether the model is learning effectively.\n"
      ],
      "metadata": {
        "id": "MPdW3_UQtn8K"
      }
    },
    {
      "cell_type": "markdown",
      "source": [
        "1. Modify the Training Loop to Track Validation Loss:\n"
      ],
      "metadata": {
        "id": "t-4fdrSuuXwP"
      }
    },
    {
      "cell_type": "code",
      "source": [
        "# Initialize lists to track both training and validation loss\n",
        "all_train_losses = []  # Store the training loss\n",
        "all_val_losses = []    # Store the validation loss\n",
        "\n",
        "# Example validation data (you need to define your own validation set)\n",
        "# Let's assume `validation_examples` contains the names and their corresponding categories\n",
        "validation_examples = [randomTrainingExample() for _ in range(100)]  # Create some dummy validation data\n",
        "\n",
        "for iter in range(1, n_iters + 1):\n",
        "    # Get a random training example (a name and its category)\n",
        "    category, line, category_tensor, line_tensor = randomTrainingExample()\n",
        "\n",
        "    # Train the model on this example and get the output and loss\n",
        "    output, loss = train(category_tensor, line_tensor)\n",
        "    current_loss += loss\n",
        "\n",
        "    # Calculate validation loss at every 'plot_every' interval\n",
        "    if iter % plot_every == 0:\n",
        "        # Store average training loss\n",
        "        all_train_losses.append(current_loss / plot_every)\n",
        "        current_loss = 0\n",
        "\n",
        "        # Compute the validation loss\n",
        "        val_loss = 0\n",
        "        for val_category, val_line, val_category_tensor, val_line_tensor in validation_examples:\n",
        "            val_output = evaluate(val_line_tensor)\n",
        "            val_loss += criterion(val_output, val_category_tensor).item()\n",
        "\n",
        "        # Store average validation loss\n",
        "        avg_val_loss = val_loss / len(validation_examples)\n",
        "        all_val_losses.append(avg_val_loss)\n",
        "\n",
        "        print(f\"Iteration {iter}: Training loss: {all_train_losses[-1]:.4f}, Validation loss: {avg_val_loss:.4f}\")\n"
      ],
      "metadata": {
        "colab": {
          "base_uri": "https://localhost:8080/"
        },
        "id": "8ppEtLAnuc5z",
        "outputId": "e1d919af-f566-49e6-dc71-4a6d250f1a99"
      },
      "execution_count": 45,
      "outputs": [
        {
          "output_type": "stream",
          "name": "stdout",
          "text": [
            "Iteration 1000: Training loss: 1.2084, Validation loss: 1.2656\n",
            "Iteration 2000: Training loss: 1.3168, Validation loss: 1.2801\n",
            "Iteration 3000: Training loss: 1.3040, Validation loss: 1.2847\n",
            "Iteration 4000: Training loss: 1.2714, Validation loss: 1.2271\n",
            "Iteration 5000: Training loss: 1.2200, Validation loss: 1.2140\n",
            "Iteration 6000: Training loss: 1.2729, Validation loss: 1.1866\n",
            "Iteration 7000: Training loss: 1.2858, Validation loss: 1.2431\n",
            "Iteration 8000: Training loss: 1.2421, Validation loss: 1.3422\n",
            "Iteration 9000: Training loss: 1.2272, Validation loss: 1.2400\n",
            "Iteration 10000: Training loss: 1.3140, Validation loss: 1.2490\n",
            "Iteration 11000: Training loss: 1.2570, Validation loss: 1.3431\n",
            "Iteration 12000: Training loss: 1.1818, Validation loss: 1.3186\n",
            "Iteration 13000: Training loss: 1.2384, Validation loss: 1.2982\n",
            "Iteration 14000: Training loss: 1.2940, Validation loss: 1.2325\n",
            "Iteration 15000: Training loss: 1.2422, Validation loss: 1.3264\n",
            "Iteration 16000: Training loss: 1.2264, Validation loss: 1.1757\n",
            "Iteration 17000: Training loss: 1.2252, Validation loss: 1.2413\n",
            "Iteration 18000: Training loss: 1.1517, Validation loss: 1.3009\n",
            "Iteration 19000: Training loss: 1.2300, Validation loss: 1.3881\n",
            "Iteration 20000: Training loss: 1.2843, Validation loss: 1.3101\n",
            "Iteration 21000: Training loss: 1.2593, Validation loss: 1.2528\n",
            "Iteration 22000: Training loss: 1.2876, Validation loss: 1.2654\n",
            "Iteration 23000: Training loss: 1.2671, Validation loss: 1.2421\n",
            "Iteration 24000: Training loss: 1.2420, Validation loss: 1.2833\n",
            "Iteration 25000: Training loss: 1.2288, Validation loss: 1.3442\n",
            "Iteration 26000: Training loss: 1.2846, Validation loss: 1.2816\n",
            "Iteration 27000: Training loss: 1.2740, Validation loss: 1.3178\n",
            "Iteration 28000: Training loss: 1.3006, Validation loss: 1.3436\n",
            "Iteration 29000: Training loss: 1.1992, Validation loss: 1.1735\n",
            "Iteration 30000: Training loss: 1.2113, Validation loss: 1.2577\n",
            "Iteration 31000: Training loss: 1.2428, Validation loss: 1.2303\n",
            "Iteration 32000: Training loss: 1.2055, Validation loss: 1.3525\n",
            "Iteration 33000: Training loss: 1.2210, Validation loss: 1.2140\n",
            "Iteration 34000: Training loss: 1.2221, Validation loss: 1.1916\n",
            "Iteration 35000: Training loss: 1.1836, Validation loss: 1.1438\n",
            "Iteration 36000: Training loss: 1.2663, Validation loss: 1.2292\n",
            "Iteration 37000: Training loss: 1.2682, Validation loss: 1.2394\n",
            "Iteration 38000: Training loss: 1.2691, Validation loss: 1.1470\n",
            "Iteration 39000: Training loss: 1.2049, Validation loss: 1.1256\n",
            "Iteration 40000: Training loss: 1.1867, Validation loss: 1.2545\n",
            "Iteration 41000: Training loss: 1.2443, Validation loss: 1.1246\n",
            "Iteration 42000: Training loss: 1.2293, Validation loss: 1.1875\n",
            "Iteration 43000: Training loss: 1.2067, Validation loss: 1.2360\n",
            "Iteration 44000: Training loss: 1.2393, Validation loss: 1.3541\n",
            "Iteration 45000: Training loss: 1.2737, Validation loss: 1.2346\n",
            "Iteration 46000: Training loss: 1.2020, Validation loss: 1.2569\n",
            "Iteration 47000: Training loss: 1.2732, Validation loss: 1.3230\n",
            "Iteration 48000: Training loss: 1.1760, Validation loss: 1.5619\n",
            "Iteration 49000: Training loss: 1.2448, Validation loss: 1.2496\n",
            "Iteration 50000: Training loss: 1.1392, Validation loss: 1.2334\n",
            "Iteration 51000: Training loss: 1.2250, Validation loss: 1.2336\n",
            "Iteration 52000: Training loss: 1.1814, Validation loss: 1.1936\n",
            "Iteration 53000: Training loss: 1.2084, Validation loss: 1.1088\n",
            "Iteration 54000: Training loss: 1.3263, Validation loss: 1.2795\n",
            "Iteration 55000: Training loss: 1.2663, Validation loss: 1.1961\n",
            "Iteration 56000: Training loss: 1.2053, Validation loss: 1.2206\n",
            "Iteration 57000: Training loss: 1.1797, Validation loss: 1.1861\n",
            "Iteration 58000: Training loss: 1.2180, Validation loss: 1.2128\n",
            "Iteration 59000: Training loss: 1.2249, Validation loss: 1.2346\n",
            "Iteration 60000: Training loss: 1.2233, Validation loss: 1.3755\n",
            "Iteration 61000: Training loss: 1.2435, Validation loss: 1.2597\n",
            "Iteration 62000: Training loss: 1.1822, Validation loss: 1.2809\n",
            "Iteration 63000: Training loss: 1.2745, Validation loss: 1.3135\n",
            "Iteration 64000: Training loss: 1.2446, Validation loss: 1.2652\n",
            "Iteration 65000: Training loss: 1.2003, Validation loss: 1.2069\n",
            "Iteration 66000: Training loss: 1.1657, Validation loss: 1.2354\n",
            "Iteration 67000: Training loss: 1.1763, Validation loss: 1.1998\n",
            "Iteration 68000: Training loss: 1.2178, Validation loss: 1.4467\n",
            "Iteration 69000: Training loss: 1.1778, Validation loss: 1.2383\n",
            "Iteration 70000: Training loss: 1.1832, Validation loss: 1.2646\n",
            "Iteration 71000: Training loss: 1.1972, Validation loss: 1.1941\n",
            "Iteration 72000: Training loss: 1.1877, Validation loss: 1.1992\n",
            "Iteration 73000: Training loss: 1.2015, Validation loss: 1.1258\n",
            "Iteration 74000: Training loss: 1.1723, Validation loss: 1.1360\n",
            "Iteration 75000: Training loss: 1.1684, Validation loss: 1.1640\n",
            "Iteration 76000: Training loss: 1.1879, Validation loss: 1.3072\n",
            "Iteration 77000: Training loss: 1.1502, Validation loss: 1.2620\n",
            "Iteration 78000: Training loss: 1.1738, Validation loss: 1.1302\n",
            "Iteration 79000: Training loss: 1.2170, Validation loss: 1.2162\n",
            "Iteration 80000: Training loss: 1.1159, Validation loss: 1.1511\n",
            "Iteration 81000: Training loss: 1.1617, Validation loss: 1.2561\n",
            "Iteration 82000: Training loss: 1.1785, Validation loss: 1.2313\n",
            "Iteration 83000: Training loss: 1.1882, Validation loss: 1.1760\n",
            "Iteration 84000: Training loss: 1.1965, Validation loss: 1.1747\n",
            "Iteration 85000: Training loss: 1.1731, Validation loss: 1.1025\n",
            "Iteration 86000: Training loss: 1.2257, Validation loss: 1.1329\n",
            "Iteration 87000: Training loss: 1.1521, Validation loss: 1.1846\n",
            "Iteration 88000: Training loss: 1.1881, Validation loss: 1.1802\n",
            "Iteration 89000: Training loss: 1.2522, Validation loss: 1.1692\n",
            "Iteration 90000: Training loss: 1.1528, Validation loss: 1.2088\n",
            "Iteration 91000: Training loss: 1.2217, Validation loss: 1.1136\n",
            "Iteration 92000: Training loss: 1.2387, Validation loss: 1.1580\n",
            "Iteration 93000: Training loss: 1.1753, Validation loss: 1.0657\n",
            "Iteration 94000: Training loss: 1.1053, Validation loss: 1.1211\n",
            "Iteration 95000: Training loss: 1.1152, Validation loss: 1.2089\n",
            "Iteration 96000: Training loss: 1.2022, Validation loss: 1.2599\n",
            "Iteration 97000: Training loss: 1.2387, Validation loss: 1.1555\n",
            "Iteration 98000: Training loss: 1.2204, Validation loss: 1.3167\n",
            "Iteration 99000: Training loss: 1.1459, Validation loss: 1.2471\n",
            "Iteration 100000: Training loss: 1.1249, Validation loss: 1.1894\n"
          ]
        }
      ]
    },
    {
      "cell_type": "markdown",
      "source": [
        "2. Plot Both Training and Validation Losses:\n"
      ],
      "metadata": {
        "id": "kPQXLlpoufwY"
      }
    },
    {
      "cell_type": "code",
      "source": [
        "# Plot both training and validation loss on the same graph\n",
        "plt.figure()\n",
        "\n",
        "# Plot the training loss\n",
        "plt.plot(all_train_losses, label='Training Loss')\n",
        "\n",
        "# Plot the validation loss\n",
        "plt.plot(all_val_losses, label='Validation Loss')\n",
        "\n",
        "# Add labels and title\n",
        "plt.xlabel('Iterations (in thousands)')\n",
        "plt.ylabel('Loss')\n",
        "plt.title('Training and Validation Loss Over Time')\n",
        "\n",
        "# Add a legend to distinguish between training and validation loss\n",
        "plt.legend()\n",
        "\n",
        "# Display the plot\n",
        "plt.show()\n"
      ],
      "metadata": {
        "colab": {
          "base_uri": "https://localhost:8080/",
          "height": 472
        },
        "id": "dRJGbAhfuiWR",
        "outputId": "cee8d6fa-dd16-45f2-9daa-e34b90f3b8f4"
      },
      "execution_count": 46,
      "outputs": [
        {
          "output_type": "display_data",
          "data": {
            "text/plain": [
              "<Figure size 640x480 with 1 Axes>"
            ],
            "image/png": "[encoded data removed]"
          },
          "metadata": {}
        }
      ]
    },
    {
      "cell_type": "markdown",
      "source": [
        "##### Key Observations:\n",
        "\n",
        "1. **Training Loss and Validation Loss Patterns**:\n",
        "   - The **blue line** represents the **training loss**, and the **orange line** represents the **validation loss**.\n",
        "   - Both the training and validation losses fluctuate quite a bit but generally follow a downward trend over time, which is a good indication that the model is learning.\n",
        "\n",
        "2. **Overlapping Periods**:\n",
        "   - In many sections of the graph (like around 10k, 20k, 30k, etc.), both the training and validation losses are relatively close to each other. This indicates that the model is not overfitting significantly during these periods, as the training and validation performance are aligned.\n",
        "\n",
        "3. **Spikes in Validation Loss**:\n",
        "   - There are significant spikes in **validation loss**, especially around 40k and 50k iterations. This might indicate that the model overfits at certain points during training or that the validation set has a few difficult examples that the model struggles with.\n",
        "   - However, these spikes eventually settle back down, which could mean that the learning process is correcting the model as it progresses.\n",
        "\n",
        "4. **Validation Loss Higher than Training Loss**:\n",
        "   - For much of the plot, the **validation loss** is **higher than the training loss**. This is expected in most models because the validation set consists of unseen data, and the model typically performs better on the training data due to exposure and learning from it.\n",
        "   - If the validation loss becomes significantly higher than the training loss and stays that way, it could indicate **overfitting**. In this case, while there are spikes, they don't persist for long, which suggests the model may not be heavily overfitting.\n",
        "\n",
        "5. **General Trend**:\n",
        "   - The general trend of both the training and validation losses is **decreasing** over time, which is a positive sign that the model is learning and improving its performance. While there is noise and fluctuation in the loss, especially in the validation loss, the overall movement is downward.\n",
        "\n",
        "##### Possible Actions to Improve:\n",
        "- **Smoothing the Learning Curve**: If the model’s loss fluctuates too much, consider adjusting the learning rate or using a learning rate scheduler. A smaller learning rate might help reduce the spikes.\n",
        "- **Overfitting Check**: The spikes in validation loss suggest that the model may overfit at certain points. You could:\n",
        "  - Use **early stopping** to prevent overfitting if validation loss consistently increases.\n",
        "  - Apply **regularization techniques** (like L2 regularization or dropout) to make the model more robust.\n",
        "  - Increase the size of the **validation set** to ensure it represents more diverse examples.\n"
      ],
      "metadata": {
        "id": "r_VjVcvexZ82"
      }
    },
    {
      "cell_type": "markdown",
      "source": [],
      "metadata": {
        "id": "PFEtAxTnxZ1t"
      }
    },
    {
      "cell_type": "markdown",
      "source": [
        "\n",
        "### **3.5. Running the Model on User Input**\n",
        "\n",
        "Finally, after training the model, you can run it on custom names to see how well it performs. This allows you to input any name and check which language the model predicts.\n",
        "\n",
        "**Code for User Input Prediction**:\n"
      ],
      "metadata": {
        "id": "vrzTfWQttn4l"
      }
    },
    {
      "cell_type": "code",
      "source": [
        "def predict(input_name, n_predictions=3):\n",
        "    # Print the name being predicted\n",
        "    print(f'\\n> {input_name}')\n",
        "\n",
        "    # Disable gradient calculation since we are only doing inference (evaluation) and not updating any weights\n",
        "    with torch.no_grad():\n",
        "        # Convert the input name into a tensor of one-hot encoded letters\n",
        "        output = evaluate(nameToTensor(input_name))\n",
        "\n",
        "        # Get the top N predictions (log-probabilities and indices) from the output\n",
        "        # topk(n_predictions, 1, True) gets the top `n_predictions` categories\n",
        "        # topv contains the top values (log-probabilities), topi contains the indices of the categories\n",
        "        topv, topi = output.topk(n_predictions, 1, True)\n",
        "\n",
        "        # List to store the predicted categories and their corresponding probabilities\n",
        "        predictions = []\n",
        "\n",
        "        # Loop through the top N predictions\n",
        "        for i in range(n_predictions):\n",
        "            # Extract the value (log-probability) for the i-th prediction\n",
        "            value = topv[0][i].item()\n",
        "\n",
        "            # Extract the index of the predicted category\n",
        "            category_index = topi[0][i].item()\n",
        "\n",
        "            # Print the predicted category and its log-probability\n",
        "            print(f'({value:.2f}) {all_categories[category_index]}')\n",
        "\n",
        "            # Append the predicted category and its log-probability to the list\n",
        "            predictions.append((value, all_categories[category_index]))\n",
        "\n",
        "    # Return the list of predictions (each with its log-probability and category name)\n",
        "    return predictions\n",
        "\n",
        "# Example usage of the predict function\n",
        "predict('Satoshi')  # Predict the language/category for the name 'Satoshi'\n"
      ],
      "metadata": {
        "colab": {
          "base_uri": "https://localhost:8080/"
        },
        "id": "WzPd53CetqKP",
        "outputId": "ee4e1608-02ef-42e0-e167-04d989e00134"
      },
      "execution_count": 47,
      "outputs": [
        {
          "output_type": "stream",
          "name": "stdout",
          "text": [
            "\n",
            "> Satoshi\n",
            "(-0.34) Arabic\n",
            "(-1.65) Japanese\n",
            "(-3.24) Italian\n"
          ]
        },
        {
          "output_type": "execute_result",
          "data": {
            "text/plain": [
              "[(-0.3434559106826782, 'Arabic'),\n",
              " (-1.6498302221298218, 'Japanese'),\n",
              " (-3.2424826622009277, 'Italian')]"
            ]
          },
          "metadata": {},
          "execution_count": 47
        }
      ]
    },
    {
      "cell_type": "markdown",
      "source": [
        "\n",
        "**Explanation**:\n",
        "\n",
        "  - Top Predicted Categories:\n",
        "\n",
        "    - The model has returned the top 3 predicted languages (or categories) for the name \"Satoshi\" along with their associated log-probabilities.\n",
        "    - The results are:\n",
        "\n",
        "      -  Arabic: Log-probability = -0.34\n",
        "      -  Japanese: Log-probability = -1.65\n",
        "      -  Italian: Log-probability = -3.24\n",
        "    - Interpretation of Log-Probabilities:\n",
        "\n",
        "      -  Log-probabilities are negative because they represent the logarithm of probabilities, which are between 0 and 1.\n",
        "      -  A log-probability closer to 0 (i.e., less negative) indicates a higher probability. For example:\n",
        "        -  Arabic has the highest log-probability of -0.34, meaning the model is most confident that \"Satoshi\" belongs to the Arabic category.\n",
        "        -  Japanese has a lower log-probability of -1.65, meaning the model is less confident but still considers it a possible category.\n",
        "        -  Italian has the lowest confidence, with a log-probability of -3.24.\n",
        "  -  Confidence in Prediction:\n",
        "\n",
        "    The model’s top prediction is Arabic with a log-probability of -0.34, which suggests a fairly confident prediction compared to the other two categories.\n",
        "    However, this is surprising since \"Satoshi\" is a well-known Japanese name. The fact that Japanese is ranked second with a significantly lower log-probability (-1.65) indicates that the model is not particularly confident in the correct prediction.\n",
        "---"
      ],
      "metadata": {
        "id": "YFHHBvU8tn1s"
      }
    },
    {
      "cell_type": "markdown",
      "source": [],
      "metadata": {
        "id": "OMY4KXDKtnzb"
      }
    },
    {
      "cell_type": "markdown",
      "source": [],
      "metadata": {
        "id": "5i5cGffotnwp"
      }
    },
    {
      "cell_type": "markdown",
      "source": [],
      "metadata": {
        "id": "NP66pXa8tniD"
      }
    },
    {
      "cell_type": "markdown",
      "source": [
        "---\n",
        "---\n",
        "---\n",
        "---\n",
        "---\n",
        "---\n",
        "---\n",
        "---\n",
        "---\n",
        "---"
      ],
      "metadata": {
        "id": "6G1C2Oq5rUz-"
      }
    }
  ]
}