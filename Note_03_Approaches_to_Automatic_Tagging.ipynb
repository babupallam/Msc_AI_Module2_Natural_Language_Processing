{
  "nbformat": 4,
  "nbformat_minor": 0,
  "metadata": {
    "colab": {
      "provenance": [],
      "toc_visible": true,
      "authorship_tag": "ABX9TyMBW701fA+g2BIIg3aDi0VN",
      "include_colab_link": true
    },
    "kernelspec": {
      "name": "python3",
      "display_name": "Python 3"
    },
    "language_info": {
      "name": "python"
    }
  },
  "cells": [
    {
      "cell_type": "markdown",
      "metadata": {
        "id": "view-in-github",
        "colab_type": "text"
      },
      "source": [
        "<a href=\"https://colab.research.google.com/github/babupallam/Msc_AI_Module2_Natural_Language_Processing/blob/main/Note_03_Approaches_to_Automatic_Tagging.ipynb\" target=\"_parent\"><img src=\"https://colab.research.google.com/assets/colab-badge.svg\" alt=\"Open In Colab\"/></a>"
      ]
    },
    {
      "cell_type": "markdown",
      "source": [
        "\n",
        "- This focuses on the various approaches used for automating **Part-of-Speech (POS) tagging**, a crucial task in Natural Language Processing (NLP).\n",
        "- This section delves into several tagging techniques, each varying in complexity and accuracy, ranging from simple rule-based models to more advanced statistical and machine learning methods.\n",
        "- These approaches form the foundation for accurate syntactic analysis and provide the groundwork for more complex NLP tasks like parsing, named entity recognition, and machine translation.\n",
        "\n"
      ],
      "metadata": {
        "id": "E7lXDdbt2UIB"
      }
    },
    {
      "cell_type": "markdown",
      "source": [
        "### **1. Default Tagger**\n",
        "\n",
        "- The **default tagger** is the simplest form of POS tagging.\n",
        "- It assigns the same part of speech to every word in a corpus, typically using the most frequent tag, which is often **noun** (since nouns are common in many texts).\n",
        "\n"
      ],
      "metadata": {
        "id": "dfc1v9Dj2UKj"
      }
    },
    {
      "cell_type": "markdown",
      "source": [
        "#### How It Works:\n",
        "- Every word in the corpus is tagged with a single, predefined POS tag (e.g., **NN** for nouns).\n",
        "- This is useful as a baseline model to compare with more sophisticated tagging methods.\n",
        "\n"
      ],
      "metadata": {
        "id": "LLIExXut2UNU"
      }
    },
    {
      "cell_type": "markdown",
      "source": [
        "#### Limitations:\n",
        "- While easy to implement, it is not very accurate because it ignores the specific word or its context.\n",
        "- Example: In a sentence like \"She runs every day,\" every word would be tagged as a noun, leading to incorrect tags for words like \"runs\" (which should be a verb).\n",
        "\n"
      ],
      "metadata": {
        "id": "xLyLFT132UP3"
      }
    },
    {
      "cell_type": "markdown",
      "source": [
        "#### Use Case:\n",
        "- The default tagger is mostly used as a **backoff strategy** in combination with other, more advanced taggers.\n",
        "\n"
      ],
      "metadata": {
        "id": "t8u7jzXR2USk"
      }
    },
    {
      "cell_type": "markdown",
      "source": [
        "#### Demonstration"
      ],
      "metadata": {
        "id": "0-QmoxNw3FHR"
      }
    },
    {
      "cell_type": "code",
      "source": [
        "import nltk\n",
        "from nltk import DefaultTagger\n",
        "from nltk.corpus import brown\n",
        "\n",
        "# Example sentences\n",
        "sentences = [\"The quick brown fox jumps over the lazy dog.\",\n",
        "             \"A beautiful morning in the city.\"]\n",
        "\n",
        "# Tokenize the sentences\n",
        "tokens = [nltk.word_tokenize(sentence) for sentence in sentences]\n",
        "\n",
        "# Create a DefaultTagger that tags every word as a noun (NN)\n",
        "default_tagger = DefaultTagger('NN')\n",
        "\n",
        "# Apply the tagger to each sentence\n",
        "for sentence_tokens in tokens:\n",
        "    tagged = default_tagger.tag(sentence_tokens)\n",
        "    print(\"Tagged Sentence (Default Tagger):\", tagged)\n",
        "\n",
        "# Evaluate accuracy on the Brown corpus (just for demonstration)\n",
        "brown_tagged_sents = brown.tagged_sents(categories='news')\n",
        "accuracy = default_tagger.evaluate(brown_tagged_sents)\n",
        "print(\"Accuracy of Default Tagger on Brown corpus:\", accuracy)\n"
      ],
      "metadata": {
        "colab": {
          "base_uri": "https://localhost:8080/"
        },
        "id": "oE1oXwQ03TZe",
        "outputId": "b5cb2ba9-f7f6-4a94-f030-312f49a84769"
      },
      "execution_count": 8,
      "outputs": [
        {
          "output_type": "stream",
          "name": "stdout",
          "text": [
            "Tagged Sentence (Default Tagger): [('The', 'NN'), ('quick', 'NN'), ('brown', 'NN'), ('fox', 'NN'), ('jumps', 'NN'), ('over', 'NN'), ('the', 'NN'), ('lazy', 'NN'), ('dog', 'NN'), ('.', 'NN')]\n",
            "Tagged Sentence (Default Tagger): [('A', 'NN'), ('beautiful', 'NN'), ('morning', 'NN'), ('in', 'NN'), ('the', 'NN'), ('city', 'NN'), ('.', 'NN')]\n"
          ]
        },
        {
          "output_type": "stream",
          "name": "stderr",
          "text": [
            "<ipython-input-8-3be1c739854f>:22: DeprecationWarning: \n",
            "  Function evaluate() has been deprecated.  Use accuracy(gold)\n",
            "  instead.\n",
            "  accuracy = default_tagger.evaluate(brown_tagged_sents)\n"
          ]
        },
        {
          "output_type": "stream",
          "name": "stdout",
          "text": [
            "Accuracy of Default Tagger on Brown corpus: 0.13089484257215028\n"
          ]
        }
      ]
    },
    {
      "cell_type": "markdown",
      "source": [
        "### **2. Regular Expression Tagger**\n",
        "\n",
        "The **regular expression (regex) tagger** is slightly more advanced than the default tagger. It uses regular expressions to identify patterns in words and tag them based on these patterns. For example, it can tag words ending in \"ed\" as past-tense verbs.\n",
        "\n"
      ],
      "metadata": {
        "id": "LvBq4TaH2UVa"
      }
    },
    {
      "cell_type": "markdown",
      "source": [
        "#### How It Works:\n",
        "- Patterns are created using regular expressions that match certain word characteristics, such as suffixes, prefixes, or capitalization.\n",
        "- The regex tagger then assigns a part of speech to any word that fits these patterns.\n",
        "\n"
      ],
      "metadata": {
        "id": "vh8n4vBF2UYI"
      }
    },
    {
      "cell_type": "markdown",
      "source": [
        "#### Example:\n",
        "- Words ending in \"ing\" can be tagged as **VBG** (gerund or present participle).\n",
        "- Example sentence: \"The dog is barking.\"\n",
        "  - \"barking\" would be tagged as a **VBG**.\n",
        "\n"
      ],
      "metadata": {
        "id": "84lR56Oc2Uan"
      }
    },
    {
      "cell_type": "markdown",
      "source": [
        "#### Limitations:\n",
        "- While useful for tagging simple patterns, it struggles with words that don’t follow standard morphological rules.\n",
        "- Regex taggers are **rule-based**, and the rules must be manually created, making it less scalable for large datasets or complex text structures.\n",
        "\n"
      ],
      "metadata": {
        "id": "XiikxL-j2Udm"
      }
    },
    {
      "cell_type": "markdown",
      "source": [
        "#### Demonstration"
      ],
      "metadata": {
        "id": "_xWp2xvy3pkH"
      }
    },
    {
      "cell_type": "code",
      "source": [
        "from nltk import RegexpTagger\n",
        "\n",
        "# Define additional regular expression patterns\n",
        "patterns = [\n",
        "    (r'.*ing$', 'VBG'),    # Gerunds (e.g., 'running')\n",
        "    (r'.*ed$', 'VBD'),     # Past tense verbs (e.g., 'talked')\n",
        "    (r'.*es$', 'VBZ'),     # 3rd person singular present (e.g., 'talks')\n",
        "    (r'.*ould$', 'MD'),    # Modal verbs (e.g., 'could', 'should')\n",
        "    (r'[0-9]+', 'CD'),     # Numbers\n",
        "    (r'^The$', 'DT'),      # Specific words (e.g., 'The')\n",
        "    (r'.*ly$', 'RB'),      # Adverbs (e.g., 'quickly')\n",
        "    (r'.*', 'NN')          # Default: nouns\n",
        "]\n",
        "\n",
        "# Create a RegexpTagger\n",
        "regexp_tagger = RegexpTagger(patterns)\n",
        "\n",
        "# Example sentences with diverse structures\n",
        "sentences = [\"She is running quickly to the park.\",\n",
        "             \"The cat jumped over the fence.\",\n",
        "             \"Could you help me please?\"]\n",
        "\n",
        "# Tokenize and apply the regex tagger to each sentence\n",
        "for sentence in sentences:\n",
        "    tokens = nltk.word_tokenize(sentence)\n",
        "    tagged = regexp_tagger.tag(tokens)\n",
        "    print(\"Tagged Sentence (Regex Tagger):\", tagged)\n",
        "\n",
        "# Evaluate the tagger on the Brown corpus\n",
        "brown_tagged_sents = brown.tagged_sents(categories='news')\n",
        "accuracy = regexp_tagger.evaluate(brown_tagged_sents)\n",
        "print(\"Accuracy of Regex Tagger on Brown corpus:\", accuracy)\n"
      ],
      "metadata": {
        "colab": {
          "base_uri": "https://localhost:8080/"
        },
        "id": "KChXgTB53rGB",
        "outputId": "419ce29b-ede9-4863-9b10-050c72a25ef2"
      },
      "execution_count": 9,
      "outputs": [
        {
          "output_type": "stream",
          "name": "stdout",
          "text": [
            "Tagged Sentence (Regex Tagger): [('She', 'NN'), ('is', 'NN'), ('running', 'VBG'), ('quickly', 'RB'), ('to', 'NN'), ('the', 'NN'), ('park', 'NN'), ('.', 'NN')]\n",
            "Tagged Sentence (Regex Tagger): [('The', 'DT'), ('cat', 'NN'), ('jumped', 'VBD'), ('over', 'NN'), ('the', 'NN'), ('fence', 'NN'), ('.', 'NN')]\n",
            "Tagged Sentence (Regex Tagger): [('Could', 'MD'), ('you', 'NN'), ('help', 'NN'), ('me', 'NN'), ('please', 'NN'), ('?', 'NN')]\n"
          ]
        },
        {
          "output_type": "stream",
          "name": "stderr",
          "text": [
            "<ipython-input-9-d0ff9955ecfd>:31: DeprecationWarning: \n",
            "  Function evaluate() has been deprecated.  Use accuracy(gold)\n",
            "  instead.\n",
            "  accuracy = regexp_tagger.evaluate(brown_tagged_sents)\n"
          ]
        },
        {
          "output_type": "stream",
          "name": "stdout",
          "text": [
            "Accuracy of Regex Tagger on Brown corpus: 0.17838176502177935\n"
          ]
        }
      ]
    },
    {
      "cell_type": "markdown",
      "source": [
        "### **3. Unigram Tagger**\n",
        "\n",
        "A **unigram tagger** assigns the most frequent POS tag to a word based on its appearance in a training corpus. The unigram tagger is a **statistical model** that uses frequency counts to make tagging decisions.\n",
        "\n"
      ],
      "metadata": {
        "id": "p_o6faH62UgY"
      }
    },
    {
      "cell_type": "markdown",
      "source": [
        "#### How It Works:\n",
        "- The unigram tagger learns the most likely tag for each word from a labeled training corpus. For instance, if the word \"bank\" appears more often as a noun than as a verb in the training data, it will always be tagged as a noun.\n",
        "  \n"
      ],
      "metadata": {
        "id": "i-IxlZcX2Ujq"
      }
    },
    {
      "cell_type": "markdown",
      "source": [
        "#### Advantages:\n",
        "- It is more accurate than the default or regex tagger because it uses the actual words in the corpus for tagging decisions.\n",
        "- The unigram tagger is also fast to implement and easy to train on large datasets.\n",
        "\n"
      ],
      "metadata": {
        "id": "HzCIndDQ2Umn"
      }
    },
    {
      "cell_type": "markdown",
      "source": [
        "#### Limitations:\n",
        "- The unigram tagger does not take context into account. If a word has multiple meanings (e.g., \"bank\" as both a noun and a verb), it will always be tagged with its most frequent usage, regardless of the sentence context.\n",
        "  \n"
      ],
      "metadata": {
        "id": "SasmLjO22UpW"
      }
    },
    {
      "cell_type": "markdown",
      "source": [
        "#### Example:\n",
        "- In the sentence \"The bank will open soon,\" the word \"bank\" could be tagged as **NN** (noun).\n",
        "- In the sentence \"He will bank the fire,\" \"bank\" should be a verb, but the unigram tagger may tag it as a noun if that is the most frequent tag in the training data.\n",
        "\n"
      ],
      "metadata": {
        "id": "qsk6oSwH2UsP"
      }
    },
    {
      "cell_type": "markdown",
      "source": [
        "#### Demonstration"
      ],
      "metadata": {
        "id": "ojGp8Lo-3uGt"
      }
    },
    {
      "cell_type": "code",
      "source": [
        "from nltk.corpus import brown\n",
        "from nltk import UnigramTagger\n",
        "from nltk import DefaultTagger\n",
        "\n",
        "\n",
        "#============== just to remove warning message\n",
        "import warnings  # Import warnings module\n",
        "\n",
        "# Ignore deprecation and resource warnings\n",
        "warnings.filterwarnings(\"ignore\", category=DeprecationWarning)\n",
        "warnings.filterwarnings(\"ignore\", category=ResourceWarning)\n",
        "\n",
        "#=================\n",
        "\n",
        "# Training and testing data from Brown corpus\n",
        "brown_tagged_sents = brown.tagged_sents(categories='news')\n",
        "train_data = brown_tagged_sents[:4000]  # Training on the first 4000 sentences\n",
        "test_data = brown_tagged_sents[4000:]   # Testing on the rest\n",
        "\n",
        "# Create a DefaultTagger as backoff to handle unseen words\n",
        "default_tagger = DefaultTagger('NN')\n",
        "\n",
        "# Train a UnigramTagger with backoff\n",
        "unigram_tagger = UnigramTagger(train_data, backoff=default_tagger)\n",
        "\n",
        "# Example sentence\n",
        "sentence = \"The city of London is beautiful.\"\n",
        "tokens = nltk.word_tokenize(sentence)\n",
        "\n",
        "# Tagging the sentence\n",
        "tagged = unigram_tagger.tag(tokens)\n",
        "print(\"Tagged Sentence (Unigram Tagger with Backoff):\", tagged)\n",
        "\n",
        "# Evaluate the tagger on the test set\n",
        "accuracy = unigram_tagger.evaluate(test_data)\n",
        "print(\"Accuracy of Unigram Tagger on Brown corpus:\", accuracy)\n"
      ],
      "metadata": {
        "colab": {
          "base_uri": "https://localhost:8080/"
        },
        "id": "mR1Ru_eB3v0y",
        "outputId": "61373969-fc66-405c-b9af-89833ad3f48d"
      },
      "execution_count": 19,
      "outputs": [
        {
          "output_type": "stream",
          "name": "stdout",
          "text": [
            "Tagged Sentence (Unigram Tagger with Backoff): [('The', 'AT'), ('city', 'NN'), ('of', 'IN'), ('London', 'NP'), ('is', 'BEZ'), ('beautiful', 'JJ'), ('.', '.')]\n",
            "Accuracy of Unigram Tagger on Brown corpus: 0.8344073130526001\n"
          ]
        }
      ]
    },
    {
      "cell_type": "markdown",
      "source": [
        "### **4. Lookup Tagger**\n",
        "\n",
        "The **lookup tagger** is a simple dictionary-based tagging method. It assigns tags by consulting a predefined mapping of words to tags, similar to how one would look up the part of speech in a dictionary.\n"
      ],
      "metadata": {
        "id": "uZbN4G8a7ykV"
      }
    },
    {
      "cell_type": "markdown",
      "source": [
        "\n",
        "#### How It Works:\n",
        "- A lookup table is created from a tagged corpus, where each word is assigned the most frequent tag it has received in the training data.\n",
        "- For unknown words (words not found in the dictionary), the tagger defaults to a tag like \"NN\" (noun).\n",
        "\n"
      ],
      "metadata": {
        "id": "EsFT2yOR7ygz"
      }
    },
    {
      "cell_type": "markdown",
      "source": [
        "#### Advantages:\n",
        "- **Efficiency**: It is very fast because it only needs to look up words in a precompiled dictionary.\n",
        "- **Simplicity**: Easy to implement and use with limited resources.\n",
        "\n"
      ],
      "metadata": {
        "id": "4f56bq-g7ydB"
      }
    },
    {
      "cell_type": "markdown",
      "source": [
        "#### Limitations:\n",
        "- **Lack of Context**: Like the unigram tagger, it does not consider surrounding words, so it cannot handle ambiguous words (e.g., \"run\" as a verb vs. noun) based on context.\n",
        "  \n"
      ],
      "metadata": {
        "id": "6iHm3ei07yap"
      }
    },
    {
      "cell_type": "markdown",
      "source": [
        "#### Example:\n",
        "- The word \"dog\" would always be tagged as **NN** (noun), even if used in a phrase where it should be an adjective.\n"
      ],
      "metadata": {
        "id": "67jPiTGD7yYE"
      }
    },
    {
      "cell_type": "markdown",
      "source": [
        "#### Demonstration"
      ],
      "metadata": {
        "id": "TTODZ6Fz8x7K"
      }
    },
    {
      "cell_type": "code",
      "source": [
        "import nltk\n",
        "from nltk.corpus import brown\n",
        "from nltk import DefaultTagger\n",
        "from collections import defaultdict\n",
        "\n",
        "#============== just to remove warning message\n",
        "import warnings  # Import warnings module\n",
        "\n",
        "# Ignore deprecation and resource warnings\n",
        "warnings.filterwarnings(\"ignore\", category=DeprecationWarning)\n",
        "warnings.filterwarnings(\"ignore\", category=ResourceWarning)\n",
        "\n",
        "#=================\n",
        "\n",
        "# Training and testing data from Brown corpus\n",
        "brown_tagged_sents = brown.tagged_sents(categories='news')\n",
        "train_data = brown_tagged_sents[:4000]  # Training on the first 4000 sentences\n",
        "test_data = brown_tagged_sents[4000:]   # Testing on the rest\n",
        "\n",
        "# Building a lookup dictionary based on training data\n",
        "lookup_dict = defaultdict(lambda: 'NN')  # Default tag is 'NN'\n",
        "for sent in train_data:\n",
        "    for word, tag in sent:\n",
        "        if word not in lookup_dict:\n",
        "            lookup_dict[word] = tag  # Assign the most frequent tag\n",
        "\n",
        "# Creating a custom Lookup Tagger based on the dictionary\n",
        "class LookupTagger:\n",
        "    def __init__(self, lookup_dict):\n",
        "        self.lookup_dict = lookup_dict\n",
        "\n",
        "    def tag(self, tokens):\n",
        "        return [(word, self.lookup_dict.get(word, 'NN')) for word in tokens]\n",
        "\n",
        "# Example sentence\n",
        "sentence = \"The city of London is beautiful.\"\n",
        "tokens = nltk.word_tokenize(sentence)\n",
        "\n",
        "# Tagging the sentence using LookupTagger\n",
        "lookup_tagger = LookupTagger(lookup_dict)\n",
        "tagged = lookup_tagger.tag(tokens)\n",
        "print(\"Tagged Sentence (Lookup Tagger):\", tagged)\n"
      ],
      "metadata": {
        "colab": {
          "base_uri": "https://localhost:8080/"
        },
        "id": "kmGi_kKZ8zXK",
        "outputId": "54092cbd-a530-4521-8ede-d4cf981cba65"
      },
      "execution_count": 24,
      "outputs": [
        {
          "output_type": "stream",
          "name": "stdout",
          "text": [
            "Tagged Sentence (Lookup Tagger): [('The', 'AT'), ('city', 'NN'), ('of', 'IN'), ('London', 'NP'), ('is', 'BEZ'), ('beautiful', 'JJ'), ('.', '.')]\n"
          ]
        }
      ]
    },
    {
      "cell_type": "markdown",
      "source": [
        "![image.png](data:image/png;base64,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)"
      ],
      "metadata": {
        "id": "pp0fm07i-A3B"
      }
    },
    {
      "cell_type": "markdown",
      "source": [
        "Solution: Create custom evaluate function and find accuracy"
      ],
      "metadata": {
        "id": "eAKVzhV2-azd"
      }
    },
    {
      "cell_type": "code",
      "source": [
        "import nltk\n",
        "from nltk.corpus import brown\n",
        "from nltk import DefaultTagger\n",
        "from collections import defaultdict\n",
        "\n",
        "#============== just to remove warning message\n",
        "import warnings  # Import warnings module\n",
        "\n",
        "# Ignore deprecation and resource warnings\n",
        "warnings.filterwarnings(\"ignore\", category=DeprecationWarning)\n",
        "warnings.filterwarnings(\"ignore\", category=ResourceWarning)\n",
        "\n",
        "#=================\n",
        "\n",
        "# Training and testing data from Brown corpus\n",
        "brown_tagged_sents = brown.tagged_sents(categories='news')\n",
        "train_data = brown_tagged_sents[:4000]  # Training on the first 4000 sentences\n",
        "test_data = brown_tagged_sents[4000:]   # Testing on the rest\n",
        "\n",
        "# Building a lookup dictionary based on training data\n",
        "lookup_dict = defaultdict(lambda: 'NN')  # Default tag is 'NN'\n",
        "for sent in train_data:\n",
        "    for word, tag in sent:\n",
        "        if word not in lookup_dict:\n",
        "            lookup_dict[word] = tag  # Assign the most frequent tag\n",
        "\n",
        "# Creating a custom Lookup Tagger based on the dictionary\n",
        "class LookupTagger:\n",
        "    def __init__(self, lookup_dict):\n",
        "        self.lookup_dict = lookup_dict\n",
        "\n",
        "    def tag(self, tokens):\n",
        "        return [(word, self.lookup_dict.get(word, 'NN')) for word in tokens]\n",
        "\n",
        "    def evaluate(self, test_data):\n",
        "        correct = 0\n",
        "        total = 0\n",
        "        for sent in test_data:\n",
        "            words = [word for word, _ in sent]\n",
        "            gold_tags = [tag for _, tag in sent]\n",
        "            predicted_tags = [tag for _, tag in self.tag(words)]\n",
        "            correct += sum(1 for gold, predicted in zip(gold_tags, predicted_tags) if gold == predicted)\n",
        "            total += len(gold_tags)\n",
        "        return correct / total\n",
        "\n",
        "# Example sentence\n",
        "sentence = \"The city of London is beautiful.\"\n",
        "tokens = nltk.word_tokenize(sentence)\n",
        "\n",
        "# Tagging the sentence using LookupTagger\n",
        "lookup_tagger = LookupTagger(lookup_dict)\n",
        "tagged = lookup_tagger.tag(tokens)\n",
        "print(\"Tagged Sentence (Lookup Tagger):\", tagged)\n",
        "\n",
        "# Evaluate the Lookup Tagger on the test set\n",
        "accuracy = lookup_tagger.evaluate(test_data)\n",
        "print(\"Accuracy of Lookup Tagger on Brown corpus:\", accuracy)\n"
      ],
      "metadata": {
        "colab": {
          "base_uri": "https://localhost:8080/"
        },
        "id": "JTFMSEv9-EM9",
        "outputId": "3bf36f28-ec66-4dbb-b086-174b6397819d"
      },
      "execution_count": 27,
      "outputs": [
        {
          "output_type": "stream",
          "name": "stdout",
          "text": [
            "Tagged Sentence (Lookup Tagger): [('The', 'AT'), ('city', 'NN'), ('of', 'IN'), ('London', 'NP'), ('is', 'BEZ'), ('beautiful', 'JJ'), ('.', '.')]\n",
            "Accuracy of Lookup Tagger on Brown corpus: 0.8230930615914881\n"
          ]
        }
      ]
    },
    {
      "cell_type": "markdown",
      "source": [
        "\n",
        "### **5. N-Gram Taggers (Bigram Tagger)**\n",
        "\n",
        "The **bigram tagger** improves accuracy by considering not just the current word but also the tag of the preceding word when assigning a part of speech. This is the simplest form of **contextual taggers**, and it accounts for **bigram** relationships between words and their tags.\n",
        "\n"
      ],
      "metadata": {
        "id": "CzMvFAiK7_yp"
      }
    },
    {
      "cell_type": "markdown",
      "source": [
        "#### How It Works:\n",
        "- The bigram tagger looks at the current word and the POS tag of the previous word to decide the correct tag.\n",
        "  \n"
      ],
      "metadata": {
        "id": "jKkcPcZ97_vQ"
      }
    },
    {
      "cell_type": "markdown",
      "source": [
        "#### Example:\n",
        "- In the sentence \"She can fish,\" the word \"can\" could be ambiguous. If the previous word is \"She,\" a **bigram tagger** would recognize that \"can\" is more likely to be a modal auxiliary (**MD**) than a verb.\n",
        "\n"
      ],
      "metadata": {
        "id": "a7ZY3f6Z7_tC"
      }
    },
    {
      "cell_type": "markdown",
      "source": [
        "#### Advantages:\n",
        "- It provides greater accuracy for tagging sequences of words than unigram or lookup taggers.\n",
        "  \n"
      ],
      "metadata": {
        "id": "MpdWSwGk7_qm"
      }
    },
    {
      "cell_type": "markdown",
      "source": [
        "#### Limitations:\n",
        "- **Data Sparsity**: Bigram taggers can run into issues with rare or unseen word pairs in smaller corpora, leading to misclassification.\n"
      ],
      "metadata": {
        "id": "R1oHegVP7_n6"
      }
    },
    {
      "cell_type": "markdown",
      "source": [
        "#### Demonstration"
      ],
      "metadata": {
        "id": "HN3hkd5g7_lc"
      }
    },
    {
      "cell_type": "code",
      "source": [
        "import nltk\n",
        "from nltk.corpus import brown\n",
        "from nltk import BigramTagger, DefaultTagger, UnigramTagger\n",
        "\n",
        "#============== just to remove warning message\n",
        "import warnings  # Import warnings module\n",
        "\n",
        "# Ignore deprecation and resource warnings\n",
        "warnings.filterwarnings(\"ignore\", category=DeprecationWarning)\n",
        "warnings.filterwarnings(\"ignore\", category=ResourceWarning)\n",
        "\n",
        "#=================\n",
        "\n",
        "# Training and testing data from Brown corpus\n",
        "brown_tagged_sents = brown.tagged_sents(categories='news')\n",
        "train_data = brown_tagged_sents[:4000]  # Training on the first 4000 sentences\n",
        "test_data = brown_tagged_sents[4000:]   # Testing on the rest\n",
        "\n",
        "# Create a DefaultTagger as backoff to handle unseen words\n",
        "default_tagger = DefaultTagger('NN')\n",
        "\n",
        "# Create a UnigramTagger with backoff to handle unseen bigram contexts\n",
        "unigram_tagger = UnigramTagger(train_data, backoff=default_tagger)\n",
        "\n",
        "# Train a BigramTagger with backoff\n",
        "bigram_tagger = BigramTagger(train_data, backoff=unigram_tagger)\n",
        "\n",
        "# Example sentence\n",
        "sentence = \"The city of London is beautiful.\"\n",
        "tokens = nltk.word_tokenize(sentence)\n",
        "\n",
        "# Tagging the sentence using Bigram Tagger\n",
        "tagged = bigram_tagger.tag(tokens)\n",
        "print(\"Tagged Sentence (Bigram Tagger with Backoff):\", tagged)\n",
        "\n",
        "# Evaluate the Bigram Tagger on the test set\n",
        "accuracy = bigram_tagger.evaluate(test_data)\n",
        "print(\"Accuracy of Bigram Tagger on Brown corpus:\", accuracy)\n"
      ],
      "metadata": {
        "colab": {
          "base_uri": "https://localhost:8080/"
        },
        "id": "eQ9l6zvU8GV9",
        "outputId": "b9fabd64-3ea4-498f-ae8e-b2864f1de448"
      },
      "execution_count": 25,
      "outputs": [
        {
          "output_type": "stream",
          "name": "stdout",
          "text": [
            "Tagged Sentence (Bigram Tagger with Backoff): [('The', 'AT'), ('city', 'NN'), ('of', 'IN'), ('London', 'NP'), ('is', 'BEZ'), ('beautiful', 'JJ'), ('.', '.')]\n",
            "Accuracy of Bigram Tagger on Brown corpus: 0.8427244118087817\n"
          ]
        }
      ]
    },
    {
      "cell_type": "markdown",
      "source": [
        "### **6. N-Gram Taggers (Trigram)**\n",
        "\n",
        "**N-gram taggers** consider the tags of surrounding words (context) to make better tagging decisions. In particular, **bigram** and **trigram** taggers use the previous one or two tags, respectively, to predict the tag for the current word.\n",
        "\n"
      ],
      "metadata": {
        "id": "6QZrycTr2UvH"
      }
    },
    {
      "cell_type": "markdown",
      "source": [
        "#### How It Works:\n",
        "- **Bigram taggers** look at the current word and the tag of the previous word to predict the POS tag.\n",
        "- **Trigram taggers** look at the current word and the tags of the two preceding words.\n",
        "  \n",
        "This approach introduces contextual information, which can greatly improve accuracy over the unigram tagger.\n",
        "\n"
      ],
      "metadata": {
        "id": "GSMgtJpi2UyQ"
      }
    },
    {
      "cell_type": "markdown",
      "source": [
        "#### Example:\n",
        "- In the sentence \"I can fish,\" the word \"can\" might be ambiguous (it can be a verb or a modal auxiliary). If the previous word was \"I\" (a pronoun), the tagger would more likely tag \"can\" as a modal auxiliary (**MD**), rather than a verb.\n",
        "\n"
      ],
      "metadata": {
        "id": "McmdVffp2U1H"
      }
    },
    {
      "cell_type": "markdown",
      "source": [
        "#### Advantages:\n",
        "- By using context, N-gram taggers can resolve some ambiguities that unigram taggers cannot.\n",
        "  \n"
      ],
      "metadata": {
        "id": "tf-Jd7MH2U37"
      }
    },
    {
      "cell_type": "markdown",
      "source": [
        "#### Limitations:\n",
        "- **Data Sparsity**: As the N value increases (bigram, trigram), the model becomes more reliant on large amounts of training data. For rare combinations of words and tags, the model may not perform well.\n",
        "- **Overfitting**: N-gram taggers may overfit to the training data, especially when there are unique or rare tag sequences.\n",
        "\n"
      ],
      "metadata": {
        "id": "64oAX9CG2U64"
      }
    },
    {
      "cell_type": "markdown",
      "source": [
        "#### Demonstration"
      ],
      "metadata": {
        "id": "BaKjpUCu4vle"
      }
    },
    {
      "cell_type": "code",
      "source": [
        "from nltk import BigramTagger, TrigramTagger\n",
        "\n",
        "#============== just to remove warning message\n",
        "import warnings  # Import warnings module\n",
        "\n",
        "# Ignore deprecation and resource warnings\n",
        "warnings.filterwarnings(\"ignore\", category=ResourceWarning)\n",
        "\n",
        "#=================\n",
        "\n",
        "\n",
        "# Train Bigram and Trigram Taggers with backoff strategy\n",
        "bigram_tagger = BigramTagger(train_data, backoff=unigram_tagger)\n",
        "trigram_tagger = TrigramTagger(train_data, backoff=bigram_tagger)\n",
        "\n",
        "# Example sentence\n",
        "sentence = \"The quick brown fox jumps over the lazy dog.\"\n",
        "tokens = nltk.word_tokenize(sentence)\n",
        "\n",
        "# Apply Trigram Tagger with backoff\n",
        "tagged = trigram_tagger.tag(tokens)\n",
        "print(\"Tagged Sentence (Trigram Tagger with Backoff):\", tagged)\n",
        "\n",
        "# Evaluate Trigram Tagger on the test set\n",
        "accuracy = trigram_tagger.evaluate(test_data)\n",
        "print(\"Accuracy of Trigram Tagger on Brown corpus:\", accuracy)\n"
      ],
      "metadata": {
        "colab": {
          "base_uri": "https://localhost:8080/"
        },
        "id": "2Hi_Nllj4xRV",
        "outputId": "0f69f7b4-6a17-4620-f7af-2e68233156fa"
      },
      "execution_count": 23,
      "outputs": [
        {
          "output_type": "stream",
          "name": "stdout",
          "text": [
            "Tagged Sentence (Trigram Tagger with Backoff): [('The', 'AT'), ('quick', 'JJ'), ('brown', 'NN'), ('fox', 'NN'), ('jumps', 'NN'), ('over', 'IN'), ('the', 'AT'), ('lazy', 'NN'), ('dog', 'NN'), ('.', '.')]\n",
            "Accuracy of Trigram Tagger on Brown corpus: 0.8413007642739397\n"
          ]
        }
      ]
    },
    {
      "cell_type": "markdown",
      "source": [
        "### **7. Backoff Tagging**\n",
        "\n",
        "A **backoff tagger** is a method of combining multiple tagging strategies to improve accuracy. When one tagger (usually a more complex one like a trigram tagger) fails to tag a word, it backs off to a simpler tagger (like a bigram tagger), and so on, eventually backing off to a default tagger if no other taggers succeed.\n",
        "\n"
      ],
      "metadata": {
        "id": "_1-XPXgV2U9Z"
      }
    },
    {
      "cell_type": "markdown",
      "source": [
        "#### How It Works:\n",
        "- First, the model attempts to tag using the most sophisticated tagger (e.g., trigram tagger).\n",
        "- If the trigram tagger cannot make a decision, the model \"backs off\" to the bigram tagger.\n",
        "- If the bigram tagger fails, the model backs off to a unigram tagger.\n",
        "- Finally, if none of the models can tag a word, the default tagger is used as a last resort.\n",
        "\n"
      ],
      "metadata": {
        "id": "aEOSFaCv2VAS"
      }
    },
    {
      "cell_type": "markdown",
      "source": [
        "#### Example:\n",
        "- Sentence: \"The dog barked loudly.\"\n",
        "  - The trigram tagger might assign tags for \"The dog barked\" based on context, but for \"loudly,\" it could fail to find a suitable tag if the word hasn't been seen in that context. The bigram or unigram tagger can then back off and assign the appropriate tag (**RB** for adverb).\n",
        "\n"
      ],
      "metadata": {
        "id": "Hu5kJNRj2VC9"
      }
    },
    {
      "cell_type": "markdown",
      "source": [
        "#### Advantages:\n",
        "- Backoff tagging significantly improves accuracy by combining the strengths of different tagging methods.\n",
        "  \n"
      ],
      "metadata": {
        "id": "d1PRJ1yF2VF3"
      }
    },
    {
      "cell_type": "markdown",
      "source": [
        "#### Limitations:\n",
        "- While backoff strategies improve accuracy, the overall performance is still limited by the effectiveness of the individual taggers involved.\n",
        "\n"
      ],
      "metadata": {
        "id": "2yc764cj2VJG"
      }
    },
    {
      "cell_type": "markdown",
      "source": [
        "#### Demonstration"
      ],
      "metadata": {
        "id": "EfDFzFpb4yLF"
      }
    },
    {
      "cell_type": "code",
      "source": [
        "# Full backoff chain: Trigram -> Bigram -> Unigram -> Default\n",
        "backoff_tagger = TrigramTagger(\n",
        "    train_data,\n",
        "    backoff=BigramTagger(\n",
        "        train_data,\n",
        "        backoff=UnigramTagger(\n",
        "            train_data,\n",
        "            backoff=DefaultTagger('NN')\n",
        "        )\n",
        "    )\n",
        ")\n",
        "\n",
        "# Example sentences to demonstrate how backoff works\n",
        "sentences = [\n",
        "    \"The quick brown fox jumps over the lazy dog.\",\n",
        "    \"This is a beautiful day for a walk.\",\n",
        "    \"Computers can learn complex patterns with enough data.\"\n",
        "]\n",
        "\n",
        "# Tokenize and apply the backoff tagger to each sentence\n",
        "for sentence in sentences:\n",
        "    tokens = nltk.word_tokenize(sentence)\n",
        "    tagged = backoff_tagger.tag(tokens)\n",
        "    print(\"Tagged Sentence (Backoff Tagger):\", tagged)\n",
        "\n",
        "# Evaluate the full backoff tagger on the test set\n",
        "accuracy = backoff_tagger.evaluate(test_data)\n",
        "print(\"Accuracy of Full Backoff Tagger on Brown corpus:\", accuracy)\n"
      ],
      "metadata": {
        "colab": {
          "base_uri": "https://localhost:8080/"
        },
        "id": "-WacfG9-4zig",
        "outputId": "4c7de3ee-3c22-4a46-9b4e-5c15cbdc31cc"
      },
      "execution_count": 22,
      "outputs": [
        {
          "output_type": "stream",
          "name": "stdout",
          "text": [
            "Tagged Sentence (Backoff Tagger): [('The', 'AT'), ('quick', 'JJ'), ('brown', 'NN'), ('fox', 'NN'), ('jumps', 'NN'), ('over', 'IN'), ('the', 'AT'), ('lazy', 'NN'), ('dog', 'NN'), ('.', '.')]\n",
            "Tagged Sentence (Backoff Tagger): [('This', 'DT'), ('is', 'BEZ'), ('a', 'AT'), ('beautiful', 'JJ'), ('day', 'NN'), ('for', 'IN'), ('a', 'AT'), ('walk', 'NN'), ('.', '.')]\n",
            "Tagged Sentence (Backoff Tagger): [('Computers', 'NN'), ('can', 'MD'), ('learn', 'VB'), ('complex', 'JJ'), ('patterns', 'NN'), ('with', 'IN'), ('enough', 'AP'), ('data', 'NN'), ('.', '.')]\n",
            "Accuracy of Full Backoff Tagger on Brown corpus: 0.8413007642739397\n"
          ]
        }
      ]
    },
    {
      "cell_type": "markdown",
      "source": [
        "### **8. Brill Tagger (Transformation-Based Tagger)**\n",
        "\n",
        "The **Brill tagger**, also known as a **transformation-based tagger**, is a **rule-based** approach to POS tagging, but unlike traditional rule-based taggers, the rules are **automatically learned** from the data. The Brill tagger starts by tagging all words using a simple method (often unigram or default tagging) and then **refines the tags** by applying a sequence of transformation rules.\n",
        "\n"
      ],
      "metadata": {
        "id": "B8McU0cw7mAL"
      }
    },
    {
      "cell_type": "markdown",
      "source": [
        "#### How It Works:\n",
        "1. Initially, words are tagged with a baseline tagger (e.g., a default or unigram tagger).\n",
        "2. The Brill tagger then learns transformation rules from errors made by the initial tagger. For instance, it might learn a rule to change a noun tag to a verb when the word follows an auxiliary verb.\n",
        "3. These transformation rules are applied iteratively to fix incorrect tags and improve accuracy.\n",
        "\n"
      ],
      "metadata": {
        "id": "5NupI7Mm8eeF"
      }
    },
    {
      "cell_type": "markdown",
      "source": [
        "#### Example of Transformation Rules:\n",
        "- If a word is tagged as **NN** (noun) but follows a determiner like \"a\" or \"the,\" it should be re-tagged as **VB** (verb).\n",
        "  \n"
      ],
      "metadata": {
        "id": "TpTjjGgk8eay"
      }
    },
    {
      "cell_type": "markdown",
      "source": [
        "#### Advantages:\n",
        "- **Learned Rules**: The rules are data-driven, meaning they are learned from a corpus, allowing the Brill tagger to adapt to different types of text.\n",
        "- **Transparency**: The rules are interpretable and can be manually reviewed and tweaked.\n",
        "  \n"
      ],
      "metadata": {
        "id": "CTSaafug8hoH"
      }
    },
    {
      "cell_type": "markdown",
      "source": [
        "#### Limitations:\n",
        "- **Complexity**: While powerful, the Brill tagger can be slower compared to purely statistical taggers due to the iterative rule-learning process.\n",
        "- **Requires Large Corpora**: It requires a significant amount of training data to generate meaningful transformation rules.\n"
      ],
      "metadata": {
        "id": "1wYoDmQp8hkk"
      }
    },
    {
      "cell_type": "markdown",
      "source": [
        "#### Demonstration"
      ],
      "metadata": {
        "id": "77Kz_rsM8jV9"
      }
    },
    {
      "cell_type": "code",
      "source": [
        "import nltk\n",
        "from nltk.corpus import brown\n",
        "from nltk.tag import brill, brill_trainer\n",
        "from nltk import UnigramTagger, DefaultTagger\n",
        "\n",
        "#============== just to remove warning message\n",
        "import warnings  # Import warnings module\n",
        "\n",
        "# Ignore deprecation and resource warnings\n",
        "warnings.filterwarnings(\"ignore\", category=DeprecationWarning)\n",
        "warnings.filterwarnings(\"ignore\", category=ResourceWarning)\n",
        "\n",
        "#=================\n",
        "\n",
        "# Training and testing data from Brown corpus\n",
        "brown_tagged_sents = brown.tagged_sents(categories='news')\n",
        "train_data = brown_tagged_sents[:4000]  # Training on the first 4000 sentences\n",
        "test_data = brown_tagged_sents[4000:]   # Testing on the rest\n",
        "\n",
        "# Create a DefaultTagger as backoff to handle unseen words\n",
        "default_tagger = DefaultTagger('NN')\n",
        "\n",
        "# Train a UnigramTagger with backoff\n",
        "unigram_tagger = UnigramTagger(train_data, backoff=default_tagger)\n",
        "\n",
        "# Define Brill Tagger's templates for transformation rules\n",
        "templates = brill.nltkdemo18()  # Predefined templates from NLTK\n",
        "\n",
        "# Train Brill Tagger using a Brill Trainer\n",
        "trainer = brill_trainer.BrillTaggerTrainer(initial_tagger=unigram_tagger, templates=templates)\n",
        "brill_tagger = trainer.train(train_data)\n",
        "\n",
        "# Example sentence\n",
        "sentence = \"The city of London is beautiful.\"\n",
        "tokens = nltk.word_tokenize(sentence)\n",
        "\n",
        "# Tagging the sentence using Brill Tagger\n",
        "tagged = brill_tagger.tag(tokens)\n",
        "print(\"Tagged Sentence (Brill Tagger):\", tagged)\n",
        "\n",
        "# Evaluate the Brill Tagger on the test set\n",
        "accuracy = brill_tagger.evaluate(test_data)\n",
        "print(\"Accuracy of Brill Tagger on Brown corpus:\", accuracy)\n"
      ],
      "metadata": {
        "colab": {
          "base_uri": "https://localhost:8080/"
        },
        "id": "wTULvsos8kvj",
        "outputId": "2fc1844a-0df8-4113-e819-cf00323661c4"
      },
      "execution_count": 26,
      "outputs": [
        {
          "output_type": "stream",
          "name": "stdout",
          "text": [
            "Tagged Sentence (Brill Tagger): [('The', 'AT'), ('city', 'NN'), ('of', 'IN'), ('London', 'NP'), ('is', 'BEZ'), ('beautiful', 'JJ'), ('.', '.')]\n",
            "Accuracy of Brill Tagger on Brown corpus: 0.8572606024276936\n"
          ]
        }
      ]
    }
  ]
}