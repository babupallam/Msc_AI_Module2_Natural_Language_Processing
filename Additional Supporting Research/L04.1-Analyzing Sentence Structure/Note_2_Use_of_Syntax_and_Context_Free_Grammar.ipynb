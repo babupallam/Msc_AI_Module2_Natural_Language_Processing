{
  "nbformat": 4,
  "nbformat_minor": 0,
  "metadata": {
    "colab": {
      "provenance": [],
      "toc_visible": true,
      "authorship_tag": "ABX9TyN1Vi1OFk8v93Lz422Yc+aO",
      "include_colab_link": true
    },
    "kernelspec": {
      "name": "python3",
      "display_name": "Python 3"
    },
    "language_info": {
      "name": "python"
    }
  },
  "cells": [
    {
      "cell_type": "markdown",
      "metadata": {
        "id": "view-in-github",
        "colab_type": "text"
      },
      "source": [
        "<a href=\"https://colab.research.google.com/github/babupallam/Msc_AI_Module2_Natural_Language_Processing/blob/main/L05-Analyzing%20Sentence%20Structure/Note_2_Use_of_Syntax_and_Context_Free_Grammar.ipynb\" target=\"_parent\"><img src=\"https://colab.research.google.com/assets/colab-badge.svg\" alt=\"Open In Colab\"/></a>"
      ]
    },
    {
      "cell_type": "markdown",
      "source": [
        "## **2. What's the Use of Syntax?**\n"
      ],
      "metadata": {
        "id": "wvhVpS2vwXzF"
      }
    },
    {
      "cell_type": "markdown",
      "source": [
        "\n",
        "- Syntax helps us understand and create meaningful sentences.\n",
        "  - For example, in the sentence \"The cat chased the mouse,\" syntax tells us that \"the cat\" is performing the action and \"the mouse\" is receiving it.\n",
        "- It provides a structure for organizing words to make sense.\n",
        "  - Without syntax, word arrangements like \"mouse the cat chased\" would be confusing or meaningless.\n",
        "- Syntax helps reduce confusion and makes language easier to understand.\n",
        "  - It clarifies the roles of different words in a sentence.\n"
      ],
      "metadata": {
        "id": "C4xmhCBR3J4Y"
      }
    },
    {
      "cell_type": "markdown",
      "source": [
        "\n",
        "### **2.1 Beyond n-grams**\n"
      ],
      "metadata": {
        "id": "5DRhEZks3J_U"
      }
    },
    {
      "cell_type": "markdown",
      "source": [
        "\n",
        "#### **Syntax and Its Role in Language Understanding**\n",
        "  - Syntax defines rules that help us understand relationships between words.\n",
        "  - For example, \"The cat chased the mouse\" uses syntax to tell us who did the action (the cat) and what was acted upon (the mouse).\n",
        "  - Without clear syntax, the relationships between words can become unclear, leading to confusion.\n"
      ],
      "metadata": {
        "id": "MkZ2WQ-n3KBp"
      }
    },
    {
      "cell_type": "markdown",
      "source": [
        "\n",
        "#### **Syntax as a System for Structuring Words**\n",
        "  - Syntax arranges words in a way that makes meaning clear.\n",
        "  - For example, changing word order can change the meaning completely:\n",
        "    - \"The dog bites the man\" is very different from \"The man bites the dog.\"\n",
        "    - In both cases, syntax helps us understand who is doing the action.\n",
        "\n"
      ],
      "metadata": {
        "id": "92flK0Kc3KDT"
      }
    },
    {
      "cell_type": "markdown",
      "source": [
        "#### **Limitations of n-gram Models**\n",
        "\n",
        "N-gram models predict the next word based on a fixed number of preceding words, which leads to several limitations in understanding complex grammar and relationships in sentences:\n"
      ],
      "metadata": {
        "id": "myURUSGT3KE5"
      }
    },
    {
      "cell_type": "markdown",
      "source": [
        "\n",
        "##### **1. Limited Context and Lack of Grammatical Understanding**\n",
        "\n",
        "- N-gram models consider only a fixed number of preceding words, lacking an understanding of grammatical rules such as subject-verb agreement or sentence structure.\n",
        "- **Example:**\n",
        "  - A bigram model (n=2) may correctly predict common sequences like \"the cat\" or \"a dog\" because they frequently appear together.\n",
        "  - For a longer sequence like \"the cat the dog chased ran away,\" an n-gram model may consider this valid based on individual word pairs (e.g., \"the cat,\" \"cat the\"), but the resulting sentence is not grammatically correct.\n",
        "\n"
      ],
      "metadata": {
        "id": "xRJT1GNbD2Eq"
      }
    },
    {
      "cell_type": "markdown",
      "source": [
        "##### **2. Inability to Capture Long-Distance Dependencies**\n",
        "\n",
        "- N-gram models struggle with long-distance relationships between words, which are crucial for complex grammatical structures.\n",
        "- **Example:**\n",
        "  - Consider the sentence: \"The dog that runs fast is happy.\"\n",
        "  - The subject \"dog\" is linked to the verb \"is,\" but an n-gram model that only uses fixed word sequences (e.g., trigrams) cannot easily establish this connection due to the intervening phrase \"that runs fast.\"\n",
        "  \n",
        "  - **Demonstration in Python:**\n"
      ],
      "metadata": {
        "id": "P5GlR5g5D15y"
      }
    },
    {
      "cell_type": "code",
      "source": [
        "# We are importing the 'bigrams' function from the nltk library.\n",
        "# 'bigrams' helps us take a sentence and create pairs of consecutive words.\n",
        "from nltk import bigrams\n",
        "\n",
        "# This is a sentence in the form of a string: \"The dog that runs fast is happy\".\n",
        "# The .split() method breaks this sentence into separate words, creating a list of words.\n",
        "# After the split, the sentence becomes: ['The', 'dog', 'that', 'runs', 'fast', 'is', 'happy'].\n",
        "sentence = \"The dog that runs fast is happy\".split()\n",
        "\n",
        "# Now we use 'bigrams' to create pairs of consecutive words from the sentence.\n",
        "# For example, the first pair will be ('The', 'dog'), the second pair ('dog', 'that'), and so on.\n",
        "# The bigrams function creates an iterator, so we use list() to turn it into a list we can print or use.\n",
        "bi_grams = list(bigrams(sentence))\n",
        "\n",
        "# Finally, we print the list of word pairs (bigrams).\n",
        "print(bi_grams)\n"
      ],
      "metadata": {
        "id": "7G0C5vIdEPrO",
        "outputId": "1c190155-e7cb-4c33-d124-cfad59ba4e65",
        "colab": {
          "base_uri": "https://localhost:8080/"
        }
      },
      "execution_count": null,
      "outputs": [
        {
          "output_type": "stream",
          "name": "stdout",
          "text": [
            "[('The', 'dog'), ('dog', 'that'), ('that', 'runs'), ('runs', 'fast'), ('fast', 'is'), ('is', 'happy')]\n"
          ]
        }
      ]
    },
    {
      "cell_type": "markdown",
      "source": [
        "\n",
        "##### **3. Lack of Generalization**\n",
        "\n",
        "- N-gram models rely heavily on statistical frequencies, making them poor at generalizing beyond frequently occurring word sequences.\n",
        "- **Example:**\n",
        "  - A trigram model may predict a common sequence like \"I am going\" but fail to generate a less common but grammatically valid phrase like \"I am contemplating.\"\n",
        "  - This is because the model's predictions are biased toward frequent word combinations, limiting creativity and generalization.\n"
      ],
      "metadata": {
        "id": "YYQAVWz8D1g4"
      }
    },
    {
      "cell_type": "markdown",
      "source": [
        "## **3. Context-Free Grammar**\n",
        "\n",
        "- Context-Free Grammar (CFG) is a way to describe the structure of sentences using rules.\n",
        "- CFG is widely used in natural language processing to represent how sentences are built.\n",
        "\n"
      ],
      "metadata": {
        "id": "EThmu20Y3KHc"
      }
    },
    {
      "cell_type": "markdown",
      "source": [
        "### **3.1 A Simple Grammar**\n",
        "\n"
      ],
      "metadata": {
        "id": "J3HPY14F3KKG"
      }
    },
    {
      "cell_type": "markdown",
      "source": [
        "#### **Introduction to CFG**\n",
        "  - CFG uses a set of rules to create valid sentences.\n",
        "  - These rules break down sentences into smaller parts like phrases and words.\n",
        "\n"
      ],
      "metadata": {
        "id": "dL3Zw_3w3KOa"
      }
    },
    {
      "cell_type": "markdown",
      "source": [
        "#### **Components of Context-Free Grammar (CFG)**\n",
        "\n",
        "A Context-Free Grammar (CFG) is a formalism used to describe the syntax of a language. CFGs are widely used in natural language processing and computational linguistics to represent the rules that govern the structure of valid sentences. CFGs consist of several key components that work together to define how a sentence can be constructed.\n"
      ],
      "metadata": {
        "id": "Fh0zj1113KSu"
      }
    },
    {
      "cell_type": "markdown",
      "source": [
        "\n",
        "##### **1. Terminals**\n",
        "- **Definition**: Terminals are the basic symbols or words that appear in a sentence. These are the actual words of the language and cannot be broken down further.\n",
        "- **Examples**:\n",
        "  - Words like \"cat,\" \"runs,\" \"the,\" and \"dog\" are terminals.\n",
        "  - In the rule `NP -> Det N`, the words \"the\" and \"cat\" are terminals that appear in the final generated sentence.\n",
        "\n"
      ],
      "metadata": {
        "id": "BeX6DBysKBYT"
      }
    },
    {
      "cell_type": "markdown",
      "source": [
        "##### **2. Non-terminals**\n",
        "- **Definition**: Non-terminals are symbols used to represent parts of a sentence. These symbols are placeholders that can be expanded using production rules until they are replaced by terminals.\n",
        "- **Examples**:\n",
        "  - Symbols like `S`, `NP`, `VP`, `Det`, and `N` are non-terminals.\n",
        "  - `NP` represents a noun phrase, `VP` represents a verb phrase, and `S` represents a complete sentence.\n",
        "  - These symbols are used to break down the sentence into its constituent parts during parsing.\n",
        "\n"
      ],
      "metadata": {
        "id": "BHc6F8MFKBKP"
      }
    },
    {
      "cell_type": "markdown",
      "source": [
        "##### **3. Rules/Productions**\n",
        "- **Definition**: Production rules define how non-terminals can be expanded into terminals or other non-terminals. Each production rule describes a possible structure or combination of components that can form a valid part of the sentence.\n",
        "- **Examples of Production Rules**:\n",
        "  - `S -> NP VP`: This rule states that a sentence (`S`) consists of a noun phrase (`NP`) followed by a verb phrase (`VP`).\n",
        "  - `NP -> Det N`: This rule indicates that a noun phrase (`NP`) consists of a determiner (`Det`) followed by a noun (`N`).\n",
        "  - `VP -> V NP`: This rule defines that a verb phrase (`VP`) consists of a verb (`V`) followed by a noun phrase (`NP`).\n",
        "- **Explanation**:\n",
        "  - Production rules are applied recursively, expanding non-terminals until they result in a sequence of terminals, thereby generating a valid sentence.\n",
        "\n"
      ],
      "metadata": {
        "id": "GmheSz4hKAmx"
      }
    },
    {
      "cell_type": "markdown",
      "source": [
        "##### **4. Example Sentence Generation**\n",
        "- **Using the Production Rules**:\n",
        "  - Consider the following production rules:\n",
        "    - `S -> NP VP`\n",
        "    - `NP -> Det N`\n",
        "    - `VP -> V NP`\n",
        "    - `Det -> 'the'`\n",
        "    - `N -> 'dog' | 'cat'`\n",
        "    - `V -> 'chased'`\n",
        "  - By applying these rules, we can generate the sentence \"The dog chased the cat.\"\n",
        "    - Step-by-step expansion:\n",
        "      1. Start with `S`.\n",
        "      2. Apply `S -> NP VP` to get `NP VP`.\n",
        "      3. Expand `NP` using `NP -> Det N` to get `Det N`.\n",
        "      4. Expand `Det` to `the` and `N` to `dog`, resulting in `the dog`.\n",
        "      5. Expand `VP` using `VP -> V NP` to get `V NP`.\n",
        "      6. Expand `V` to `chased` and `NP` to `Det N` again.\n",
        "      7. Expand `Det` to `the` and `N` to `cat`, resulting in `the cat`.\n",
        "      8. The final sentence is \"The dog chased the cat.\"\n"
      ],
      "metadata": {
        "id": "bxO4nTzuKFQh"
      }
    },
    {
      "cell_type": "markdown",
      "source": [
        "### **3.2 Writing Your Own Grammars**\n"
      ],
      "metadata": {
        "id": "9Tvvao8v3KVt"
      }
    },
    {
      "cell_type": "markdown",
      "source": [
        "\n",
        "#### **Techniques for Writing CFGs in NLTK**\n",
        "  - NLTK is a popular Python library used for natural language processing, and it allows users to define CFGs.\n",
        "  - This grammar can generate sentences like \"The dog chased the cat\" or \"The cat saw the dog.\"\n"
      ],
      "metadata": {
        "id": "vclq9UWQ3KYl"
      }
    },
    {
      "source": [
        "from nltk import CFG\n",
        "\n",
        "# Define a simple CFG using the 'fromstring' method.\n",
        "# The grammar rules are specified inside a triple-quoted string.\n",
        "# Remove comments or place them on separate lines to avoid errors.\n",
        "grammar = CFG.fromstring(\"\"\"\n",
        "S -> NP VP\n",
        "NP -> Det N\n",
        "VP -> V NP\n",
        "Det -> 'the'\n",
        "N -> 'dog' | 'cat'\n",
        "V -> 'chased' | 'saw'\n",
        "\"\"\")"
      ],
      "cell_type": "code",
      "metadata": {
        "id": "0RNdACOeJeRI"
      },
      "execution_count": null,
      "outputs": []
    },
    {
      "cell_type": "markdown",
      "source": [
        "\n",
        "#### **Practical Considerations in Grammar Creation**\n",
        "  - Make sure your grammar covers enough types of sentences without allowing incorrect ones.\n",
        "  - For example, the rule `S -> NP VP` is flexible enough to generate many valid sentences but also specific enough to avoid nonsense sentences.\n",
        "  - CFGs can sometimes produce multiple valid structures for the same sentence, leading to ambiguity.\n",
        "    - For instance, \"I saw the man with the telescope\" can mean either that you used the telescope to see the man or that the man had a telescope. Carefully designed rules can help manage such ambiguity.\n",
        "\n"
      ],
      "metadata": {
        "id": "6KMCvbhX3KcX"
      }
    },
    {
      "cell_type": "markdown",
      "source": [
        "### **3.3 Recursion in Syntactic Structure**\n"
      ],
      "metadata": {
        "id": "jzE5IwsN3Keq"
      }
    },
    {
      "cell_type": "markdown",
      "source": [
        "\n",
        "#### **Understanding Recursion in CFG**\n",
        "  - Recursion allows CFGs to represent complex and nested sentence structures.\n",
        "  - For example:\n",
        "    - `NP -> NP PP`\n",
        "    - `PP -> P NP`\n",
        "    - `P -> 'with'`\n",
        "    - `N -> 'telescope'`\n",
        "  - These rules allow for sentences like \"The man with the telescope with the lens,\" where phrases are nested within each other.\n",
        "\n"
      ],
      "metadata": {
        "id": "DeTu-ugt3Kg4"
      }
    },
    {
      "cell_type": "markdown",
      "source": [
        "#### **Direct and Indirect Recursion**\n",
        "  - **Direct Recursion**: A rule refers to itself directly.\n",
        "    - Example: `NP -> NP PP`.\n",
        "    - This allows phrases to expand repeatedly, such as \"The book on the table in the room.\"\n",
        "  - **Indirect Recursion**: A rule refers back to itself through other rules.\n",
        "    - Example: `S -> NP VP` and `VP -> V S`.\n",
        "    - This allows sentences to have embedded clauses, like \"He said that she knew the answer.\"\n",
        "  - Recursion is important for capturing how language can include phrases within phrases, such as clauses in sentences or prepositional phrases within noun phrases.\n",
        "\n",
        "Using syntax and Context-Free Grammars helps us better understand the structure of language. CFGs provide clear rules for generating sentences and help us model language features like recursion, which are essential for natural language processing and understanding. Examples help us see how these rules work in practice, making it easier to grasp how sentences are formed and analyzed.\n",
        "    "
      ],
      "metadata": {
        "id": "VxuQJUot3KjV"
      }
    }
  ]
}