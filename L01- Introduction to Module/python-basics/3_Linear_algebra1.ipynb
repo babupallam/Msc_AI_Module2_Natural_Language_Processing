{
  "nbformat": 4,
  "nbformat_minor": 0,
  "metadata": {
    "colab": {
      "name": "AlgebraLineal1.ipynb",
      "version": "0.3.2",
      "provenance": [],
      "collapsed_sections": []
    },
    "language_info": {
      "codemirror_mode": {
        "name": "ipython",
        "version": 3
      },
      "file_extension": ".py",
      "mimetype": "text/x-python",
      "name": "python",
      "nbconvert_exporter": "python",
      "pygments_lexer": "ipython3",
      "version": "3.6.5"
    },
    "kernelspec": {
      "display_name": "Python 3",
      "language": "python",
      "name": "python3"
    },
    "accelerator": "GPU"
  },
  "cells": [
    {
      "cell_type": "markdown",
      "metadata": {
        "colab_type": "text",
        "id": "jYQE37rOc539"
      },
      "source": [
        "# Linear Algebra on Pytorch \n",
        "\n",
        "-Professor: M.Sc.Saul Calderon.\n",
        "\n",
        "- Authors: \n",
        "    - M. Sc. Saúl Calderón, Dr. Juan Esquivel. "
      ]
    },
    {
      "cell_type": "markdown",
      "metadata": {
        "colab_type": "text",
        "id": "8chJbeF0dXmO"
      },
      "source": [
        "# Lineality\n",
        "Scaling \n",
        "$$\n",
        " L\\{\\alpha f(x)\\}= \\alpha L\\{f(x)\\}\n",
        "$$\n",
        "Superposition\n",
        "$$\n",
        " L\\{f_1(x)+f_2(x)\\}= L\\{f_1(x)\\}+L\\{f_2(x)\\}\n",
        "$$\n",
        "\n",
        "An operator $L\\{\\cdot\\}$ with input functions $f$ with input variable $x \\in \\mathbb{R}$, with $\\alpha, \\beta \\in \\mathbb{R}$, define  a lineal system if:\n",
        "\n",
        "$$\n",
        " L\\{\\alpha f_1(x)+\\beta f_2(x)\\}= \\alpha L\\{f_1(x)\\}+\\beta L\\{f_2(x)\\}\n",
        "$$"
      ]
    },
    {
      "cell_type": "code",
      "metadata": {
        "colab_type": "code",
        "id": "iyuBQcxGdXmP",
        "outputId": "82b2c8dd-ba8f-4e90-fb38-90f337003439",
        "colab": {
          "base_uri": "https://localhost:8080/",
          "height": 52
        }
      },
      "source": [
        "\n",
        "def sigmoid(x):\n",
        "  \"\"\"\n",
        "  Sample sigmoid function\n",
        "  param x: input array\n",
        "  return y: sigmoid output\n",
        "  \"\"\"\n",
        "  y = 1 / (1 + torch.exp(-1 * x));\n",
        "  return y;\n",
        "\n",
        "def linealFunction(x):\n",
        "  \"\"\"\n",
        "  Sample lineal function\n",
        "  param x: input array\n",
        "  return y: 5x\n",
        "  \"\"\"\n",
        "  y = 5*x\n",
        "  return y;\n",
        "\n",
        "\n",
        "def checkLinearity(operator):\n",
        "  \n",
        "  x = torch.arange(0.0, 5.0, 0.1)\n",
        "  \n",
        "  #create series of values from -1 to 1, with step 0.01\n",
        "  \n",
        "  \n",
        "  #samplescalars\n",
        "  alpha = torch.randn(1,1);\n",
        "  beta = torch.randn(1,1)\n",
        "  #sample functions\n",
        "  f1 = lambda x: x + 2\n",
        "  f2 = lambda x: x * x\n",
        "  \n",
        "  #compute left and right side of the equation\n",
        "  \n",
        "  right = alpha * operator(f1(x)) + beta * operator(f2(x))\n",
        "  left = operator(alpha * f1(x) + beta * f2(x))\n",
        "  \n",
        "  difference = torch.abs(right - left);\n",
        "  \n",
        "  \n",
        "  sumDifference = difference.sum()\n",
        "  #Is linear?\n",
        "  return (sumDifference < 0.0001)\n",
        "  \n",
        " \n",
        "\n",
        "\n",
        "print(\"prueba1 \", checkLinearity(linealFunction))\n",
        "\n",
        "print(\"prueba2 \", checkLinearity(sigmoid))\n",
        "\n"
      ],
      "execution_count": 0,
      "outputs": [
        {
          "output_type": "stream",
          "text": [
            "prueba1  tensor(1, dtype=torch.uint8)\n",
            "prueba2  tensor(0, dtype=torch.uint8)\n"
          ],
          "name": "stdout"
        }
      ]
    },
    {
      "cell_type": "markdown",
      "metadata": {
        "colab_type": "text",
        "id": "3uCtcT9FFQ_X"
      },
      "source": [
        "## Install Dependencies"
      ]
    },
    {
      "cell_type": "code",
      "metadata": {
        "colab_type": "code",
        "id": "yqk8N_AeFRFX",
        "outputId": "e563552e-fbd3-40fc-cbce-8e965a3fb378",
        "colab": {
          "base_uri": "https://localhost:8080/",
          "height": 52
        }
      },
      "source": [
        "# Since Collab is being used, it is necessary to install Pytorch\n",
        "!pip install torch\n",
        "import torch as torch\n",
        "\n",
        "import numpy as np\n",
        "from matplotlib import pyplot as plt\n",
        "from mpl_toolkits.mplot3d import Axes3D\n",
        "from matplotlib import cm\n",
        "\n",
        "\n"
      ],
      "execution_count": 0,
      "outputs": [
        {
          "output_type": "stream",
          "text": [
            "Requirement already satisfied: torch in /usr/local/lib/python3.6/dist-packages (1.1.0)\n",
            "Requirement already satisfied: numpy in /usr/local/lib/python3.6/dist-packages (from torch) (1.16.3)\n"
          ],
          "name": "stdout"
        }
      ]
    },
    {
      "cell_type": "markdown",
      "metadata": {
        "colab_type": "text",
        "id": "LDRQBcuic54b"
      },
      "source": [
        "## Dot product\n",
        "\n",
        "Dot product between vectors  and vectors $w \\in \\mathbb{R}^{1\\times3}$ and $v \\in \\mathbb{R}^{1\\times3}$, is calculated as follows:"
      ]
    },
    {
      "cell_type": "code",
      "metadata": {
        "colab_type": "code",
        "id": "pCyH9GOCvxBk",
        "outputId": "206e4fbd-1d2a-4c10-b39b-a4ec8f405240",
        "colab": {
          "base_uri": "https://localhost:8080/",
          "height": 69
        }
      },
      "source": [
        "#def calculateAngleVectors(w, v):\n",
        " \n",
        "  \n",
        "#Select device\n",
        "device = torch.device(\"cpu\") \n",
        "# device = torch.device(\"cuda:0\")\n",
        "\n",
        "\n",
        "#create literal tensors\n",
        "w = torch.tensor([1, 2, 3], device = device)\n",
        "v = torch.tensor([5, 6, 7], device = device)\n",
        "#create an array with values between X and Y, with a step of D\n",
        "series = torch.arange(-1.0, 1.0, 0.01)\n",
        "\n",
        "\n",
        "\n",
        "\n",
        "#.0 to ensure float tensors\n",
        "a = torch.tensor([1.0, 0.0])\n",
        "b = torch.tensor([0.0, 1.0])\n",
        "#calculate angle between vectors\n",
        "#angle = calculateAngleVectors(a, b)\n",
        "#print(\"Angle between vectors: \", angle)\n",
        "\n",
        "#random numbers\n",
        "y = torch.randn(1, 3, dtype = torch.float)\n",
        "#vector of ones\n",
        "x = torch.ones(1,3, dtype = torch.float)\n",
        "\n",
        "#to get tensor dimensions, we use shape\n",
        "print(w.shape)\n",
        "#Dot product\n",
        "dotProduct = w.dot(v)\n",
        "print(\"Dot product: \", dotProduct)\n",
        "print(y)"
      ],
      "execution_count": 0,
      "outputs": [
        {
          "output_type": "stream",
          "text": [
            "torch.Size([3])\n",
            "Dot product:  tensor(38)\n",
            "tensor([[ 0.1885,  0.1667, -0.1377]])\n"
          ],
          "name": "stdout"
        }
      ]
    },
    {
      "cell_type": "code",
      "metadata": {
        "colab_type": "code",
        "id": "9j3lVMsEMBY_",
        "outputId": "8c9dfba8-0807-4daa-ac53-66dddf76b0c4",
        "colab": {
          "base_uri": "https://localhost:8080/",
          "height": 52
        }
      },
      "source": [
        "v = torch.tensor([1.0, 2.0, 4.0])\n",
        "a = torch.tensor([2.0, 2.0, 2.0])\n",
        "w = torch.randn(1, 3)\n",
        "c = v * a\n",
        "serie = torch.arange(-1.0, 1.0, 0.1)\n",
        "print(c)\n",
        "print(c.shape)"
      ],
      "execution_count": 0,
      "outputs": [
        {
          "output_type": "stream",
          "text": [
            "tensor([2., 4., 8.])\n",
            "torch.Size([3])\n"
          ],
          "name": "stdout"
        }
      ]
    },
    {
      "cell_type": "markdown",
      "metadata": {
        "colab_type": "text",
        "id": "c49usPNZsd8R"
      },
      "source": [
        "## Plot Hiperplane\n",
        "\n",
        "To plot hiperplane given with input $\\vec{x}, \\vec{m}  \\in \\mathbb{R}^{3} $, including the bias\n",
        "\n",
        "\n",
        "$$\n",
        " z = f(\\vec{x}) = \\vec{m} \\cdot \\vec{x}  $$"
      ]
    },
    {
      "cell_type": "code",
      "metadata": {
        "colab_type": "code",
        "id": "8cn_OtNuwShp",
        "outputId": "27b14117-8e28-4122-8150-b7efa5a5697a",
        "colab": {
          "base_uri": "https://localhost:8080/",
          "height": 527
        }
      },
      "source": [
        "figure = plt.figure()\n",
        "figureSurface = figure.gca(projection = '3d')\n",
        "#create 1D tensors\n",
        "step = 0.01\n",
        "x = torch.arange(0.0, 5.0, step)\n",
        "y = torch.arange(0.0, 6.0, step)\n",
        "#Create 2D tensors with variation along the two axis\n",
        "X,Y = torch.meshgrid(x, y)\n",
        "#compute hiperplane function\n",
        "Z = 2.1 * X + Y + 2\n",
        "#create figure surface\n",
        "surface = figureSurface.plot_surface(X.numpy(), Y.numpy(), Z.numpy(), cmap = cm.coolwarm,\n",
        "                       linewidth=0, antialiased=False)\n",
        "#\n",
        "plt.show()\n",
        "\n",
        "#plot contours\n",
        "\n",
        "# Provide a title for the contour plot\n",
        "plt.title('Contour plot')\n",
        "# Set x axis label for the contour plot\n",
        "plt.xlabel('X')\n",
        "# Set y axis label for the contour plot\n",
        "plt.ylabel('Y')\n",
        "# Create contour lines or level curves using matplotlib.pyplot module\n",
        "contours = plt.contour(X.numpy(), Y.numpy(), Z.numpy())\n",
        "# Display z values on contour lines\n",
        "plt.clabel(contours, inline=1, fontsize=10)\n",
        "# Display the contour plot\n",
        "plt.show()\n",
        "\n",
        "\n"
      ],
      "execution_count": 0,
      "outputs": [
        {
          "output_type": "display_data",
          "data": {
            "image/png": "[encoded data removed]",
            "text/plain": [
              "<Figure size 432x288 with 1 Axes>"
            ]
          },
          "metadata": {
            "tags": []
          }
        },
        {
          "output_type": "display_data",
          "data": {
            "image/png": "[encoded data removed]",
            "text/plain": [
              "<Figure size 432x288 with 1 Axes>"
            ]
          },
          "metadata": {
            "tags": []
          }
        }
      ]
    },
    {
      "cell_type": "markdown",
      "metadata": {
        "id": "K2yHfq_TV30X",
        "colab_type": "text"
      },
      "source": [
        "## Gradient of plane calculation"
      ]
    },
    {
      "cell_type": "code",
      "metadata": {
        "id": "4vRyvel5V30Z",
        "colab_type": "code",
        "outputId": "7e55dc30-ce5e-4874-d819-224b3c529272",
        "colab": {
          "base_uri": "https://localhost:8080/",
          "height": 139
        }
      },
      "source": [
        "# we need to divide by the step\n",
        "(dX, dY) = np.gradient(Z.numpy()) \n",
        "dX = dX / step\n",
        "dY = dY / step\n",
        "print(dX)"
      ],
      "execution_count": 0,
      "outputs": [
        {
          "output_type": "stream",
          "text": [
            "[[2.0999908 2.0999908 2.0999908 ... 2.0999908 2.0999432 2.0999908]\n",
            " [2.1000028 2.1000028 2.1000028 ... 2.099967  2.099967  2.0999908]\n",
            " [2.1000028 2.1000028 2.1000028 ... 2.1000147 2.1000385 2.0999908]\n",
            " ...\n",
            " [2.0999908 2.0999908 2.0999908 ... 2.0999908 2.0999908 2.0999908]\n",
            " [2.0999908 2.0999908 2.0999908 ... 2.0999908 2.0999908 2.0999908]\n",
            " [2.0999908 2.0999908 2.0999908 ... 2.0999908 2.0999908 2.0999908]]\n"
          ],
          "name": "stdout"
        }
      ]
    },
    {
      "cell_type": "markdown",
      "metadata": {
        "id": "JgKBBA6Wdmwl",
        "colab_type": "text"
      },
      "source": [
        "## Vector plotting\n",
        "To plot a vector, we need to transform the pytorch tensors to numpy arrays, since most libraries use numpy. \n",
        "We build a matrix with a vector per row"
      ]
    },
    {
      "cell_type": "code",
      "metadata": {
        "id": "XWsceYxvdzkT",
        "colab_type": "code",
        "outputId": "81b20da7-dd7f-4655-c1eb-f2c05256c6d0",
        "colab": {
          "base_uri": "https://localhost:8080/",
          "height": 287
        }
      },
      "source": [
        "\n",
        "gradientVector = np.ones((1, 2))\n",
        "#take the gradient vector at 1,1 in the gradient matrix\n",
        "gradientVector[0, 0] = dX[1, 1]\n",
        "gradientVector[0, 1] = dY[1, 1]\n",
        "#gradient vector taken\n",
        "print(gradientVector)\n",
        "\n",
        "origin = [0] # origin point\n",
        "#plot the 2D gradient vector\n",
        "plt.quiver(origin, origin, gradientVector[:,0], gradientVector[:,1], color=['r','b','g'], scale=21)\n",
        "plt.show()"
      ],
      "execution_count": 0,
      "outputs": [
        {
          "output_type": "stream",
          "text": [
            "[[2.10000277 0.99999905]]\n"
          ],
          "name": "stdout"
        },
        {
          "output_type": "display_data",
          "data": {
            "image/png": "[encoded data removed]",
            "text/plain": [
              "<Figure size 432x288 with 1 Axes>"
            ]
          },
          "metadata": {
            "tags": []
          }
        }
      ]
    },
    {
      "cell_type": "markdown",
      "metadata": {
        "colab_type": "text",
        "id": "Skh-3WdGdXmf"
      },
      "source": [
        "##Porting vectors (1D tensors) to matrices (2D tensors)\n",
        "\n",
        "We usually work with 2D tensors, thus is frequent to convert them to 2d tensors:"
      ]
    },
    {
      "cell_type": "code",
      "metadata": {
        "colab_type": "code",
        "id": "8KWS0q0IdXmf",
        "colab": {}
      },
      "source": [
        "#row vector in 2D tensor\n",
        "w2Drow = w.reshape(-1, w.shape[0])\n",
        "#column vector in 2D tensor, -1 for n rows or columns\n",
        "v2Dcolumn = v.reshape(v.shape[0], -1)\n",
        "print(w2Drow)\n",
        "print(v2Dcolumn)\n",
        "\n",
        "\n"
      ],
      "execution_count": 0,
      "outputs": []
    },
    {
      "cell_type": "markdown",
      "metadata": {
        "colab_type": "text",
        "id": "W26r-trbc540"
      },
      "source": [
        "## Element wise multiplication of matrices, and dot product of matrices\n",
        "The dot product between to matrices $A\\in \\mathbb{R}^{2\\times2}$ and $B \\in \\mathbb{R}^{2\\times2}$, and\n",
        "\n",
        "The element wise multiplication of matrices A and B result in a matrix C with same dimensions, and multiplies its entries.\n"
      ]
    },
    {
      "cell_type": "code",
      "metadata": {
        "colab_type": "code",
        "id": "3m3ZPiEhkkmm",
        "outputId": "6f068590-04e7-408f-a562-65b8f992ae25",
        "colab": {
          "base_uri": "https://localhost:8080/",
          "height": 69
        }
      },
      "source": [
        "A = torch.tensor([[1, 2], [3, 0]])\n",
        "B = torch.tensor([[5, 6], [7, 0]])\n",
        "C = A * B\n",
        "print(C)\n",
        "#Element wise multiplication allows us to calculate dot product of matrices\n",
        "dotProduct = C.sum()\n",
        "print(\"Dot product: \", dotProduct)"
      ],
      "execution_count": 0,
      "outputs": [
        {
          "output_type": "stream",
          "text": [
            "tensor([[ 5, 12],\n",
            "        [21,  0]])\n",
            "Dot product:  tensor(38)\n"
          ],
          "name": "stdout"
        }
      ]
    },
    {
      "cell_type": "markdown",
      "metadata": {
        "id": "R1YER_YCgJSQ",
        "colab_type": "text"
      },
      "source": [
        "## Matrix multiplication\n",
        "\n",
        "Matrix multiplication C = A B can be interpreted as a dot product of the rows in A and the columns in B\n"
      ]
    },
    {
      "cell_type": "code",
      "metadata": {
        "id": "dCd1LxLCgOSl",
        "colab_type": "code",
        "outputId": "91716a7b-5c34-46bd-d32c-77d3e666f099",
        "colab": {
          "base_uri": "https://localhost:8080/",
          "height": 52
        }
      },
      "source": [
        "C = A.mm(B)\n",
        "print(C)"
      ],
      "execution_count": 0,
      "outputs": [
        {
          "output_type": "stream",
          "text": [
            "tensor([[19,  6],\n",
            "        [15, 18]])\n"
          ],
          "name": "stdout"
        }
      ]
    },
    {
      "cell_type": "markdown",
      "metadata": {
        "id": "Ogz73meocNqm",
        "colab_type": "text"
      },
      "source": [
        "##Matrix and vector concatenation"
      ]
    },
    {
      "cell_type": "code",
      "metadata": {
        "id": "xYY42Nj0cR98",
        "colab_type": "code",
        "outputId": "b2828dc4-f839-421c-d705-cbe69e236827",
        "colab": {
          "base_uri": "https://localhost:8080/",
          "height": 121
        }
      },
      "source": [
        "#Create a matrix C, concatenating the matrix A along its rows\n",
        "C = torch.cat((A, A), 0)\n",
        "#Create a matrix D, concatenating the matrix A along its columns\n",
        "D = torch.cat((B, B), 1)\n",
        "\n",
        "#Put ceros in column 1 and 2, from row 0\n",
        "C[0, 1:3] = 0;\n",
        "print(C)\n",
        "\n",
        "\n",
        "#Put ones in column 1 and all the rows\n",
        "D[:, 1] = 1\n",
        "print(D)\n"
      ],
      "execution_count": 0,
      "outputs": [
        {
          "output_type": "stream",
          "text": [
            "tensor([[1, 0],\n",
            "        [3, 0],\n",
            "        [1, 2],\n",
            "        [3, 0]])\n",
            "tensor([[5, 1, 5, 6],\n",
            "        [7, 1, 7, 0]])\n"
          ],
          "name": "stdout"
        }
      ]
    }
  ]
}