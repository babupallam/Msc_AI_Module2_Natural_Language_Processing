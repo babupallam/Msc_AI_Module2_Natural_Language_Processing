{
  "nbformat": 4,
  "nbformat_minor": 0,
  "metadata": {
    "colab": {
      "provenance": [],
      "authorship_tag": "ABX9TyNMbiFzHHBrzDgfy2+goozY",
      "include_colab_link": true
    },
    "kernelspec": {
      "name": "python3",
      "display_name": "Python 3"
    },
    "language_info": {
      "name": "python"
    }
  },
  "cells": [
    {
      "cell_type": "markdown",
      "metadata": {
        "id": "view-in-github",
        "colab_type": "text"
      },
      "source": [
        "<a href=\"https://colab.research.google.com/github/babupallam/Msc_AI_Module2_Natural_Language_Processing/blob/main/Note_02_Lexical_Categories_and_Part_of_Speech_(POS)_Tagging.ipynb\" target=\"_parent\"><img src=\"https://colab.research.google.com/assets/colab-badge.svg\" alt=\"Open In Colab\"/></a>"
      ]
    },
    {
      "cell_type": "markdown",
      "source": [
        "Note:\n",
        "\n",
        "- This section focuses on how words are categorized into different parts of speech (POS) and how these categories are automatically assigned to words in texts.\n",
        "- This section lays the foundation for understanding language structure and provides essential knowledge for performing higher-level tasks in natural language processing (NLP).\n"
      ],
      "metadata": {
        "id": "Ucz-HgGvtzOL"
      }
    },
    {
      "cell_type": "markdown",
      "source": [
        "\n",
        "### **What are Lexical Categories?**\n",
        "\n",
        "- Lexical categories, also known as **parts of speech**, are the groups or classes into which words are classified based on their grammatical and syntactic roles within sentences.\n",
        "\n",
        "- These categories determine how a word functions in a sentence, and knowing a word's part of speech allows a computer to interpret and process its meaning more accurately. Some of the most common lexical categories are:\n",
        "\n",
        "  - **Nouns (N)**: Represent people, places, things, or ideas (e.g., *dog*, *city*, *intelligence*).\n",
        "  - **Verbs (V)**: Indicate actions or states (e.g., *run*, *is*, *sing*).\n",
        "  - **Adjectives (ADJ)**: Modify nouns, describing qualities or characteristics (e.g., *blue*, *fast*, *large*).\n",
        "  - **Adverbs (ADV)**: Modify verbs, adjectives, or other adverbs (e.g., *quickly*, *very*, *smoothly*).\n",
        "  - **Pronouns (PRON)**: Substitute for nouns or noun phrases (e.g., *he*, *she*, *it*).\n",
        "  - **Determiners (DET)**: Introduce nouns (e.g., *the*, *a*, *some*).\n",
        "  - **Prepositions (ADP)**: Relate nouns to other words in a sentence (e.g., *on*, *in*, *under*).\n",
        "  - **Conjunctions (CONJ)**: Connect words, phrases, or clauses (e.g., *and*, *but*, *if*).\n",
        "\n",
        "- These categories allow NLP models to structure and parse language effectively, making it easier to interpret meaning and syntactic relations.\n",
        "\n"
      ],
      "metadata": {
        "id": "Dwyv4M5ttzKu"
      }
    },
    {
      "cell_type": "markdown",
      "source": [
        "### **Open vs. Closed Classes**\n",
        "\n",
        "Words are generally divided into two primary groups: **open classes** and **closed classes**.\n",
        "\n",
        "- **Open Classes**:\n",
        "  - Include nouns, verbs, adjectives, and adverbs. These categories are called \"open\" because they are constantly expanding as new words are coined and added. For example, recent additions to the lexicon like \"selfie\" and \"cryptocurrency\" belong to these open categories.\n",
        "  \n",
        "- **Closed Classes**:\n",
        "  - Include pronouns, prepositions, determiners, and conjunctions. These categories are \"closed\" because they have a limited and relatively fixed set of members. New additions to these classes are rare, and they change very gradually over time.\n",
        "\n",
        "This distinction is crucial in understanding language dynamics. While open-class words provide most of the content in language (i.e., **lexical words**), closed-class words act as function words, providing grammatical structure.\n",
        "\n"
      ],
      "metadata": {
        "id": "HCst5mF1tzH8"
      }
    },
    {
      "cell_type": "markdown",
      "source": [
        "### **Part-of-Speech (POS) Tagging**\n",
        "\n",
        "- **POS tagging** is the process of assigning the appropriate part-of-speech tag to each word in a sentence.\n",
        "- This process allows NLP models to determine not just what a word is, but how it functions in context.\n",
        "- For example, the word \"run\" can be a noun (\"a run in the park\") or a verb (\"I run every day\"), and the POS tagger helps resolve such ambiguities by using contextual information.\n",
        "\n",
        "    **Example**:  \n",
        "    Sentence: *The quick brown fox jumps over the lazy dog.*  \n",
        "    POS Tags:  \n",
        "    - The (DET)\n",
        "    - quick (ADJ)\n",
        "    - brown (ADJ)\n",
        "    - fox (NOUN)\n",
        "    - jumps (VERB)\n",
        "    - over (ADP)\n",
        "    - the (DET)\n",
        "    - lazy (ADJ)\n",
        "    - dog (NOUN)\n",
        "\n"
      ],
      "metadata": {
        "id": "0RHB_AKatzFO"
      }
    },
    {
      "cell_type": "markdown",
      "source": [
        "### **Importance of POS Tagging in NLP**\n",
        "\n",
        "POS tagging is a crucial preprocessing step in NLP pipelines. It plays a role in multiple downstream tasks, including:\n",
        "\n",
        "1. **Syntactic Parsing**: Understanding the syntactic structure of a sentence requires identifying the roles of words based on their POS.\n",
        "2. **Information Retrieval**: Helps in extracting relevant information from text by focusing on particular types of words (e.g., nouns, verbs).\n",
        "3. **Machine Translation**: POS tagging ensures that words are translated appropriately based on their function in a sentence.\n",
        "4. **Named Entity Recognition (NER)**: NER often relies on POS tagging to identify proper nouns and specific entities (e.g., people, organizations, locations).\n",
        "5. **Sentiment Analysis**: The role of adjectives and adverbs in text is crucial for determining the sentiment (positive or negative) expressed in a sentence.\n",
        "\n"
      ],
      "metadata": {
        "id": "Rf2Y_3GgtzCh"
      }
    },
    {
      "cell_type": "markdown",
      "source": [
        "### **Automating POS Tagging: Challenges and Approaches**\n",
        "\n",
        "- Automating POS tagging is a non-trivial task due to linguistic complexities, such as **ambiguity**.\n",
        "- Many words in English can take multiple parts of speech, depending on the context. For example:\n",
        "\n",
        "- **Word**: \"fly\"\n",
        "  - **Noun**: The *fly* on the wall.\n",
        "  - **Verb**: Birds *fly* in the sky.\n",
        "\n",
        "- Automated POS tagging uses statistical models or machine learning algorithms to resolve such ambiguities and assign the correct tags.\n",
        "- There are several methods for implementing POS taggers:\n",
        "\n",
        "  - **Rule-Based Tagging**:\n",
        "    - Involves manually defined rules for assigning tags based on the words and their contexts (e.g., a word ending in \"ing\" might be tagged as a present participle verb).\n",
        "  - **Stochastic/Probabilistic Tagging**:\n",
        "    - Uses statistical models to assign POS tags based on the likelihood of a tag given a word and its surrounding context.\n",
        "      - Popular techniques include:\n",
        "        - **Unigram Tagging**:\n",
        "          - Assigns the most frequent tag for each word, ignoring context.\n",
        "        - **Bigram and Trigram Tagging (N-Gram Tagging)**:\n",
        "          - Considers the probability of a tag given the previous one or two tags, thereby incorporating context.\n",
        "        \n",
        "  - **Supervised Learning Methods**:\n",
        "    - Machine learning models trained on large corpora of tagged text.\n",
        "    - Some of the common supervised methods include:\n",
        "      - **Hidden Markov Models (HMM)**:\n",
        "        - A sequence-based model where the hidden states correspond to POS tags, and the visible states are the words in the sentence.\n",
        "      - **Maximum Entropy Models**:\n",
        "        - A more flexible probabilistic framework that can incorporate multiple features to assign tags.\n",
        "      - **Conditional Random Fields (CRF)**:\n",
        "        - A sequence labeling model that is commonly used for POS tagging, especially in more complex languages.\n",
        "\n"
      ],
      "metadata": {
        "id": "MEBBxpAety_w"
      }
    },
    {
      "cell_type": "markdown",
      "source": [
        "### **Example: Using NLTK for POS Tagging**\n",
        "\n",
        "Here is an example of how POS tagging works using the **Natural Language Toolkit (NLTK)** in Python:\n"
      ],
      "metadata": {
        "id": "zpmg0R3hty6Y"
      }
    },
    {
      "cell_type": "code",
      "source": [
        "# Importing necessary modules from NLTK (Natural Language Toolkit)\n",
        "import nltk\n",
        "from nltk import pos_tag  # pos_tag is a function to perform Part-of-Speech tagging\n",
        "from nltk.tokenize import word_tokenize  # word_tokenize is used to split the sentence into words\n",
        "\n",
        "# Download the 'punkt' resource for tokenization\n",
        "nltk.download('punkt') # Download the 'punkt' resource for sentence tokenization\n",
        "# Download the 'averaged_perceptron_tagger' resource for POS tagging\n",
        "nltk.download('averaged_perceptron_tagger') # This line downloads the necessary resource\n",
        "\n",
        "# Example sentence that we will process\n",
        "sentence = \"The quick brown fox jumps over the lazy dog.\"\n",
        "\n",
        "# Tokenizing the sentence\n",
        "# This step splits the sentence into individual words (tokens).\n",
        "# For example, \"The quick brown fox jumps over the lazy dog.\"\n",
        "# becomes ['The', 'quick', 'brown', 'fox', 'jumps', 'over', 'the', 'lazy', 'dog']\n",
        "tokens = word_tokenize(sentence)\n",
        "\n",
        "# Applying POS tagging\n",
        "# The pos_tag() function takes the list of words (tokens) and assigns a part of speech (POS) tag to each one.\n",
        "# For example:\n",
        "# ('The', 'DT') --> 'DT' means Determiner\n",
        "# ('quick', 'JJ') --> 'JJ' means Adjective\n",
        "# ('fox', 'NN') --> 'NN' means Noun, singular or mass\n",
        "tagged = pos_tag(tokens)\n",
        "\n",
        "# Printing the list of words along with their POS tags\n",
        "# The result will look something like:\n",
        "# [('The', 'DT'), ('quick', 'JJ'), ('brown', 'JJ'), ('fox', 'NN'), ('jumps', 'VBZ'),\n",
        "#  ('over', 'IN'), ('the', 'DT'), ('lazy', 'JJ'), ('dog', 'NN')]\n",
        "print(tagged)"
      ],
      "metadata": {
        "colab": {
          "base_uri": "https://localhost:8080/"
        },
        "id": "d4BOsNCjw16b",
        "outputId": "cb35d7bb-ecc4-4b41-fedf-2e6f5387d11f"
      },
      "execution_count": 5,
      "outputs": [
        {
          "output_type": "stream",
          "name": "stdout",
          "text": [
            "[('The', 'DT'), ('quick', 'JJ'), ('brown', 'NN'), ('fox', 'NN'), ('jumps', 'VBZ'), ('over', 'IN'), ('the', 'DT'), ('lazy', 'JJ'), ('dog', 'NN'), ('.', '.')]\n"
          ]
        },
        {
          "output_type": "stream",
          "name": "stderr",
          "text": [
            "[nltk_data] Downloading package punkt to /root/nltk_data...\n",
            "[nltk_data]   Package punkt is already up-to-date!\n",
            "[nltk_data] Downloading package averaged_perceptron_tagger to\n",
            "[nltk_data]     /root/nltk_data...\n",
            "[nltk_data]   Package averaged_perceptron_tagger is already up-to-\n",
            "[nltk_data]       date!\n"
          ]
        }
      ]
    },
    {
      "cell_type": "markdown",
      "source": [
        "\n",
        "This simple example shows how NLTK assigns POS tags to each word in a sentence.\n",
        "Here,\n",
        "  - **DT** stands for determiner,\n",
        "  - **JJ** for adjective,\n",
        "  - **NN** for noun, and\n",
        "  - **VBZ** for a verb in third-person singular form.\n"
      ],
      "metadata": {
        "id": "rDfrgt1mty3k"
      }
    },
    {
      "cell_type": "code",
      "source": [
        "\n",
        "# Print the meanings of the POS tags used in the sentence\n",
        "from nltk.data import load # Load data from NLTK's data directory\n",
        "nltk.download('tagsets') # This line is added to download tagset information\n",
        "\n",
        "print(\"\\nPOS Tag Meanings:\")\n",
        "tagdict = load('help/tagsets/upenn_tagset.pickle')\n",
        "for word, tag in tagged:\n",
        "    if tag in tagdict:\n",
        "        print(f\"{word}  -->  {tag}: {tagdict[tag]}\")"
      ],
      "metadata": {
        "colab": {
          "base_uri": "https://localhost:8080/"
        },
        "id": "eOsvWdiAy-SX",
        "outputId": "95806084-13a8-4c47-92f9-b5223cedb2e3"
      },
      "execution_count": 9,
      "outputs": [
        {
          "output_type": "stream",
          "name": "stdout",
          "text": [
            "\n",
            "POS Tag Meanings:\n",
            "The  -->  DT: ('determiner', 'all an another any both del each either every half la many much nary neither no some such that the them these this those ')\n",
            "quick  -->  JJ: ('adjective or numeral, ordinal', 'third ill-mannered pre-war regrettable oiled calamitous first separable ectoplasmic battery-powered participatory fourth still-to-be-named multilingual multi-disciplinary ... ')\n",
            "brown  -->  NN: ('noun, common, singular or mass', 'common-carrier cabbage knuckle-duster Casino afghan shed thermostat investment slide humour falloff slick wind hyena override subhumanity machinist ... ')\n",
            "fox  -->  NN: ('noun, common, singular or mass', 'common-carrier cabbage knuckle-duster Casino afghan shed thermostat investment slide humour falloff slick wind hyena override subhumanity machinist ... ')\n",
            "jumps  -->  VBZ: ('verb, present tense, 3rd person singular', 'bases reconstructs marks mixes displeases seals carps weaves snatches slumps stretches authorizes smolders pictures emerges stockpiles seduces fizzes uses bolsters slaps speaks pleads ... ')\n",
            "over  -->  IN: ('preposition or conjunction, subordinating', 'astride among uppon whether out inside pro despite on by throughout below within for towards near behind atop around if like until below next into if beside ... ')\n",
            "the  -->  DT: ('determiner', 'all an another any both del each either every half la many much nary neither no some such that the them these this those ')\n",
            "lazy  -->  JJ: ('adjective or numeral, ordinal', 'third ill-mannered pre-war regrettable oiled calamitous first separable ectoplasmic battery-powered participatory fourth still-to-be-named multilingual multi-disciplinary ... ')\n",
            "dog  -->  NN: ('noun, common, singular or mass', 'common-carrier cabbage knuckle-duster Casino afghan shed thermostat investment slide humour falloff slick wind hyena override subhumanity machinist ... ')\n",
            ".  -->  .: ('sentence terminator', '. ! ? ')\n"
          ]
        },
        {
          "output_type": "stream",
          "name": "stderr",
          "text": [
            "[nltk_data] Downloading package tagsets to /root/nltk_data...\n",
            "[nltk_data]   Package tagsets is already up-to-date!\n"
          ]
        }
      ]
    },
    {
      "cell_type": "markdown",
      "source": [
        "### Observations:"
      ],
      "metadata": {
        "id": "XkdFRrQ7ty0z"
      }
    },
    {
      "cell_type": "markdown",
      "source": [
        "#### Which  POS tagging standards has been used in the above code:\n"
      ],
      "metadata": {
        "id": "wvUS4XnvtyyC"
      }
    },
    {
      "cell_type": "markdown",
      "source": [
        "The **POS tagging standard** used in the code is the **Penn Treebank Tagset**. This is evident because **the default tagger in NLTK (which the code utilizes) applies the Penn Treebank tagset for English.**\n",
        "\n",
        "##### Examples from the Output of the Code:\n",
        "- **'DT'**: Determiner (e.g., *The*)\n",
        "- **'JJ'**: Adjective (e.g., *quick*)\n",
        "- **'NN'**: Noun, singular or mass (e.g., *fox*)\n",
        "- **'VBZ'**: Verb, 3rd person singular present (e.g., *jumps*)\n",
        "\n",
        "The Penn Treebank tagset is one of the most commonly used tagsets for English POS tagging and includes around 36 tags. It is widely used in many NLP tasks and corpora, including the **Wall Street Journal (WSJ) Corpus** and other large datasets.\n",
        "\n",
        "For more information on the specific tags used in the Penn Treebank, you can refer to [Penn Treebank POS Tagset](https://www.ling.upenn.edu/courses/Fall_2003/ling001/penn_treebank_pos.html)."
      ],
      "metadata": {
        "id": "B0S8SBlotyvc"
      }
    },
    {
      "cell_type": "markdown",
      "source": [
        "#### What is the purpose of using `nltk.download('punkt')` in the code?\n",
        "\n",
        "\n",
        "- The `nltk.download('punkt')` command downloads the **Punkt** tokenizer models, which are necessary for splitting a text into words or sentences (tokenization).\n",
        "- In this case, we are using **word tokenization**, which splits the input sentence into individual words.\n",
        "- Without downloading the 'punkt' resource, NLTK wouldn't have the necessary model to perform tokenization.\n",
        "\n",
        "\n"
      ],
      "metadata": {
        "id": "vMGBKDhmtys4"
      }
    },
    {
      "cell_type": "markdown",
      "source": [
        "#### Why do we use `nltk.download('averaged_perceptron_tagger')` in the code?\n",
        "\n",
        "- The `nltk.download('averaged_perceptron_tagger')` command downloads the **Averaged Perceptron Tagger**. This is a machine learning model used to assign part-of-speech (POS) tags to words.\n",
        "- The model tags each word in the input sentence with its most probable POS category (e.g., noun, verb, adjective).\n",
        "-  This tagger uses both the word itself and the context provided by neighboring words to decide the correct POS tag.\n",
        "\n",
        "\n"
      ],
      "metadata": {
        "id": "uQCc9hnnzjiq"
      }
    },
    {
      "cell_type": "markdown",
      "source": [
        "#### What does the `pos_tag()` function do in this code?\n",
        "\n",
        "- The `pos_tag()` function takes a list of tokens (words) and assigns a part-of-speech (POS) tag to each word.\n",
        "- For example, the word \"fox\" is tagged as **NN** (Noun), and the word \"jumps\" is tagged as **VBZ** (Verb, 3rd person singular present).\n",
        "- The `pos_tag()` function is key to identifying the syntactic role each word plays in a sentence.\n",
        "\n",
        "\n"
      ],
      "metadata": {
        "id": "QhUb6swGzjfN"
      }
    },
    {
      "cell_type": "markdown",
      "source": [
        "#### What is tokenization, and why do we need it in NLP?\n",
        "\n",
        "- **Tokenization** is the process of breaking a text into smaller components, usually words or sentences.\n",
        "- In NLP, tokenization is a critical preprocessing step because it enables us to handle text at the word or sentence level.\n",
        "- In this code, the **`word_tokenize()`** function splits the sentence *\"The quick brown fox jumps over the lazy dog.\n",
        "- This is required for further processing, such as POS tagging or any other text-based operations.\n",
        "\n",
        "\n"
      ],
      "metadata": {
        "id": "j9IDqnmpzjcx"
      }
    },
    {
      "cell_type": "markdown",
      "source": [
        "#### What POS tags are generated for the example sentence, and what do they mean?\n",
        "\n",
        "\n",
        "The sentence \"The quick brown fox jumps over the lazy dog.\" is tokenized, and each word is tagged as follows:\n",
        "\n",
        "- **The (DT)**: Determiner (DT) – Articles like \"the\" and \"a.\"\n",
        "- **quick (JJ)**: Adjective (JJ) – Describes a noun.\n",
        "- **brown (JJ)**: Adjective (JJ).\n",
        "- **fox (NN)**: Noun (NN) – A singular or mass noun.\n",
        "- **jumps (VBZ)**: Verb (VBZ) – Verb, 3rd person singular present.\n",
        "- **over (IN)**: Preposition or subordinating conjunction (IN).\n",
        "- **the (DT)**: Determiner (DT).\n",
        "- **lazy (JJ)**: Adjective (JJ).\n",
        "- **dog (NN)**: Noun (NN).\n",
        "\n",
        "Each tag follows the **Penn Treebank Tagset** standard, where **DT** represents determiners, **JJ** represents adjectives, **NN** is a noun, and **VBZ** represents a verb in third-person singular present form.\n",
        "\n",
        "\n"
      ],
      "metadata": {
        "id": "lpBSvt27zjaK"
      }
    },
    {
      "cell_type": "markdown",
      "source": [
        "#### What is the significance of using the Penn Treebank Tagset in this context?\n",
        "\n",
        "- The **Penn Treebank Tagset** is one of the most widely used tagsets for POS tagging in English.\n",
        "- It provides 36 tags that cover most syntactic categories, including nouns, verbs, adjectives, adverbs, determiners, and more.\n",
        "- This tagset allows for detailed syntactic analysis of text, making it a popular choice in many NLP tasks, such as parsing and machine learning-based text analysis.\n",
        "\n",
        "\n"
      ],
      "metadata": {
        "id": "yH66bRWszjXs"
      }
    },
    {
      "cell_type": "markdown",
      "source": [
        "#### How can we use POS tagging for downstream NLP tasks?\n",
        "\n",
        "POS tagging is a critical step in many **downstream NLP tasks**, including:\n",
        "- **Named Entity Recognition (NER)**: Identifying proper nouns (people, places, organizations) relies on tagging nouns and other POS categories.\n",
        "- **Syntactic Parsing**: Understanding sentence structure (subjects, predicates, objects) requires knowledge of each word's part of speech.\n",
        "- **Machine Translation**: Translating a sentence accurately requires understanding how each word functions in a sentence, which is made possible by POS tagging.\n",
        "- **Sentiment Analysis**: POS tags can help identify adjectives and adverbs, which are often key to understanding sentiment.\n",
        "  \n",
        "By assigning POS tags, NLP systems can analyze the grammatical structure and meaning of text, improving the performance of these downstream tasks.\n",
        "\n",
        "\n"
      ],
      "metadata": {
        "id": "d1QtLwolzjSo"
      }
    },
    {
      "cell_type": "markdown",
      "source": [
        "#### What are some challenges associated with POS tagging?\n",
        "\n",
        "Some of the main challenges in POS tagging include:\n",
        "- **Ambiguity**: Many words can have different parts of speech depending on context. For example, the word \"run\" can be both a noun (\"a run\") and a verb (\"to run\"). The tagger must use context to disambiguate.\n",
        "- **Out-of-Vocabulary Words**: Unknown or rare words that do not appear in the training data can be difficult to tag correctly.\n",
        "- **Complex Sentence Structures**: POS tagging can become challenging with more complex sentences, especially when dealing with multiple clauses or nested structures.\n",
        "- **Errors in Tokenization**: If the sentence is not tokenized properly (e.g., by missing punctuation or splitting multi-word phrases), POS tagging accuracy can suffer.\n",
        "\n",
        "\n"
      ],
      "metadata": {
        "id": "77BH5TROz7hJ"
      }
    },
    {
      "cell_type": "markdown",
      "source": [
        "#### How does the `pos_tag()` function handle words with multiple meanings?\n",
        "\n",
        "- The `pos_tag()` function in NLTK uses context to handle words with multiple meanings.\n",
        "- It utilizes the **Averaged Perceptron Tagger**, a statistical model that considers not only the word itself but also the words around it (context) to make decisions.\n",
        "- For example:\n",
        "  - **Word**: \"run\"\n",
        "    - In \"I go for a run,\" it is tagged as a noun (NN).\n",
        "    - In \"I run every day,\" it is tagged as a verb (VB).\n",
        "  \n",
        "- The tagger uses surrounding words to determine the most likely tag for ambiguous words.\n"
      ],
      "metadata": {
        "id": "q3VZ248az7d0"
      }
    }
  ]
}