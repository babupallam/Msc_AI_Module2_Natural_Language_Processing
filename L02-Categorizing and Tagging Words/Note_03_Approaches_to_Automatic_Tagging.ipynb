{
  "nbformat": 4,
  "nbformat_minor": 0,
  "metadata": {
    "colab": {
      "provenance": [],
      "toc_visible": true,
      "authorship_tag": "ABX9TyPFBlm7G16rY+ts06WWxSDp",
      "include_colab_link": true
    },
    "kernelspec": {
      "name": "python3",
      "display_name": "Python 3"
    },
    "language_info": {
      "name": "python"
    }
  },
  "cells": [
    {
      "cell_type": "markdown",
      "metadata": {
        "id": "view-in-github",
        "colab_type": "text"
      },
      "source": [
        "<a href=\"https://colab.research.google.com/github/babupallam/Msc_AI_Module2_Natural_Language_Processing/blob/main/Note_03_Approaches_to_Automatic_Tagging.ipynb\" target=\"_parent\"><img src=\"https://colab.research.google.com/assets/colab-badge.svg\" alt=\"Open In Colab\"/></a>"
      ]
    },
    {
      "cell_type": "markdown",
      "source": [
        "\n",
        "- This focuses on the various approaches used for automating **Part-of-Speech (POS) tagging**, a crucial task in Natural Language Processing (NLP).\n",
        "- This section delves into several tagging techniques, each varying in complexity and accuracy, ranging from simple rule-based models to more advanced statistical and machine learning methods.\n",
        "- These approaches form the foundation for accurate syntactic analysis and provide the groundwork for more complex NLP tasks like parsing, named entity recognition, and machine translation.\n",
        "\n"
      ],
      "metadata": {
        "id": "E7lXDdbt2UIB"
      }
    },
    {
      "cell_type": "markdown",
      "source": [
        "### **1. Default Tagger**\n",
        "\n",
        "- The **default tagger** is the simplest form of POS tagging.\n",
        "- It assigns the same part of speech to every word in a corpus, typically using the most frequent tag, which is often **noun** (since nouns are common in many texts).\n",
        "\n"
      ],
      "metadata": {
        "id": "dfc1v9Dj2UKj"
      }
    },
    {
      "cell_type": "markdown",
      "source": [
        "#### How It Works:\n",
        "- Every word in the corpus is tagged with a single, predefined POS tag (e.g., **NN** for nouns).\n",
        "- This is useful as a baseline model to compare with more sophisticated tagging methods.\n",
        "\n"
      ],
      "metadata": {
        "id": "LLIExXut2UNU"
      }
    },
    {
      "cell_type": "markdown",
      "source": [
        "#### Limitations:\n",
        "- While easy to implement, it is not very accurate because it ignores the specific word or its context.\n",
        "- Example: In a sentence like \"She runs every day,\" every word would be tagged as a noun, leading to incorrect tags for words like \"runs\" (which should be a verb).\n",
        "\n"
      ],
      "metadata": {
        "id": "xLyLFT132UP3"
      }
    },
    {
      "cell_type": "markdown",
      "source": [
        "#### Use Case:\n",
        "- The default tagger is mostly used as a **backoff strategy** in combination with other, more advanced taggers.\n",
        "\n"
      ],
      "metadata": {
        "id": "t8u7jzXR2USk"
      }
    },
    {
      "cell_type": "markdown",
      "source": [
        "#### Demonstration"
      ],
      "metadata": {
        "id": "0-QmoxNw3FHR"
      }
    },
    {
      "cell_type": "code",
      "source": [
        "import nltk\n",
        "from nltk import DefaultTagger\n",
        "from nltk.corpus import brown\n",
        "\n",
        "# Example sentences\n",
        "sentences = [\"The quick brown fox jumps over the lazy dog.\",\n",
        "             \"A beautiful morning in the city.\"]\n",
        "\n",
        "# Tokenize the sentences\n",
        "tokens = [nltk.word_tokenize(sentence) for sentence in sentences]\n",
        "\n",
        "# Create a DefaultTagger that tags every word as a noun (NN)\n",
        "default_tagger = DefaultTagger('NN')\n",
        "\n",
        "# Apply the tagger to each sentence\n",
        "for sentence_tokens in tokens:\n",
        "    tagged = default_tagger.tag(sentence_tokens)\n",
        "    print(\"Tagged Sentence (Default Tagger):\", tagged)\n",
        "\n",
        "# Evaluate accuracy on the Brown corpus (just for demonstration)\n",
        "brown_tagged_sents = brown.tagged_sents(categories='news')\n",
        "accuracy = default_tagger.evaluate(brown_tagged_sents)\n",
        "print(\"Accuracy of Default Tagger on Brown corpus:\", accuracy)\n"
      ],
      "metadata": {
        "colab": {
          "base_uri": "https://localhost:8080/"
        },
        "id": "oE1oXwQ03TZe",
        "outputId": "b5cb2ba9-f7f6-4a94-f030-312f49a84769"
      },
      "execution_count": 8,
      "outputs": [
        {
          "output_type": "stream",
          "name": "stdout",
          "text": [
            "Tagged Sentence (Default Tagger): [('The', 'NN'), ('quick', 'NN'), ('brown', 'NN'), ('fox', 'NN'), ('jumps', 'NN'), ('over', 'NN'), ('the', 'NN'), ('lazy', 'NN'), ('dog', 'NN'), ('.', 'NN')]\n",
            "Tagged Sentence (Default Tagger): [('A', 'NN'), ('beautiful', 'NN'), ('morning', 'NN'), ('in', 'NN'), ('the', 'NN'), ('city', 'NN'), ('.', 'NN')]\n"
          ]
        },
        {
          "output_type": "stream",
          "name": "stderr",
          "text": [
            "<ipython-input-8-3be1c739854f>:22: DeprecationWarning: \n",
            "  Function evaluate() has been deprecated.  Use accuracy(gold)\n",
            "  instead.\n",
            "  accuracy = default_tagger.evaluate(brown_tagged_sents)\n"
          ]
        },
        {
          "output_type": "stream",
          "name": "stdout",
          "text": [
            "Accuracy of Default Tagger on Brown corpus: 0.13089484257215028\n"
          ]
        }
      ]
    },
    {
      "cell_type": "markdown",
      "source": [
        "### **2. Regular Expression Tagger**\n",
        "\n",
        "The **regular expression (regex) tagger** is slightly more advanced than the default tagger. It uses regular expressions to identify patterns in words and tag them based on these patterns. For example, it can tag words ending in \"ed\" as past-tense verbs.\n",
        "\n"
      ],
      "metadata": {
        "id": "LvBq4TaH2UVa"
      }
    },
    {
      "cell_type": "markdown",
      "source": [
        "#### How It Works:\n",
        "- Patterns are created using regular expressions that match certain word characteristics, such as suffixes, prefixes, or capitalization.\n",
        "- The regex tagger then assigns a part of speech to any word that fits these patterns.\n",
        "\n"
      ],
      "metadata": {
        "id": "vh8n4vBF2UYI"
      }
    },
    {
      "cell_type": "markdown",
      "source": [
        "#### Example:\n",
        "- Words ending in \"ing\" can be tagged as **VBG** (gerund or present participle).\n",
        "- Example sentence: \"The dog is barking.\"\n",
        "  - \"barking\" would be tagged as a **VBG**.\n",
        "\n"
      ],
      "metadata": {
        "id": "84lR56Oc2Uan"
      }
    },
    {
      "cell_type": "markdown",
      "source": [
        "#### Limitations:\n",
        "- While useful for tagging simple patterns, it struggles with words that don’t follow standard morphological rules.\n",
        "- Regex taggers are **rule-based**, and the rules must be manually created, making it less scalable for large datasets or complex text structures.\n",
        "\n"
      ],
      "metadata": {
        "id": "XiikxL-j2Udm"
      }
    },
    {
      "cell_type": "markdown",
      "source": [
        "#### Demonstration"
      ],
      "metadata": {
        "id": "_xWp2xvy3pkH"
      }
    },
    {
      "cell_type": "code",
      "source": [
        "from nltk import RegexpTagger\n",
        "\n",
        "# Define additional regular expression patterns\n",
        "patterns = [\n",
        "    (r'.*ing$', 'VBG'),    # Gerunds (e.g., 'running')\n",
        "    (r'.*ed$', 'VBD'),     # Past tense verbs (e.g., 'talked')\n",
        "    (r'.*es$', 'VBZ'),     # 3rd person singular present (e.g., 'talks')\n",
        "    (r'.*ould$', 'MD'),    # Modal verbs (e.g., 'could', 'should')\n",
        "    (r'[0-9]+', 'CD'),     # Numbers\n",
        "    (r'^The$', 'DT'),      # Specific words (e.g., 'The')\n",
        "    (r'.*ly$', 'RB'),      # Adverbs (e.g., 'quickly')\n",
        "    (r'.*', 'NN')          # Default: nouns\n",
        "]\n",
        "\n",
        "# Create a RegexpTagger\n",
        "regexp_tagger = RegexpTagger(patterns)\n",
        "\n",
        "# Example sentences with diverse structures\n",
        "sentences = [\"She is running quickly to the park.\",\n",
        "             \"The cat jumped over the fence.\",\n",
        "             \"Could you help me please?\"]\n",
        "\n",
        "# Tokenize and apply the regex tagger to each sentence\n",
        "for sentence in sentences:\n",
        "    tokens = nltk.word_tokenize(sentence)\n",
        "    tagged = regexp_tagger.tag(tokens)\n",
        "    print(\"Tagged Sentence (Regex Tagger):\", tagged)\n",
        "\n",
        "# Evaluate the tagger on the Brown corpus\n",
        "brown_tagged_sents = brown.tagged_sents(categories='news')\n",
        "accuracy = regexp_tagger.evaluate(brown_tagged_sents)\n",
        "print(\"Accuracy of Regex Tagger on Brown corpus:\", accuracy)\n"
      ],
      "metadata": {
        "colab": {
          "base_uri": "https://localhost:8080/"
        },
        "id": "KChXgTB53rGB",
        "outputId": "419ce29b-ede9-4863-9b10-050c72a25ef2"
      },
      "execution_count": 9,
      "outputs": [
        {
          "output_type": "stream",
          "name": "stdout",
          "text": [
            "Tagged Sentence (Regex Tagger): [('She', 'NN'), ('is', 'NN'), ('running', 'VBG'), ('quickly', 'RB'), ('to', 'NN'), ('the', 'NN'), ('park', 'NN'), ('.', 'NN')]\n",
            "Tagged Sentence (Regex Tagger): [('The', 'DT'), ('cat', 'NN'), ('jumped', 'VBD'), ('over', 'NN'), ('the', 'NN'), ('fence', 'NN'), ('.', 'NN')]\n",
            "Tagged Sentence (Regex Tagger): [('Could', 'MD'), ('you', 'NN'), ('help', 'NN'), ('me', 'NN'), ('please', 'NN'), ('?', 'NN')]\n"
          ]
        },
        {
          "output_type": "stream",
          "name": "stderr",
          "text": [
            "<ipython-input-9-d0ff9955ecfd>:31: DeprecationWarning: \n",
            "  Function evaluate() has been deprecated.  Use accuracy(gold)\n",
            "  instead.\n",
            "  accuracy = regexp_tagger.evaluate(brown_tagged_sents)\n"
          ]
        },
        {
          "output_type": "stream",
          "name": "stdout",
          "text": [
            "Accuracy of Regex Tagger on Brown corpus: 0.17838176502177935\n"
          ]
        }
      ]
    },
    {
      "cell_type": "markdown",
      "source": [
        "### **3. Unigram Tagger**\n",
        "\n",
        "A **unigram tagger** assigns the most frequent POS tag to a word based on its appearance in a training corpus. The unigram tagger is a **statistical model** that uses frequency counts to make tagging decisions.\n",
        "\n"
      ],
      "metadata": {
        "id": "p_o6faH62UgY"
      }
    },
    {
      "cell_type": "markdown",
      "source": [
        "#### How It Works:\n",
        "- The unigram tagger learns the most likely tag for each word from a labeled training corpus. For instance, if the word \"bank\" appears more often as a noun than as a verb in the training data, it will always be tagged as a noun.\n",
        "  \n"
      ],
      "metadata": {
        "id": "i-IxlZcX2Ujq"
      }
    },
    {
      "cell_type": "markdown",
      "source": [
        "#### Advantages:\n",
        "- It is more accurate than the default or regex tagger because it uses the actual words in the corpus for tagging decisions.\n",
        "- The unigram tagger is also fast to implement and easy to train on large datasets.\n",
        "\n"
      ],
      "metadata": {
        "id": "HzCIndDQ2Umn"
      }
    },
    {
      "cell_type": "markdown",
      "source": [
        "#### Limitations:\n",
        "- The unigram tagger does not take context into account. If a word has multiple meanings (e.g., \"bank\" as both a noun and a verb), it will always be tagged with its most frequent usage, regardless of the sentence context.\n",
        "  \n"
      ],
      "metadata": {
        "id": "SasmLjO22UpW"
      }
    },
    {
      "cell_type": "markdown",
      "source": [
        "#### Example:\n",
        "- In the sentence \"The bank will open soon,\" the word \"bank\" could be tagged as **NN** (noun).\n",
        "- In the sentence \"He will bank the fire,\" \"bank\" should be a verb, but the unigram tagger may tag it as a noun if that is the most frequent tag in the training data.\n",
        "\n"
      ],
      "metadata": {
        "id": "qsk6oSwH2UsP"
      }
    },
    {
      "cell_type": "markdown",
      "source": [
        "#### Demonstration"
      ],
      "metadata": {
        "id": "ojGp8Lo-3uGt"
      }
    },
    {
      "cell_type": "code",
      "source": [
        "from nltk.corpus import brown\n",
        "from nltk import UnigramTagger\n",
        "from nltk import DefaultTagger\n",
        "\n",
        "\n",
        "#============== just to remove warning message\n",
        "import warnings  # Import warnings module\n",
        "\n",
        "# Ignore deprecation and resource warnings\n",
        "warnings.filterwarnings(\"ignore\", category=DeprecationWarning)\n",
        "warnings.filterwarnings(\"ignore\", category=ResourceWarning)\n",
        "\n",
        "#=================\n",
        "\n",
        "# Training and testing data from Brown corpus\n",
        "brown_tagged_sents = brown.tagged_sents(categories='news')\n",
        "train_data = brown_tagged_sents[:4000]  # Training on the first 4000 sentences\n",
        "test_data = brown_tagged_sents[4000:]   # Testing on the rest\n",
        "\n",
        "# Create a DefaultTagger as backoff to handle unseen words\n",
        "default_tagger = DefaultTagger('NN')\n",
        "\n",
        "# Train a UnigramTagger with backoff\n",
        "unigram_tagger = UnigramTagger(train_data, backoff=default_tagger)\n",
        "\n",
        "# Example sentence\n",
        "sentence = \"The city of London is beautiful.\"\n",
        "tokens = nltk.word_tokenize(sentence)\n",
        "\n",
        "# Tagging the sentence\n",
        "tagged = unigram_tagger.tag(tokens)\n",
        "print(\"Tagged Sentence (Unigram Tagger with Backoff):\", tagged)\n",
        "\n",
        "# Evaluate the tagger on the test set\n",
        "accuracy = unigram_tagger.evaluate(test_data)\n",
        "print(\"Accuracy of Unigram Tagger on Brown corpus:\", accuracy)\n"
      ],
      "metadata": {
        "colab": {
          "base_uri": "https://localhost:8080/"
        },
        "id": "mR1Ru_eB3v0y",
        "outputId": "61373969-fc66-405c-b9af-89833ad3f48d"
      },
      "execution_count": 19,
      "outputs": [
        {
          "output_type": "stream",
          "name": "stdout",
          "text": [
            "Tagged Sentence (Unigram Tagger with Backoff): [('The', 'AT'), ('city', 'NN'), ('of', 'IN'), ('London', 'NP'), ('is', 'BEZ'), ('beautiful', 'JJ'), ('.', '.')]\n",
            "Accuracy of Unigram Tagger on Brown corpus: 0.8344073130526001\n"
          ]
        }
      ]
    },
    {
      "cell_type": "markdown",
      "source": [
        "### **4. Lookup Tagger**\n",
        "\n",
        "The **lookup tagger** is a simple dictionary-based tagging method. It assigns tags by consulting a predefined mapping of words to tags, similar to how one would look up the part of speech in a dictionary.\n"
      ],
      "metadata": {
        "id": "uZbN4G8a7ykV"
      }
    },
    {
      "cell_type": "markdown",
      "source": [
        "\n",
        "#### How It Works:\n",
        "- A lookup table is created from a tagged corpus, where each word is assigned the most frequent tag it has received in the training data.\n",
        "- For unknown words (words not found in the dictionary), the tagger defaults to a tag like \"NN\" (noun).\n",
        "\n"
      ],
      "metadata": {
        "id": "EsFT2yOR7ygz"
      }
    },
    {
      "cell_type": "markdown",
      "source": [
        "#### Advantages:\n",
        "- **Efficiency**: It is very fast because it only needs to look up words in a precompiled dictionary.\n",
        "- **Simplicity**: Easy to implement and use with limited resources.\n",
        "\n"
      ],
      "metadata": {
        "id": "4f56bq-g7ydB"
      }
    },
    {
      "cell_type": "markdown",
      "source": [
        "#### Limitations:\n",
        "- **Lack of Context**: Like the unigram tagger, it does not consider surrounding words, so it cannot handle ambiguous words (e.g., \"run\" as a verb vs. noun) based on context.\n",
        "  \n"
      ],
      "metadata": {
        "id": "6iHm3ei07yap"
      }
    },
    {
      "cell_type": "markdown",
      "source": [
        "#### Example:\n",
        "- The word \"dog\" would always be tagged as **NN** (noun), even if used in a phrase where it should be an adjective.\n"
      ],
      "metadata": {
        "id": "67jPiTGD7yYE"
      }
    },
    {
      "cell_type": "markdown",
      "source": [
        "#### Demonstration"
      ],
      "metadata": {
        "id": "TTODZ6Fz8x7K"
      }
    },
    {
      "cell_type": "code",
      "source": [
        "import nltk\n",
        "from nltk.corpus import brown\n",
        "from nltk import DefaultTagger\n",
        "from collections import defaultdict\n",
        "\n",
        "#============== just to remove warning message\n",
        "import warnings  # Import warnings module\n",
        "\n",
        "# Ignore deprecation and resource warnings\n",
        "warnings.filterwarnings(\"ignore\", category=DeprecationWarning)\n",
        "warnings.filterwarnings(\"ignore\", category=ResourceWarning)\n",
        "\n",
        "#=================\n",
        "\n",
        "# Training and testing data from Brown corpus\n",
        "brown_tagged_sents = brown.tagged_sents(categories='news')\n",
        "train_data = brown_tagged_sents[:4000]  # Training on the first 4000 sentences\n",
        "test_data = brown_tagged_sents[4000:]   # Testing on the rest\n",
        "\n",
        "# Building a lookup dictionary based on training data\n",
        "lookup_dict = defaultdict(lambda: 'NN')  # Default tag is 'NN'\n",
        "for sent in train_data:\n",
        "    for word, tag in sent:\n",
        "        if word not in lookup_dict:\n",
        "            lookup_dict[word] = tag  # Assign the most frequent tag\n",
        "\n",
        "# Creating a custom Lookup Tagger based on the dictionary\n",
        "class LookupTagger:\n",
        "    def __init__(self, lookup_dict):\n",
        "        self.lookup_dict = lookup_dict\n",
        "\n",
        "    def tag(self, tokens):\n",
        "        return [(word, self.lookup_dict.get(word, 'NN')) for word in tokens]\n",
        "\n",
        "# Example sentence\n",
        "sentence = \"The city of London is beautiful.\"\n",
        "tokens = nltk.word_tokenize(sentence)\n",
        "\n",
        "# Tagging the sentence using LookupTagger\n",
        "lookup_tagger = LookupTagger(lookup_dict)\n",
        "tagged = lookup_tagger.tag(tokens)\n",
        "print(\"Tagged Sentence (Lookup Tagger):\", tagged)\n"
      ],
      "metadata": {
        "colab": {
          "base_uri": "https://localhost:8080/"
        },
        "id": "kmGi_kKZ8zXK",
        "outputId": "54092cbd-a530-4521-8ede-d4cf981cba65"
      },
      "execution_count": 24,
      "outputs": [
        {
          "output_type": "stream",
          "name": "stdout",
          "text": [
            "Tagged Sentence (Lookup Tagger): [('The', 'AT'), ('city', 'NN'), ('of', 'IN'), ('London', 'NP'), ('is', 'BEZ'), ('beautiful', 'JJ'), ('.', '.')]\n"
          ]
        }
      ]
    },
    {
      "cell_type": "markdown",
      "source": [
        "![image.png](data:image/png;base64,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)"
      ],
      "metadata": {
        "id": "pp0fm07i-A3B"
      }
    },
    {
      "cell_type": "markdown",
      "source": [
        "Solution: Create custom evaluate function and find accuracy"
      ],
      "metadata": {
        "id": "eAKVzhV2-azd"
      }
    },
    {
      "cell_type": "code",
      "source": [
        "import nltk\n",
        "from nltk.corpus import brown\n",
        "from nltk import DefaultTagger\n",
        "from collections import defaultdict\n",
        "\n",
        "#============== just to remove warning message\n",
        "import warnings  # Import warnings module\n",
        "\n",
        "# Ignore deprecation and resource warnings\n",
        "warnings.filterwarnings(\"ignore\", category=DeprecationWarning)\n",
        "warnings.filterwarnings(\"ignore\", category=ResourceWarning)\n",
        "\n",
        "#=================\n",
        "\n",
        "# Training and testing data from Brown corpus\n",
        "brown_tagged_sents = brown.tagged_sents(categories='news')\n",
        "train_data = brown_tagged_sents[:4000]  # Training on the first 4000 sentences\n",
        "test_data = brown_tagged_sents[4000:]   # Testing on the rest\n",
        "\n",
        "# Building a lookup dictionary based on training data\n",
        "lookup_dict = defaultdict(lambda: 'NN')  # Default tag is 'NN'\n",
        "for sent in train_data:\n",
        "    for word, tag in sent:\n",
        "        if word not in lookup_dict:\n",
        "            lookup_dict[word] = tag  # Assign the most frequent tag\n",
        "\n",
        "# Creating a custom Lookup Tagger based on the dictionary\n",
        "class LookupTagger:\n",
        "    def __init__(self, lookup_dict):\n",
        "        self.lookup_dict = lookup_dict\n",
        "\n",
        "    def tag(self, tokens):\n",
        "        return [(word, self.lookup_dict.get(word, 'NN')) for word in tokens]\n",
        "\n",
        "    def evaluate(self, test_data):\n",
        "        correct = 0\n",
        "        total = 0\n",
        "        for sent in test_data:\n",
        "            words = [word for word, _ in sent]\n",
        "            gold_tags = [tag for _, tag in sent]\n",
        "            predicted_tags = [tag for _, tag in self.tag(words)]\n",
        "            correct += sum(1 for gold, predicted in zip(gold_tags, predicted_tags) if gold == predicted)\n",
        "            total += len(gold_tags)\n",
        "        return correct / total\n",
        "\n",
        "# Example sentence\n",
        "sentence = \"The city of London is beautiful.\"\n",
        "tokens = nltk.word_tokenize(sentence)\n",
        "\n",
        "# Tagging the sentence using LookupTagger\n",
        "lookup_tagger = LookupTagger(lookup_dict)\n",
        "tagged = lookup_tagger.tag(tokens)\n",
        "print(\"Tagged Sentence (Lookup Tagger):\", tagged)\n",
        "\n",
        "# Evaluate the Lookup Tagger on the test set\n",
        "accuracy = lookup_tagger.evaluate(test_data)\n",
        "print(\"Accuracy of Lookup Tagger on Brown corpus:\", accuracy)\n"
      ],
      "metadata": {
        "colab": {
          "base_uri": "https://localhost:8080/"
        },
        "id": "JTFMSEv9-EM9",
        "outputId": "3bf36f28-ec66-4dbb-b086-174b6397819d"
      },
      "execution_count": 27,
      "outputs": [
        {
          "output_type": "stream",
          "name": "stdout",
          "text": [
            "Tagged Sentence (Lookup Tagger): [('The', 'AT'), ('city', 'NN'), ('of', 'IN'), ('London', 'NP'), ('is', 'BEZ'), ('beautiful', 'JJ'), ('.', '.')]\n",
            "Accuracy of Lookup Tagger on Brown corpus: 0.8230930615914881\n"
          ]
        }
      ]
    },
    {
      "cell_type": "markdown",
      "source": [
        "\n",
        "### **5. N-Gram Taggers (Bigram Tagger)**\n",
        "\n",
        "The **bigram tagger** improves accuracy by considering not just the current word but also the tag of the preceding word when assigning a part of speech. This is the simplest form of **contextual taggers**, and it accounts for **bigram** relationships between words and their tags.\n",
        "\n"
      ],
      "metadata": {
        "id": "CzMvFAiK7_yp"
      }
    },
    {
      "cell_type": "markdown",
      "source": [
        "#### How It Works:\n",
        "- The bigram tagger looks at the current word and the POS tag of the previous word to decide the correct tag.\n",
        "  \n"
      ],
      "metadata": {
        "id": "jKkcPcZ97_vQ"
      }
    },
    {
      "cell_type": "markdown",
      "source": [
        "#### Example:\n",
        "- In the sentence \"She can fish,\" the word \"can\" could be ambiguous. If the previous word is \"She,\" a **bigram tagger** would recognize that \"can\" is more likely to be a modal auxiliary (**MD**) than a verb.\n",
        "\n"
      ],
      "metadata": {
        "id": "a7ZY3f6Z7_tC"
      }
    },
    {
      "cell_type": "markdown",
      "source": [
        "#### Advantages:\n",
        "- It provides greater accuracy for tagging sequences of words than unigram or lookup taggers.\n",
        "  \n"
      ],
      "metadata": {
        "id": "MpdWSwGk7_qm"
      }
    },
    {
      "cell_type": "markdown",
      "source": [
        "#### Limitations:\n",
        "- **Data Sparsity**: Bigram taggers can run into issues with rare or unseen word pairs in smaller corpora, leading to misclassification.\n"
      ],
      "metadata": {
        "id": "R1oHegVP7_n6"
      }
    },
    {
      "cell_type": "markdown",
      "source": [
        "#### Demonstration"
      ],
      "metadata": {
        "id": "HN3hkd5g7_lc"
      }
    },
    {
      "cell_type": "code",
      "source": [
        "import nltk\n",
        "from nltk.corpus import brown\n",
        "from nltk import BigramTagger, DefaultTagger, UnigramTagger\n",
        "\n",
        "#============== just to remove warning message\n",
        "import warnings  # Import warnings module\n",
        "\n",
        "# Ignore deprecation and resource warnings\n",
        "warnings.filterwarnings(\"ignore\", category=DeprecationWarning)\n",
        "warnings.filterwarnings(\"ignore\", category=ResourceWarning)\n",
        "\n",
        "#=================\n",
        "\n",
        "# Training and testing data from Brown corpus\n",
        "brown_tagged_sents = brown.tagged_sents(categories='news')\n",
        "train_data = brown_tagged_sents[:4000]  # Training on the first 4000 sentences\n",
        "test_data = brown_tagged_sents[4000:]   # Testing on the rest\n",
        "\n",
        "# Create a DefaultTagger as backoff to handle unseen words\n",
        "default_tagger = DefaultTagger('NN')\n",
        "\n",
        "# Create a UnigramTagger with backoff to handle unseen bigram contexts\n",
        "unigram_tagger = UnigramTagger(train_data, backoff=default_tagger)\n",
        "\n",
        "# Train a BigramTagger with backoff\n",
        "bigram_tagger = BigramTagger(train_data, backoff=unigram_tagger)\n",
        "\n",
        "# Example sentence\n",
        "sentence = \"The city of London is beautiful.\"\n",
        "tokens = nltk.word_tokenize(sentence)\n",
        "\n",
        "# Tagging the sentence using Bigram Tagger\n",
        "tagged = bigram_tagger.tag(tokens)\n",
        "print(\"Tagged Sentence (Bigram Tagger with Backoff):\", tagged)\n",
        "\n",
        "# Evaluate the Bigram Tagger on the test set\n",
        "accuracy = bigram_tagger.evaluate(test_data)\n",
        "print(\"Accuracy of Bigram Tagger on Brown corpus:\", accuracy)\n"
      ],
      "metadata": {
        "colab": {
          "base_uri": "https://localhost:8080/"
        },
        "id": "eQ9l6zvU8GV9",
        "outputId": "b9fabd64-3ea4-498f-ae8e-b2864f1de448"
      },
      "execution_count": 25,
      "outputs": [
        {
          "output_type": "stream",
          "name": "stdout",
          "text": [
            "Tagged Sentence (Bigram Tagger with Backoff): [('The', 'AT'), ('city', 'NN'), ('of', 'IN'), ('London', 'NP'), ('is', 'BEZ'), ('beautiful', 'JJ'), ('.', '.')]\n",
            "Accuracy of Bigram Tagger on Brown corpus: 0.8427244118087817\n"
          ]
        }
      ]
    },
    {
      "cell_type": "markdown",
      "source": [
        "### **6. N-Gram Taggers (Trigram)**\n",
        "\n",
        "**N-gram taggers** consider the tags of surrounding words (context) to make better tagging decisions. In particular, **bigram** and **trigram** taggers use the previous one or two tags, respectively, to predict the tag for the current word.\n",
        "\n"
      ],
      "metadata": {
        "id": "6QZrycTr2UvH"
      }
    },
    {
      "cell_type": "markdown",
      "source": [
        "#### How It Works:\n",
        "- **Bigram taggers** look at the current word and the tag of the previous word to predict the POS tag.\n",
        "- **Trigram taggers** look at the current word and the tags of the two preceding words.\n",
        "  \n",
        "This approach introduces contextual information, which can greatly improve accuracy over the unigram tagger.\n",
        "\n"
      ],
      "metadata": {
        "id": "GSMgtJpi2UyQ"
      }
    },
    {
      "cell_type": "markdown",
      "source": [
        "#### Example:\n",
        "- In the sentence \"I can fish,\" the word \"can\" might be ambiguous (it can be a verb or a modal auxiliary). If the previous word was \"I\" (a pronoun), the tagger would more likely tag \"can\" as a modal auxiliary (**MD**), rather than a verb.\n",
        "\n"
      ],
      "metadata": {
        "id": "McmdVffp2U1H"
      }
    },
    {
      "cell_type": "markdown",
      "source": [
        "#### Advantages:\n",
        "- By using context, N-gram taggers can resolve some ambiguities that unigram taggers cannot.\n",
        "  \n"
      ],
      "metadata": {
        "id": "tf-Jd7MH2U37"
      }
    },
    {
      "cell_type": "markdown",
      "source": [
        "#### Limitations:\n",
        "- **Data Sparsity**: As the N value increases (bigram, trigram), the model becomes more reliant on large amounts of training data. For rare combinations of words and tags, the model may not perform well.\n",
        "- **Overfitting**: N-gram taggers may overfit to the training data, especially when there are unique or rare tag sequences.\n",
        "\n"
      ],
      "metadata": {
        "id": "64oAX9CG2U64"
      }
    },
    {
      "cell_type": "markdown",
      "source": [
        "#### Demonstration"
      ],
      "metadata": {
        "id": "BaKjpUCu4vle"
      }
    },
    {
      "cell_type": "code",
      "source": [
        "from nltk import BigramTagger, TrigramTagger\n",
        "\n",
        "#============== just to remove warning message\n",
        "import warnings  # Import warnings module\n",
        "\n",
        "# Ignore deprecation and resource warnings\n",
        "warnings.filterwarnings(\"ignore\", category=ResourceWarning)\n",
        "\n",
        "#=================\n",
        "\n",
        "\n",
        "# Train Bigram and Trigram Taggers with backoff strategy\n",
        "bigram_tagger = BigramTagger(train_data, backoff=unigram_tagger)\n",
        "trigram_tagger = TrigramTagger(train_data, backoff=bigram_tagger)\n",
        "\n",
        "# Example sentence\n",
        "sentence = \"The quick brown fox jumps over the lazy dog.\"\n",
        "tokens = nltk.word_tokenize(sentence)\n",
        "\n",
        "# Apply Trigram Tagger with backoff\n",
        "tagged = trigram_tagger.tag(tokens)\n",
        "print(\"Tagged Sentence (Trigram Tagger with Backoff):\", tagged)\n",
        "\n",
        "# Evaluate Trigram Tagger on the test set\n",
        "accuracy = trigram_tagger.evaluate(test_data)\n",
        "print(\"Accuracy of Trigram Tagger on Brown corpus:\", accuracy)\n"
      ],
      "metadata": {
        "colab": {
          "base_uri": "https://localhost:8080/"
        },
        "id": "2Hi_Nllj4xRV",
        "outputId": "0f69f7b4-6a17-4620-f7af-2e68233156fa"
      },
      "execution_count": 23,
      "outputs": [
        {
          "output_type": "stream",
          "name": "stdout",
          "text": [
            "Tagged Sentence (Trigram Tagger with Backoff): [('The', 'AT'), ('quick', 'JJ'), ('brown', 'NN'), ('fox', 'NN'), ('jumps', 'NN'), ('over', 'IN'), ('the', 'AT'), ('lazy', 'NN'), ('dog', 'NN'), ('.', '.')]\n",
            "Accuracy of Trigram Tagger on Brown corpus: 0.8413007642739397\n"
          ]
        }
      ]
    },
    {
      "cell_type": "markdown",
      "source": [
        "### **7. Backoff Tagging**\n",
        "\n",
        "A **backoff tagger** is a method of combining multiple tagging strategies to improve accuracy. When one tagger (usually a more complex one like a trigram tagger) fails to tag a word, it backs off to a simpler tagger (like a bigram tagger), and so on, eventually backing off to a default tagger if no other taggers succeed.\n",
        "\n"
      ],
      "metadata": {
        "id": "_1-XPXgV2U9Z"
      }
    },
    {
      "cell_type": "markdown",
      "source": [
        "#### How It Works:\n",
        "- First, the model attempts to tag using the most sophisticated tagger (e.g., trigram tagger).\n",
        "- If the trigram tagger cannot make a decision, the model \"backs off\" to the bigram tagger.\n",
        "- If the bigram tagger fails, the model backs off to a unigram tagger.\n",
        "- Finally, if none of the models can tag a word, the default tagger is used as a last resort.\n",
        "\n"
      ],
      "metadata": {
        "id": "aEOSFaCv2VAS"
      }
    },
    {
      "cell_type": "markdown",
      "source": [
        "#### Example:\n",
        "- Sentence: \"The dog barked loudly.\"\n",
        "  - The trigram tagger might assign tags for \"The dog barked\" based on context, but for \"loudly,\" it could fail to find a suitable tag if the word hasn't been seen in that context. The bigram or unigram tagger can then back off and assign the appropriate tag (**RB** for adverb).\n",
        "\n"
      ],
      "metadata": {
        "id": "Hu5kJNRj2VC9"
      }
    },
    {
      "cell_type": "markdown",
      "source": [
        "#### Advantages:\n",
        "- Backoff tagging significantly improves accuracy by combining the strengths of different tagging methods.\n",
        "  \n"
      ],
      "metadata": {
        "id": "d1PRJ1yF2VF3"
      }
    },
    {
      "cell_type": "markdown",
      "source": [
        "#### Limitations:\n",
        "- While backoff strategies improve accuracy, the overall performance is still limited by the effectiveness of the individual taggers involved.\n",
        "\n"
      ],
      "metadata": {
        "id": "2yc764cj2VJG"
      }
    },
    {
      "cell_type": "markdown",
      "source": [
        "#### Demonstration"
      ],
      "metadata": {
        "id": "EfDFzFpb4yLF"
      }
    },
    {
      "cell_type": "code",
      "source": [
        "# Full backoff chain: Trigram -> Bigram -> Unigram -> Default\n",
        "backoff_tagger = TrigramTagger(\n",
        "    train_data,\n",
        "    backoff=BigramTagger(\n",
        "        train_data,\n",
        "        backoff=UnigramTagger(\n",
        "            train_data,\n",
        "            backoff=DefaultTagger('NN')\n",
        "        )\n",
        "    )\n",
        ")\n",
        "\n",
        "# Example sentences to demonstrate how backoff works\n",
        "sentences = [\n",
        "    \"The quick brown fox jumps over the lazy dog.\",\n",
        "    \"This is a beautiful day for a walk.\",\n",
        "    \"Computers can learn complex patterns with enough data.\"\n",
        "]\n",
        "\n",
        "# Tokenize and apply the backoff tagger to each sentence\n",
        "for sentence in sentences:\n",
        "    tokens = nltk.word_tokenize(sentence)\n",
        "    tagged = backoff_tagger.tag(tokens)\n",
        "    print(\"Tagged Sentence (Backoff Tagger):\", tagged)\n",
        "\n",
        "# Evaluate the full backoff tagger on the test set\n",
        "accuracy = backoff_tagger.evaluate(test_data)\n",
        "print(\"Accuracy of Full Backoff Tagger on Brown corpus:\", accuracy)\n"
      ],
      "metadata": {
        "colab": {
          "base_uri": "https://localhost:8080/"
        },
        "id": "-WacfG9-4zig",
        "outputId": "4c7de3ee-3c22-4a46-9b4e-5c15cbdc31cc"
      },
      "execution_count": 22,
      "outputs": [
        {
          "output_type": "stream",
          "name": "stdout",
          "text": [
            "Tagged Sentence (Backoff Tagger): [('The', 'AT'), ('quick', 'JJ'), ('brown', 'NN'), ('fox', 'NN'), ('jumps', 'NN'), ('over', 'IN'), ('the', 'AT'), ('lazy', 'NN'), ('dog', 'NN'), ('.', '.')]\n",
            "Tagged Sentence (Backoff Tagger): [('This', 'DT'), ('is', 'BEZ'), ('a', 'AT'), ('beautiful', 'JJ'), ('day', 'NN'), ('for', 'IN'), ('a', 'AT'), ('walk', 'NN'), ('.', '.')]\n",
            "Tagged Sentence (Backoff Tagger): [('Computers', 'NN'), ('can', 'MD'), ('learn', 'VB'), ('complex', 'JJ'), ('patterns', 'NN'), ('with', 'IN'), ('enough', 'AP'), ('data', 'NN'), ('.', '.')]\n",
            "Accuracy of Full Backoff Tagger on Brown corpus: 0.8413007642739397\n"
          ]
        }
      ]
    },
    {
      "cell_type": "markdown",
      "source": [
        "### **8. Brill Tagger (Transformation-Based Tagger)**\n",
        "\n",
        "The **Brill tagger**, also known as a **transformation-based tagger**, is a **rule-based** approach to POS tagging, but unlike traditional rule-based taggers, the rules are **automatically learned** from the data. The Brill tagger starts by tagging all words using a simple method (often unigram or default tagging) and then **refines the tags** by applying a sequence of transformation rules.\n",
        "\n"
      ],
      "metadata": {
        "id": "B8McU0cw7mAL"
      }
    },
    {
      "cell_type": "markdown",
      "source": [
        "#### How It Works:\n",
        "1. Initially, words are tagged with a baseline tagger (e.g., a default or unigram tagger).\n",
        "2. The Brill tagger then learns transformation rules from errors made by the initial tagger. For instance, it might learn a rule to change a noun tag to a verb when the word follows an auxiliary verb.\n",
        "3. These transformation rules are applied iteratively to fix incorrect tags and improve accuracy.\n",
        "\n"
      ],
      "metadata": {
        "id": "5NupI7Mm8eeF"
      }
    },
    {
      "cell_type": "markdown",
      "source": [
        "#### Example of Transformation Rules:\n",
        "- If a word is tagged as **NN** (noun) but follows a determiner like \"a\" or \"the,\" it should be re-tagged as **VB** (verb).\n",
        "  \n"
      ],
      "metadata": {
        "id": "TpTjjGgk8eay"
      }
    },
    {
      "cell_type": "markdown",
      "source": [
        "#### Advantages:\n",
        "- **Learned Rules**: The rules are data-driven, meaning they are learned from a corpus, allowing the Brill tagger to adapt to different types of text.\n",
        "- **Transparency**: The rules are interpretable and can be manually reviewed and tweaked.\n",
        "  \n"
      ],
      "metadata": {
        "id": "CTSaafug8hoH"
      }
    },
    {
      "cell_type": "markdown",
      "source": [
        "#### Limitations:\n",
        "- **Complexity**: While powerful, the Brill tagger can be slower compared to purely statistical taggers due to the iterative rule-learning process.\n",
        "- **Requires Large Corpora**: It requires a significant amount of training data to generate meaningful transformation rules.\n"
      ],
      "metadata": {
        "id": "1wYoDmQp8hkk"
      }
    },
    {
      "cell_type": "markdown",
      "source": [
        "#### Demonstration"
      ],
      "metadata": {
        "id": "77Kz_rsM8jV9"
      }
    },
    {
      "cell_type": "code",
      "source": [
        "import nltk\n",
        "from nltk.corpus import brown\n",
        "from nltk.tag import brill, brill_trainer\n",
        "from nltk import UnigramTagger, DefaultTagger\n",
        "\n",
        "#============== just to remove warning message\n",
        "import warnings  # Import warnings module\n",
        "\n",
        "# Ignore deprecation and resource warnings\n",
        "warnings.filterwarnings(\"ignore\", category=DeprecationWarning)\n",
        "warnings.filterwarnings(\"ignore\", category=ResourceWarning)\n",
        "\n",
        "#=================\n",
        "\n",
        "# Training and testing data from Brown corpus\n",
        "brown_tagged_sents = brown.tagged_sents(categories='news')\n",
        "train_data = brown_tagged_sents[:4000]  # Training on the first 4000 sentences\n",
        "test_data = brown_tagged_sents[4000:]   # Testing on the rest\n",
        "\n",
        "# Create a DefaultTagger as backoff to handle unseen words\n",
        "default_tagger = DefaultTagger('NN')\n",
        "\n",
        "# Train a UnigramTagger with backoff\n",
        "unigram_tagger = UnigramTagger(train_data, backoff=default_tagger)\n",
        "\n",
        "# Define Brill Tagger's templates for transformation rules\n",
        "templates = brill.nltkdemo18()  # Predefined templates from NLTK\n",
        "\n",
        "# Train Brill Tagger using a Brill Trainer\n",
        "trainer = brill_trainer.BrillTaggerTrainer(initial_tagger=unigram_tagger, templates=templates)\n",
        "brill_tagger = trainer.train(train_data)\n",
        "\n",
        "# Example sentence\n",
        "sentence = \"The city of London is beautiful.\"\n",
        "tokens = nltk.word_tokenize(sentence)\n",
        "\n",
        "# Tagging the sentence using Brill Tagger\n",
        "tagged = brill_tagger.tag(tokens)\n",
        "print(\"Tagged Sentence (Brill Tagger):\", tagged)\n",
        "\n",
        "# Evaluate the Brill Tagger on the test set\n",
        "accuracy = brill_tagger.evaluate(test_data)\n",
        "print(\"Accuracy of Brill Tagger on Brown corpus:\", accuracy)\n"
      ],
      "metadata": {
        "colab": {
          "base_uri": "https://localhost:8080/"
        },
        "id": "wTULvsos8kvj",
        "outputId": "2fc1844a-0df8-4113-e819-cf00323661c4"
      },
      "execution_count": 26,
      "outputs": [
        {
          "output_type": "stream",
          "name": "stdout",
          "text": [
            "Tagged Sentence (Brill Tagger): [('The', 'AT'), ('city', 'NN'), ('of', 'IN'), ('London', 'NP'), ('is', 'BEZ'), ('beautiful', 'JJ'), ('.', '.')]\n",
            "Accuracy of Brill Tagger on Brown corpus: 0.8572606024276936\n"
          ]
        }
      ]
    },
    {
      "cell_type": "markdown",
      "source": [
        "### **Analysis of the Evaluation Result (Accuracy)**"
      ],
      "metadata": {
        "id": "CXhDb7W4BlCM"
      }
    },
    {
      "cell_type": "markdown",
      "source": [
        "![image.png](data:image/png;base64,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)"
      ],
      "metadata": {
        "id": "s3QrSAW4Bui4"
      }
    },
    {
      "cell_type": "markdown",
      "source": [
        "\n",
        "\n",
        "1. **Brill Tagger** achieved the highest accuracy (85.73%). It uses transformation-based learning, applying rules iteratively to improve the tagging, making it the most effective in this evaluation.\n",
        "\n",
        "2. **Bigram Tagger** and **Trigram Tagger** performed similarly, with accuracies of 84.27% and 84.13%, respectively. These taggers consider the context of two or three consecutive words, enhancing performance over simpler models.\n",
        "\n",
        "3. **Full Backoff Tagger**, combining multiple strategies (unigram, bigram, and trigram), matched the trigram tagger’s performance, reflecting its ability to handle various tagging challenges by falling back on simpler models when more complex ones fail.\n",
        "\n",
        "4. **Unigram Tagger** had an accuracy of 83.44%. It tags based on the most frequent tag for each word, performing well on familiar words but lacking in context sensitivity.\n",
        "\n",
        "5. **Lookup Tagger** (82.31%) uses a fixed list of word-tag pairs, which is effective but limited by the comprehensiveness of its lookup table.\n",
        "\n",
        "6. **Regex Tagger** and **Default Tagger** performed the worst, with accuracies of 17.84% and 13.09%, respectively. These models are simplistic, with the default tagger assigning the same tag to every word and the regex tagger relying on pattern matching.\n",
        "\n",
        "### Conclusion:\n",
        "More complex models like the **Brill Tagger**, **Bigram Tagger**, and **Trigram Tagger** significantly outperform simpler models such as the **Default** and **Regex Taggers**, indicating the importance of contextual information in tagging. The **Full Backoff Tagger**, combining these models, offers a balanced approach but did not surpass the Brill tagger in this evaluation."
      ],
      "metadata": {
        "id": "OPsZav8DBneD"
      }
    }
  ]
}