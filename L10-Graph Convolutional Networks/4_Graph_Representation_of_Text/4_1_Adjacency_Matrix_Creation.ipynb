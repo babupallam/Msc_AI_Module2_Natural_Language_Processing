{
  "cells": [
    {
      "cell_type": "code",
      "execution_count": null,
      "id": "initial_id",
      "metadata": {
        "collapsed": true,
        "id": "initial_id"
      },
      "outputs": [],
      "source": []
    },
    {
      "cell_type": "markdown",
      "source": [
        "### Section 4.1: Creating the Adjacency Matrix\n",
        "\n",
        "- In this section, we’ll focus on constructing the adjacency matrix for a GCN. The adjacency matrix is essential for representing connections (or edges) between nodes in a graph.\n",
        "\n",
        "- In our NLP context, each word in a sentence is a node, and syntactic or dependency relations between words form the edges.\n",
        "\n",
        "- We’ll create the adjacency matrix based on dependency parsing data, which captures the hierarchical and grammatical structure of sentences.\n",
        "\n",
        "**Contents:**\n",
        "\n",
        "1. **Understanding the Role of the Adjacency Matrix in GCNs**\n",
        "2. **Constructing the Adjacency Matrix from Dependency Relations**\n",
        "3. **Implementing Adjacency Matrix Creation with spaCy**\n",
        "4. **Self-Loops in Adjacency Matrices**\n",
        "5. **Code Walkthrough**\n",
        "\n",
        "---\n"
      ],
      "metadata": {
        "id": "FoDDjLvK2c6M"
      },
      "id": "FoDDjLvK2c6M"
    },
    {
      "cell_type": "markdown",
      "source": [
        "\n",
        "### 1. Understanding the Role of the Adjacency Matrix in GCNs\n",
        "\n",
        "- **Definition**: The adjacency matrix \\( A \\) is a square matrix where each entry \\( A[i][j] \\) indicates whether there’s a connection between nodes \\( i \\) and \\( j \\).\n",
        "- **Purpose in GCNs**: The adjacency matrix defines which nodes (words, in NLP tasks) are “neighbors” and should share information. It is fundamental for the message-passing mechanism in GCNs.\n",
        "- **Binary Values**:\n",
        "  - **1**: Indicates an edge between nodes (words).\n",
        "  - **0**: Indicates no edge.\n",
        "  \n",
        "**Example**:\n",
        "- For a sentence with words `[“The”, “cat”, “sat”, “on”, “the”, “mat”]`, an adjacency matrix may look like:\n",
        "  ```plaintext\n",
        "  [[1, 1, 0, 0, 0, 0],\n",
        "   [1, 1, 1, 0, 0, 0],\n",
        "   [0, 1, 1, 1, 0, 0],\n",
        "   [0, 0, 1, 1, 1, 0],\n",
        "   [0, 0, 0, 1, 1, 1],\n",
        "   [0, 0, 0, 0, 1, 1]]\n",
        "  ```\n",
        "\n",
        "---\n"
      ],
      "metadata": {
        "id": "SnQVtfio2eI-"
      },
      "id": "SnQVtfio2eI-"
    },
    {
      "cell_type": "markdown",
      "source": [
        "\n",
        "### 2. Constructing the Adjacency Matrix from Dependency Relations\n",
        "\n",
        "In NLP, the adjacency matrix is often derived from **dependency parsing** results. Dependency parsing identifies relationships between words, allowing us to create meaningful connections between nodes in the graph.\n",
        "\n",
        "#### Steps:\n",
        "1. **Dependency Parsing**: Parse the sentence to obtain dependency relations (e.g., subject-verb, object-preposition).\n",
        "2. **Matrix Construction**:\n",
        "   - For each dependency relation, add an edge between the dependent word and its head.\n",
        "3. **Symmetry**:\n",
        "   - In an undirected graph, make the matrix symmetric by setting both \\( A[i][j] \\) and \\( A[j][i] \\) to 1 if an edge exists.\n",
        "\n",
        "#### Example:\n",
        "For the sentence “The cat sat on the mat,” we might have dependency relations such as:\n",
        "- `(\"cat\", \"sat\")`\n",
        "- `(\"sat\", \"mat\")`\n",
        "  \n",
        "These relations inform our adjacency matrix, where connections reflect syntactic dependencies.\n",
        "\n",
        "---\n"
      ],
      "metadata": {
        "id": "EuYL_QtD2eNW"
      },
      "id": "EuYL_QtD2eNW"
    },
    {
      "cell_type": "markdown",
      "source": [
        "\n",
        "### 3. Implementing Adjacency Matrix Creation with spaCy\n",
        "\n",
        "Using spaCy, we can parse sentences to obtain dependency information, which we then use to construct the adjacency matrix.\n"
      ],
      "metadata": {
        "id": "RYhDN_c82eRj"
      },
      "id": "RYhDN_c82eRj"
    },
    {
      "cell_type": "markdown",
      "source": [
        "\n",
        "#### Code Example: Adjacency Matrix Creation\n",
        "\n"
      ],
      "metadata": {
        "id": "S8uDqo912eWI"
      },
      "id": "S8uDqo912eWI"
    },
    {
      "cell_type": "code",
      "source": [
        "import spacy\n",
        "import numpy as np\n",
        "\n",
        "# Load the spaCy English model for processing English text\n",
        "nlp = spacy.load(\"en_core_web_sm\")\n",
        "\n",
        "def create_adjacency_matrix(sentence):\n",
        "    \"\"\"\n",
        "    Function to create an adjacency matrix representing the dependency structure of a sentence.\n",
        "\n",
        "    Parameters:\n",
        "    - sentence (str): Input sentence to be processed.\n",
        "\n",
        "    Returns:\n",
        "    - adj_matrix (np.ndarray): An adjacency matrix where an edge between nodes (words) is\n",
        "      represented by 1, based on syntactic dependencies.\n",
        "    \"\"\"\n",
        "\n",
        "    # Step 1: Parse the sentence with spaCy to obtain tokens and their dependencies\n",
        "    doc = nlp(sentence)\n",
        "\n",
        "    print(\"Tokens:\", [token.text for token in doc])\n",
        "\n",
        "    # Step 2: Get the number of tokens (nodes) in the sentence\n",
        "    # Each token represents a node in the graph structure\n",
        "    num_tokens = len(doc)\n",
        "    print(\"Number of Tokens:\", num_tokens)\n",
        "    # Step 3: Initialize an empty adjacency matrix of size [num_tokens x num_tokens]\n",
        "    # with zeros, where 0 indicates no direct dependency relation between tokens\n",
        "    adj_matrix = np.zeros((num_tokens, num_tokens), dtype=int)\n",
        "\n",
        "    # Step 4: Populate the adjacency matrix based on dependency relations\n",
        "    for token in doc:\n",
        "        # Create an edge between the token and its syntactic head in the dependency tree\n",
        "        adj_matrix[token.i][token.head.i] = 1  # Edge from token to its head\n",
        "        adj_matrix[token.head.i][token.i] = 1  # Symmetric edge for undirected representation\n",
        "\n",
        "    return adj_matrix\n",
        "\n",
        "# Example sentence to create an adjacency matrix for\n",
        "sentence = \"The cat sat on the mat.\"\n",
        "\n",
        "# Generate the adjacency matrix based on dependency relations in the sentence\n",
        "adj_matrix = create_adjacency_matrix(sentence)\n",
        "\n",
        "# Print the resulting adjacency matrix for inspection\n",
        "print(\"Adjacency Matrix:\\n\", adj_matrix)\n"
      ],
      "metadata": {
        "colab": {
          "base_uri": "https://localhost:8080/"
        },
        "id": "ByBD768TOAFz",
        "outputId": "7462f0d7-5416-4fb2-be4e-43c852ad0cf1"
      },
      "id": "ByBD768TOAFz",
      "execution_count": 3,
      "outputs": [
        {
          "output_type": "stream",
          "name": "stdout",
          "text": [
            "Tokens: ['The', 'cat', 'sat', 'on', 'the', 'mat', '.']\n",
            "Number of Tokens: 7\n",
            "Adjacency Matrix:\n",
            " [[0 1 0 0 0 0 0]\n",
            " [1 0 1 0 0 0 0]\n",
            " [0 1 1 1 0 0 1]\n",
            " [0 0 1 0 0 1 0]\n",
            " [0 0 0 0 0 1 0]\n",
            " [0 0 0 1 1 0 0]\n",
            " [0 0 1 0 0 0 0]]\n"
          ]
        }
      ]
    },
    {
      "cell_type": "markdown",
      "source": [
        "\n",
        "\n",
        "**Explanation**:\n",
        "- **Dependency Parsing**: spaCy provides `token.i` (token index) and `token.head.i` (index of the token’s head) for each word, which helps in identifying connections.\n",
        "- **Matrix Symmetry**: We set both `adj_matrix[i][j]` and `adj_matrix[j][i]` to 1, as GCNs often assume undirected graphs.\n",
        "- **Matrix Dimensions**: The adjacency matrix is square with dimensions equal to the number of tokens (words) in the sentence.\n",
        "\n",
        "---\n"
      ],
      "metadata": {
        "id": "gAMKHr_IOAcY"
      },
      "id": "gAMKHr_IOAcY"
    },
    {
      "cell_type": "markdown",
      "source": [
        "\n",
        "### 4. Self-Loops in Adjacency Matrices\n",
        "\n",
        "Adding **self-loops** (connecting each node to itself) in the adjacency matrix can enhance GCN performance by allowing each node to retain its original features during message passing.\n"
      ],
      "metadata": {
        "id": "yQSbfUdB2ebK"
      },
      "id": "yQSbfUdB2ebK"
    },
    {
      "cell_type": "markdown",
      "source": [
        "\n",
        "#### Why Use Self-Loops?\n",
        "- **Feature Retention**: Self-loops enable each node to maintain its own feature in addition to aggregating information from its neighbors.\n",
        "- **Matrix Representation**: Adding self-loops means setting \\( A[i][i] = 1 \\) for all \\( i \\).\n"
      ],
      "metadata": {
        "id": "fp_nZPEs2edQ"
      },
      "id": "fp_nZPEs2edQ"
    },
    {
      "cell_type": "markdown",
      "source": [
        "\n",
        "#### Code Example: Adding Self-Loops\n",
        "\n"
      ],
      "metadata": {
        "id": "OqQ7BjPs2eel"
      },
      "id": "OqQ7BjPs2eel"
    },
    {
      "cell_type": "code",
      "source": [
        "def add_self_loops(adj_matrix):\n",
        "    \"\"\"\n",
        "    Function to add self-loops to the adjacency matrix by setting all diagonal entries to 1.\n",
        "\n",
        "    Parameters:\n",
        "    - adj_matrix (np.ndarray): Original adjacency matrix without self-loops.\n",
        "\n",
        "    Returns:\n",
        "    - adj_matrix_with_loops (np.ndarray): Adjacency matrix with self-loops added,\n",
        "      where each node has an edge to itself.\n",
        "    \"\"\"\n",
        "    # Set diagonal entries to 1 to add self-loops\n",
        "    np.fill_diagonal(adj_matrix, 1)\n",
        "    return adj_matrix\n",
        "\n",
        "# Apply the function to add self-loops to the previously generated adjacency matrix\n",
        "adj_matrix_with_loops = add_self_loops(adj_matrix)\n",
        "\n",
        "# Display the updated adjacency matrix to verify self-loops\n",
        "print(\"Adjacency Matrix with Self-Loops:\\n\", adj_matrix_with_loops)\n"
      ],
      "metadata": {
        "colab": {
          "base_uri": "https://localhost:8080/"
        },
        "id": "wdYBpKUTOsrJ",
        "outputId": "f08cf5c0-3d23-4dd6-f260-dee6dde26e61"
      },
      "id": "wdYBpKUTOsrJ",
      "execution_count": 4,
      "outputs": [
        {
          "output_type": "stream",
          "name": "stdout",
          "text": [
            "Adjacency Matrix with Self-Loops:\n",
            " [[1 1 0 0 0 0 0]\n",
            " [1 1 1 0 0 0 0]\n",
            " [0 1 1 1 0 0 1]\n",
            " [0 0 1 1 0 1 0]\n",
            " [0 0 0 0 1 1 0]\n",
            " [0 0 0 1 1 1 0]\n",
            " [0 0 1 0 0 0 1]]\n"
          ]
        }
      ]
    },
    {
      "cell_type": "markdown",
      "source": [
        "\n",
        "**Detailed Explanation**:\n",
        "1. **Self-Loop Addition**:\n",
        "   - Uses `np.fill_diagonal()` to set diagonal entries to `1`, adding a self-loop for each node.\n",
        "   \n",
        "2. **Function Purpose**:\n",
        "   - This step is crucial in Graph Convolutional Networks (GCNs) as self-loops allow nodes to retain their original features, enhancing the model’s depth by allowing each node to include its own information at each layer.\n",
        "\n",
        "3. **Example and Output**:\n",
        "   - Applies the function on the original adjacency matrix and prints the modified matrix to confirm self-loop addition."
      ],
      "metadata": {
        "id": "vjwhhjV2OrN-"
      },
      "id": "vjwhhjV2OrN-"
    },
    {
      "cell_type": "markdown",
      "source": [
        "\n",
        "### 5. Code Walkthrough: Complete Pipeline for Adjacency Matrix Creation\n",
        "\n",
        "Here’s a complete pipeline that combines dependency parsing, adjacency matrix creation, and self-loops.\n",
        "\n"
      ],
      "metadata": {
        "id": "1tk69LXg2ega"
      },
      "id": "1tk69LXg2ega"
    },
    {
      "cell_type": "code",
      "source": [
        "import spacy\n",
        "import numpy as np\n",
        "\n",
        "# Load the spaCy English model to process English sentences\n",
        "nlp = spacy.load(\"en_core_web_sm\")\n",
        "\n",
        "def create_adjacency_matrix(sentence):\n",
        "    \"\"\"\n",
        "    Function to create an adjacency matrix for a sentence based on dependency relations.\n",
        "\n",
        "    Parameters:\n",
        "    - sentence (str): Input sentence to parse and analyze.\n",
        "\n",
        "    Returns:\n",
        "    - adj_matrix (np.ndarray): Adjacency matrix with self-loops, where an edge exists\n",
        "      between tokens based on their syntactic dependency relations.\n",
        "    \"\"\"\n",
        "\n",
        "    # Step 1: Parse the sentence to obtain tokens and dependencies\n",
        "    doc = nlp(sentence)\n",
        "    num_tokens = len(doc)  # Number of tokens in the sentence (used to define matrix size)\n",
        "\n",
        "    # Step 2: Initialize an empty adjacency matrix with zeros\n",
        "    adj_matrix = np.zeros((num_tokens, num_tokens), dtype=int)\n",
        "\n",
        "    # Step 3: Populate the adjacency matrix based on dependency relations\n",
        "    for token in doc:\n",
        "        # Set an edge between each token and its syntactic head\n",
        "        adj_matrix[token.i][token.head.i] = 1  # Edge from token to head\n",
        "        adj_matrix[token.head.i][token.i] = 1  # Symmetric edge for undirected representation\n",
        "\n",
        "    # Step 4: Add self-loops by setting diagonal elements to 1\n",
        "    # Self-loops help each node to retain its own feature in GCN processing\n",
        "    np.fill_diagonal(adj_matrix, 1)\n",
        "\n",
        "    return adj_matrix\n",
        "\n",
        "# Example sentence to test the function\n",
        "sentence = \"The cat sat on the mat.\"\n",
        "\n",
        "# Generate the adjacency matrix based on syntactic dependencies and self-loops\n",
        "adj_matrix = create_adjacency_matrix(sentence)\n",
        "\n",
        "# Display the tokens in the sentence\n",
        "print(\"Tokens:\", [token.text for token in nlp(sentence)])\n",
        "\n",
        "# Display the adjacency matrix with self-loops\n",
        "print(\"Adjacency Matrix with Self-Loops:\\n\", adj_matrix)\n"
      ],
      "metadata": {
        "colab": {
          "base_uri": "https://localhost:8080/"
        },
        "id": "5khCNHc6O6mc",
        "outputId": "84fd04f4-c03f-4c93-ce8a-02dd25a38dcf"
      },
      "id": "5khCNHc6O6mc",
      "execution_count": 5,
      "outputs": [
        {
          "output_type": "stream",
          "name": "stdout",
          "text": [
            "Tokens: ['The', 'cat', 'sat', 'on', 'the', 'mat', '.']\n",
            "Adjacency Matrix with Self-Loops:\n",
            " [[1 1 0 0 0 0 0]\n",
            " [1 1 1 0 0 0 0]\n",
            " [0 1 1 1 0 0 1]\n",
            " [0 0 1 1 0 1 0]\n",
            " [0 0 0 0 1 1 0]\n",
            " [0 0 0 1 1 1 0]\n",
            " [0 0 1 0 0 0 1]]\n"
          ]
        }
      ]
    },
    {
      "cell_type": "markdown",
      "source": [
        "\n",
        "**Detailed Explanation**:\n",
        "1. **Sentence Parsing**:\n",
        "   - The sentence is parsed using spaCy to obtain tokens and syntactic dependencies.\n",
        "   \n",
        "2. **Adjacency Matrix Construction**:\n",
        "   - Initializes a zero matrix and adds edges between each token and its syntactic head.\n",
        "   - Ensures the matrix is symmetric to represent an undirected graph.\n",
        "   \n",
        "3. **Self-Loops**:\n",
        "   - Diagonal entries are set to `1` using `np.fill_diagonal()` to add self-loops.\n",
        "   - Self-loops allow each node to incorporate its own features during GCN processing, enhancing representation power.\n"
      ],
      "metadata": {
        "id": "tQGbfkfhO8s-"
      },
      "id": "tQGbfkfhO8s-"
    },
    {
      "cell_type": "markdown",
      "source": [
        "#### Observation 1:"
      ],
      "metadata": {
        "id": "gFwhLHQP2enP"
      },
      "id": "gFwhLHQP2enP"
    },
    {
      "cell_type": "code",
      "source": [
        "import numpy as np\n",
        "import networkx as nx\n",
        "import matplotlib.pyplot as plt\n",
        "\n",
        "# Given tokens and adjacency matrix\n",
        "tokens = ['The', 'cat', 'sat', 'on', 'the', 'mat', '.']\n",
        "adj_matrix = np.array([\n",
        "    [1, 1, 0, 0, 0, 0, 0],\n",
        "    [1, 1, 1, 0, 0, 0, 0],\n",
        "    [0, 1, 1, 1, 0, 0, 1],\n",
        "    [0, 0, 1, 1, 0, 1, 0],\n",
        "    [0, 0, 0, 0, 1, 1, 0],\n",
        "    [0, 0, 0, 1, 1, 1, 0],\n",
        "    [0, 0, 1, 0, 0, 0, 1]\n",
        "])\n",
        "\n",
        "# Convert adjacency matrix to NetworkX graph\n",
        "G = nx.Graph()\n",
        "for i, token in enumerate(tokens):\n",
        "    G.add_node(i, label=token)  # Add nodes with labels (tokens)\n",
        "\n",
        "# Add edges based on the adjacency matrix\n",
        "for i in range(len(adj_matrix)):\n",
        "    for j in range(i, len(adj_matrix)):  # Include self-loops by allowing i == j\n",
        "        if adj_matrix[i][j] == 1:\n",
        "            G.add_edge(i, j)\n",
        "\n",
        "# Define node positions using a spring layout for visual clarity\n",
        "pos = nx.spring_layout(G, seed=42)\n",
        "\n",
        "# Draw the graph with labels and self-loops\n",
        "plt.figure(figsize=(8, 6))\n",
        "nx.draw(G, pos, with_labels=True, labels={i: token for i, token in enumerate(tokens)},\n",
        "        node_color=\"lightblue\", node_size=1500, font_size=12, font_weight=\"bold\", edge_color=\"gray\")\n",
        "\n",
        "# Highlight self-loops with a different edge style or color for better visibility\n",
        "self_loop_edges = [(i, i) for i in range(len(adj_matrix)) if adj_matrix[i][i] == 1]\n",
        "nx.draw_networkx_edges(G, pos, edgelist=self_loop_edges, edge_color=\"red\", style=\"dashed\")\n",
        "\n",
        "plt.title(\"Graphical Representation of Sentence Dependencies with Self-Loops\")\n",
        "plt.show()\n"
      ],
      "metadata": {
        "colab": {
          "base_uri": "https://localhost:8080/",
          "height": 659
        },
        "id": "lrC4t7wXPIZB",
        "outputId": "604b1c57-4cb5-4729-dbf7-64772f093511"
      },
      "id": "lrC4t7wXPIZB",
      "execution_count": 8,
      "outputs": [
        {
          "output_type": "display_data",
          "data": {
            "text/plain": [
              "<Figure size 800x600 with 1 Axes>"
            ],
            "image/png": "[encoded data removed]"
          },
          "metadata": {}
        }
      ]
    },
    {
      "cell_type": "markdown",
      "source": [
        "Explanation:\n",
        "- Nodes represent each token in the sentence.\n",
        "- Edges represent dependency relationships between tokens.\n",
        "- Self-Loops are shown as red, dashed edges for visual distinction, indicating that each node is connected to itself."
      ],
      "metadata": {
        "id": "7JY2sY1i2erm"
      },
      "id": "7JY2sY1i2erm"
    },
    {
      "cell_type": "markdown",
      "source": [
        "\n",
        "### Summary and Key Takeaways\n",
        "\n",
        "- **Adjacency Matrix**: Essential for defining node connectivity in a GCN. In NLP tasks, the matrix is derived from dependency parsing.\n",
        "- **Dependency-Based Connections**: Using dependency relations for edge connections helps capture syntactic structure in sentences.\n",
        "- **Self-Loops**: Enhance GCN performance by allowing each node to retain its original features, which is especially useful in deep layers.\n",
        "\n",
        "With a fully constructed adjacency matrix, we’re now prepared to proceed to the next stage: defining feature vectors for each word, completing the data input for our GCN model. In the next section, we’ll focus on creating feature matrices that represent the syntactic and semantic properties of each node (word) in the graph."
      ],
      "metadata": {
        "id": "bN8j38Wx2eji"
      },
      "id": "bN8j38Wx2eji"
    },
    {
      "cell_type": "markdown",
      "source": [],
      "metadata": {
        "id": "PPmNOFtC2evz"
      },
      "id": "PPmNOFtC2evz"
    },
    {
      "cell_type": "markdown",
      "source": [],
      "metadata": {
        "id": "Hsnesx-Z2eyN"
      },
      "id": "Hsnesx-Z2eyN"
    }
  ],
  "metadata": {
    "kernelspec": {
      "display_name": "Python 3",
      "language": "python",
      "name": "python3"
    },
    "language_info": {
      "codemirror_mode": {
        "name": "ipython",
        "version": 2
      },
      "file_extension": ".py",
      "mimetype": "text/x-python",
      "name": "python",
      "nbconvert_exporter": "python",
      "pygments_lexer": "ipython2",
      "version": "2.7.6"
    },
    "colab": {
      "provenance": []
    }
  },
  "nbformat": 4,
  "nbformat_minor": 5
}