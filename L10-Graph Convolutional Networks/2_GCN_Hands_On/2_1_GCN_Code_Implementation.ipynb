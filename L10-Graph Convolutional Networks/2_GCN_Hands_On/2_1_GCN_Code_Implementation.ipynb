{
  "cells": [
    {
      "cell_type": "markdown",
      "source": [
        "### Section 2.1: GCN Code Implementation\n",
        "\n",
        "In this section, we will take the GCN layer we implemented in Section 1.2 and build a complete GCN model. We’ll go beyond the individual layer to design a full Graph Convolutional Network with multiple layers and demonstrate how to train it on a sample dataset.\n",
        "\n",
        "**Contents:**\n",
        "\n",
        "1. **Designing a Multi-Layer GCN Model**\n",
        "2. **Adding Multiple GCN Layers**\n",
        "3. **Defining the GCN Model Architecture**\n",
        "4. **Creating a Sample Dataset (Using NetworkX)**\n",
        "5. **Training the GCN Model**\n",
        "6. **Evaluating the Model**\n",
        "7. **Code Walkthrough**\n",
        "\n",
        "---\n"
      ],
      "metadata": {
        "id": "FoDDjLvK2c6M"
      },
      "id": "FoDDjLvK2c6M"
    },
    {
      "cell_type": "markdown",
      "source": [
        "\n",
        "### 1. Designing a Multi-Layer GCN Model\n",
        "\n",
        "- **Objective**: Build a GCN model with multiple layers to enable nodes to aggregate information from farther neighbors.\n",
        "- **Layer Stacking**:\n",
        "  - In GCNs, stacking layers allows each node to consider information from more distant nodes.\n",
        "  - For example, in a two-layer GCN, each node aggregates information from its neighbors and its neighbors’ neighbors.\n",
        "\n",
        "- **Architecture**:\n",
        "  - **Input Layer**: Receives the initial node features.\n",
        "  - **Hidden Layers**: One or more GCN layers to process and propagate information across the graph.\n",
        "  - **Output Layer**: Generates the final node or graph-level predictions (e.g., node classification).\n",
        "\n",
        "---\n"
      ],
      "metadata": {
        "id": "SnQVtfio2eI-"
      },
      "id": "SnQVtfio2eI-"
    },
    {
      "cell_type": "markdown",
      "source": [
        "\n",
        "### 2. Adding Multiple GCN Layers\n",
        "\n",
        "A typical GCN model uses multiple GCN layers. Here’s an example of how to stack two GCN layers.\n"
      ],
      "metadata": {
        "id": "EuYL_QtD2eNW"
      },
      "id": "EuYL_QtD2eNW"
    },
    {
      "cell_type": "markdown",
      "source": [
        "\n",
        "#### Code Example: Multi-Layer GCN\n"
      ],
      "metadata": {
        "id": "RYhDN_c82eRj"
      },
      "id": "RYhDN_c82eRj"
    },
    {
      "cell_type": "markdown",
      "source": [
        "The GCNLayer given here below is taken from section 1.2."
      ],
      "metadata": {
        "id": "s5Qkc461FRr-"
      },
      "id": "s5Qkc461FRr-"
    },
    {
      "cell_type": "code",
      "source": [
        "import torch\n",
        "import torch.nn as nn\n",
        "import torch.nn.functional as F\n",
        "\n",
        "class GCNLayer(nn.Module):\n",
        "    def __init__(self, in_features, out_features):\n",
        "        \"\"\"\n",
        "        Initialize a Graph Convolutional Network (GCN) layer.\n",
        "\n",
        "        Parameters:\n",
        "        - in_features: Number of input features per node (e.g., feature dimension).\n",
        "        - out_features: Number of output features per node (e.g., transformed feature dimension).\n",
        "        \"\"\"\n",
        "        super(GCNLayer, self).__init__()\n",
        "\n",
        "        # Define a linear transformation (weights) for feature transformation\n",
        "        self.linear = nn.Linear(in_features, out_features)\n",
        "\n",
        "    def forward(self, node_features, adj_matrix):\n",
        "        \"\"\"\n",
        "        Forward pass for the GCN layer.\n",
        "\n",
        "        Parameters:\n",
        "        - node_features: Tensor of shape [num_nodes, in_features] containing the initial features of each node.\n",
        "        - adj_matrix: Tensor of shape [num_nodes, num_nodes] representing the adjacency matrix of the graph,\n",
        "                      where adj_matrix[i][j] is 1 if there is an edge from node i to node j, else 0.\n",
        "\n",
        "        Returns:\n",
        "        - Updated node features of shape [num_nodes, out_features] after aggregation and transformation.\n",
        "        \"\"\"\n",
        "        # Step 1: Linear transformation of node features\n",
        "        # Apply a learned linear transformation to each node's features to project to the output feature space\n",
        "        transformed_features = self.linear(node_features)\n",
        "\n",
        "        # Step 2: Message Passing\n",
        "        # Aggregate information from neighboring nodes by matrix-multiplying the adjacency matrix\n",
        "        # with the transformed features. This computes a weighted sum of neighboring features for each node.\n",
        "        aggregated_features = torch.matmul(adj_matrix, transformed_features)\n",
        "\n",
        "        # Step 3: Normalization by Node Degrees\n",
        "        # Normalize the aggregated features by the degree of each node to maintain scale\n",
        "        # and prevent nodes with many connections from having disproportionately high values.\n",
        "        # The degree of a node is the sum of the entries in its row in the adjacency matrix.\n",
        "        degrees = adj_matrix.sum(dim=1, keepdim=True)  # Compute the degree of each node\n",
        "        normalized_features = aggregated_features / degrees  # Normalize by dividing aggregated values by degree\n",
        "\n",
        "        # Step 4: Apply Activation Function\n",
        "        # Use ReLU activation to introduce non-linearity, which helps the model capture complex relationships.\n",
        "        return F.relu(normalized_features)\n"
      ],
      "metadata": {
        "id": "Uw31YxD1FQ4o"
      },
      "id": "Uw31YxD1FQ4o",
      "execution_count": 1,
      "outputs": []
    },
    {
      "cell_type": "markdown",
      "source": [
        "The below class use the above layer"
      ],
      "metadata": {
        "id": "-5pxluU2Fch7"
      },
      "id": "-5pxluU2Fch7"
    },
    {
      "cell_type": "code",
      "source": [
        "import torch\n",
        "import torch.nn as nn\n",
        "import torch.nn.functional as F\n",
        "\n",
        "class MultiLayerGCN(nn.Module):\n",
        "    def __init__(self, input_dim, hidden_dim, output_dim):\n",
        "        \"\"\"\n",
        "        Initialize a multi-layer Graph Convolutional Network (GCN).\n",
        "\n",
        "        Parameters:\n",
        "        - input_dim: Dimension of the input features for each node.\n",
        "        - hidden_dim: Dimension of the hidden layer's output features.\n",
        "        - output_dim: Dimension of the final output features for each node.\n",
        "        \"\"\"\n",
        "        super(MultiLayerGCN, self).__init__()\n",
        "\n",
        "        # Define the first GCN layer\n",
        "        # This layer transforms the input features to the hidden dimension\n",
        "        self.gcn1 = GCNLayer(input_dim, hidden_dim)\n",
        "\n",
        "        # Define the second GCN layer\n",
        "        # This layer further transforms the features from hidden dimension to output dimension\n",
        "        self.gcn2 = GCNLayer(hidden_dim, output_dim)\n",
        "\n",
        "    def forward(self, node_features, adj_matrix):\n",
        "        \"\"\"\n",
        "        Perform a forward pass through the multi-layer GCN.\n",
        "\n",
        "        Parameters:\n",
        "        - node_features: Tensor of shape [num_nodes, input_dim] containing initial features of each node.\n",
        "        - adj_matrix: Tensor of shape [num_nodes, num_nodes] representing the adjacency matrix of the graph.\n",
        "\n",
        "        Returns:\n",
        "        - Final transformed node features of shape [num_nodes, output_dim].\n",
        "        \"\"\"\n",
        "        # Step 1: Pass the node features through the first GCN layer\n",
        "        # The first layer maps the input features to the hidden layer\n",
        "        x = self.gcn1(node_features, adj_matrix)\n",
        "\n",
        "        # Step 2: Pass the features through the second GCN layer\n",
        "        # The second layer maps the hidden features to the final output features\n",
        "        x = self.gcn2(x, adj_matrix)\n",
        "\n",
        "        return x\n"
      ],
      "metadata": {
        "id": "IZne6vYuEzx6"
      },
      "id": "IZne6vYuEzx6",
      "execution_count": 3,
      "outputs": []
    },
    {
      "cell_type": "markdown",
      "source": [
        "Explanation:\n",
        "\n",
        "\n",
        "![image.png](data:image/png;base64,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)"
      ],
      "metadata": {
        "id": "XwF3NT0kE_kT"
      },
      "id": "XwF3NT0kE_kT"
    },
    {
      "cell_type": "markdown",
      "source": [
        "\n",
        "### 3. Defining the GCN Model Architecture\n",
        "\n",
        "The `MultiLayerGCN` class we defined above is a basic GCN architecture with two layers. For larger and more complex datasets, additional layers can be added as needed.\n",
        "\n",
        "**Code Snippet**:\n"
      ],
      "metadata": {
        "id": "S8uDqo912eWI"
      },
      "id": "S8uDqo912eWI"
    },
    {
      "cell_type": "code",
      "source": [
        "# Example configuration for initializing a multi-layer GCN model\n",
        "input_dim = 3       # Input dimension of node features, e.g., 3 initial features per node\n",
        "hidden_dim = 4      # Dimension of the hidden layer, used in the first GCN layer\n",
        "output_dim = 2      # Output dimension for the final layer, e.g., 2 for binary classification tasks\n",
        "\n",
        "# Initialize the multi-layer GCN model with the specified configuration\n",
        "gcn_model = MultiLayerGCN(input_dim, hidden_dim, output_dim)\n",
        "\n",
        "# Display the model architecture to verify the configuration\n",
        "print(\"Initialized GCN Model:\")\n",
        "print(gcn_model)\n"
      ],
      "metadata": {
        "colab": {
          "base_uri": "https://localhost:8080/"
        },
        "id": "S5VtB8iyFG4e",
        "outputId": "8599b7dc-a20c-4ce9-c71c-6753d17e5522"
      },
      "id": "S5VtB8iyFG4e",
      "execution_count": 4,
      "outputs": [
        {
          "output_type": "stream",
          "name": "stdout",
          "text": [
            "Initialized GCN Model:\n",
            "MultiLayerGCN(\n",
            "  (gcn1): GCNLayer(\n",
            "    (linear): Linear(in_features=3, out_features=4, bias=True)\n",
            "  )\n",
            "  (gcn2): GCNLayer(\n",
            "    (linear): Linear(in_features=4, out_features=2, bias=True)\n",
            "  )\n",
            ")\n"
          ]
        }
      ]
    },
    {
      "cell_type": "markdown",
      "source": [
        "\n",
        "### 4. Creating a Sample Dataset (Using NetworkX)\n",
        "\n",
        "To test the GCN model, let’s create a sample graph dataset using the NetworkX library.\n",
        "\n"
      ],
      "metadata": {
        "id": "yQSbfUdB2ebK"
      },
      "id": "yQSbfUdB2ebK"
    },
    {
      "cell_type": "markdown",
      "source": [
        "1. **Install NetworkX** (if not already installed):\n"
      ],
      "metadata": {
        "id": "ljYmdDB4Free"
      },
      "id": "ljYmdDB4Free"
    },
    {
      "cell_type": "code",
      "source": [
        "!pip install networkx\n",
        "\n"
      ],
      "metadata": {
        "colab": {
          "base_uri": "https://localhost:8080/"
        },
        "id": "zOtWDQ9uFr1X",
        "outputId": "1f68c27b-ed97-4874-d41c-34823362ee37"
      },
      "id": "zOtWDQ9uFr1X",
      "execution_count": 5,
      "outputs": [
        {
          "output_type": "stream",
          "name": "stdout",
          "text": [
            "Requirement already satisfied: networkx in /usr/local/lib/python3.10/dist-packages (3.4.2)\n"
          ]
        }
      ]
    },
    {
      "cell_type": "markdown",
      "source": [
        "2. **Define a Sample Graph**:\n",
        "   - Use NetworkX to create a small graph with node features and an adjacency matrix.\n",
        "\n",
        "**Code Example**:\n",
        "\n"
      ],
      "metadata": {
        "id": "9WUDpA4kFsKu"
      },
      "id": "9WUDpA4kFsKu"
    },
    {
      "cell_type": "code",
      "source": [
        "import networkx as nx\n",
        "import torch\n",
        "import matplotlib.pyplot as plt\n",
        "\n",
        "# Create a sample undirected graph with 4 nodes\n",
        "G = nx.Graph()\n",
        "G.add_edges_from([(0, 1), (1, 2), (2, 3), (3, 0), (0, 2)])  # Add edges between nodes\n",
        "\n",
        "# Define node features (randomly initialized for demonstration)\n",
        "# Each row represents the feature vector for a node in the graph\n",
        "node_features = torch.tensor([\n",
        "    [1.0, 2.0, 3.0],  # Features for Node 0\n",
        "    [2.0, 3.0, 1.0],  # Features for Node 1\n",
        "    [3.0, 1.0, 2.0],  # Features for Node 2\n",
        "    [1.0, 2.0, 1.0]   # Features for Node 3\n",
        "], dtype=torch.float32)\n",
        "\n",
        "# Convert the graph to an adjacency matrix format suitable for PyTorch\n",
        "# nx.adjacency_matrix() returns a sparse matrix, so we convert it to a dense format and then to a tensor\n",
        "adj_matrix = torch.tensor(nx.adjacency_matrix(G).todense(), dtype=torch.float32)\n",
        "\n",
        "# Print the adjacency matrix to verify the connections\n",
        "print(\"Adjacency Matrix:\")\n",
        "print(adj_matrix)\n",
        "\n",
        "# Print the initial node features for reference\n",
        "print(\"\\nNode Features:\")\n",
        "print(node_features)\n",
        "\n",
        "# Visualization of the graph structure\n",
        "plt.figure(figsize=(6, 6))\n",
        "nx.draw(G, with_labels=True, node_color=\"lightblue\", node_size=2000, font_size=12, font_weight=\"bold\", edge_color=\"gray\")\n",
        "plt.title(\"Sample Graph Structure with 4 Nodes\")\n",
        "plt.show()\n"
      ],
      "metadata": {
        "colab": {
          "base_uri": "https://localhost:8080/",
          "height": 850
        },
        "id": "o8f3n2FbFshs",
        "outputId": "8a497e5f-832d-411a-f9e1-95640f5af724"
      },
      "id": "o8f3n2FbFshs",
      "execution_count": 6,
      "outputs": [
        {
          "output_type": "stream",
          "name": "stdout",
          "text": [
            "Adjacency Matrix:\n",
            "tensor([[0., 1., 1., 1.],\n",
            "        [1., 0., 1., 0.],\n",
            "        [1., 1., 0., 1.],\n",
            "        [1., 0., 1., 0.]])\n",
            "\n",
            "Node Features:\n",
            "tensor([[1., 2., 3.],\n",
            "        [2., 3., 1.],\n",
            "        [3., 1., 2.],\n",
            "        [1., 2., 1.]])\n"
          ]
        },
        {
          "output_type": "display_data",
          "data": {
            "text/plain": [
              "<Figure size 600x600 with 1 Axes>"
            ],
            "image/png": "[encoded data removed]"
          },
          "metadata": {}
        }
      ]
    },
    {
      "cell_type": "markdown",
      "source": [
        "\n",
        "- **Node Features**: Initialized randomly or based on the specific use case.\n",
        "- **Adjacency Matrix**: This matrix represents the connections between nodes, which the GCN uses to propagate information.\n",
        "\n",
        "---\n"
      ],
      "metadata": {
        "id": "fp_nZPEs2edQ"
      },
      "id": "fp_nZPEs2edQ"
    },
    {
      "cell_type": "markdown",
      "source": [
        "\n",
        "### 5. Training the GCN Model\n",
        "\n",
        "For simplicity, let’s assume a node classification task where we predict binary labels for each node. We’ll use a basic training loop in PyTorch.\n"
      ],
      "metadata": {
        "id": "OqQ7BjPs2eel"
      },
      "id": "OqQ7BjPs2eel"
    },
    {
      "cell_type": "markdown",
      "source": [
        "\n",
        "#### Code Example: Training Loop\n",
        "\n"
      ],
      "metadata": {
        "id": "1tk69LXg2ega"
      },
      "id": "1tk69LXg2ega"
    },
    {
      "cell_type": "code",
      "source": [
        "import torch\n",
        "import torch.nn as nn\n",
        "import torch.optim as optim\n",
        "\n",
        "# Sample binary labels for each node (e.g., for a binary classification task)\n",
        "labels = torch.tensor([0, 1, 0, 1], dtype=torch.long)  # Target labels for each node\n",
        "\n",
        "# Define loss function and optimizer\n",
        "# CrossEntropyLoss is used for classification tasks with integer class labels\n",
        "criterion = nn.CrossEntropyLoss()\n",
        "\n",
        "# Use Adam optimizer to train the model parameters\n",
        "# Learning rate is set to 0.01\n",
        "optimizer = optim.Adam(gcn_model.parameters(), lr=0.01)\n",
        "\n",
        "# Training configuration\n",
        "epochs = 20  # Number of epochs for training\n",
        "\n",
        "# Training loop for the GCN model\n",
        "for epoch in range(epochs):\n",
        "    # Forward pass: compute the model output (node predictions) based on node features and adjacency matrix\n",
        "    outputs = gcn_model(node_features, adj_matrix)\n",
        "\n",
        "    # Compute loss between model predictions and true labels\n",
        "    loss = criterion(outputs, labels)\n",
        "\n",
        "    # Backward pass: compute gradients of the loss with respect to model parameters\n",
        "    optimizer.zero_grad()  # Clear previous gradients\n",
        "    loss.backward()  # Compute new gradients based on current loss\n",
        "\n",
        "    # Optimization step: update model parameters\n",
        "    optimizer.step()\n",
        "\n",
        "    # Print training progress with current epoch and loss value\n",
        "    print(f\"Epoch [{epoch+1}/{epochs}], Loss: {loss.item():.4f}\")\n"
      ],
      "metadata": {
        "colab": {
          "base_uri": "https://localhost:8080/"
        },
        "id": "7139vSBBF_oD",
        "outputId": "c59c4aa1-af22-493a-d354-2e8ac669ffb6"
      },
      "id": "7139vSBBF_oD",
      "execution_count": 7,
      "outputs": [
        {
          "output_type": "stream",
          "name": "stdout",
          "text": [
            "Epoch [1/20], Loss: 0.6931\n",
            "Epoch [2/20], Loss: 0.6931\n",
            "Epoch [3/20], Loss: 0.6931\n",
            "Epoch [4/20], Loss: 0.6931\n",
            "Epoch [5/20], Loss: 0.6931\n",
            "Epoch [6/20], Loss: 0.6931\n",
            "Epoch [7/20], Loss: 0.6931\n",
            "Epoch [8/20], Loss: 0.6931\n",
            "Epoch [9/20], Loss: 0.6931\n",
            "Epoch [10/20], Loss: 0.6931\n",
            "Epoch [11/20], Loss: 0.6931\n",
            "Epoch [12/20], Loss: 0.6931\n",
            "Epoch [13/20], Loss: 0.6931\n",
            "Epoch [14/20], Loss: 0.6931\n",
            "Epoch [15/20], Loss: 0.6931\n",
            "Epoch [16/20], Loss: 0.6931\n",
            "Epoch [17/20], Loss: 0.6931\n",
            "Epoch [18/20], Loss: 0.6931\n",
            "Epoch [19/20], Loss: 0.6931\n",
            "Epoch [20/20], Loss: 0.6931\n"
          ]
        }
      ]
    },
    {
      "cell_type": "markdown",
      "source": [
        "\n",
        "**Explanation**:\n",
        "- Binary Labels: Defines target labels for each node.\n",
        "- Loss and Optimizer:\n",
        "    - Uses CrossEntropyLoss for multi-class classification.\n",
        "    - Applies the Adam optimizer for adaptive learning.\n",
        "- Training Loop:\n",
        "    - Each epoch includes a forward pass to get predictions, loss computation, backward pass for gradients, and parameter update.\n",
        "- Progress Output:\n",
        "    - Displays the loss after each epoch to track training progress."
      ],
      "metadata": {
        "id": "bN8j38Wx2eji"
      },
      "id": "bN8j38Wx2eji"
    },
    {
      "cell_type": "markdown",
      "source": [
        "\n",
        "### 6. Evaluating the Model\n",
        "\n",
        "After training, we can evaluate the model’s performance by comparing predicted labels with the true labels.\n"
      ],
      "metadata": {
        "id": "gFwhLHQP2enP"
      },
      "id": "gFwhLHQP2enP"
    },
    {
      "cell_type": "markdown",
      "source": [
        "\n",
        "#### Code Example: Evaluation\n",
        "\n"
      ],
      "metadata": {
        "id": "7JY2sY1i2erm"
      },
      "id": "7JY2sY1i2erm"
    },
    {
      "cell_type": "code",
      "source": [
        "# Evaluation phase: obtain predictions without tracking gradients\n",
        "with torch.no_grad():\n",
        "    # Forward pass through the GCN model to get output logits for each node\n",
        "    outputs = gcn_model(node_features, adj_matrix)\n",
        "\n",
        "    # Get the predicted class for each node by finding the index of the max logit\n",
        "    _, predicted = torch.max(outputs, dim=1)\n",
        "\n",
        "# Print predicted and true labels for comparison\n",
        "print(\"Predicted Labels:\", predicted.numpy())\n",
        "print(\"True Labels:\", labels.numpy())\n",
        "\n",
        "# Evaluation Metric: Calculate Accuracy\n",
        "accuracy = (predicted == labels).sum().item() / labels.size(0)\n",
        "print(f\"Accuracy: {accuracy * 100:.2f}%\")\n"
      ],
      "metadata": {
        "colab": {
          "base_uri": "https://localhost:8080/"
        },
        "id": "jz_P6bWFGQ5O",
        "outputId": "ad6ff6e5-fa52-477e-96a3-b436857ef2b4"
      },
      "id": "jz_P6bWFGQ5O",
      "execution_count": 8,
      "outputs": [
        {
          "output_type": "stream",
          "name": "stdout",
          "text": [
            "Predicted Labels: [0 0 0 0]\n",
            "True Labels: [0 1 0 1]\n",
            "Accuracy: 50.00%\n"
          ]
        }
      ]
    },
    {
      "cell_type": "markdown",
      "source": [
        "\n",
        "#### Explanation:\n",
        "1. **Inference with No Gradient Tracking**:\n",
        "   - Uses `torch.no_grad()` to avoid computing gradients, optimizing memory and speed.\n",
        "   \n",
        "2. **Prediction**:\n",
        "   - `torch.max` selects the index of the maximum logit, representing the predicted class for each node.\n",
        "   \n",
        "3. **Accuracy Calculation**:\n",
        "   - Compares predicted labels with true labels and computes accuracy, a simple metric for classification performance.\n"
      ],
      "metadata": {
        "id": "PPmNOFtC2evz"
      },
      "id": "PPmNOFtC2evz"
    },
    {
      "cell_type": "markdown",
      "source": [
        "\n"
      ],
      "metadata": {
        "id": "Hsnesx-Z2eyN"
      },
      "id": "Hsnesx-Z2eyN"
    },
    {
      "cell_type": "code",
      "execution_count": null,
      "id": "initial_id",
      "metadata": {
        "collapsed": true,
        "id": "initial_id"
      },
      "outputs": [],
      "source": []
    }
  ],
  "metadata": {
    "kernelspec": {
      "display_name": "Python 3",
      "language": "python",
      "name": "python3"
    },
    "language_info": {
      "codemirror_mode": {
        "name": "ipython",
        "version": 2
      },
      "file_extension": ".py",
      "mimetype": "text/x-python",
      "name": "python",
      "nbconvert_exporter": "python",
      "pygments_lexer": "ipython2",
      "version": "2.7.6"
    },
    "colab": {
      "provenance": []
    }
  },
  "nbformat": 4,
  "nbformat_minor": 5
}