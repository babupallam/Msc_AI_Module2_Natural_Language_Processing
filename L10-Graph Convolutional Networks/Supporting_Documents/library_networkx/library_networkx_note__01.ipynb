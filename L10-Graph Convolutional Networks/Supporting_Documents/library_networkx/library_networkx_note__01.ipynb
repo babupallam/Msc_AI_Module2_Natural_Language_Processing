{
  "nbformat": 4,
  "nbformat_minor": 0,
  "metadata": {
    "colab": {
      "provenance": [],
      "authorship_tag": "ABX9TyNLmlCRgyb97PoCoHMbChHN",
      "include_colab_link": true
    },
    "kernelspec": {
      "name": "python3",
      "display_name": "Python 3"
    },
    "language_info": {
      "name": "python"
    }
  },
  "cells": [
    {
      "cell_type": "markdown",
      "metadata": {
        "id": "view-in-github",
        "colab_type": "text"
      },
      "source": [
        "<a href=\"https://colab.research.google.com/github/babupallam/Msc_AI_Module2_Natural_Language_Processing/blob/main/L10-Graph%20Convolutional%20Networks/Supporting_Documents/library_networkx/library_networkx_note__01.ipynb\" target=\"_parent\"><img src=\"https://colab.research.google.com/assets/colab-badge.svg\" alt=\"Open In Colab\"/></a>"
      ]
    },
    {
      "cell_type": "markdown",
      "source": [
        "# Demonstration 1: Creating a Simple Graph\n"
      ],
      "metadata": {
        "id": "1DvcnSmD0Wuu"
      }
    },
    {
      "cell_type": "code",
      "execution_count": 22,
      "metadata": {
        "colab": {
          "base_uri": "https://localhost:8080/"
        },
        "id": "ds_ToHyvz8WV",
        "outputId": "50a6f8d6-54f1-4d1a-a848-7ec75c4d92e6"
      },
      "outputs": [
        {
          "output_type": "stream",
          "name": "stdout",
          "text": [
            "Nodes: [1, 2, 3]\n",
            "Edges: [(1, 2), (2, 3)]\n"
          ]
        }
      ],
      "source": [
        "# Importing the NetworkX library\n",
        "import networkx as nx\n",
        "\n",
        "# In this example, we will create a simple undirected graph and add nodes and edges to it.\n",
        "\n",
        "# Create an empty graph\n",
        "G = nx.Graph()\n",
        "\n",
        "# Add nodes\n",
        "G.add_node(1)\n",
        "G.add_node(2)\n",
        "G.add_node(3)\n",
        "\n",
        "# Add edges between the nodes\n",
        "G.add_edge(1, 2)\n",
        "G.add_edge(2, 3)\n",
        "\n",
        "# Display the nodes and edges\n",
        "print(\"Nodes:\", G.nodes())\n",
        "print(\"Edges:\", G.edges())\n"
      ]
    },
    {
      "cell_type": "markdown",
      "source": [
        "# Demonstration 2: Adding Multiple Nodes and Edges\n",
        "\n",
        " NetworkX allows us to add multiple nodes and edges at once, which is useful for larger graphs.\n"
      ],
      "metadata": {
        "id": "qrOPq82d0Xfq"
      }
    },
    {
      "cell_type": "code",
      "execution_count": 23,
      "metadata": {
        "colab": {
          "base_uri": "https://localhost:8080/"
        },
        "id": "VcxAEVMs0Xfs",
        "outputId": "46bce2a8-20a3-44c1-a85f-9bc9ffea7edb"
      },
      "outputs": [
        {
          "output_type": "stream",
          "name": "stdout",
          "text": [
            "Updated Nodes: [1, 2, 3, 4, 5, 6]\n",
            "Updated Edges: [(1, 2), (2, 3), (3, 4), (4, 5), (5, 6)]\n"
          ]
        }
      ],
      "source": [
        "\n",
        "# Add multiple nodes at once\n",
        "G.add_nodes_from([4, 5, 6])\n",
        "\n",
        "# Add multiple edges at once\n",
        "G.add_edges_from([(3, 4), (4, 5), (5, 6)])\n",
        "\n",
        "# Display updated nodes and edges\n",
        "print(\"Updated Nodes:\", G.nodes())\n",
        "print(\"Updated Edges:\", G.edges())\n"
      ]
    },
    {
      "cell_type": "markdown",
      "source": [
        "# Demonstration 3: Directed Graphs\n",
        "NetworkX can also handle directed graphs where edges have a direction.\n",
        "\n"
      ],
      "metadata": {
        "id": "Cw83jgWO0Xpw"
      }
    },
    {
      "cell_type": "code",
      "execution_count": 24,
      "metadata": {
        "colab": {
          "base_uri": "https://localhost:8080/"
        },
        "id": "HS2Bnwct0Xpy",
        "outputId": "bd1591da-28b4-44ca-8ae9-550e724349f5"
      },
      "outputs": [
        {
          "output_type": "stream",
          "name": "stdout",
          "text": [
            "Directed Edges: [('A', 'B'), ('B', 'C'), ('C', 'A')]\n"
          ]
        }
      ],
      "source": [
        "# Create a directed graph\n",
        "DG = nx.DiGraph()\n",
        "\n",
        "# Add nodes and directed edges\n",
        "DG.add_edge(\"A\", \"B\")\n",
        "DG.add_edge(\"B\", \"C\")\n",
        "DG.add_edge(\"C\", \"A\")  # This creates a cycle in the directed graph\n",
        "\n",
        "# Display directed edges\n",
        "print(\"Directed Edges:\", DG.edges())\n"
      ]
    },
    {
      "cell_type": "markdown",
      "source": [
        "# Demonstration 4: Weighted Graphs\n",
        " In weighted graphs, edges carry weights which represent a certain measure (e.g., distance, cost, etc.)\n"
      ],
      "metadata": {
        "id": "kHZK-iQO0XvA"
      }
    },
    {
      "cell_type": "code",
      "execution_count": 25,
      "metadata": {
        "colab": {
          "base_uri": "https://localhost:8080/"
        },
        "id": "4bSmLE-z0XvC",
        "outputId": "772c7663-c090-4583-e841-431889e1c6d6"
      },
      "outputs": [
        {
          "output_type": "stream",
          "name": "stdout",
          "text": [
            "Edge from X to Y with weight: 4.2\n",
            "Edge from X to Z with weight: 5.5\n",
            "Edge from Y to Z with weight: 3.8\n"
          ]
        }
      ],
      "source": [
        "\n",
        "# Create a new graph\n",
        "WG = nx.Graph()\n",
        "\n",
        "# Add weighted edges\n",
        "WG.add_edge(\"X\", \"Y\", weight=4.2)\n",
        "WG.add_edge(\"Y\", \"Z\", weight=3.8)\n",
        "WG.add_edge(\"Z\", \"X\", weight=5.5)\n",
        "\n",
        "# Display edges with weights\n",
        "for u, v, weight_data in WG.edges(data=True):\n",
        "    print(f\"Edge from {u} to {v} with weight: {weight_data['weight']}\")\n"
      ]
    },
    {
      "cell_type": "markdown",
      "source": [
        "# Demonstration 5: Visualizing Graphs with Matplotlib\n",
        "NetworkX integrates with Matplotlib for basic visualizations.\n"
      ],
      "metadata": {
        "id": "GYk2H0xS0Xyp"
      }
    },
    {
      "cell_type": "code",
      "execution_count": 26,
      "metadata": {
        "colab": {
          "base_uri": "https://localhost:8080/",
          "height": 516
        },
        "id": "nVOdIMyH0Xyq",
        "outputId": "c41f1d8a-bb89-4448-b8d7-27423bb21d5f"
      },
      "outputs": [
        {
          "output_type": "display_data",
          "data": {
            "text/plain": [
              "<Figure size 640x480 with 1 Axes>"
            ],
            "image/png": "[encoded data removed]"
          },
          "metadata": {}
        }
      ],
      "source": [
        "\n",
        "import matplotlib.pyplot as plt\n",
        "\n",
        "# Draw the weighted graph WG created earlier\n",
        "nx.draw(WG, with_labels=True, node_color=\"lightblue\", font_weight=\"bold\", edge_color=\"gray\")\n",
        "plt.show()\n"
      ]
    },
    {
      "cell_type": "markdown",
      "source": [
        "# Demonstration 6: Checking for Path Existence\n",
        " NetworkX provides a simple way to check if there's a path between two nodes in a graph.\n"
      ],
      "metadata": {
        "id": "v5_oOT5m0X6c"
      }
    },
    {
      "cell_type": "code",
      "execution_count": 27,
      "metadata": {
        "colab": {
          "base_uri": "https://localhost:8080/"
        },
        "id": "DKasC0NC0X6f",
        "outputId": "0efaf98e-c700-4e02-ef4f-28951b21dca2"
      },
      "outputs": [
        {
          "output_type": "stream",
          "name": "stdout",
          "text": [
            "Is there a path between X and Z? True\n"
          ]
        }
      ],
      "source": [
        "\n",
        "# Check if there is a path between nodes 'X' and 'Z' in the weighted graph WG\n",
        "is_path = nx.has_path(WG, \"X\", \"Z\")\n",
        "print(\"Is there a path between X and Z?\", is_path)\n"
      ]
    },
    {
      "cell_type": "markdown",
      "source": [
        "# Demonstration 7: Finding All Paths Between Two Nodes\n",
        "Let's find all possible paths between two nodes.\n"
      ],
      "metadata": {
        "id": "Y9l7tUF70X-C"
      }
    },
    {
      "cell_type": "code",
      "execution_count": 28,
      "metadata": {
        "colab": {
          "base_uri": "https://localhost:8080/"
        },
        "id": "bm0DWqMY0X-D",
        "outputId": "d7369a4d-7715-467c-b2aa-2f665d0a3118"
      },
      "outputs": [
        {
          "output_type": "stream",
          "name": "stdout",
          "text": [
            "All paths from X to Z: [['X', 'Y', 'Z'], ['X', 'Z']]\n"
          ]
        }
      ],
      "source": [
        "\n",
        "# Find all paths between node 'X' and node 'Z' in WG\n",
        "all_paths = list(nx.all_simple_paths(WG, source=\"X\", target=\"Z\"))\n",
        "print(\"All paths from X to Z:\", all_paths)\n"
      ]
    },
    {
      "cell_type": "markdown",
      "source": [
        "# Demonstration 8: Shortest Path (Unweighted Graph)\n",
        "We can find the shortest path between two nodes in an unweighted graph.\n"
      ],
      "metadata": {
        "id": "Dij2CybT0X_8"
      }
    },
    {
      "cell_type": "code",
      "execution_count": 29,
      "metadata": {
        "colab": {
          "base_uri": "https://localhost:8080/",
          "height": 620
        },
        "id": "NKNXmpmq0X_8",
        "outputId": "26a1ceeb-a08f-439b-969b-73f79f822864"
      },
      "outputs": [
        {
          "output_type": "stream",
          "name": "stdout",
          "text": [
            "Graph with 6 nodes and 5 edges\n",
            "[1, 2, 3, 4, 5, 6]\n",
            "[(1, 2), (2, 3), (3, 4), (4, 5), (5, 6)]\n",
            "Graph vizualization\n"
          ]
        },
        {
          "output_type": "display_data",
          "data": {
            "text/plain": [
              "<Figure size 640x480 with 1 Axes>"
            ],
            "image/png": "[encoded data removed]"
          },
          "metadata": {}
        },
        {
          "output_type": "stream",
          "name": "stdout",
          "text": [
            "Shortest path from 1 to 3 in G: [1, 2, 3, 4, 5, 6]\n",
            "Shortest path from 1 to 6 in G: [1, 2, 3, 4, 5, 6]\n"
          ]
        }
      ],
      "source": [
        "print(G)\n",
        "print(G.nodes())\n",
        "print(G.edges())\n",
        "print(\"Graph vizualization\")\n",
        "nx.draw(G, with_labels=True, node_color=\"lightblue\", font_weight=\"bold\", edge_color=\"gray\")\n",
        "plt.show()\n",
        "\n",
        "print(\"Shortest path from 1 to 3 in G:\", shortest_path)\n",
        "# Find shortest path in graph G between nodes 1 and 6\n",
        "shortest_path = nx.shortest_path(G, source=1, target=6)\n",
        "print(\"Shortest path from 1 to 6 in G:\", shortest_path)\n"
      ]
    },
    {
      "cell_type": "markdown",
      "source": [
        "# Demonstration 9: Shortest Path with Weights\n",
        " For weighted graphs, we can specify the weight attribute for the shortest path."
      ],
      "metadata": {
        "id": "HxC7aAMX0YBo"
      }
    },
    {
      "cell_type": "code",
      "execution_count": 30,
      "metadata": {
        "colab": {
          "base_uri": "https://localhost:8080/",
          "height": 585
        },
        "id": "SvVF3f4u0YBo",
        "outputId": "476983b8-986b-4b95-ca4c-9060c0ce7f5b"
      },
      "outputs": [
        {
          "output_type": "stream",
          "name": "stdout",
          "text": [
            "['X', 'Y', 'Z']\n",
            "[('X', 'Y'), ('X', 'Z'), ('Y', 'Z')]\n",
            "Graph visualization\n"
          ]
        },
        {
          "output_type": "display_data",
          "data": {
            "text/plain": [
              "<Figure size 640x480 with 1 Axes>"
            ],
            "image/png": "[encoded data removed]"
          },
          "metadata": {}
        },
        {
          "output_type": "stream",
          "name": "stdout",
          "text": [
            "Weighted shortest path from X to Z: ['X', 'Z']\n"
          ]
        }
      ],
      "source": [
        "print(WG.nodes())\n",
        "print(WG.edges())\n",
        "print(\"Graph visualization\")\n",
        "nx.draw(WG, with_labels=True, node_color=\"lightblue\", font_weight=\"bold\", edge_color=\"gray\")\n",
        "plt.show()\n",
        "\n",
        "# Find shortest path in WG between 'X' and 'Z', taking edge weights into account\n",
        "shortest_path_weighted = nx.shortest_path(WG, source=\"X\", target=\"Z\", weight=\"weight\")\n",
        "print(\"Weighted shortest path from X to Z:\", shortest_path_weighted)\n",
        "\n"
      ]
    },
    {
      "cell_type": "markdown",
      "source": [
        "# Demonstration 10: Graph Density\n",
        "\n",
        "- The density of a graph is a measure of how many edges are present in the graph compared to the maximum number of edges that could be present. The formula to calculate the density of a graph is as follows:\n",
        "\n",
        "- Density = (Number of Edges) / (Total Number of Possible Edges)\n",
        "\n",
        "- In simpler terms:\n",
        "  - A higher density indicates a graph with more edges, meaning that the nodes are more interconnected.\n",
        "  - A lower density indicates a graph with fewer edges and less connectivity between nodes"
      ],
      "metadata": {
        "id": "8fXX-SBm0YC3"
      }
    },
    {
      "cell_type": "code",
      "execution_count": 31,
      "metadata": {
        "colab": {
          "base_uri": "https://localhost:8080/"
        },
        "id": "kn0RX4Wt0YC4",
        "outputId": "2f4999de-7c0c-44f9-a67f-9707572b2daa"
      },
      "outputs": [
        {
          "output_type": "stream",
          "name": "stdout",
          "text": [
            "Density of graph G: 0.3333333333333333\n",
            "Density of directed graph DG: 0.5\n"
          ]
        }
      ],
      "source": [
        "\n",
        "# Calculate density of graph G\n",
        "density_G = nx.density(G)\n",
        "print(\"Density of graph G:\", density_G)\n",
        "\n",
        "# Calculate density of directed graph DG\n",
        "density_DG = nx.density(DG)\n",
        "print(\"Density of directed graph DG:\", density_DG)\n"
      ]
    },
    {
      "cell_type": "markdown",
      "source": [
        "# Demonstration 11: Graph Degree\n",
        " Degree refers to the number of edges connected to a node. In directed graphs, we have in-degree and out-degree.\n"
      ],
      "metadata": {
        "id": "JcNRGubo0YEY"
      }
    },
    {
      "cell_type": "code",
      "execution_count": 32,
      "metadata": {
        "colab": {
          "base_uri": "https://localhost:8080/"
        },
        "id": "yku6RWHs0YEY",
        "outputId": "7fc80623-2031-48ea-b7f2-dd1cf14dd335"
      },
      "outputs": [
        {
          "output_type": "stream",
          "name": "stdout",
          "text": [
            "Node 1 has degree: 1\n",
            "Node 2 has degree: 2\n",
            "Node 3 has degree: 2\n",
            "Node 4 has degree: 2\n",
            "Node 5 has degree: 2\n",
            "Node 6 has degree: 1\n",
            "Node A has in-degree: 1, out-degree: 1\n",
            "Node B has in-degree: 1, out-degree: 1\n",
            "Node C has in-degree: 1, out-degree: 1\n"
          ]
        }
      ],
      "source": [
        "\n",
        "# Check degree of each node in the graph G\n",
        "for node in G.nodes():\n",
        "    print(f\"Node {node} has degree: {G.degree[node]}\")\n",
        "\n",
        "# Check in-degree and out-degree in directed graph DG\n",
        "for node in DG.nodes():\n",
        "    print(f\"Node {node} has in-degree: {DG.in_degree[node]}, out-degree: {DG.out_degree[node]}\")\n"
      ]
    },
    {
      "cell_type": "markdown",
      "source": [
        "# Demonstration 12: Finding Neighbors\n",
        " NetworkX allows us to retrieve neighbors of a particular node, which can be helpful in traversals or influence analysis.\n"
      ],
      "metadata": {
        "id": "YG8UIZee0YHX"
      }
    },
    {
      "cell_type": "code",
      "execution_count": 33,
      "metadata": {
        "id": "TBXGeHOb0YHY",
        "colab": {
          "base_uri": "https://localhost:8080/"
        },
        "outputId": "7edd52f4-3bbf-4f85-a069-1c3dfe1336ac"
      },
      "outputs": [
        {
          "output_type": "stream",
          "name": "stdout",
          "text": [
            "Neighbors of node 2 in G: [1, 3]\n"
          ]
        }
      ],
      "source": [
        "\n",
        "# Find neighbors of node 2 in G\n",
        "neighbors = list(G.neighbors(2))\n",
        "print(\"Neighbors of node 2 in G:\", neighbors)\n"
      ]
    },
    {
      "cell_type": "markdown",
      "source": [
        "# Demonstration 13: Calculating Clustering Coefficient\n",
        " The clustering coefficient measures the tendency of nodes to cluster together.\n"
      ],
      "metadata": {
        "id": "I7huSPNA0YKu"
      }
    },
    {
      "cell_type": "code",
      "execution_count": 46,
      "metadata": {
        "id": "Kq0zS5cd0YKv",
        "colab": {
          "base_uri": "https://localhost:8080/"
        },
        "outputId": "6116fcd8-a609-4014-838d-7148feb040fd"
      },
      "outputs": [
        {
          "output_type": "stream",
          "name": "stdout",
          "text": [
            "Clustering coefficients for nodes in G: {1: 0, 2: 0, 3: 0, 4: 0, 5: 0, 6: 0}\n",
            "Average clustering coefficient of G: 0.0\n"
          ]
        }
      ],
      "source": [
        "\n",
        "# Calculate clustering coefficient of each node in G\n",
        "clustering_coeffs = nx.clustering(G)\n",
        "print(\"Clustering coefficients for nodes in G:\", clustering_coeffs)\n",
        "\n",
        "# Calculate average clustering coefficient of the entire graph G\n",
        "avg_clustering = nx.average_clustering(G)\n",
        "print(\"Average clustering coefficient of G:\", avg_clustering)\n"
      ]
    },
    {
      "cell_type": "markdown",
      "source": [
        "# Demonstration 14: Degree Centrality\n",
        " Degree centrality is a measure of the importance of nodes based on the number of direct connections they have.\n"
      ],
      "metadata": {
        "id": "3NBbSZmM0YL0"
      }
    },
    {
      "cell_type": "code",
      "execution_count": 47,
      "metadata": {
        "id": "0iqXn-XM0YL1",
        "colab": {
          "base_uri": "https://localhost:8080/"
        },
        "outputId": "1d0c3241-a377-4772-b089-fa4584805c5b"
      },
      "outputs": [
        {
          "output_type": "stream",
          "name": "stdout",
          "text": [
            "Degree centrality for nodes in G: {1: 0.2, 2: 0.4, 3: 0.4, 4: 0.4, 5: 0.4, 6: 0.2}\n"
          ]
        }
      ],
      "source": [
        "\n",
        "# Calculate degree centrality for each node in G\n",
        "degree_centrality = nx.degree_centrality(G)\n",
        "print(\"Degree centrality for nodes in G:\", degree_centrality)\n"
      ]
    },
    {
      "cell_type": "markdown",
      "source": [
        "  # Demonstration 15: Betweenness Centrality\n",
        "  Betweenness centrality measures the extent to which a node lies on paths between other nodes.\n"
      ],
      "metadata": {
        "id": "POuOvEl10YNU"
      }
    },
    {
      "cell_type": "code",
      "execution_count": 48,
      "metadata": {
        "id": "1kCX2q_s0YNU",
        "colab": {
          "base_uri": "https://localhost:8080/"
        },
        "outputId": "eaa1d16f-9424-44d9-8ce9-b05514b318d0"
      },
      "outputs": [
        {
          "output_type": "stream",
          "name": "stdout",
          "text": [
            "Betweenness centrality for nodes in G: {1: 0.0, 2: 0.4, 3: 0.6000000000000001, 4: 0.6000000000000001, 5: 0.4, 6: 0.0}\n"
          ]
        }
      ],
      "source": [
        "\n",
        "# Calculate betweenness centrality for each node in G\n",
        "betweenness_centrality = nx.betweenness_centrality(G)\n",
        "print(\"Betweenness centrality for nodes in G:\", betweenness_centrality)\n"
      ]
    },
    {
      "cell_type": "markdown",
      "source": [
        "# Demonstration 16: Closeness Centrality\n",
        " Closeness centrality measures how close a node is to all other nodes in the graph.\n"
      ],
      "metadata": {
        "id": "GaZwb7Lv0YOz"
      }
    },
    {
      "cell_type": "code",
      "execution_count": 49,
      "metadata": {
        "id": "mbriAxCP0YO0",
        "colab": {
          "base_uri": "https://localhost:8080/"
        },
        "outputId": "3c8520fc-4706-4bb3-984b-9d4316b848b7"
      },
      "outputs": [
        {
          "output_type": "stream",
          "name": "stdout",
          "text": [
            "Closeness centrality for nodes in G: {1: 0.3333333333333333, 2: 0.45454545454545453, 3: 0.5555555555555556, 4: 0.5555555555555556, 5: 0.45454545454545453, 6: 0.3333333333333333}\n"
          ]
        }
      ],
      "source": [
        "\n",
        "# Calculate closeness centrality for each node in G\n",
        "closeness_centrality = nx.closeness_centrality(G)\n",
        "print(\"Closeness centrality for nodes in G:\", closeness_centrality)\n"
      ]
    },
    {
      "cell_type": "markdown",
      "source": [
        "# Demonstration 17: Eigenvector Centrality\n",
        " Eigenvector centrality measures a node's influence based on connections to other high-degree nodes.\n"
      ],
      "metadata": {
        "id": "QBrt-GLt0YSD"
      }
    },
    {
      "cell_type": "code",
      "execution_count": 50,
      "metadata": {
        "id": "aROyjmdP0YSE",
        "colab": {
          "base_uri": "https://localhost:8080/"
        },
        "outputId": "a7a8dff8-1b59-4db3-8604-37a3ac68699a"
      },
      "outputs": [
        {
          "output_type": "stream",
          "name": "stdout",
          "text": [
            "Eigenvector centrality for nodes in G: {1: 0.23192160753344954, 2: 0.41790694813836154, 3: 0.5211200923556694, 4: 0.5211200923556694, 5: 0.41790694813836154, 6: 0.23192160753344954}\n"
          ]
        }
      ],
      "source": [
        "\n",
        "# Calculate eigenvector centrality for each node in G\n",
        "eigenvector_centrality = nx.eigenvector_centrality(G)\n",
        "print(\"Eigenvector centrality for nodes in G:\", eigenvector_centrality)\n"
      ]
    },
    {
      "cell_type": "markdown",
      "source": [
        "# Demonstration 19: Graph Radius\n",
        " Radius is the minimum eccentricity among all nodes in a connected graph.\n",
        "\n"
      ],
      "metadata": {
        "id": "_vR6SpRH0YUF"
      }
    },
    {
      "cell_type": "code",
      "execution_count": 51,
      "metadata": {
        "id": "aY8Zs3DU0YUG",
        "colab": {
          "base_uri": "https://localhost:8080/"
        },
        "outputId": "9fccf3ff-74ec-4536-c643-841fb8862cdc"
      },
      "outputs": [
        {
          "output_type": "stream",
          "name": "stdout",
          "text": [
            "Radius of G: 3\n"
          ]
        }
      ],
      "source": [
        "# Calculate the radius of G (only for connected graphs)\n",
        "if nx.is_connected(G):\n",
        "    radius_G = nx.radius(G)\n",
        "    print(\"Radius of G:\", radius_G)\n",
        "else:\n",
        "    print(\"G is not connected, radius is undefined.\")\n"
      ]
    },
    {
      "cell_type": "markdown",
      "source": [
        "# Demonstration 20: Graph Periphery\n",
        " The periphery of a graph consists of nodes with the highest eccentricity.\n"
      ],
      "metadata": {
        "id": "8mCFcVQ30YWj"
      }
    },
    {
      "cell_type": "code",
      "execution_count": 52,
      "metadata": {
        "id": "d93hDCmo0YWk",
        "colab": {
          "base_uri": "https://localhost:8080/"
        },
        "outputId": "adb72c04-7037-47e8-8d98-efd792207617"
      },
      "outputs": [
        {
          "output_type": "stream",
          "name": "stdout",
          "text": [
            "Periphery nodes in G: [1, 6]\n"
          ]
        }
      ],
      "source": [
        "\n",
        "# Find the periphery nodes in G\n",
        "if nx.is_connected(G):\n",
        "    periphery_nodes = nx.periphery(G)\n",
        "    print(\"Periphery nodes in G:\", periphery_nodes)\n",
        "else:\n",
        "    print(\"G is not connected, periphery is undefined.\")\n"
      ]
    },
    {
      "cell_type": "markdown",
      "source": [
        "# Demonstration 21: Graph Center\n",
        " The center of a graph is the set of nodes with minimum eccentricity.\n"
      ],
      "metadata": {
        "id": "IWVxY5V50YZA"
      }
    },
    {
      "cell_type": "code",
      "execution_count": 53,
      "metadata": {
        "id": "aUURNEQe0YZD",
        "colab": {
          "base_uri": "https://localhost:8080/"
        },
        "outputId": "98f45694-513c-4092-c477-2b8f42e16d9f"
      },
      "outputs": [
        {
          "output_type": "stream",
          "name": "stdout",
          "text": [
            "Center nodes in G: [3, 4]\n"
          ]
        }
      ],
      "source": [
        "\n",
        "# Find the center nodes in G\n",
        "if nx.is_connected(G):\n",
        "    center_nodes = nx.center(G)\n",
        "    print(\"Center nodes in G:\", center_nodes)\n",
        "else:\n",
        "    print(\"G is not connected, center is undefined.\")\n"
      ]
    },
    {
      "cell_type": "markdown",
      "source": [
        "# Demonstration 22: Eccentricity of Nodes\n",
        " Eccentricity of a node is the maximum distance from that node to any other node.\n"
      ],
      "metadata": {
        "id": "fQ5-Va8V0YbN"
      }
    },
    {
      "cell_type": "code",
      "execution_count": 54,
      "metadata": {
        "id": "70FOabLs0YbN",
        "colab": {
          "base_uri": "https://localhost:8080/"
        },
        "outputId": "6f26c752-5232-4b4e-9741-92d37a1aa7cf"
      },
      "outputs": [
        {
          "output_type": "stream",
          "name": "stdout",
          "text": [
            "Eccentricity for nodes in G: {1: 5, 2: 4, 3: 3, 4: 3, 5: 4, 6: 5}\n"
          ]
        }
      ],
      "source": [
        "\n",
        "# Calculate eccentricity for each node in G\n",
        "if nx.is_connected(G):\n",
        "    eccentricity = nx.eccentricity(G)\n",
        "    print(\"Eccentricity for nodes in G:\", eccentricity)\n",
        "else:\n",
        "    print(\"G is not connected, eccentricity is undefined.\")\n"
      ]
    },
    {
      "cell_type": "markdown",
      "source": [
        "# Demonstration 23: Graph Transitivity\n",
        " Transitivity is the ratio of triangles to connected triples of nodes.\n"
      ],
      "metadata": {
        "id": "fyHxyZUc0Ydq"
      }
    },
    {
      "cell_type": "code",
      "execution_count": 55,
      "metadata": {
        "id": "uKgLZ8az0Ydr",
        "colab": {
          "base_uri": "https://localhost:8080/"
        },
        "outputId": "932cf7e2-cc77-422a-ccc5-64b4503d1ece"
      },
      "outputs": [
        {
          "output_type": "stream",
          "name": "stdout",
          "text": [
            "Transitivity of G: 0\n"
          ]
        }
      ],
      "source": [
        "\n",
        "# Calculate the transitivity of graph G\n",
        "transitivity_G = nx.transitivity(G)\n",
        "print(\"Transitivity of G:\", transitivity_G)\n"
      ]
    },
    {
      "cell_type": "markdown",
      "source": [
        "# Demonstration 29: Graph Complement\n",
        " The complement of a graph contains all edges that are not present in the original graph.\n"
      ],
      "metadata": {
        "id": "wFgjFdBW0Ygx"
      }
    },
    {
      "cell_type": "code",
      "execution_count": 56,
      "metadata": {
        "id": "19ufFjux0Ygy",
        "colab": {
          "base_uri": "https://localhost:8080/"
        },
        "outputId": "e4881c2a-17ee-4d21-933c-ab7b45757b06"
      },
      "outputs": [
        {
          "output_type": "stream",
          "name": "stdout",
          "text": [
            "Edges in the complement of G: [(1, 3), (1, 4), (1, 5), (1, 6), (2, 4), (2, 5), (2, 6), (3, 5), (3, 6), (4, 6)]\n"
          ]
        }
      ],
      "source": [
        "\n",
        "# Generate and display the complement of G\n",
        "G_complement = nx.complement(G)\n",
        "print(\"Edges in the complement of G:\", G_complement.edges())\n"
      ]
    },
    {
      "cell_type": "markdown",
      "source": [
        "# Demonstration 30: Node Connectivity\n",
        " Node connectivity is the minimum number of nodes that need to be removed to disconnect the graph.\n"
      ],
      "metadata": {
        "id": "GEBN1tqb0Yim"
      }
    },
    {
      "cell_type": "code",
      "execution_count": 57,
      "metadata": {
        "id": "CxJPozkg0Yim",
        "colab": {
          "base_uri": "https://localhost:8080/"
        },
        "outputId": "de18fe8d-8237-48b0-b72a-4b5e84a86c0f"
      },
      "outputs": [
        {
          "output_type": "stream",
          "name": "stdout",
          "text": [
            "Node connectivity of G: 1\n"
          ]
        }
      ],
      "source": [
        "\n",
        "# Calculate node connectivity of G\n",
        "node_connectivity = nx.node_connectivity(G)\n",
        "print(\"Node connectivity of G:\", node_connectivity)\n"
      ]
    }
  ]
}