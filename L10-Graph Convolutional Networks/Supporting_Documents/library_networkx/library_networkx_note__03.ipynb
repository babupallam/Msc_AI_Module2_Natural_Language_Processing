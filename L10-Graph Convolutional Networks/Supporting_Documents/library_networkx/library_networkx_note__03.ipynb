{
  "nbformat": 4,
  "nbformat_minor": 0,
  "metadata": {
    "colab": {
      "provenance": [],
      "authorship_tag": "ABX9TyOn6xoEo2cH1tkb8baEfIGP",
      "include_colab_link": true
    },
    "kernelspec": {
      "name": "python3",
      "display_name": "Python 3"
    },
    "language_info": {
      "name": "python"
    },
    "widgets": {
      "application/vnd.jupyter.widget-state+json": {
        "2727f9f7c6064f4b9a13b120ea0844f8": {
          "model_module": "@jupyter-widgets/controls",
          "model_name": "HBoxModel",
          "model_module_version": "1.5.0",
          "state": {
            "_dom_classes": [],
            "_model_module": "@jupyter-widgets/controls",
            "_model_module_version": "1.5.0",
            "_model_name": "HBoxModel",
            "_view_count": null,
            "_view_module": "@jupyter-widgets/controls",
            "_view_module_version": "1.5.0",
            "_view_name": "HBoxView",
            "box_style": "",
            "children": [
              "IPY_MODEL_8a6e2b41a981481bae699e7185d965d0",
              "IPY_MODEL_eca7b198540f4d1fa5a20e7c4d08d97b",
              "IPY_MODEL_ae6a473b6780463e9e501909b55d1dfc"
            ],
            "layout": "IPY_MODEL_0d029105306146e3971ede9710180eff"
          }
        },
        "8a6e2b41a981481bae699e7185d965d0": {
          "model_module": "@jupyter-widgets/controls",
          "model_name": "HTMLModel",
          "model_module_version": "1.5.0",
          "state": {
            "_dom_classes": [],
            "_model_module": "@jupyter-widgets/controls",
            "_model_module_version": "1.5.0",
            "_model_name": "HTMLModel",
            "_view_count": null,
            "_view_module": "@jupyter-widgets/controls",
            "_view_module_version": "1.5.0",
            "_view_name": "HTMLView",
            "description": "",
            "description_tooltip": null,
            "layout": "IPY_MODEL_72c463a48d8242cbb50c85d271e78444",
            "placeholder": "​",
            "style": "IPY_MODEL_0605e0cc208f4806a93119f4a0133af0",
            "value": "Computing transition probabilities: 100%"
          }
        },
        "eca7b198540f4d1fa5a20e7c4d08d97b": {
          "model_module": "@jupyter-widgets/controls",
          "model_name": "FloatProgressModel",
          "model_module_version": "1.5.0",
          "state": {
            "_dom_classes": [],
            "_model_module": "@jupyter-widgets/controls",
            "_model_module_version": "1.5.0",
            "_model_name": "FloatProgressModel",
            "_view_count": null,
            "_view_module": "@jupyter-widgets/controls",
            "_view_module_version": "1.5.0",
            "_view_name": "ProgressView",
            "bar_style": "success",
            "description": "",
            "description_tooltip": null,
            "layout": "IPY_MODEL_083cd5ca84ca4dd3b3d1f190ba186e8a",
            "max": 34,
            "min": 0,
            "orientation": "horizontal",
            "style": "IPY_MODEL_4bc3e4080f3c413cb0bf9e7f8e40a102",
            "value": 34
          }
        },
        "ae6a473b6780463e9e501909b55d1dfc": {
          "model_module": "@jupyter-widgets/controls",
          "model_name": "HTMLModel",
          "model_module_version": "1.5.0",
          "state": {
            "_dom_classes": [],
            "_model_module": "@jupyter-widgets/controls",
            "_model_module_version": "1.5.0",
            "_model_name": "HTMLModel",
            "_view_count": null,
            "_view_module": "@jupyter-widgets/controls",
            "_view_module_version": "1.5.0",
            "_view_name": "HTMLView",
            "description": "",
            "description_tooltip": null,
            "layout": "IPY_MODEL_3499c7d04d854e37aa6c41d0b78f5c36",
            "placeholder": "​",
            "style": "IPY_MODEL_d7b3a0db5a8a49318835c21fe937b996",
            "value": " 34/34 [00:00&lt;00:00, 89.92it/s]"
          }
        },
        "0d029105306146e3971ede9710180eff": {
          "model_module": "@jupyter-widgets/base",
          "model_name": "LayoutModel",
          "model_module_version": "1.2.0",
          "state": {
            "_model_module": "@jupyter-widgets/base",
            "_model_module_version": "1.2.0",
            "_model_name": "LayoutModel",
            "_view_count": null,
            "_view_module": "@jupyter-widgets/base",
            "_view_module_version": "1.2.0",
            "_view_name": "LayoutView",
            "align_content": null,
            "align_items": null,
            "align_self": null,
            "border": null,
            "bottom": null,
            "display": null,
            "flex": null,
            "flex_flow": null,
            "grid_area": null,
            "grid_auto_columns": null,
            "grid_auto_flow": null,
            "grid_auto_rows": null,
            "grid_column": null,
            "grid_gap": null,
            "grid_row": null,
            "grid_template_areas": null,
            "grid_template_columns": null,
            "grid_template_rows": null,
            "height": null,
            "justify_content": null,
            "justify_items": null,
            "left": null,
            "margin": null,
            "max_height": null,
            "max_width": null,
            "min_height": null,
            "min_width": null,
            "object_fit": null,
            "object_position": null,
            "order": null,
            "overflow": null,
            "overflow_x": null,
            "overflow_y": null,
            "padding": null,
            "right": null,
            "top": null,
            "visibility": null,
            "width": null
          }
        },
        "72c463a48d8242cbb50c85d271e78444": {
          "model_module": "@jupyter-widgets/base",
          "model_name": "LayoutModel",
          "model_module_version": "1.2.0",
          "state": {
            "_model_module": "@jupyter-widgets/base",
            "_model_module_version": "1.2.0",
            "_model_name": "LayoutModel",
            "_view_count": null,
            "_view_module": "@jupyter-widgets/base",
            "_view_module_version": "1.2.0",
            "_view_name": "LayoutView",
            "align_content": null,
            "align_items": null,
            "align_self": null,
            "border": null,
            "bottom": null,
            "display": null,
            "flex": null,
            "flex_flow": null,
            "grid_area": null,
            "grid_auto_columns": null,
            "grid_auto_flow": null,
            "grid_auto_rows": null,
            "grid_column": null,
            "grid_gap": null,
            "grid_row": null,
            "grid_template_areas": null,
            "grid_template_columns": null,
            "grid_template_rows": null,
            "height": null,
            "justify_content": null,
            "justify_items": null,
            "left": null,
            "margin": null,
            "max_height": null,
            "max_width": null,
            "min_height": null,
            "min_width": null,
            "object_fit": null,
            "object_position": null,
            "order": null,
            "overflow": null,
            "overflow_x": null,
            "overflow_y": null,
            "padding": null,
            "right": null,
            "top": null,
            "visibility": null,
            "width": null
          }
        },
        "0605e0cc208f4806a93119f4a0133af0": {
          "model_module": "@jupyter-widgets/controls",
          "model_name": "DescriptionStyleModel",
          "model_module_version": "1.5.0",
          "state": {
            "_model_module": "@jupyter-widgets/controls",
            "_model_module_version": "1.5.0",
            "_model_name": "DescriptionStyleModel",
            "_view_count": null,
            "_view_module": "@jupyter-widgets/base",
            "_view_module_version": "1.2.0",
            "_view_name": "StyleView",
            "description_width": ""
          }
        },
        "083cd5ca84ca4dd3b3d1f190ba186e8a": {
          "model_module": "@jupyter-widgets/base",
          "model_name": "LayoutModel",
          "model_module_version": "1.2.0",
          "state": {
            "_model_module": "@jupyter-widgets/base",
            "_model_module_version": "1.2.0",
            "_model_name": "LayoutModel",
            "_view_count": null,
            "_view_module": "@jupyter-widgets/base",
            "_view_module_version": "1.2.0",
            "_view_name": "LayoutView",
            "align_content": null,
            "align_items": null,
            "align_self": null,
            "border": null,
            "bottom": null,
            "display": null,
            "flex": null,
            "flex_flow": null,
            "grid_area": null,
            "grid_auto_columns": null,
            "grid_auto_flow": null,
            "grid_auto_rows": null,
            "grid_column": null,
            "grid_gap": null,
            "grid_row": null,
            "grid_template_areas": null,
            "grid_template_columns": null,
            "grid_template_rows": null,
            "height": null,
            "justify_content": null,
            "justify_items": null,
            "left": null,
            "margin": null,
            "max_height": null,
            "max_width": null,
            "min_height": null,
            "min_width": null,
            "object_fit": null,
            "object_position": null,
            "order": null,
            "overflow": null,
            "overflow_x": null,
            "overflow_y": null,
            "padding": null,
            "right": null,
            "top": null,
            "visibility": null,
            "width": null
          }
        },
        "4bc3e4080f3c413cb0bf9e7f8e40a102": {
          "model_module": "@jupyter-widgets/controls",
          "model_name": "ProgressStyleModel",
          "model_module_version": "1.5.0",
          "state": {
            "_model_module": "@jupyter-widgets/controls",
            "_model_module_version": "1.5.0",
            "_model_name": "ProgressStyleModel",
            "_view_count": null,
            "_view_module": "@jupyter-widgets/base",
            "_view_module_version": "1.2.0",
            "_view_name": "StyleView",
            "bar_color": null,
            "description_width": ""
          }
        },
        "3499c7d04d854e37aa6c41d0b78f5c36": {
          "model_module": "@jupyter-widgets/base",
          "model_name": "LayoutModel",
          "model_module_version": "1.2.0",
          "state": {
            "_model_module": "@jupyter-widgets/base",
            "_model_module_version": "1.2.0",
            "_model_name": "LayoutModel",
            "_view_count": null,
            "_view_module": "@jupyter-widgets/base",
            "_view_module_version": "1.2.0",
            "_view_name": "LayoutView",
            "align_content": null,
            "align_items": null,
            "align_self": null,
            "border": null,
            "bottom": null,
            "display": null,
            "flex": null,
            "flex_flow": null,
            "grid_area": null,
            "grid_auto_columns": null,
            "grid_auto_flow": null,
            "grid_auto_rows": null,
            "grid_column": null,
            "grid_gap": null,
            "grid_row": null,
            "grid_template_areas": null,
            "grid_template_columns": null,
            "grid_template_rows": null,
            "height": null,
            "justify_content": null,
            "justify_items": null,
            "left": null,
            "margin": null,
            "max_height": null,
            "max_width": null,
            "min_height": null,
            "min_width": null,
            "object_fit": null,
            "object_position": null,
            "order": null,
            "overflow": null,
            "overflow_x": null,
            "overflow_y": null,
            "padding": null,
            "right": null,
            "top": null,
            "visibility": null,
            "width": null
          }
        },
        "d7b3a0db5a8a49318835c21fe937b996": {
          "model_module": "@jupyter-widgets/controls",
          "model_name": "DescriptionStyleModel",
          "model_module_version": "1.5.0",
          "state": {
            "_model_module": "@jupyter-widgets/controls",
            "_model_module_version": "1.5.0",
            "_model_name": "DescriptionStyleModel",
            "_view_count": null,
            "_view_module": "@jupyter-widgets/base",
            "_view_module_version": "1.2.0",
            "_view_name": "StyleView",
            "description_width": ""
          }
        }
      }
    }
  },
  "cells": [
    {
      "cell_type": "markdown",
      "metadata": {
        "id": "view-in-github",
        "colab_type": "text"
      },
      "source": [
        "<a href=\"https://colab.research.google.com/github/babupallam/Msc_AI_Module2_Natural_Language_Processing/blob/main/L10-Graph%20Convolutional%20Networks/Supporting_Documents/library_networkx/library_networkx_note__03.ipynb\" target=\"_parent\"><img src=\"https://colab.research.google.com/assets/colab-badge.svg\" alt=\"Open In Colab\"/></a>"
      ]
    },
    {
      "cell_type": "markdown",
      "source": [
        "# Node embeddings using random walks and Node2Vec\n"
      ],
      "metadata": {
        "id": "5JbbQ2Vt5RF_"
      }
    },
    {
      "cell_type": "markdown",
      "source": [
        "### Node Embeddings: Definition\n",
        "\n",
        "- **Node embeddings** are low-dimensional vector representations of nodes in a graph.\n",
        "- These embeddings capture both the structural relationships (e.g., connectivity patterns) and, if available, the attributes of nodes.\n",
        "- The goal is to map nodes from a high-dimensional and sparse representation (based on graph structure) into a dense, continuous vector space, where similar nodes in the graph are close in this space.\n",
        "- Once nodes are embedded in a vector space, these embeddings can be used for downstream tasks, such as **node classification**, **link prediction**, and **community detection**.\n",
        "\n",
        "### Why Use Node Embeddings?\n",
        "\n",
        "- **Dimensionality Reduction**: Graphs are often large and sparse. Embeddings reduce the dimensionality while retaining essential information about each node's role and context.\n",
        "- **Compatibility with Machine Learning**: Traditional machine learning algorithms work on fixed-length feature vectors, not graph structures. Node embeddings provide a way to transform graph data into a format usable by these algorithms.\n",
        "- **Capture Similarity and Relationships**: Nodes that are \"similar\" in the graph (e.g., in terms of neighborhood structure) are represented by similar embeddings. This is useful for tasks like node similarity and community detection.\n",
        "\n",
        "### How Are Node Embeddings Created?\n",
        "\n",
        "Common techniques for generating node embeddings include:\n",
        "1. **Random Walk-Based Methods**:\n",
        "   - **DeepWalk**: Uses random walks and Word2Vec to learn embeddings by predicting neighboring nodes.\n",
        "   - **Node2Vec**: Similar to DeepWalk but uses biased random walks (towards breadth-first or depth-first search) to capture more specific types of graph structure.\n",
        "\n",
        "2. **Matrix Factorization**:\n",
        "   - **Graph Factorization**: Factorizes the adjacency matrix to produce embeddings based on connections.\n",
        "   - **Laplacian Eigenmaps**: Uses the graph Laplacian matrix to preserve proximity between nodes.\n",
        "\n",
        "3. **Graph Neural Networks (GNNs)**:\n",
        "   - **Graph Convolutional Networks (GCNs)**: Apply convolutional layers to aggregate information from each node's neighbors to learn embeddings.\n",
        "   - **Graph Attention Networks (GATs)**: Use attention mechanisms to learn weighted aggregations from neighbors.\n",
        "\n",
        "### Examples of Node Embeddings in Practice\n",
        "\n",
        "1. **Social Network Analysis**:\n",
        "   - In a social network graph (e.g., Facebook), each node represents a user, and edges represent friendships.\n",
        "   - **Node Embedding Use Case**: By learning embeddings, users with similar connections and shared interests can be clustered. The embeddings can be used to recommend new friends or identify communities.\n",
        "\n",
        "2. **Citation Networks**:\n",
        "   - In a citation network graph (e.g., research papers citing each other), each node is a paper, and edges represent citation relationships.\n",
        "   - **Node Embedding Use Case**: Node embeddings allow similar papers (based on citation patterns) to be clustered together, aiding in topic discovery or recommendation systems for suggesting related papers.\n",
        "\n",
        "3. **E-commerce (Product Recommendations)**:\n",
        "   - In an e-commerce setting, nodes represent products, and edges represent interactions (e.g., co-purchases by customers).\n",
        "   - **Node Embedding Use Case**: Product embeddings can help identify similar products, recommend products, or detect clusters of related items based on user behavior.\n",
        "\n",
        "4. **Molecular Graphs (Drug Discovery)**:\n",
        "   - In molecular graphs, each node represents an atom, and edges represent bonds between atoms.\n",
        "   - **Node Embedding Use Case**: Node embeddings can help predict molecular properties, such as toxicity, solubility, or binding affinity, which are crucial in drug discovery and chemical property prediction.\n",
        "\n",
        "5. **Transportation Networks**:\n",
        "   - In a transportation network graph, nodes can represent locations or stations, and edges represent direct routes.\n",
        "   - **Node Embedding Use Case**: Node embeddings can capture patterns in traffic flow, predict congested routes, or suggest optimal travel paths based on historical data.\n",
        "\n",
        "### Example Output of Node Embeddings\n",
        "\n",
        "If a graph embedding method generates a 2-dimensional embedding for nodes, the output could look something like this (each node is represented as a 2-dimensional vector):\n",
        "\n",
        "| Node | Embedding (2D)      |\n",
        "|------|----------------------|\n",
        "| 1    | [0.4, 0.8]          |\n",
        "| 2    | [0.3, 0.9]          |\n",
        "| 3    | [1.0, 0.5]          |\n",
        "| 4    | [0.2, 0.7]          |\n",
        "| 5    | [0.9, 0.4]          |\n",
        "\n",
        "- In this table, nodes 1 and 2 have similar embeddings, suggesting they may have similar roles or connections in the graph.\n",
        "\n",
        "### Summary\n",
        "\n",
        "Node embeddings are versatile representations that capture the structural and contextual properties of nodes in a graph. They transform complex, high-dimensional graph data into low-dimensional vector spaces that can be used with traditional machine learning algorithms, enabling tasks like classification, clustering, and recommendation on graph-structured data."
      ],
      "metadata": {
        "id": "rFKS2ibeY9lq"
      }
    },
    {
      "cell_type": "markdown",
      "source": [
        "# Demonstration 51: Node Embeddings with Random Walk\n"
      ],
      "metadata": {
        "id": "VGMnM5dt46kn"
      }
    },
    {
      "cell_type": "markdown",
      "source": [
        "###### Random Walk Node Embedding Code\n",
        "\n",
        "1. **Random Walk on Graphs**:\n",
        "   - A random walk is a sequence of steps within a graph, where each step moves from the current node to a randomly chosen neighboring node.\n",
        "   - Used in graph-based machine learning to capture local graph structure and relationships between nodes.\n",
        "\n",
        "2. **Applications of Random Walks**:\n",
        "   - **Node Embeddings**: Random walks are often used in algorithms like Node2Vec and DeepWalk to generate node embeddings, which are vector representations of nodes.\n",
        "   - **Graph Sampling**: Useful for sampling large graphs to understand local structures without processing the entire graph.\n",
        "   - **Similarity and Clustering**: Nodes visited together frequently are likely to have similar roles or properties, useful for clustering or community detection.\n",
        "\n",
        "3. **Steps in Random Walk Code**:\n",
        "   - **Initialize Walk**: Start from a specified node and initialize the walk sequence with this node.\n",
        "   - **Neighbor Selection**:\n",
        "     - At each step, list the neighbors of the current node.\n",
        "     - Randomly select one neighbor as the next node in the walk.\n",
        "   - **Early Termination**: If the current node has no neighbors (isolated node), the walk ends.\n",
        "\n",
        "4. **Random Walk Length**:\n",
        "   - The length of the walk (`walk_length`) determines how far the walk explores the graph.\n",
        "   - Shorter walks capture local structure; longer walks explore more global graph structure.\n",
        "\n",
        "5. **NetworkX and Numpy**:\n",
        "   - **NetworkX**: A Python library for creating and analyzing graphs, used here to define the graph and get neighbors of nodes.\n",
        "   - **NumPy**: Used to randomly select a neighbor from a list of neighbors, introducing randomness to the walk.\n",
        "\n",
        "6. **Sample Graph**:\n",
        "   - The `karate_club_graph` is a small, well-known social network graph used as a sample.\n",
        "   - It represents social relationships in a karate club and is often used in graph theory examples.\n",
        "\n",
        "7. **Interpretation of Walk Output**:\n",
        "   - The output is a sequence of nodes visited during the walk, showing a path that captures local neighborhood information.\n",
        "   - Multiple random walks can be performed from various nodes to better represent the entire graph’s structure.\n",
        "\n",
        "8. **Embedding Generation**:\n",
        "   - By performing multiple random walks from each node, we can generate node sequences that are then used to learn embeddings.\n",
        "   - These embeddings capture relationships between nodes based on co-occurrence in walks, similar to how word embeddings are created in NLP."
      ],
      "metadata": {
        "id": "uGXw4vaZYKC4"
      }
    },
    {
      "cell_type": "code",
      "execution_count": 7,
      "metadata": {
        "id": "MF4AYNZ_4CUe",
        "colab": {
          "base_uri": "https://localhost:8080/"
        },
        "outputId": "3eb39a94-3ebe-4984-f239-fd6071c389bf"
      },
      "outputs": [
        {
          "output_type": "stream",
          "name": "stdout",
          "text": [
            "Random Walk from Node 0: [0, 11, 0, 5, 6]\n"
          ]
        }
      ],
      "source": [
        "# Import necessary libraries\n",
        "import networkx as nx  # Library for creating and working with graphs\n",
        "import numpy as np     # Library for numerical operations, used here for random sampling\n",
        "\n",
        "# Define a function to perform random walks on the graph\n",
        "def random_walk(G, start_node, walk_length):\n",
        "    \"\"\"\n",
        "    Perform a random walk on graph G starting from start_node.\n",
        "\n",
        "    Parameters:\n",
        "    - G: The graph (as a NetworkX graph) on which to perform the random walk.\n",
        "    - start_node: The node from which the random walk begins.\n",
        "    - walk_length: The length of the walk, or how many steps the walk should take.\n",
        "\n",
        "    Returns:\n",
        "    - walk: A list of nodes representing the sequence of nodes visited during the random walk.\n",
        "    \"\"\"\n",
        "    # Initialize the walk with the starting node\n",
        "    walk = [start_node]\n",
        "\n",
        "    # Perform the walk up to the specified length\n",
        "    for _ in range(walk_length - 1):  # Subtract 1 because we start with the first node\n",
        "        # Get the neighbors of the last node in the current walk\n",
        "        neighbors = list(G.neighbors(walk[-1]))\n",
        "\n",
        "        # If there are no neighbors (isolated node), end the walk\n",
        "        if not neighbors:\n",
        "            break\n",
        "\n",
        "        # Randomly choose the next node from the neighbors\n",
        "        walk.append(np.random.choice(neighbors))\n",
        "\n",
        "    return walk  # Return the sequence of nodes visited\n",
        "\n",
        "# Create a sample graph\n",
        "# Using the Karate Club graph as an example; this can be replaced with any graph data\n",
        "#nx.karate_club_graph(): Creates the Zachary's Karate Club graph, a commonly used sample graph in network analysis. This graph has 34 nodes and 78 edges, representing social interactions in a karate club.\n",
        "G = nx.karate_club_graph()\n",
        "\n",
        "# Perform a random walk starting from node 0 with a length of 5 steps\n",
        "random_walk_result = random_walk(G, start_node=0, walk_length=5)\n",
        "\n",
        "# Print the result of the random walk\n",
        "print(\"Random Walk from Node 0:\", random_walk_result)\n"
      ]
    },
    {
      "cell_type": "markdown",
      "source": [
        "# Demonstration 52: DeepWalk Embeddings\n",
        "\n",
        "### DeepWalk Embeddings: Key Concepts\n",
        "\n",
        "1. **Purpose**:\n",
        "   - DeepWalk is a method for generating **node embeddings**—vector representations of nodes that capture graph structure.\n",
        "   - It’s used in machine learning tasks on graphs, such as **node classification**, **link prediction**, and **community detection**.\n",
        "\n",
        "2. **Inspiration from NLP**:\n",
        "   - DeepWalk adapts techniques from **natural language processing (NLP)**, specifically **Word2Vec**.\n",
        "   - In NLP, Word2Vec learns word embeddings by predicting the context of words. Similarly, DeepWalk learns node embeddings by predicting the context (neighbors) of nodes in a graph.\n",
        "\n",
        "3. **Process Overview**:\n",
        "   - **Random Walks**: Perform multiple random walks from each node to capture the local structure of the graph. Each random walk generates a sequence of nodes, similar to a sentence in NLP.\n",
        "   - **Node Context**: Each sequence (walk) captures the neighbors (context) of each node in the graph, providing insights into its structural role.\n",
        "   - **Embedding Learning**: Treat each node in the walk sequence like a word in a sentence and use the Word2Vec model (usually **Skip-Gram**) to learn embeddings.\n",
        "\n",
        "4. **Key Steps**:\n",
        "   - **Step 1: Generate Random Walks**:\n",
        "     - From each node, perform multiple random walks of a fixed length.\n",
        "     - The result is a set of node sequences, where nodes that frequently appear together in sequences are more likely to have similar embeddings.\n",
        "   \n",
        "   - **Step 2: Train Word2Vec on Walks**:\n",
        "     - Use Word2Vec (Skip-Gram) to learn embeddings by maximizing the probability of node co-occurrences in these sequences.\n",
        "     - The model outputs embeddings where nodes that often appear together in walks have similar vectors.\n",
        "\n",
        "5. **Parameters**:\n",
        "   - **Walk Length**: Determines how far each walk explores from the starting node.\n",
        "   - **Number of Walks**: The number of random walks starting from each node, affecting embedding quality.\n",
        "   - **Embedding Dimension**: Specifies the dimensionality of the output embeddings (e.g., 128, 256).\n",
        "   - **Window Size**: Defines the context window size in Word2Vec, which determines how many nearby nodes are considered when training.\n",
        "\n",
        "6. **Benefits**:\n",
        "   - **Captures Local and Global Structure**: Shorter walks capture local structure, while multiple walks provide a broader view, helping to capture both local and global graph information.\n",
        "   - **Unsupervised Learning**: Does not require labels; embeddings can be learned on any graph.\n",
        "   - **Versatility**: Works on various types of graphs, including social networks, knowledge graphs, and citation networks.\n",
        "\n",
        "7. **Applications**:\n",
        "   - **Node Classification**: Map nodes to embeddings and use them as features for supervised learning tasks.\n",
        "   - **Link Prediction**: Predict the likelihood of edges between nodes based on their embedding similarity.\n",
        "   - **Community Detection**: Use embeddings to identify clusters or communities in the graph.\n",
        "\n",
        "8. **Limitations**:\n",
        "   - **Memory Intensive**: For large graphs, storing random walks and training embeddings can be resource-intensive.\n",
        "   - **Fixed Embeddings**: DeepWalk learns static embeddings, which are not ideal for dynamic graphs where nodes and edges change over time.\n",
        "\n",
        "9. **Comparison to Other Models**:\n",
        "   - Unlike **Node2Vec**, DeepWalk does not use biased random walks (Node2Vec biases the walks towards Breadth-First or Depth-First sampling).\n",
        "   - **Graph Neural Networks (GNNs)** offer a more flexible alternative that can incorporate both node features and graph structure, but are generally more complex and computationally expensive.\n",
        "\n",
        "### Summary\n",
        "DeepWalk is a powerful technique for learning unsupervised embeddings on graphs, leveraging random walks and Word2Vec to produce meaningful representations of nodes. Its simplicity, adaptability to different graphs, and ability to capture both local and global structures make it popular in graph-based machine learning tasks."
      ],
      "metadata": {
        "id": "SScZj8m64CXZ"
      }
    },
    {
      "cell_type": "code",
      "execution_count": 10,
      "metadata": {
        "id": "PdMgzXpI4CXa",
        "colab": {
          "base_uri": "https://localhost:8080/"
        },
        "outputId": "b82c22ad-7c9c-477d-92a4-d9bc8c9e3705"
      },
      "outputs": [
        {
          "output_type": "stream",
          "name": "stdout",
          "text": [
            "Generated Walks for DeepWalk: [[0, 3, 7, 2, 9], [0, 2, 28, 31, 28], [0, 12, 3, 12, 3], [0, 4, 0, 6, 0], [0, 6, 16, 5, 6], [0, 4, 0, 11, 0], [0, 21, 0, 19, 1], [0, 7, 0, 8, 0], [0, 3, 2, 13, 2], [0, 4, 6, 16, 6], [1, 2, 28, 31, 33], [1, 3, 0, 7, 2], [1, 30, 1, 3, 0], [1, 13, 3, 1, 21], [1, 7, 2, 7, 1], [1, 13, 1, 17, 1], [1, 21, 0, 5, 0], [1, 7, 1, 7, 2], [1, 21, 1, 13, 0], [1, 19, 33, 31, 0], [2, 9, 33, 32, 30], [2, 8, 33, 23, 32], [2, 27, 23, 33, 30], [2, 13, 1, 7, 1], [2, 13, 1, 21, 0], [2, 28, 33, 32, 8], [2, 3, 7, 2, 9], [2, 32, 8, 0, 1], [2, 7, 0, 17, 1], [2, 3, 12, 0, 17], [3, 1, 0, 5, 0], [3, 2, 28, 2, 0], [3, 12, 3, 0, 12], [3, 7, 0, 13, 3], [3, 13, 33, 30, 32], [3, 1, 21, 1, 30], [3, 1, 3, 1, 21], [3, 1, 7, 2, 1], [3, 7, 3, 12, 3], [3, 7, 3, 1, 21], [4, 0, 2, 0, 10], [4, 10, 0, 3, 1], [4, 6, 16, 6, 16], [4, 6, 5, 6, 4], [4, 0, 21, 0, 12], [4, 10, 4, 10, 0], [4, 0, 12, 0, 19], [4, 6, 5, 10, 5], [4, 10, 0, 11, 0], [4, 10, 0, 13, 0], [5, 6, 4, 0, 31], [5, 6, 4, 6, 4], [5, 6, 5, 10, 0], [5, 16, 5, 16, 5], [5, 6, 5, 6, 4], [5, 16, 5, 10, 5], [5, 16, 5, 10, 0], [5, 0, 6, 0, 7], [5, 6, 5, 10, 5], [5, 6, 0, 31, 33], [6, 16, 5, 0, 21], [6, 5, 16, 6, 16], [6, 16, 5, 10, 5], [6, 0, 2, 28, 33], [6, 5, 0, 7, 0], [6, 5, 0, 10, 0], [6, 16, 5, 0, 12], [6, 5, 10, 5, 16], [6, 4, 6, 4, 0], [6, 0, 5, 10, 5], [7, 0, 13, 3, 7], [7, 2, 9, 33, 22], [7, 1, 2, 7, 0], [7, 1, 2, 13, 0], [7, 0, 31, 0, 3], [7, 1, 19, 0, 13], [7, 0, 11, 0, 4], [7, 2, 3, 1, 21], [7, 0, 12, 3, 0], [7, 0, 12, 3, 7], [8, 0, 11, 0, 8], [8, 30, 8, 0, 7], [8, 30, 1, 7, 3], [8, 30, 1, 30, 1], [8, 2, 3, 7, 1], [8, 30, 8, 2, 3], [8, 0, 2, 28, 2], [8, 30, 8, 33, 29], [8, 0, 19, 33, 8], [8, 2, 9, 33, 22], [9, 2, 8, 0, 13], [9, 33, 26, 33, 31], [9, 33, 22, 33, 29], [9, 33, 13, 3, 13], [9, 33, 8, 2, 27], [9, 33, 31, 25, 23], [9, 33, 32, 14, 32], [9, 33, 14, 32, 30], [9, 2, 0, 8, 32], [9, 33, 26, 29, 32], [10, 4, 10, 5, 0], [10, 4, 6, 4, 10], [10, 0, 2, 8, 30], [10, 0, 2, 7, 1], [10, 4, 10, 4, 0], [10, 5, 10, 5, 16], [10, 4, 10, 5, 10], [10, 4, 6, 16, 5], [10, 5, 6, 4, 6], [10, 4, 6, 0, 4], [11, 0, 11, 0, 21], [11, 0, 8, 30, 1], [11, 0, 17, 0, 7], [11, 0, 11, 0, 17], [11, 0, 12, 3, 1], [11, 0, 31, 24, 27], [11, 0, 7, 3, 1], [11, 0, 10, 0, 10], [11, 0, 1, 19, 33], [11, 0, 17, 0, 4], [12, 3, 0, 21, 1], [12, 3, 13, 2, 7], [12, 0, 17, 1, 30], [12, 3, 12, 3, 12], [12, 0, 31, 0, 12], [12, 3, 1, 19, 1], [12, 0, 3, 2, 13], [12, 3, 12, 0, 4], [12, 3, 0, 19, 1], [12, 0, 4, 0, 5], [13, 2, 9, 2, 3], [13, 33, 32, 23, 27], [13, 33, 26, 33, 22], [13, 1, 21, 1, 17], [13, 3, 7, 1, 30], [13, 33, 20, 33, 9], [13, 0, 4, 0, 31], [13, 0, 21, 1, 21], [13, 0, 17, 0, 10], [13, 1, 3, 1, 17], [14, 32, 23, 33, 26], [14, 32, 22, 33, 27], [14, 32, 22, 33, 15], [14, 33, 9, 33, 13], [14, 32, 14, 32, 20], [14, 33, 20, 33, 19], [14, 33, 30, 1, 3], [14, 32, 22, 32, 15], [14, 32, 2, 28, 2], [14, 33, 13, 2, 13], [15, 33, 29, 26, 29], [15, 33, 22, 32, 14], [15, 33, 32, 30, 1], [15, 33, 29, 33, 30], [15, 32, 23, 25, 23], [15, 32, 29, 26, 33], [15, 32, 8, 30, 8], [15, 32, 8, 32, 30], [15, 32, 31, 25, 31], [15, 32, 23, 32, 30], [16, 5, 6, 16, 5], [16, 6, 4, 0, 1], [16, 6, 4, 10, 0], [16, 6, 16, 5, 6], [16, 6, 0, 4, 0], [16, 6, 5, 0, 13], [16, 5, 16, 5, 16], [16, 5, 6, 5, 6], [16, 5, 0, 19, 33], [16, 5, 16, 6, 4], [17, 0, 10, 4, 6], [17, 0, 13, 2, 9], [17, 1, 13, 0, 31], [17, 0, 31, 0, 13], [17, 1, 19, 1, 21], [17, 0, 13, 3, 12], [17, 0, 7, 1, 7], [17, 1, 7, 3, 13], [17, 1, 17, 0, 13], [17, 1, 7, 1, 2], [18, 32, 30, 1, 7], [18, 33, 22, 33, 13], [18, 33, 8, 30, 33], [18, 33, 27, 23, 29], [18, 33, 32, 20, 32], [18, 32, 18, 32, 31], [18, 32, 29, 23, 32], [18, 33, 18, 32, 23], [18, 33, 8, 32, 2], [18, 32, 22, 33, 26], [19, 1, 21, 1, 2], [19, 0, 11, 0, 12], [19, 0, 8, 33, 19], [19, 1, 3, 13, 0], [19, 0, 10, 4, 6], [19, 1, 0, 2, 13], [19, 33, 19, 1, 30], [19, 0, 6, 16, 5], [19, 33, 30, 33, 27], [19, 0, 17, 1, 7], [20, 32, 23, 27, 33], [20, 32, 33, 13, 0], [20, 32, 20, 32, 22], [20, 33, 23, 33, 23], [20, 32, 30, 8, 32], [20, 33, 20, 32, 20], [20, 32, 2, 1, 7], [20, 33, 15, 33, 19], [20, 33, 19, 1, 2], [20, 33, 23, 32, 14], [21, 1, 30, 32, 14], [21, 0, 31, 33, 27], [21, 1, 17, 0, 5], [21, 1, 21, 0, 31], [21, 0, 12, 3, 1], [21, 0, 2, 32, 22], [21, 1, 19, 1, 19], [21, 0, 10, 0, 5], [21, 1, 2, 9, 2], [21, 1, 19, 1, 0], [22, 32, 31, 24, 25], [22, 32, 22, 32, 14], [22, 33, 29, 23, 32], [22, 32, 2, 32, 30], [22, 33, 23, 33, 23], [22, 32, 14, 32, 31], [22, 33, 19, 0, 12], [22, 33, 13, 1, 3], [22, 32, 29, 23, 25], [22, 32, 22, 33, 26], [23, 25, 23, 32, 18], [23, 25, 24, 27, 24], [23, 27, 2, 8, 2], [23, 27, 23, 25, 23], [23, 29, 32, 2, 3], [23, 25, 24, 31, 0], [23, 33, 9, 2, 13], [23, 27, 33, 28, 2], [23, 27, 24, 25, 31], [23, 29, 23, 25, 31], [24, 27, 24, 27, 24], [24, 31, 0, 2, 27], [24, 25, 23, 27, 24], [24, 25, 24, 25, 23], [24, 31, 33, 13, 33], [24, 25, 31, 25, 24], [24, 27, 23, 29, 26], [24, 25, 23, 29, 33], [24, 31, 28, 33, 20], [24, 31, 0, 10, 4], [25, 24, 31, 25, 24], [25, 31, 24, 25, 31], [25, 24, 27, 23, 29], [25, 31, 32, 14, 33], [25, 31, 33, 32, 20], [25, 24, 31, 28, 2], [25, 31, 32, 22, 33], [25, 31, 0, 5, 0], [25, 23, 32, 15, 32], [25, 23, 27, 2, 27], [26, 33, 32, 15, 33], [26, 29, 26, 29, 33], [26, 33, 31, 33, 20], [26, 29, 32, 22, 32], [26, 29, 26, 29, 26], [26, 29, 26, 29, 32], [26, 29, 26, 29, 26], [26, 33, 29, 23, 25], [26, 33, 30, 8, 0], [26, 33, 27, 24, 31], [27, 2, 13, 3, 1], [27, 2, 0, 21, 0], [27, 23, 33, 18, 32], [27, 2, 27, 24, 27], [27, 33, 30, 33, 27], [27, 2, 3, 12, 3], [27, 24, 31, 28, 31], [27, 2, 28, 31, 24], [27, 33, 20, 33, 13], [27, 2, 7, 2, 27], [28, 2, 27, 33, 31], [28, 33, 19, 0, 11], [28, 31, 33, 29, 33], [28, 33, 26, 29, 33], [28, 31, 24, 31, 24], [28, 2, 3, 1, 13], [28, 33, 28, 2, 7], [28, 33, 14, 33, 29], [28, 31, 33, 14, 33], [28, 2, 13, 3, 1], [29, 23, 33, 26, 33], [29, 23, 32, 18, 33], [29, 23, 25, 24, 31], [29, 23, 33, 9, 2], [29, 23, 27, 24, 27], [29, 33, 32, 15, 33], [29, 32, 23, 33, 23], [29, 32, 2, 9, 33], [29, 33, 13, 0, 13], [29, 23, 27, 33, 27], [30, 33, 9, 2, 1], [30, 33, 23, 33, 14], [30, 8, 2, 3, 7], [30, 33, 14, 32, 31], [30, 33, 27, 24, 31], [30, 32, 23, 32, 15], [30, 32, 31, 33, 20], [30, 33, 13, 2, 7], [30, 8, 33, 9, 2], [30, 32, 15, 32, 29], [31, 0, 10, 4, 0], [31, 24, 27, 33, 19], [31, 0, 2, 8, 0], [31, 25, 31, 0, 1], [31, 24, 31, 0, 4], [31, 24, 25, 31, 24], [31, 28, 2, 0, 12], [31, 25, 23, 29, 23], [31, 0, 6, 4, 10], [31, 25, 31, 25, 31], [32, 14, 32, 14, 32], [32, 2, 1, 21, 1], [32, 33, 8, 30, 32], [32, 18, 33, 32, 8], [32, 23, 29, 23, 29], [32, 14, 32, 15, 32], [32, 2, 0, 5, 6], [32, 29, 32, 33, 15], [32, 22, 32, 29, 33], [32, 23, 33, 32, 29], [33, 27, 2, 9, 33], [33, 32, 33, 20, 32], [33, 19, 1, 21, 0], [33, 9, 33, 32, 22], [33, 13, 2, 1, 3], [33, 31, 25, 24, 27], [33, 8, 30, 1, 2], [33, 19, 1, 2, 9], [33, 26, 29, 33, 13], [33, 15, 32, 2, 7]]\n"
          ]
        }
      ],
      "source": [
        "\n",
        "# Generate multiple random walks from each node\n",
        "walks = []\n",
        "for node in G.nodes():\n",
        "    for _ in range(10):  # Number of walks per node\n",
        "        walks.append(random_walk(G, start_node=node, walk_length=5))\n",
        "\n",
        "print(\"Generated Walks for DeepWalk:\", walks)\n"
      ]
    },
    {
      "cell_type": "markdown",
      "source": [
        "# Demonstration 53: Node2Vec Embeddings\n",
        " Node2Vec is an extension of DeepWalk that incorporates a bias between breadth-first and depth-first search.\n"
      ],
      "metadata": {
        "id": "-lSXA_Em4CbN"
      }
    },
    {
      "cell_type": "code",
      "source": [
        "!pip install node2vec"
      ],
      "metadata": {
        "colab": {
          "base_uri": "https://localhost:8080/"
        },
        "id": "kRqQ6AawaAzY",
        "outputId": "51317ade-c696-419e-8516-9fb78316ce72"
      },
      "execution_count": 12,
      "outputs": [
        {
          "output_type": "stream",
          "name": "stdout",
          "text": [
            "Collecting node2vec\n",
            "  Downloading node2vec-0.5.0-py3-none-any.whl.metadata (849 bytes)\n",
            "Requirement already satisfied: gensim<5.0.0,>=4.3.0 in /usr/local/lib/python3.10/dist-packages (from node2vec) (4.3.3)\n",
            "Requirement already satisfied: joblib<2.0.0,>=1.4.0 in /usr/local/lib/python3.10/dist-packages (from node2vec) (1.4.2)\n",
            "Requirement already satisfied: networkx<4.0.0,>=3.1.0 in /usr/local/lib/python3.10/dist-packages (from node2vec) (3.4.2)\n",
            "Requirement already satisfied: numpy<2.0.0,>=1.24.0 in /usr/local/lib/python3.10/dist-packages (from node2vec) (1.26.4)\n",
            "Requirement already satisfied: tqdm<5.0.0,>=4.66.1 in /usr/local/lib/python3.10/dist-packages (from node2vec) (4.66.6)\n",
            "Requirement already satisfied: scipy<1.14.0,>=1.7.0 in /usr/local/lib/python3.10/dist-packages (from gensim<5.0.0,>=4.3.0->node2vec) (1.13.1)\n",
            "Requirement already satisfied: smart-open>=1.8.1 in /usr/local/lib/python3.10/dist-packages (from gensim<5.0.0,>=4.3.0->node2vec) (7.0.5)\n",
            "Requirement already satisfied: wrapt in /usr/local/lib/python3.10/dist-packages (from smart-open>=1.8.1->gensim<5.0.0,>=4.3.0->node2vec) (1.16.0)\n",
            "Downloading node2vec-0.5.0-py3-none-any.whl (7.2 kB)\n",
            "Installing collected packages: node2vec\n",
            "Successfully installed node2vec-0.5.0\n"
          ]
        }
      ]
    },
    {
      "cell_type": "code",
      "execution_count": 13,
      "metadata": {
        "id": "NeJM9RVR4CbO",
        "colab": {
          "base_uri": "https://localhost:8080/",
          "height": 84,
          "referenced_widgets": [
            "2727f9f7c6064f4b9a13b120ea0844f8",
            "8a6e2b41a981481bae699e7185d965d0",
            "eca7b198540f4d1fa5a20e7c4d08d97b",
            "ae6a473b6780463e9e501909b55d1dfc",
            "0d029105306146e3971ede9710180eff",
            "72c463a48d8242cbb50c85d271e78444",
            "0605e0cc208f4806a93119f4a0133af0",
            "083cd5ca84ca4dd3b3d1f190ba186e8a",
            "4bc3e4080f3c413cb0bf9e7f8e40a102",
            "3499c7d04d854e37aa6c41d0b78f5c36",
            "d7b3a0db5a8a49318835c21fe937b996"
          ]
        },
        "outputId": "cb538510-60c8-46ed-e43e-38067c84bba8"
      },
      "outputs": [
        {
          "output_type": "display_data",
          "data": {
            "text/plain": [
              "Computing transition probabilities:   0%|          | 0/34 [00:00<?, ?it/s]"
            ],
            "application/vnd.jupyter.widget-view+json": {
              "version_major": 2,
              "version_minor": 0,
              "model_id": "2727f9f7c6064f4b9a13b120ea0844f8"
            }
          },
          "metadata": {}
        },
        {
          "output_type": "stream",
          "name": "stderr",
          "text": [
            "Generating walks (CPU: 1): 100%|██████████| 10/10 [00:00<00:00, 246.73it/s]\n"
          ]
        },
        {
          "output_type": "stream",
          "name": "stdout",
          "text": [
            "Node2Vec embeddings generated.\n"
          ]
        }
      ],
      "source": [
        "\n",
        "from node2vec import Node2Vec\n",
        "\n",
        "# Initialize Node2Vec\n",
        "node2vec = Node2Vec(G, dimensions=2, walk_length=5, num_walks=10, workers=1)\n",
        "\n",
        "# Generate embeddings\n",
        "model = node2vec.fit(window=3, min_count=1, batch_words=4)\n",
        "print(\"Node2Vec embeddings generated.\")\n"
      ]
    },
    {
      "cell_type": "markdown",
      "source": [
        "# Demonstration 54: Visualizing Node2Vec Embeddings\n",
        " Node embeddings can be visualized in 2D space to understand the relationship between nodes.\n"
      ],
      "metadata": {
        "id": "U5nl45d90Y9h"
      }
    },
    {
      "cell_type": "code",
      "source": [
        "import matplotlib.pyplot as plt\n",
        "import numpy as np\n"
      ],
      "metadata": {
        "id": "lBTecHHfaK1Q"
      },
      "execution_count": 15,
      "outputs": []
    },
    {
      "cell_type": "code",
      "execution_count": 18,
      "metadata": {
        "id": "8esiiMw30Y9i",
        "colab": {
          "base_uri": "https://localhost:8080/",
          "height": 472
        },
        "outputId": "c73a7b8f-a00d-460b-ea31-aecc3a6016fe"
      },
      "outputs": [
        {
          "output_type": "display_data",
          "data": {
            "text/plain": [
              "<Figure size 640x480 with 2 Axes>"
            ],
            "image/png": "[encoded data removed]"
          },
          "metadata": {}
        }
      ],
      "source": [
        "node_labels = list(range(len(G.nodes()))) # create dummy labels (0, 1, 2, ...)\n",
        "\n",
        "# Retrieve embeddings and plot\n",
        "node_embeddings = np.array([model.wv[str(node)] for node in G.nodes()])\n",
        "plt.scatter(node_embeddings[:, 0], node_embeddings[:, 1], c=node_labels, cmap=\"coolwarm\", s=100)\n",
        "plt.title(\"Node2Vec Embeddings Visualization\")\n",
        "plt.xlabel(\"Embedding Dimension 1\")\n",
        "plt.ylabel(\"Embedding Dimension 2\")\n",
        "plt.colorbar(label=\"Node Labels\")\n",
        "plt.show()\n"
      ]
    },
    {
      "cell_type": "markdown",
      "source": [
        "# Demonstration 55: Graph Attention Network (GAT) Layer\n",
        " Graph Attention Networks (GATs) use attention mechanisms to assign different weights to neighbor nodes.\n"
      ],
      "metadata": {
        "id": "WuZbqXr70ZAW"
      }
    },
    {
      "cell_type": "code",
      "execution_count": 21,
      "metadata": {
        "id": "epEsrt0X0ZAX",
        "colab": {
          "base_uri": "https://localhost:8080/"
        },
        "outputId": "dda73779-e1ee-45d7-b32b-556a086a8ea3"
      },
      "outputs": [
        {
          "output_type": "stream",
          "name": "stdout",
          "text": [
            "Graph Attention Layer created.\n"
          ]
        }
      ],
      "source": [
        "import torch\n",
        "import torch.nn as nn  # Import the necessary module for defining neural network layers\n",
        "\n",
        "# Define a Graph Attention Layer (GAT)\n",
        "class GATLayer(nn.Module):\n",
        "    \"\"\"\n",
        "    A Graph Attention Layer (GAT) that applies attention to aggregate neighbor features\n",
        "    based on learnable attention weights.\n",
        "    \"\"\"\n",
        "\n",
        "    def __init__(self, in_features, out_features):\n",
        "        \"\"\"\n",
        "        Initializes the GAT layer with specified input and output feature dimensions.\n",
        "\n",
        "        Parameters:\n",
        "        - in_features (int): Number of input features for each node.\n",
        "        - out_features (int): Number of output features for each node after applying attention.\n",
        "        \"\"\"\n",
        "        super(GATLayer, self).__init__()\n",
        "\n",
        "        # Linear transformation for node features (without bias)\n",
        "        # Maps the input features to the output feature space for each node\n",
        "        self.fc = nn.Linear(in_features, out_features, bias=False)\n",
        "\n",
        "        # Linear layer to compute attention scores for pairs of nodes\n",
        "        # Takes concatenated feature vectors of two nodes (2 * out_features as input) and outputs a single score\n",
        "        self.attn_fc = nn.Linear(2 * out_features, 1, bias=False)\n",
        "\n",
        "    def forward(self, x, adj):\n",
        "        \"\"\"\n",
        "        Forward pass through the GAT layer.\n",
        "\n",
        "        Parameters:\n",
        "        - x (Tensor): Node feature matrix of shape (num_nodes, in_features), where each row is a node's feature vector.\n",
        "        - adj (Tensor): Adjacency matrix of shape (num_nodes, num_nodes), where adj[i][j] > 0 if there's an edge from node i to j.\n",
        "\n",
        "        Returns:\n",
        "        - h_prime (Tensor): The output feature matrix after applying attention, of shape (num_nodes, out_features).\n",
        "        \"\"\"\n",
        "\n",
        "        # Step 1: Apply linear transformation to node features\n",
        "        h = self.fc(x)  # Shape after transformation: (num_nodes, out_features)\n",
        "\n",
        "        # Step 2: Prepare attention mechanism inputs\n",
        "        N = h.size(0)  # Number of nodes in the graph\n",
        "\n",
        "        # Repeat the transformed features to concatenate pairs of nodes\n",
        "        # h.repeat(1, N) repeats each node's features N times horizontally\n",
        "        # .view(N * N, -1) reshapes the matrix to have N * N rows, where each pair will be concatenated\n",
        "        a_input = torch.cat([h.repeat(1, N).view(N * N, -1), h.repeat(N, 1)], dim=1).view(N, N, 2 * h.size(1))\n",
        "\n",
        "        # Step 3: Compute attention scores\n",
        "        # Pass concatenated features of node pairs through the attention layer\n",
        "        # The result `e` is a matrix of raw attention scores for each pair of nodes\n",
        "        e = torch.relu(self.attn_fc(a_input)).squeeze(2)  # Shape of e: (N, N)\n",
        "\n",
        "        # Step 4: Mask attention weights with the adjacency matrix\n",
        "        # Set attention scores to negative infinity (-inf) where there is no edge (i.e., adj[i][j] == 0)\n",
        "        # This ensures that non-connected nodes do not influence each other\n",
        "        attention = torch.where(adj > 0, e, torch.tensor(float('-inf')))\n",
        "\n",
        "        # Step 5: Apply softmax to attention scores along rows to normalize them\n",
        "        # This converts raw scores into probabilities that sum to 1 for each node\n",
        "        attention = torch.softmax(attention, dim=1)  # Shape of attention: (N, N)\n",
        "\n",
        "        # Step 6: Aggregate features using attention scores\n",
        "        # Multiply the attention scores with the transformed node features\n",
        "        # This aggregates information from neighbors, weighted by attention scores\n",
        "        h_prime = torch.matmul(attention, h)  # Shape of h_prime: (N, out_features)\n",
        "\n",
        "        return h_prime  # Return the output feature matrix after attention-based aggregation\n",
        "\n",
        "# Initialize GAT layer\n",
        "gat_layer = GATLayer(in_features=2, out_features=4)  # Define layer with 2 input features and 4 output features\n",
        "print(\"Graph Attention Layer created.\")\n"
      ]
    },
    {
      "cell_type": "markdown",
      "source": [
        "# Demonstration 56: Forward Pass through GAT Layer\n",
        " Let's perform a forward pass through the GAT layer to see how attention works on graph data."
      ],
      "metadata": {
        "id": "x9SsosjN47rY"
      }
    },
    {
      "cell_type": "code",
      "execution_count": 25,
      "metadata": {
        "colab": {
          "base_uri": "https://localhost:8080/"
        },
        "id": "RMTW1Wxk47rZ",
        "outputId": "f358a916-7a0d-44f0-c848-e76a9f48b97f"
      },
      "outputs": [
        {
          "output_type": "stream",
          "name": "stdout",
          "text": [
            "Node Features Tensor:\n",
            " tensor([[1., 2.],\n",
            "        [3., 4.],\n",
            "        [5., 6.]])\n",
            "Adjacency Matrix Tensor:\n",
            " tensor([[0., 1., 1.],\n",
            "        [1., 0., 0.],\n",
            "        [1., 0., 0.]])\n",
            "Output after GAT layer:\n",
            " tensor([[ 4.5897, -3.1768, -2.4410,  5.4477],\n",
            "        [ 1.5795, -1.1211, -1.0173,  1.7830],\n",
            "        [ 1.5795, -1.1211, -1.0173,  1.7830]], grad_fn=<MmBackward0>)\n"
          ]
        }
      ],
      "source": [
        "import torch\n",
        "# Assuming you have node_features as a NumPy array\n",
        "# Replace with your actual node features data\n",
        "node_features = [[1.0, 2.0], [3.0, 4.0], [5.0, 6.0]]  # Example data\n",
        "\n",
        "# Convert node features to a PyTorch tensor\n",
        "node_features_tensor = torch.tensor(node_features, dtype=torch.float32)\n",
        "\n",
        "# Assuming you have adj_matrix as a NumPy array\n",
        "# Replace with your actual adjacency matrix data\n",
        "adj_matrix = [[0, 1, 1], [1, 0, 0], [1, 0, 0]]  # Example data\n",
        "\n",
        "# Convert adjacency matrix to a PyTorch tensor\n",
        "adj_matrix_tensor = torch.tensor(adj_matrix, dtype=torch.float32)\n",
        "\n",
        "print(\"Node Features Tensor:\\n\", node_features_tensor)\n",
        "print(\"Adjacency Matrix Tensor:\\n\", adj_matrix_tensor)\n",
        "# Pass node features and adjacency matrix through GAT layer\n",
        "output_gat = gat_layer(node_features_tensor, adj_matrix_tensor)\n",
        "print(\"Output after GAT layer:\\n\", output_gat)"
      ]
    },
    {
      "cell_type": "markdown",
      "source": [
        "# Demonstration 57: Multi-head Attention in GAT\n",
        "\n",
        "\n",
        "#### Multi-Head Attention in Graph Attention Networks (GAT)\n",
        "\n",
        "- In Graph Attention Networks (GAT), **multi-head attention** is an extension that allows multiple independent attention mechanisms (or \"heads\") to operate in parallel.\n",
        "- Each attention head learns to focus on different aspects of neighboring nodes, capturing richer and more diverse information.\n",
        "- The outputs of these heads are then combined to produce the final node embeddings.\n",
        "\n",
        "#### Why Use Multi-Head Attention?\n",
        "\n",
        "1. **Enhanced Representation**:\n",
        "   - Different attention heads can capture different patterns or relationships in the neighborhood of each node.\n",
        "   - This diversity leads to more expressive embeddings as each head contributes unique information.\n",
        "\n",
        "2. **Improved Stability**:\n",
        "   - Averaging multiple attention heads reduces the variance in the model, making it more robust and less prone to overfitting.\n",
        "\n",
        "3. **Flexible Aggregation**:\n",
        "   - Multi-head attention in GAT can either concatenate the outputs from each head (for richer embeddings) or average them (for stable representations).\n"
      ],
      "metadata": {
        "id": "g_sdpCqp47ra"
      }
    },
    {
      "cell_type": "code",
      "execution_count": 26,
      "metadata": {
        "colab": {
          "base_uri": "https://localhost:8080/"
        },
        "id": "0O9Vxe9n47rb",
        "outputId": "5aae8046-1209-401b-99a9-9816f985a5c4"
      },
      "outputs": [
        {
          "output_type": "stream",
          "name": "stdout",
          "text": [
            "Multi-Head GAT Layer created.\n"
          ]
        }
      ],
      "source": [
        "\n",
        "class MultiHeadGATLayer(nn.Module):\n",
        "    def __init__(self, in_features, out_features, num_heads):\n",
        "        super(MultiHeadGATLayer, self).__init__()\n",
        "        self.heads = nn.ModuleList([GATLayer(in_features, out_features) for _ in range(num_heads)])\n",
        "\n",
        "    def forward(self, x, adj):\n",
        "        head_outputs = [head(x, adj) for head in self.heads]\n",
        "        return torch.cat(head_outputs, dim=1)\n",
        "\n",
        "# Initialize multi-head GAT layer with 3 heads\n",
        "multi_head_gat = MultiHeadGATLayer(in_features=2, out_features=4, num_heads=3)\n",
        "print(\"Multi-Head GAT Layer created.\")\n"
      ]
    },
    {
      "cell_type": "markdown",
      "source": [
        "# Demonstration 58: Training a Multi-head GAT Model for Node Classification\n",
        " Let's build a GAT model with multi-head attention for node classification.\n"
      ],
      "metadata": {
        "id": "Px_DTlcV47rc"
      }
    },
    {
      "cell_type": "code",
      "execution_count": 27,
      "metadata": {
        "colab": {
          "base_uri": "https://localhost:8080/"
        },
        "id": "Rm1XISA547rd",
        "outputId": "e3a3977b-ba4b-4c9b-bf5f-fde9d60b94d6"
      },
      "outputs": [
        {
          "output_type": "stream",
          "name": "stdout",
          "text": [
            "GAT Node Classifier created.\n"
          ]
        }
      ],
      "source": [
        "\n",
        "class GATNodeClassifier(nn.Module):\n",
        "    def __init__(self):\n",
        "        super(GATNodeClassifier, self).__init__()\n",
        "        self.gat1 = MultiHeadGATLayer(in_features=2, out_features=4, num_heads=3)\n",
        "        self.fc = nn.Linear(4 * 3, 1)  # Final layer for binary classification with 3 heads\n",
        "\n",
        "    def forward(self, x, adj):\n",
        "        x = self.gat1(x, adj)\n",
        "        x = torch.relu(x)\n",
        "        x = self.fc(x.mean(dim=0))\n",
        "        return x\n",
        "\n",
        "# Initialize the GAT model\n",
        "gat_classifier = GATNodeClassifier()\n",
        "print(\"GAT Node Classifier created.\")\n"
      ]
    },
    {
      "cell_type": "markdown",
      "source": [
        "# Demonstration 59: Training the GAT Node Classifier Model\n",
        " We’ll train the GAT classifier model on a simple node classification task.\n"
      ],
      "metadata": {
        "id": "wISEFNAP47rd"
      }
    },
    {
      "cell_type": "code",
      "execution_count": 31,
      "metadata": {
        "colab": {
          "base_uri": "https://localhost:8080/"
        },
        "id": "cLEdVzGl47re",
        "outputId": "bf6740ea-5a84-4ac8-f190-2acbfec1e8b6"
      },
      "outputs": [
        {
          "output_type": "stream",
          "name": "stdout",
          "text": [
            "Epoch 1, Loss: 0.3490425944328308\n",
            "Epoch 2, Loss: 0.29409730434417725\n",
            "Epoch 3, Loss: 0.24665610492229462\n",
            "Epoch 4, Loss: 0.20589958131313324\n",
            "Epoch 5, Loss: 0.1712917685508728\n"
          ]
        }
      ],
      "source": [
        "import torch\n",
        "import torch.optim as optim\n",
        "import torch.nn as nn\n",
        "\n",
        "# Assuming you have a binary classification problem:\n",
        "# 1 or 0. Replace with the actual label.\n",
        "graph_label = torch.tensor([1], dtype=torch.float)\n",
        "\n",
        "# Define loss function and optimizer\n",
        "loss_fn = nn.BCEWithLogitsLoss()\n",
        "optimizer = optim.Adam(gat_classifier.parameters(), lr=0.01)\n",
        "\n",
        "# Training loop for 5 epochs\n",
        "for epoch in range(5):\n",
        "    # Remove the squeeze() operation to keep the output as a single-element tensor\n",
        "    output = gat_classifier(node_features_tensor, adj_matrix_tensor)\n",
        "    loss = loss_fn(output, graph_label)\n",
        "    optimizer.zero_grad()\n",
        "    loss.backward()\n",
        "    optimizer.step()\n",
        "    print(f\"Epoch {epoch + 1}, Loss: {loss.item()}\")"
      ]
    },
    {
      "cell_type": "markdown",
      "source": [
        "# Demonstration 60: Evaluating the GAT Model\n",
        " After training, let's evaluate the predictions from the GAT model.\n"
      ],
      "metadata": {
        "id": "EuT7F3v-47rf"
      }
    },
    {
      "cell_type": "code",
      "execution_count": 34,
      "metadata": {
        "colab": {
          "base_uri": "https://localhost:8080/"
        },
        "id": "5ddNC-rG47rf",
        "outputId": "c8829ce9-3cc1-4c6b-fd4e-084691778e00"
      },
      "outputs": [
        {
          "output_type": "stream",
          "name": "stdout",
          "text": [
            "Output: tensor(1.8786, grad_fn=<SqueezeBackward0>)\n",
            "Prediction: tensor(1, dtype=torch.int32)\n",
            "Actual Label: tensor([1], dtype=torch.int32)\n"
          ]
        }
      ],
      "source": [
        "\n",
        "# Get predictions\n",
        "output = gat_classifier(node_features_tensor, adj_matrix_tensor).squeeze()\n",
        "print(\"Output:\", output)\n",
        "prediction = (torch.sigmoid(output) > 0.5).int()\n",
        "print(\"Prediction:\", prediction)\n",
        "print(\"Actual Label:\", graph_label.int())\n",
        "\n"
      ]
    }
  ]
}