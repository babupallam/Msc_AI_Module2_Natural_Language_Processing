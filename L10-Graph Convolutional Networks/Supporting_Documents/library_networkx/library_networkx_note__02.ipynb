{
  "nbformat": 4,
  "nbformat_minor": 0,
  "metadata": {
    "colab": {
      "provenance": [],
      "authorship_tag": "ABX9TyNvKpGEEbeW26hlMiZrrzGs",
      "include_colab_link": true
    },
    "kernelspec": {
      "name": "python3",
      "display_name": "Python 3"
    },
    "language_info": {
      "name": "python"
    }
  },
  "cells": [
    {
      "cell_type": "markdown",
      "metadata": {
        "id": "view-in-github",
        "colab_type": "text"
      },
      "source": [
        "<a href=\"https://colab.research.google.com/github/babupallam/Msc_AI_Module2_Natural_Language_Processing/blob/main/L10-Graph%20Convolutional%20Networks/Supporting_Documents/library_networkx/library_networkx_note__02.ipynb\" target=\"_parent\"><img src=\"https://colab.research.google.com/assets/colab-badge.svg\" alt=\"Open In Colab\"/></a>"
      ]
    },
    {
      "cell_type": "code",
      "source": [
        "# Import necessary libraries for neural network operations\n",
        "import torch\n",
        "import torch.nn as nn\n",
        "import torch.optim as optim\n",
        "import networkx as nx\n",
        "import numpy as np\n"
      ],
      "metadata": {
        "id": "3aHY0L-w3tS6"
      },
      "execution_count": 1,
      "outputs": []
    },
    {
      "cell_type": "markdown",
      "source": [
        "# Demonstration 31: Graph Data as Input for Neural Networks\n",
        " To work with graphs in neural networks, we often need to convert graph data into matrices.\n"
      ],
      "metadata": {
        "id": "Gcy219FR0Yj0"
      }
    },
    {
      "cell_type": "code",
      "execution_count": 8,
      "metadata": {
        "id": "rmb_pgFP0Yj0",
        "colab": {
          "base_uri": "https://localhost:8080/"
        },
        "outputId": "510726ff-114d-4626-df2d-aaac757e5cfc"
      },
      "outputs": [
        {
          "output_type": "stream",
          "name": "stdout",
          "text": [
            "Adjacency Matrix:\n",
            "   (0, 1)\t1\n",
            "  (0, 3)\t1\n",
            "  (1, 0)\t1\n",
            "  (1, 2)\t1\n",
            "  (2, 1)\t1\n",
            "  (2, 3)\t1\n",
            "  (3, 0)\t1\n",
            "  (3, 2)\t1\n",
            "Shape of Adjacency Matrix: (4, 4)\n",
            "Adjacency Matrix: after applying todense()\n",
            " [[0 1 0 1]\n",
            " [1 0 1 0]\n",
            " [0 1 0 1]\n",
            " [1 0 1 0]]\n",
            "Shape of Adjacency Matrix: (4, 4)\n"
          ]
        }
      ],
      "source": [
        "\n",
        "# Create a sample graph G with 4 nodes\n",
        "G = nx.Graph()\n",
        "G.add_edges_from([(0, 1), (1, 2), (2, 3), (3, 0)])\n",
        "\n",
        "# Convert the graph's adjacency matrix into a numpy array\n",
        "adj_matrix = nx.adjacency_matrix(G);\n",
        "print(\"Adjacency Matrix:\\n\", adj_matrix)\n",
        "print(\"Shape of Adjacency Matrix:\", adj_matrix.shape)\n",
        "\n",
        "adj_matrix = adj_matrix.todense()\n",
        "print(\"Adjacency Matrix: after applying todense()\\n\", adj_matrix)\n",
        "print(\"Shape of Adjacency Matrix:\", adj_matrix.shape)\n"
      ]
    },
    {
      "cell_type": "markdown",
      "source": [
        "# Demonstration 32: Node Features in Graphs\n",
        " Node features are essential for training graph neural networks. Let's create some features for each node.\n"
      ],
      "metadata": {
        "id": "KlJ_tj-f0YlF"
      }
    },
    {
      "cell_type": "code",
      "execution_count": 9,
      "metadata": {
        "id": "TwJdNbkz0YlF",
        "colab": {
          "base_uri": "https://localhost:8080/"
        },
        "outputId": "540c9f4b-b377-4ece-d2b3-66c9a06b7156"
      },
      "outputs": [
        {
          "output_type": "stream",
          "name": "stdout",
          "text": [
            "Node Features:\n",
            " [[1 2]\n",
            " [3 4]\n",
            " [5 6]\n",
            " [7 8]]\n"
          ]
        }
      ],
      "source": [
        "\n",
        "# Define node features as a simple numpy array (4 nodes, each with 2 features)\n",
        "node_features = np.array([[1, 2], [3, 4], [5, 6], [7, 8]])\n",
        "print(\"Node Features:\\n\", node_features)\n"
      ]
    },
    {
      "cell_type": "markdown",
      "source": [
        "# Demonstration 33: Converting Node Features to Torch Tensors\n",
        " Neural networks in PyTorch use tensors, so we need to convert node features and adjacency matrices to tensors.\n"
      ],
      "metadata": {
        "id": "jgXRXiiL0YnC"
      }
    },
    {
      "cell_type": "code",
      "execution_count": 10,
      "metadata": {
        "id": "6Bva97o20YnD",
        "colab": {
          "base_uri": "https://localhost:8080/"
        },
        "outputId": "8351dd63-66f9-46de-8ccf-2ed4afd85160"
      },
      "outputs": [
        {
          "output_type": "stream",
          "name": "stdout",
          "text": [
            "Node Features Tensor:\n",
            " tensor([[1., 2.],\n",
            "        [3., 4.],\n",
            "        [5., 6.],\n",
            "        [7., 8.]])\n",
            "Adjacency Matrix Tensor:\n",
            " tensor([[0., 1., 0., 1.],\n",
            "        [1., 0., 1., 0.],\n",
            "        [0., 1., 0., 1.],\n",
            "        [1., 0., 1., 0.]])\n"
          ]
        }
      ],
      "source": [
        "\n",
        "# Convert node features to a tensor\n",
        "node_features_tensor = torch.tensor(node_features, dtype=torch.float32)\n",
        "\n",
        "# Convert adjacency matrix to tensor\n",
        "adj_matrix_tensor = torch.tensor(adj_matrix, dtype=torch.float32)\n",
        "\n",
        "print(\"Node Features Tensor:\\n\", node_features_tensor)\n",
        "print(\"Adjacency Matrix Tensor:\\n\", adj_matrix_tensor)\n"
      ]
    },
    {
      "cell_type": "markdown",
      "source": [
        "# Demonstration 34: Building a Simple Graph Neural Network Layer\n",
        "Let's define a simple neural network layer that can perform operations on graph data.\n"
      ],
      "metadata": {
        "id": "nk2iF_fq0YoM"
      }
    },
    {
      "cell_type": "code",
      "execution_count": 21,
      "metadata": {
        "id": "0dw39bc70YoM",
        "colab": {
          "base_uri": "https://localhost:8080/"
        },
        "outputId": "649480e8-f3d7-4a21-d9b1-f33c90ed3fa4"
      },
      "outputs": [
        {
          "output_type": "stream",
          "name": "stdout",
          "text": [
            "Simple GNN Layer created.\n"
          ]
        }
      ],
      "source": [
        "import torch\n",
        "import torch.nn as nn\n",
        "\n",
        "# Define a simple GNN layer class\n",
        "class SimpleGNNLayer(nn.Module):\n",
        "    \"\"\"\n",
        "    A simple Graph Neural Network (GNN) layer that applies a linear transformation to aggregated node features from neighboring nodes in a graph.\n",
        "    \"\"\"\n",
        "\n",
        "    def __init__(self, in_features, out_features):\n",
        "        \"\"\"\n",
        "        Initialize the GNN layer with the input and output feature dimensions.\n",
        "\n",
        "        Parameters:\n",
        "        - in_features (int): The number of features each input node has.\n",
        "        - out_features (int): The number of features each output node will have after transformation.\n",
        "        \"\"\"\n",
        "        super(SimpleGNNLayer, self).__init__()\n",
        "\n",
        "        # Define a linear layer to apply transformations to the node features\n",
        "        # This layer will map from `in_features` to `out_features`.\n",
        "        self.linear = nn.Linear(in_features, out_features)\n",
        "\n",
        "    def forward(self, x, adj):\n",
        "        print(\"Inside the forward function\")\n",
        "        \"\"\"\n",
        "        Forward pass of the GNN layer, which performs aggregation of neighboring node features followed by a linear transformation.\n",
        "\n",
        "        Parameters:\n",
        "        - x (Tensor): Node feature matrix with shape (num_nodes, in_features).\n",
        "          Each row corresponds to the features of a node.\n",
        "        - adj (Tensor): Adjacency matrix with shape (num_nodes, num_nodes).\n",
        "          The matrix indicates connections between nodes in the graph.\n",
        "\n",
        "        Returns:\n",
        "        - out (Tensor): The transformed node feature matrix with shape (num_nodes, out_features).\n",
        "        \"\"\"\n",
        "        # Perform aggregation of neighbor features by multiplying adjacency matrix with the feature matrix.\n",
        "        # This effectively sums the features of neighboring nodes for each node.\n",
        "        out = torch.matmul(adj, x)\n",
        "        print(\"Aggregated Features:\\n\", out)\n",
        "        # Apply the linear transformation to the aggregated features.\n",
        "        # This step adjusts the features to the desired output dimension.\n",
        "        out = self.linear(out)\n",
        "\n",
        "        return out\n",
        "\n",
        "# Initialize a GNN layer with 2 input features and 4 output features.\n",
        "# This means each node's initial feature vector has 2 values, and after the layer, each will have 6 values.\n",
        "gnn_layer = SimpleGNNLayer(in_features=2, out_features=6)\n",
        "print(\"Simple GNN Layer created.\")\n"
      ]
    },
    {
      "cell_type": "markdown",
      "source": [
        "# Demonstration 35: Forward Pass through GNN Layer\n",
        "We'll pass the node features and adjacency matrix through the GNN layer.\n"
      ],
      "metadata": {
        "id": "AFnwEFQA0Ypg"
      }
    },
    {
      "cell_type": "code",
      "execution_count": 22,
      "metadata": {
        "id": "m8LjGsmw0Ypg",
        "colab": {
          "base_uri": "https://localhost:8080/"
        },
        "outputId": "4a9a6c4b-edaa-43c6-9989-bd6988007813"
      },
      "outputs": [
        {
          "output_type": "stream",
          "name": "stdout",
          "text": [
            "Node Features Tensor:\n",
            " tensor([[1., 2.],\n",
            "        [3., 4.],\n",
            "        [5., 6.],\n",
            "        [7., 8.]])\n",
            "Adjacency Matrix Tensor:\n",
            " tensor([[0., 1., 0., 1.],\n",
            "        [1., 0., 1., 0.],\n",
            "        [0., 1., 0., 1.],\n",
            "        [1., 0., 1., 0.]])\n",
            "Inside the forward function\n",
            "Aggregated Features:\n",
            " tensor([[10., 12.],\n",
            "        [ 6.,  8.],\n",
            "        [10., 12.],\n",
            "        [ 6.,  8.]])\n",
            "Output after GNN layer:\n",
            " tensor([[12.0235, -3.1484,  1.5169,  9.4490,  3.8257, -3.0649],\n",
            "        [ 7.5461, -1.5947,  0.9551,  6.1475,  2.5892, -2.5219],\n",
            "        [12.0235, -3.1484,  1.5169,  9.4490,  3.8257, -3.0649],\n",
            "        [ 7.5461, -1.5947,  0.9551,  6.1475,  2.5892, -2.5219]],\n",
            "       grad_fn=<AddmmBackward0>)\n"
          ]
        }
      ],
      "source": [
        "print(\"Node Features Tensor:\\n\", node_features_tensor)\n",
        "print(\"Adjacency Matrix Tensor:\\n\", adj_matrix_tensor)\n",
        "# Perform a forward pass\n",
        "output = gnn_layer(node_features_tensor, adj_matrix_tensor)\n",
        "print(\"Output after GNN layer:\\n\", output)\n"
      ]
    },
    {
      "cell_type": "markdown",
      "source": [
        "### **Explanation of how does it work?**\n",
        "\n",
        "\n",
        "Certainly! Here’s an enhanced explanation, incorporating details on the creation of weights and biases, the role of neurons, and additional observations about the operations.\n",
        "\n",
        "#### Inputs\n",
        "- **Node Features Tensor**: Each row represents a node, and each column represents a feature.\n",
        "  ```python\n",
        "  tensor([[1., 2.],\n",
        "          [3., 4.],\n",
        "          [5., 6.],\n",
        "          [7., 8.]])\n",
        "  ```\n",
        "  - We have 4 nodes, each with 2 features (e.g., values `[1., 2.]` for node 0). These initial features represent each node’s information, which could include properties or attributes relevant to the graph.\n",
        "\n",
        "- **Adjacency Matrix Tensor**: Represents the connections between nodes.\n",
        "  ```python\n",
        "  tensor([[0., 1., 0., 1.],\n",
        "          [1., 0., 1., 0.],\n",
        "          [0., 1., 0., 1.],\n",
        "          [1., 0., 1., 0.]])\n",
        "  ```\n",
        "  - This matrix indicates which nodes are connected:\n",
        "    - For example, node 0 is connected to nodes 1 and 3, and node 1 is connected to nodes 0 and 2.\n",
        "  - Since this is an undirected and unweighted adjacency matrix, it is symmetric, with values of `0` (no connection) or `1` (connection).\n",
        "\n",
        "#### Step-by-Step Explanation Inside the `forward` Function\n",
        "\n",
        "##### Step 1: Aggregating Features from Neighbors\n",
        "The `forward` function first aggregates features from neighboring nodes using matrix multiplication with the adjacency matrix:\n",
        "```python\n",
        "out = torch.matmul(adj, x)\n",
        "```\n",
        "Here’s how this aggregation works:\n",
        "\n",
        "1. **Matrix Multiplication (`torch.matmul(adj, x)`)**:\n",
        "   - Each row in the resulting matrix is a sum of the features of the neighboring nodes for that row’s node.\n",
        "   - For example:\n",
        "     - **Node 0** has neighbors 1 and 3. Its aggregated features are the sum of node 1’s and node 3’s features:\n",
        "       \\[\n",
        "       [3, 4] + [7, 8] = [10, 12]\n",
        "       \\]\n",
        "     - **Node 1** has neighbors 0 and 2:\n",
        "       \\[\n",
        "       [1, 2] + [5, 6] = [6, 8]\n",
        "       \\]\n",
        "     - Nodes 2 and 3 follow the same pattern, producing aggregated features:\n",
        "       ```python\n",
        "       tensor([[10., 12.],\n",
        "               [ 6.,  8.],\n",
        "               [10., 12.],\n",
        "               [ 6.,  8.]])\n",
        "       ```\n",
        "\n",
        "   - This aggregation step captures information from each node’s immediate neighbors, essential for graph-based learning tasks where node influence is based on connectivity.\n",
        "\n",
        "##### Step 2: Applying Linear Transformation\n",
        "Next, we pass the aggregated features through a linear layer:\n",
        "```python\n",
        "out = self.linear(out)\n",
        "```\n",
        "This linear transformation adjusts the feature dimensions from 2 to a higher dimensionality, with learned weights and biases defining the transformation. Let’s examine how this transformation works in detail.\n",
        "\n",
        "1. **Weight and Bias Creation**:\n",
        "   - The linear layer (`self.linear`) is defined in the initialization method (`__init__`):\n",
        "     ```python\n",
        "     self.linear = nn.Linear(in_features, out_features)\n",
        "     ```\n",
        "   - Here:\n",
        "     - **`in_features = 2`**: The input feature dimension, corresponding to the 2 features per node.\n",
        "     - **`out_features = 4`**: The output feature dimension, set to 4, meaning we want to expand each node’s feature representation to 4 dimensions.\n",
        "\n",
        "   - **Neurons and Parameters**:\n",
        "     - The `nn.Linear(in_features, out_features)` layer contains **4 neurons** (one for each output feature dimension), each with **2 weights** (for the two input features) and **1 bias**.\n",
        "     - Therefore, this layer has:\n",
        "       - **Weights**: A matrix of shape `(out_features, in_features)`, i.e., `(4, 2)`, resulting in \\( 4 \\times 2 = 8 \\) weight parameters.\n",
        "       - **Bias**: A vector of shape `(out_features,)`, i.e., `(4,)`, resulting in 4 bias parameters.\n",
        "     - **Total Parameters**: 8 weights + 4 biases = 12 parameters in total for this layer, which are learned during training.\n",
        "\n",
        "2. **Linear Transformation Operation**:\n",
        "   - The linear transformation in `self.linear(out)` performs the following steps:\n",
        "     - **Matrix Multiplication with Weights**:\n",
        "       - The aggregated feature matrix of shape `(4, 2)` (4 nodes, each with 2 features) is multiplied by the weight matrix of shape `(4, 2)` (transposed to `(2, 4)` for compatibility).\n",
        "       - This multiplication yields an output matrix of shape `(4, 4)`, representing each node’s transformed features in a higher-dimensional feature space.\n",
        "     - **Adding Bias**:\n",
        "       - A bias vector of shape `(4,)` is added to each row of the transformed matrix, shifting the values.\n",
        "\n",
        "   - The final output after the linear transformation is:\n",
        "     ```python\n",
        "     tensor([[12.0235, -3.1484,  1.5169,  9.4490],\n",
        "             [ 7.5461, -1.5947,  0.9551,  6.1475],\n",
        "             [12.0235, -3.1484,  1.5169,  9.4490],\n",
        "             [ 7.5461, -1.5947,  0.9551,  6.1475]],\n",
        "            grad_fn=<AddmmBackward0>)\n",
        "     ```\n",
        "   - **Explanation of Output**:\n",
        "     - Each row corresponds to a node, and each column corresponds to one of the 4 new feature dimensions produced by the linear transformation.\n",
        "     - These values represent the updated feature embeddings for each node, learned from the aggregation of neighbor features and then transformed by the linear layer.\n",
        "\n",
        "#### Summary of Each Step:\n",
        "1. **Neighbor Aggregation**: Summed the features of each node’s neighbors using matrix multiplication with the adjacency matrix.\n",
        "2. **Weight and Bias Creation**: The `nn.Linear` layer internally creates a weight matrix `(4, 2)` and bias vector `(4)`, resulting in a total of 12 parameters (8 weights and 4 biases) to learn.\n",
        "3. **Linear Transformation**: The linear layer (with 4 neurons) adjusts the feature dimensions from 2 to 4 by applying matrix multiplication with learned weights, followed by adding bias, yielding the final transformed node features in the output tensor.\n",
        "\n",
        "This process enables the GNN layer to learn complex, high-dimensional representations of each node by aggregating and transforming information from neighboring nodes, capturing structural and feature-based information from the graph structure.\n"
      ],
      "metadata": {
        "id": "duIpxdHQDM1w"
      }
    },
    {
      "cell_type": "markdown",
      "source": [
        "# Demonstration 36: Stacking GNN Layers\n",
        " GNNs often use multiple stacked layers to learn more complex patterns.\n"
      ],
      "metadata": {
        "id": "bqEcSuKA0Yq5"
      }
    },
    {
      "cell_type": "code",
      "execution_count": 45,
      "metadata": {
        "id": "6lEGYjzG0Yq5",
        "colab": {
          "base_uri": "https://localhost:8080/"
        },
        "outputId": "544e5914-a7e7-467a-ff21-11a8360ff374"
      },
      "outputs": [
        {
          "output_type": "stream",
          "name": "stdout",
          "text": [
            "Inside the forward function\n",
            "Aggregated Features:\n",
            " tensor([[10., 12.],\n",
            "        [ 6.,  8.],\n",
            "        [10., 12.],\n",
            "        [ 6.,  8.]])\n",
            "Inside the forward function\n",
            "Aggregated Features:\n",
            " tensor([[ 0.0000, 10.7863, 12.1743,  9.5225,  0.0000,  6.3963],\n",
            "        [ 0.0000, 15.5433, 19.3663, 15.4491,  0.0000,  8.3092],\n",
            "        [ 0.0000, 10.7863, 12.1743,  9.5225,  0.0000,  6.3963],\n",
            "        [ 0.0000, 15.5433, 19.3663, 15.4491,  0.0000,  8.3092]],\n",
            "       grad_fn=<MmBackward0>)\n",
            "Output after Two-Layer GNN:\n",
            " tensor([[-0.4022],\n",
            "        [-1.0680],\n",
            "        [-0.4022],\n",
            "        [-1.0680]], grad_fn=<AddmmBackward0>)\n",
            "Shape of outputs: torch.Size([4, 2])\n",
            "Shape of node_labels: torch.Size([4])\n"
          ]
        }
      ],
      "source": [
        "\n",
        "class TwoLayerGNN(nn.Module):\n",
        "    def __init__(self):\n",
        "        super(TwoLayerGNN, self).__init__()\n",
        "        self.layer1 = SimpleGNNLayer(in_features=2, out_features=6)\n",
        "        self.layer2 = SimpleGNNLayer(in_features=6, out_features=1)\n",
        "\n",
        "    def forward(self, x, adj):\n",
        "        x = self.layer1(x, adj)\n",
        "        x = torch.relu(x)  # Apply activation function\n",
        "        x = self.layer2(x, adj)\n",
        "        return x\n",
        "\n",
        "# Initialize and test a two-layer GNN\n",
        "two_layer_gnn = TwoLayerGNN()\n",
        "output = two_layer_gnn(node_features_tensor, adj_matrix_tensor)\n",
        "print(\"Output after Two-Layer GNN:\\n\", output)\n",
        "\n",
        "\n",
        "print(\"Shape of outputs:\", outputs.shape)\n",
        "print(\"Shape of node_labels:\", node_labels.shape)\n"
      ]
    },
    {
      "cell_type": "markdown",
      "source": [
        "# Demonstration 37: Graph Classification Task Setup\n",
        " For a supervised learning task, we need labels for nodes or graphs.\n"
      ],
      "metadata": {
        "id": "KmvHTqry0Ys6"
      }
    },
    {
      "cell_type": "code",
      "execution_count": 46,
      "metadata": {
        "id": "xOaI0H1k0Ys7",
        "colab": {
          "base_uri": "https://localhost:8080/"
        },
        "outputId": "83a8e014-4a63-4b2d-d279-ec78bff279fa"
      },
      "outputs": [
        {
          "output_type": "stream",
          "name": "stdout",
          "text": [
            "Node Labels: tensor([0., 1., 0., 1.])\n"
          ]
        }
      ],
      "source": [
        "\n",
        "# Define a target label for each node (e.g., 0 or 1)\n",
        "node_labels = torch.tensor([0, 1, 0, 1], dtype=torch.float32)\n",
        "print(\"Node Labels:\", node_labels)\n"
      ]
    },
    {
      "cell_type": "markdown",
      "source": [
        "# Demonstration 38: Defining Loss and Optimizer for the GNN Model\n",
        "We'll define a loss function and an optimizer to train the GNN on the node classification task.\n"
      ],
      "metadata": {
        "id": "-ahQYARA0YvE"
      }
    },
    {
      "cell_type": "markdown",
      "source": [
        "What does it do?\n",
        "\n",
        "- Binary Cross-Entropy: This is a common loss function used for binary classification problems where you're trying to predict one of two classes (e.g., 0 or 1, True or False). It calculates the difference between the predicted probabilities and the actual labels (0 or 1).\n",
        "\n",
        "- With Logits: The \"logits\" part is important. It means that this loss function expects the raw output from your neural network (before applying a sigmoid or softmax function to get probabilities). It internally applies a sigmoid activation to the output before calculating the loss, which is numerically more stable."
      ],
      "metadata": {
        "id": "d14bXkOpESzk"
      }
    },
    {
      "cell_type": "code",
      "execution_count": 47,
      "metadata": {
        "id": "0Vl8hDIr0YvE",
        "colab": {
          "base_uri": "https://localhost:8080/"
        },
        "outputId": "cb138a09-3e32-485a-c937-7bff28f88805"
      },
      "outputs": [
        {
          "output_type": "stream",
          "name": "stdout",
          "text": [
            "Loss function defined.\n",
            "Loss function: BCEWithLogitsLoss()\n",
            "<generator object Module.parameters at 0x78a2e64b2ea0>\n",
            "Optimizer defined.\n",
            "Optimizer: Adam (\n",
            "Parameter Group 0\n",
            "    amsgrad: False\n",
            "    betas: (0.9, 0.999)\n",
            "    capturable: False\n",
            "    differentiable: False\n",
            "    eps: 1e-08\n",
            "    foreach: None\n",
            "    fused: None\n",
            "    lr: 0.01\n",
            "    maximize: False\n",
            "    weight_decay: 0\n",
            ")\n"
          ]
        }
      ],
      "source": [
        "\n",
        "# Use binary cross-entropy loss for binary node classification\n",
        "loss_fn = nn.BCEWithLogitsLoss()\n",
        "\n",
        "print(\"Loss function defined.\")\n",
        "print(\"Loss function:\", loss_fn)\n",
        "\n",
        "\n",
        "print(two_layer_gnn.parameters()) #<generator object Module.parameters at 0x78a2e64b3450>\n",
        "\n",
        "\n",
        "# Use Adam optimizer for training\n",
        "optimizer = optim.Adam(two_layer_gnn.parameters(), lr=0.01)\n",
        "print(\"Optimizer defined.\")\n",
        "print(\"Optimizer:\", optimizer)"
      ]
    },
    {
      "cell_type": "markdown",
      "source": [
        "# Demonstration 39: Training the GNN Model (Single Epoch)\n",
        "We’ll perform one forward and backward pass to illustrate the training process.\n"
      ],
      "metadata": {
        "id": "Wb5JHP0e0Yx2"
      }
    },
    {
      "cell_type": "code",
      "execution_count": 57,
      "metadata": {
        "id": "ol3zUhrg0Yx3",
        "colab": {
          "base_uri": "https://localhost:8080/"
        },
        "outputId": "cd89da18-9317-46ef-b4ee-ee15750e11d0"
      },
      "outputs": [
        {
          "output_type": "stream",
          "name": "stdout",
          "text": [
            "Inside the forward function\n",
            "Aggregated Features:\n",
            " tensor([[10., 12.],\n",
            "        [ 6.,  8.],\n",
            "        [10., 12.],\n",
            "        [ 6.,  8.]])\n",
            "Inside the forward function\n",
            "Aggregated Features:\n",
            " tensor([[ 0.0000, 11.5861, 11.3093,  8.7095,  0.0000,  7.1753],\n",
            "        [ 0.0000, 16.7894, 18.0296, 14.1840,  0.0000,  9.5250],\n",
            "        [ 0.0000, 11.5861, 11.3093,  8.7095,  0.0000,  7.1753],\n",
            "        [ 0.0000, 16.7894, 18.0296, 14.1840,  0.0000,  9.5250]],\n",
            "       grad_fn=<MmBackward0>)\n",
            "Outputs after forward pass:\n",
            " tensor([1.1054, 1.2325, 1.1054, 1.2325], grad_fn=<SqueezeBackward0>)\n",
            "Shape of outputs: torch.Size([4])\n",
            "Shape of node_labels: torch.Size([4])\n",
            "Loss after one training step: 0.8236291408538818\n"
          ]
        }
      ],
      "source": [
        "# Forward pass\n",
        "outputs = two_layer_gnn(node_features_tensor, adj_matrix_tensor).squeeze()\n",
        "print(\"Outputs after forward pass:\\n\", outputs)\n",
        "print(\"Shape of outputs:\", outputs.shape)\n",
        "print(\"Shape of node_labels:\", node_labels.shape)\n",
        "\n",
        "# Loss calculation\n",
        "loss = loss_fn(outputs, node_labels)  # This function has been defined in Demonstration 38.\n",
        "\n",
        "# Backward pass and optimization\n",
        "optimizer.zero_grad()\n",
        "loss.backward()\n",
        "optimizer.step()\n",
        "\n",
        "print(\"Loss after one training step:\", loss.item())\n"
      ]
    },
    {
      "cell_type": "markdown",
      "source": [
        "#### Detailed Explanation\n",
        "\n",
        "##### 1. Forward Pass\n",
        "```python\n",
        "outputs = two_layer_gnn(node_features_tensor, adj_matrix_tensor).squeeze()\n",
        "```\n",
        "- **Purpose**: This line performs a forward pass through the `two_layer_gnn` model, generating the predicted outputs for each node based on the input features and adjacency matrix.\n",
        "- **Explanation**:\n",
        "  - `two_layer_gnn`: This is an instance of a neural network model defined earlier. It processes the input graph data in a series of graph neural network (GNN) layers.\n",
        "  - `node_features_tensor`: A tensor that represents the initial features for each node in the graph, typically of shape `(num_nodes, in_features)`, where each row corresponds to a node and each column to a feature.\n",
        "  - `adj_matrix_tensor`: The adjacency matrix representing connections between nodes. It is used by GNN layers to aggregate features from neighboring nodes.\n",
        "  - **`.squeeze()`**: This method removes any singleton dimensions from the tensor. For example, if `outputs` initially has a shape of `(4, 1)`, `.squeeze()` would make it `(4,)`. This is useful to ensure `outputs` has the same shape as `node_labels` for loss calculation.\n",
        "- **Output**:\n",
        "  - After this line, `outputs` contains the predictions from the GNN model for each node. The shape of `outputs` depends on the last layer of `two_layer_gnn`. If the last layer has a single output per node, `outputs` will have shape `(num_nodes,)` after `.squeeze()`.\n",
        "\n",
        "```python\n",
        "print(\"Outputs after forward pass:\\n\", outputs)\n",
        "print(\"Shape of outputs:\", outputs.shape)\n",
        "print(\"Shape of node_labels:\", node_labels.shape)\n",
        "```\n",
        "- **Purpose**: These lines print the predicted outputs after the forward pass and display the shapes of `outputs` and `node_labels`.\n",
        "- **Explanation**:\n",
        "  - `outputs.shape`: Displays the shape of the predicted outputs, which should match the shape of `node_labels` for compatibility in the loss calculation.\n",
        "  - `node_labels.shape`: Displays the shape of the ground-truth labels to verify that it matches the output shape.\n",
        "\n",
        "#3### 2. Loss Calculation\n",
        "```python\n",
        "loss = loss_fn(outputs, node_labels)  # This function has been defined in Demonstration 38.\n",
        "```\n",
        "- **Purpose**: This line calculates the loss, which measures the difference between the model's predictions (`outputs`) and the actual labels (`node_labels`).\n",
        "- **Explanation**:\n",
        "  - `loss_fn`: This is a loss function defined in an earlier demonstration. Based on your previous information, it’s likely `torch.nn.BCEWithLogitsLoss()` for binary classification.\n",
        "  - **How `BCEWithLogitsLoss` Works**:\n",
        "    - `BCEWithLogitsLoss` combines a sigmoid activation with binary cross-entropy loss, making it suitable for binary classification tasks. It takes raw logits (unactivated outputs) as input and applies a sigmoid internally to map predictions to probabilities between 0 and 1.\n",
        "    - It then computes the binary cross-entropy loss between the predicted probabilities and the true labels.\n",
        "  - **Expected Shape Match**:\n",
        "    - `outputs` and `node_labels` should have the same shape for this function to work correctly. If `outputs` has a shape of `(4,)`, `node_labels` should also have a shape of `(4,)`.\n",
        "\n",
        "##### 3. Backward Pass and Optimization\n",
        "```python\n",
        "optimizer.zero_grad()\n",
        "```\n",
        "- **Purpose**: This line resets the gradients of all model parameters to zero before performing backpropagation.\n",
        "- **Explanation**:\n",
        "  - During backpropagation, gradients are accumulated for each parameter. If we don’t reset them to zero, gradients from previous iterations will be added to the current ones, which is typically not desired.\n",
        "  - `optimizer.zero_grad()` clears these gradients to ensure only the current step’s gradients are used.\n",
        "\n",
        "```python\n",
        "loss.backward()\n",
        "```\n",
        "- **Purpose**: This line performs backpropagation, calculating the gradients of the loss with respect to each parameter in the model.\n",
        "- **Explanation**:\n",
        "  - `loss.backward()` computes the derivative of the loss with respect to each parameter (weight and bias) in `two_layer_gnn` using the chain rule.\n",
        "  - These gradients are stored in each parameter's `.grad` attribute, allowing the optimizer to update the parameters in the next step.\n",
        "\n",
        "```python\n",
        "optimizer.step()\n",
        "```\n",
        "- **Purpose**: This line updates the model’s parameters based on the gradients calculated during backpropagation.\n",
        "- **Explanation**:\n",
        "  - The `optimizer` (e.g., `torch.optim.Adam` or `torch.optim.SGD`) takes the gradients from each parameter’s `.grad` attribute and adjusts the parameters according to the chosen optimization algorithm.\n",
        "  - This step reduces the loss by moving the model parameters in the direction that minimizes it, effectively “learning” from the data.\n",
        "\n",
        "##### 4. Printing the Loss\n",
        "```python\n",
        "print(\"Loss after one training step:\", loss.item())\n",
        "```\n",
        "- **Purpose**: This line outputs the loss value after one training step.\n",
        "- **Explanation**:\n",
        "  - `loss.item()`: Converts the PyTorch tensor containing the loss to a Python scalar, making it easier to display.\n",
        "  - This printed value helps monitor the model’s progress during training. A decreasing loss over successive training steps typically indicates that the model is learning.\n"
      ],
      "metadata": {
        "id": "AYlRb1aaYc4X"
      }
    },
    {
      "cell_type": "markdown",
      "source": [
        "# Demonstration 40: Evaluating Model Predictions\n",
        "After training, we need to evaluate the model predictions.\n"
      ],
      "metadata": {
        "id": "3bdDrSay0Yz0"
      }
    },
    {
      "cell_type": "markdown",
      "source": [
        "- outputs:\n",
        "  - This represents the raw output from your two-layer GNN model. These outputs are often called logits and are not probabilities. They can range from negative infinity to positive infinity.\n",
        "\n",
        "- torch.sigmoid(outputs):\n",
        "  - This applies the sigmoid activation function to the outputs. The sigmoid function squashes the logits into a range between 0 and 1, effectively converting them into probabilities.\n"
      ],
      "metadata": {
        "id": "A6oDgQs7Y88r"
      }
    },
    {
      "cell_type": "code",
      "execution_count": 59,
      "metadata": {
        "id": "lQGXoNuW0Yz1",
        "colab": {
          "base_uri": "https://localhost:8080/"
        },
        "outputId": "b2e18be5-3328-490b-8d39-a2ba6f6c147d"
      },
      "outputs": [
        {
          "output_type": "stream",
          "name": "stdout",
          "text": [
            "Predictions after one epoch: tensor([1, 1, 1, 1], dtype=torch.int32)\n",
            "Actual labels: tensor([0, 1, 0, 1], dtype=torch.int32)\n"
          ]
        }
      ],
      "source": [
        "\n",
        "# Get predictions (output logits > 0.5 as class 1, else class 0)\n",
        "predictions = (torch.sigmoid(outputs) > 0.5).int()\n",
        "print(\"Predictions after one epoch:\", predictions)\n",
        "print(\"Actual labels:\", node_labels.int())\n"
      ]
    },
    {
      "cell_type": "markdown",
      "source": [
        "# Demonstration 41: Implementing Graph Convolutional Layer\n",
        "\n",
        "\n",
        "- In traditional Convolutional Neural Networks (CNNs), convolution is applied to grid-like data (e.g., images) using filters or kernels that slide over the data to capture local patterns.\n",
        "- However, graphs are non-Euclidean structures, meaning they don’t have a regular grid structure.\n",
        "- Instead, they have nodes (vertices) and edges, and each node can have a varying number of neighbors.\n",
        "- Therefore, convolution on graphs is defined differently, often involving an \"aggregation\" of information from a node's neighbors.\n",
        "\n",
        "### Graph Convolution: Key Concepts\n",
        "\n",
        "- The **graph convolution** operation involves updating each node’s feature representation by aggregating information from its neighbors, which allows the network to learn features based on the graph structure.\n",
        "- The process essentially smooths or propagates information across the graph, enabling nodes to gain insights from their neighbors.\n",
        "\n",
        "### Steps in Graph Convolution\n",
        "\n",
        "A graph convolution operation generally includes the following steps:\n",
        "\n",
        "1. **Self-Loop Addition**:\n",
        "   - In many graph convolution implementations, each node is connected to itself by adding self-loops in the adjacency matrix.\n",
        "   - This allows each node to retain its own information in addition to the aggregated information from its neighbors.\n",
        "\n",
        "2. **Normalization**:\n",
        "   - Normalize the adjacency matrix to ensure that the feature aggregation doesn’t lead to exploding or vanishing values.\n",
        "   - A common approach is to use **symmetric normalization**, which divides each row by the square root of the degree of the corresponding node.\n",
        "   - The normalized adjacency matrix (often denoted as \\( \\hat{A} \\)) helps balance the contributions from nodes with different numbers of neighbors, making the learning process more stable.\n",
        "\n",
        "3. **Feature Aggregation**:\n",
        "   - Multiply the normalized adjacency matrix with the node feature matrix. This step aggregates the features of neighboring nodes for each node.\n",
        "   - The result is a new feature representation for each node that incorporates information from its local neighborhood.\n",
        "\n",
        "4. **Linear Transformation**:\n",
        "   - Apply a learnable linear transformation (via a fully connected layer) to the aggregated features.\n",
        "   - This step projects the features to a new dimension and allows the network to learn meaningful representations of the nodes.\n",
        "\n",
        "### Graph Convolution Implementation in Code\n"
      ],
      "metadata": {
        "id": "-HqaN6Mp0Y12"
      }
    },
    {
      "cell_type": "code",
      "execution_count": 64,
      "metadata": {
        "id": "kfeeqTaA0Y13",
        "colab": {
          "base_uri": "https://localhost:8080/"
        },
        "outputId": "1dd26b46-d0d3-4955-866a-e81ea220e4d1"
      },
      "outputs": [
        {
          "output_type": "stream",
          "name": "stdout",
          "text": [
            "Graph Convolutional Layer created.\n"
          ]
        }
      ],
      "source": [
        "class GraphConvolution(nn.Module):\n",
        "    def __init__(self, in_features, out_features):\n",
        "        super(GraphConvolution, self).__init__()\n",
        "        self.linear = nn.Linear(in_features, out_features)\n",
        "\n",
        "    def forward(self, x, adj):\n",
        "        # Step 1: Self-Loop Addition\n",
        "        # Add self-loops to the adjacency matrix (by adding the identity matrix).\n",
        "        # This ensures each node's representation includes its own features.\n",
        "        adj_hat = adj + torch.eye(adj.size(0))  # Adds self-loops to the adjacency matrix\n",
        "\n",
        "        # Step 2: Normalization\n",
        "        # Calculate D^(-1/2) (inverse square root of the degree matrix).\n",
        "        # This will be used to normalize the adjacency matrix.\n",
        "        deg_inv_sqrt = torch.diag(torch.pow(adj_hat.sum(1), -0.5))\n",
        "\n",
        "        # Normalize the adjacency matrix using symmetric normalization:\n",
        "        # adj_norm = D^(-1/2) * adj_hat * D^(-1/2)\n",
        "        #     - `D^(-1/2)` is the inverse square root of the degree matrix (`deg_inv_sqrt`).\n",
        "        #     - `A_hat` is the adjacency matrix with self-loops (`adj_hat`).\n",
        "        #     - This formula ensures that the normalized adjacency matrix has rows and columns that sum to approximately 1, effectively scaling the aggregated features.\n",
        "        #  the @ symbol represents the matrix multiplication operator\n",
        "        adj_norm = deg_inv_sqrt @ adj_hat @ deg_inv_sqrt\n",
        "\n",
        "        # Step 3: Feature Aggregation\n",
        "        # Multiply the normalized adjacency matrix with the feature matrix.\n",
        "        # This aggregates features from each node's neighbors.\n",
        "        out = adj_norm @ x  # (num_nodes, num_nodes) @ (num_nodes, in_features) -> (num_nodes, in_features)\n",
        "\n",
        "        # Step 4: Linear Transformation\n",
        "        # Apply the linear layer to transform the aggregated features to the output dimension.\n",
        "        out = self.linear(out)  # (num_nodes, in_features) -> (num_nodes, out_features)\n",
        "\n",
        "        return out\n",
        "\n",
        "\n",
        "# Initialize a graph convolutional layer\n",
        "# This layer will take in node features with 2 dimensions and output features with 4 dimensions.\n",
        "gcn_layer = GraphConvolution(in_features=2, out_features=4)\n",
        "print(\"Graph Convolutional Layer created.\")"
      ]
    },
    {
      "cell_type": "markdown",
      "source": [
        "\n",
        "### Detailed Explanation of the Code\n",
        "\n",
        "#### 1. Self-Loop Addition\n",
        "```python\n",
        "adj_hat = adj + torch.eye(adj.size(0))\n",
        "```\n",
        "- `adj + torch.eye(adj.size(0))` adds the identity matrix to the adjacency matrix `adj`, effectively adding self-loops. This means each node will aggregate its own features along with those of its neighbors.\n",
        "- `adj_hat` is the adjacency matrix with self-loops, represented as \\( \\hat{A} \\).\n",
        "\n",
        "#### 2. Normalization\n",
        "```python\n",
        "deg_inv_sqrt = torch.diag(torch.pow(adj_hat.sum(1), -0.5))\n",
        "adj_norm = deg_inv_sqrt @ adj_hat @ deg_inv_sqrt\n",
        "```\n",
        "- `adj_hat.sum(1)`: Computes the degree of each node (i.e., the number of edges for each node).\n",
        "- `torch.pow(..., -0.5)`: Takes the inverse square root of each degree. This gives us \\( D^{-1/2} \\), where \\( D \\) is the degree matrix.\n",
        "- `deg_inv_sqrt`: Creates a diagonal matrix with these values.\n",
        "- `adj_norm = deg_inv_sqrt @ adj_hat @ deg_inv_sqrt`: Performs symmetric normalization on `adj_hat`, yielding \\( D^{-1/2} \\hat{A} D^{-1/2} \\). This normalized adjacency matrix is used to stabilize the training process by balancing the contributions from nodes with varying degrees.\n",
        "\n",
        "#### 3. Feature Aggregation\n",
        "```python\n",
        "out = adj_norm @ x\n",
        "```\n",
        "- `adj_norm @ x`: Multiplies the normalized adjacency matrix with the feature matrix `x`.\n",
        "  - This operation aggregates the features of neighboring nodes for each node based on the structure of `adj_norm`.\n",
        "  - For each node, this sums up the features from its neighbors (as defined by `adj_norm`), giving a new feature representation that incorporates information from the neighborhood.\n",
        "\n",
        "#### 4. Linear Transformation\n",
        "```python\n",
        "out = self.linear(out)\n",
        "```\n",
        "- `self.linear(out)`: Applies a learnable linear transformation to the aggregated features.\n",
        "  - This step maps the aggregated features to a new dimensional space (`out_features`), allowing the model to learn complex representations based on the graph structure.\n",
        "  - The linear transformation has a weight matrix and a bias vector, both of which are learned during training. The weights adjust how much influence each feature has, and the bias shifts the overall feature values.\n",
        "\n",
        "### Summary of the Graph Convolution Operation\n",
        "1. **Self-Loop Addition**: Adds self-loops to the adjacency matrix to retain each node’s own features during aggregation.\n",
        "2. **Normalization**: Uses the degree matrix to normalize the adjacency matrix, ensuring that the contribution from each node's neighbors is balanced.\n",
        "3. **Feature Aggregation**: Aggregates features from neighboring nodes based on the normalized adjacency matrix, resulting in a new feature representation for each node that includes information from its local neighborhood.\n",
        "4. **Linear Transformation**: Applies a learnable linear transformation to the aggregated features, projecting them into a new feature space that can be used in subsequent layers or for prediction.\n",
        "\n",
        "This `GraphConvolution` layer is a key building block in Graph Convolutional Networks (GCNs), enabling each node to learn from its neighbors and capture local graph structure, ultimately allowing for effective learning on graph data."
      ],
      "metadata": {
        "id": "WXZIPVHIaTfK"
      }
    },
    {
      "cell_type": "markdown",
      "source": [
        "# Demonstration 42: Forward Pass through Graph Convolutional Layer\n",
        " Perform a forward pass through the GCN layer using our node features and adjacency matrix.\n"
      ],
      "metadata": {
        "id": "Nm80fyhK0Y36"
      }
    },
    {
      "cell_type": "code",
      "execution_count": 66,
      "metadata": {
        "id": "yFzJvboi0Y37",
        "colab": {
          "base_uri": "https://localhost:8080/"
        },
        "outputId": "bf2c9ec5-3214-4c91-9cc0-66c6f66dd2a6"
      },
      "outputs": [
        {
          "output_type": "stream",
          "name": "stdout",
          "text": [
            "Node Features:\n",
            " tensor([[1., 2.],\n",
            "        [3., 4.],\n",
            "        [5., 6.],\n",
            "        [7., 8.]])\n",
            "Adjacency Matrix:\n",
            " tensor([[0., 1., 0., 1.],\n",
            "        [1., 0., 1., 0.],\n",
            "        [0., 1., 0., 1.],\n",
            "        [1., 0., 1., 0.]])\n",
            "Output after GCN layer:\n",
            " tensor([[ 3.1062, -0.8937,  2.5748,  2.0371],\n",
            "        [ 2.6560, -0.8154,  2.2127,  1.6671],\n",
            "        [ 4.0065, -1.0504,  3.2990,  2.7770],\n",
            "        [ 3.5563, -0.9721,  2.9369,  2.4071]], grad_fn=<AddmmBackward0>)\n"
          ]
        }
      ],
      "source": [
        "print(\"Node Features:\\n\", node_features_tensor)\n",
        "print(\"Adjacency Matrix:\\n\", adj_matrix_tensor)\n",
        "# Pass node features and adjacency matrix through the GCN layer\n",
        "output_gcn = gcn_layer(node_features_tensor, adj_matrix_tensor)\n",
        "print(\"Output after GCN layer:\\n\", output_gcn)\n"
      ]
    },
    {
      "cell_type": "markdown",
      "source": [
        "The last output:\n",
        "\n",
        "- It is the output feature matrix after the GCN layer has processed the node features and adjacency matrix.\n",
        "- Each row represents a node, and each column represents one of the new features after the graph convolution.\n",
        "- In this case, each node now has 4 features instead of the original 2, because the GCN layer was designed to output 4 features per node (out_features=4).\n",
        "- Explanation of Each Step Leading to This Output:\n",
        "  - The GCN layer aggregates features from each node's neighbors based on the adjacency matrix.\n",
        "  - It then applies a linear transformation to map the aggregated features to a new feature space of dimension 4.\n",
        "- Each element in this output tensor is the result of:\n",
        "  - Neighbor Aggregation: Aggregating information from the neighbors of each node.\n",
        "  - Transformation: Applying a learned weight matrix and bias to transform the aggregated features."
      ],
      "metadata": {
        "id": "ASDKTwDjdFIk"
      }
    },
    {
      "cell_type": "markdown",
      "source": [
        "# Demonstration 43: Building a Two-Layer GCN Model\n",
        " Let's stack two GCN layers to build a simple GCN model.\n"
      ],
      "metadata": {
        "id": "kxKdPlTf0Y6f"
      }
    },
    {
      "cell_type": "code",
      "execution_count": 71,
      "metadata": {
        "id": "GZUY3lZr0Y6f",
        "colab": {
          "base_uri": "https://localhost:8080/"
        },
        "outputId": "6ec9aadb-66c0-45c6-ae0d-7ba4eeebb49a"
      },
      "outputs": [
        {
          "output_type": "stream",
          "name": "stdout",
          "text": [
            "Two-Layer GCN created.\n"
          ]
        }
      ],
      "source": [
        "\n",
        "class TwoLayerGCN(nn.Module):\n",
        "    def __init__(self):\n",
        "        super(TwoLayerGCN, self).__init__()\n",
        "        self.gcn1 = GraphConvolution(in_features=2, out_features=4)\n",
        "        self.gcn2 = GraphConvolution(in_features=4, out_features=1)\n",
        "\n",
        "    def forward(self, x, adj):\n",
        "        x = self.gcn1(x, adj)\n",
        "        x = torch.relu(x)  # Apply activation function\n",
        "        x = self.gcn2(x, adj)\n",
        "        return x\n",
        "\n",
        "# Initialize the two-layer GCN\n",
        "two_layer_gcn = TwoLayerGCN()\n",
        "print(\"Two-Layer GCN created.\")\n",
        "\n",
        "# out_features =1 is for binary classification\n"
      ]
    },
    {
      "cell_type": "markdown",
      "source": [
        "# Demonstration 44: Training the Two-Layer GCN\n",
        " We’ll train this GCN model for a few epochs to see how it learns on a simple classification task.\n"
      ],
      "metadata": {
        "id": "ldo_Pgzf4Bgn"
      }
    },
    {
      "cell_type": "code",
      "execution_count": 70,
      "metadata": {
        "id": "I_B-bIi54Bgo",
        "colab": {
          "base_uri": "https://localhost:8080/"
        },
        "outputId": "598891a2-b53b-4b4c-de39-1dc55e59b82d"
      },
      "outputs": [
        {
          "output_type": "stream",
          "name": "stdout",
          "text": [
            "Epoch 1, Loss: 0.7165266275405884\n",
            "Epoch 2, Loss: 0.7076399326324463\n",
            "Epoch 3, Loss: 0.7002691030502319\n",
            "Epoch 4, Loss: 0.6944364309310913\n",
            "Epoch 5, Loss: 0.6901254653930664\n"
          ]
        }
      ],
      "source": [
        "\n",
        "# Define the loss function and optimizer\n",
        "loss_fn = nn.BCEWithLogitsLoss()\n",
        "optimizer = optim.Adam(two_layer_gcn.parameters(), lr=0.01)\n",
        "\n",
        "# Training loop for 5 epochs\n",
        "for epoch in range(5):\n",
        "    outputs = two_layer_gcn(node_features_tensor, adj_matrix_tensor).squeeze()\n",
        "    loss = loss_fn(outputs, node_labels)\n",
        "    optimizer.zero_grad()\n",
        "    loss.backward()\n",
        "    optimizer.step()\n",
        "    print(f\"Epoch {epoch + 1}, Loss: {loss.item()}\")\n"
      ]
    },
    {
      "cell_type": "markdown",
      "source": [
        "# Demonstration 45: Evaluating GCN Model Predictions\n",
        " After training, let's check the model's predictions on the node classification task.\n"
      ],
      "metadata": {
        "id": "MchjcsHo4Bog"
      }
    },
    {
      "cell_type": "code",
      "execution_count": 78,
      "metadata": {
        "id": "PpLipB2q4Boh",
        "colab": {
          "base_uri": "https://localhost:8080/"
        },
        "outputId": "83ced47e-27d2-4b04-c015-9fe753d6521f"
      },
      "outputs": [
        {
          "output_type": "stream",
          "name": "stdout",
          "text": [
            "Node Features:\n",
            " tensor([[1., 2.],\n",
            "        [3., 4.],\n",
            "        [5., 6.],\n",
            "        [7., 8.]])\n",
            "Adjacency Matrix:\n",
            " tensor([[0., 1., 0., 1.],\n",
            "        [1., 0., 1., 0.],\n",
            "        [0., 1., 0., 1.],\n",
            "        [1., 0., 1., 0.]])\n",
            "Final Outputs after training:\n",
            " tensor([[0.6885],\n",
            "        [0.7246],\n",
            "        [0.7607],\n",
            "        [0.7968]], grad_fn=<AddmmBackward0>)\n",
            "Final Outputs after squeezing:\n",
            " tensor([0.6885, 0.7246, 0.7607, 0.7968], grad_fn=<SqueezeBackward0>)\n",
            "Final Predictions: tensor([1, 1, 1, 1], dtype=torch.int32)\n",
            "Actual Labels: tensor([0, 1, 0, 1], dtype=torch.int32)\n"
          ]
        }
      ],
      "source": [
        "print(\"Node Features:\\n\", node_features_tensor)\n",
        "print(\"Adjacency Matrix:\\n\", adj_matrix_tensor)\n",
        "# Get final predictions after training\n",
        "outputs = two_layer_gcn(node_features_tensor, adj_matrix_tensor);\n",
        "print(\"Final Outputs after training:\\n\", outputs)\n",
        "outputs = outputs.squeeze()\n",
        "print(\"Final Outputs after squeezing:\\n\", outputs)\n",
        "\n",
        "\n",
        "predictions = (torch.sigmoid(outputs) > 0.5).int()\n",
        "print(\"Final Predictions:\", predictions)\n",
        "print(\"Actual Labels:\", node_labels.int())\n"
      ]
    },
    {
      "cell_type": "markdown",
      "source": [
        "# Demonstration 46: Visualizing Node Embeddings\n",
        " Node embeddings are the learned representations from the GCN, useful for visualization and downstream tasks.\n"
      ],
      "metadata": {
        "id": "QSA7Bspa4BtD"
      }
    },
    {
      "cell_type": "code",
      "execution_count": 79,
      "metadata": {
        "id": "za4YNU2O4BtE",
        "colab": {
          "base_uri": "https://localhost:8080/",
          "height": 472
        },
        "outputId": "ad965d1b-448d-4f26-d3f3-923115f6fb71"
      },
      "outputs": [
        {
          "output_type": "display_data",
          "data": {
            "text/plain": [
              "<Figure size 640x480 with 2 Axes>"
            ],
            "image/png": "[encoded data removed]"
          },
          "metadata": {}
        }
      ],
      "source": [
        "\n",
        "import matplotlib.pyplot as plt\n",
        "\n",
        "# Get node embeddings (output of the first GCN layer)\n",
        "# We use torch.no_grad() to disable gradient tracking for this part of the code.\n",
        "# This is because we are not updating the model weights here; we only need the output for visualization.\n",
        "with torch.no_grad():\n",
        "    # Pass the input features and adjacency matrix through the first GCN layer of the two-layer GCN model.\n",
        "    # This will generate the node embeddings after the first graph convolution operation.\n",
        "    embeddings = two_layer_gcn.gcn1(node_features_tensor, adj_matrix_tensor)\n",
        "\n",
        "    # Convert the embeddings tensor to a numpy array for easier plotting with matplotlib.\n",
        "    embeddings = embeddings.numpy()\n",
        "\n",
        "# Visualize the embeddings using a scatter plot\n",
        "# Each node will be represented as a point in a 2D space, with colors representing their labels.\n",
        "plt.scatter(embeddings[:, 0], embeddings[:, 1], c=node_labels, cmap=\"coolwarm\", s=100)\n",
        "\n",
        "# Set plot title and axis labels\n",
        "plt.title(\"Node Embeddings\")  # Title of the plot\n",
        "plt.xlabel(\"Embedding Dimension 1\")  # Label for the x-axis (first dimension of the embeddings)\n",
        "plt.ylabel(\"Embedding Dimension 2\")  # Label for the y-axis (second dimension of the embeddings)\n",
        "\n",
        "# Add a color bar to indicate node labels\n",
        "# The color bar will show the mapping between colors and node labels (if labels are provided).\n",
        "plt.colorbar(label=\"Node Labels\")\n",
        "\n",
        "# Display the plot\n",
        "plt.show()\n",
        "\n"
      ]
    },
    {
      "cell_type": "markdown",
      "source": [
        "### Analysis\n",
        "1. **Embedding Separation**:\n",
        "   - The nodes in the graph are mapped to a 2D space where nodes with similar labels (as indicated by colors) tend to be closer together.\n",
        "   - This suggests that the GCN layer has successfully learned to distinguish nodes based on their label information, indicating that it captures some meaningful patterns in the graph structure.\n",
        "\n",
        "2. **Clusters Based on Labels**:\n",
        "   - We observe two main color groups in the plot: blue (label close to 0) and red (label close to 1).\n",
        "   - The nodes labeled in blue occupy the left side of the plot, while the nodes labeled in red occupy the right side.\n",
        "   - This clear separation implies that the GCN is able to group nodes with similar characteristics, which is promising for tasks like classification, where we want nodes with similar labels to be close in the embedding space.\n",
        "\n",
        "3. **Distinctness of Groups**:\n",
        "   - The embeddings are spread out along both the x and y axes, which indicates that each dimension is contributing to distinguishing the nodes.\n",
        "   - The presence of both distinct clusters and intermediate points (e.g., nodes that are not perfectly clustered) suggests that there may be some overlap or shared characteristics between nodes of different labels.\n",
        "\n",
        "### Insights\n",
        "1. **Effectiveness of GCN in Capturing Local Graph Structure**:\n",
        "   - The GCN layer effectively learns to differentiate nodes by aggregating information from neighbors. The separation of blue and red clusters implies that nodes of similar types or labels influence each other through the graph structure.\n",
        "\n",
        "2. **Potential for Node Classification**:\n",
        "   - Since the GCN is clustering nodes with the same labels, this embedding could be used as a basis for a classification model. Nodes with unknown labels could potentially be classified by checking which cluster they are closest to in this embedding space.\n",
        "\n",
        "3. **Areas for Improvement**:\n",
        "   - While there is some separation, there is also a degree of overlap or intermediate points. Additional layers, more training, or hyperparameter tuning might further improve separation between classes.\n",
        "   - Alternatively, a higher-dimensional embedding could be used if further separation is desired, especially in more complex or densely connected graphs.\n"
      ],
      "metadata": {
        "id": "sE8goUlafGqY"
      }
    },
    {
      "cell_type": "markdown",
      "source": [
        "# Demonstration 48: Graph Pooling with Mean Pooling\n",
        "Mean pooling is another common pooling method that averages the node features.\n"
      ],
      "metadata": {
        "id": "lLNIjc6r4B2A"
      }
    },
    {
      "cell_type": "code",
      "execution_count": 90,
      "metadata": {
        "id": "QfDFP0oR4B2A",
        "colab": {
          "base_uri": "https://localhost:8080/"
        },
        "outputId": "3dcb0b93-8ca4-44d2-ccfa-a26612078bac"
      },
      "outputs": [
        {
          "output_type": "stream",
          "name": "stdout",
          "text": [
            "Node Features:\n",
            " tensor([[1., 2.],\n",
            "        [3., 4.],\n",
            "        [5., 6.],\n",
            "        [7., 8.]])\n",
            "Graph-level Representation (Mean Pooling): tensor([4., 5.])\n"
          ]
        }
      ],
      "source": [
        "# Display the initial node features\n",
        "print(\"Node Features:\\n\", node_features_tensor)\n",
        "\n",
        "# Mean Pooling: Calculate the average feature vector across all nodes\n",
        "# This approach is often used to create a single, unified representation for the entire graph.\n",
        "# By averaging the feature vectors of all nodes, we capture a general representation that summarizes the graph as a whole.\n",
        "\n",
        "# Calculate the mean of node features along the 0th dimension (rows)\n",
        "# This means we're taking the average value for each feature across all nodes.\n",
        "graph_representation = node_features_tensor.mean(dim=0)\n",
        "\n",
        "# Print the graph-level representation obtained through mean pooling\n",
        "print(\"Graph-level Representation (Mean Pooling):\", graph_representation)\n",
        "# Example output (if the mean was calculated):\n",
        "# tensor([4., 5.])  # This represents the average features for the graph as a whole\n",
        "\n",
        "# Explanation:\n",
        "# - Here, `dim=0` specifies that we want to calculate the mean across rows (i.e., across nodes),\n",
        "#   which gives us a single feature vector that represents the entire graph.\n",
        "# - If `node_features_tensor` has shape `(num_nodes, num_features)`, the result of mean pooling\n",
        "#   will be a tensor of shape `(num_features,)`, providing one averaged feature value for each feature dimension.\n",
        "\n"
      ]
    },
    {
      "cell_type": "markdown",
      "source": [
        "\n",
        "#### Insight:\n",
        " - This graph-level representation is useful for graph classification tasks, where we need to classify the entire graph instead of individual nodes.\n",
        " - By averaging the features of all nodes, we obtain a compact summary that can be used as input for a classification model.\n",
        "\n",
        "#### Practical Example:\n",
        " - Imagine each node represents a molecule's atom, and each feature represents some property of the atom (like charge).\n",
        " - Mean pooling allows us to create a single vector summarizing the whole molecule's properties, which we could use  to classify the molecule as toxic, reactive, etc."
      ],
      "metadata": {
        "id": "6RWGKpxygJl5"
      }
    },
    {
      "cell_type": "markdown",
      "source": [
        "# Demonstration 49: Graph Classification Task Setup\n",
        " For graph classification, we can use pooling layers to aggregate node-level embeddings into a graph-level representation.\n"
      ],
      "metadata": {
        "id": "3r0YRqYt4B7Y"
      }
    },
    {
      "cell_type": "code",
      "execution_count": 91,
      "metadata": {
        "id": "nhJr7_lt4B7a",
        "colab": {
          "base_uri": "https://localhost:8080/"
        },
        "outputId": "8524c538-b475-44de-f363-22b6ca57bd41"
      },
      "outputs": [
        {
          "output_type": "stream",
          "name": "stdout",
          "text": [
            "Graph Classifier Model created.\n"
          ]
        }
      ],
      "source": [
        "\n",
        "# After training a GNN on node-level embeddings, apply sum or mean pooling for a graph-level task.\n",
        "class GraphClassifier(nn.Module):\n",
        "    def __init__(self):\n",
        "        super(GraphClassifier, self).__init__()\n",
        "        self.gcn1 = GraphConvolution(2, 4)\n",
        "        self.gcn2 = GraphConvolution(4, 2)\n",
        "        self.fc = nn.Linear(2, 1)  # Final layer for binary classification\n",
        "\n",
        "    def forward(self, x, adj):\n",
        "        x = self.gcn1(x, adj)\n",
        "        x = torch.relu(x)\n",
        "        x = self.gcn2(x, adj)\n",
        "        x = x.mean(dim=0)  # Mean pooling for graph-level representation\n",
        "        x = self.fc(x)\n",
        "        return x\n",
        "\n",
        "# Initialize the graph classifier\n",
        "graph_classifier = GraphClassifier()\n",
        "print(\"Graph Classifier Model created.\")\n"
      ]
    },
    {
      "cell_type": "markdown",
      "source": [
        "# Demonstration 50: Training Graph Classifier Model\n",
        " We’ll train the graph classifier model on a simple binary classification task.\n"
      ],
      "metadata": {
        "id": "YezxJGfV4B_l"
      }
    },
    {
      "cell_type": "code",
      "execution_count": 96,
      "metadata": {
        "id": "otoloJXg4B_m",
        "colab": {
          "base_uri": "https://localhost:8080/"
        },
        "outputId": "3e72062d-2541-4739-fc5f-2eb39de63ba1"
      },
      "outputs": [
        {
          "output_type": "stream",
          "name": "stdout",
          "text": [
            "Epoch 1, Loss: 0.5365514159202576\n",
            "Epoch 2, Loss: 0.5244860649108887\n",
            "Epoch 3, Loss: 0.5124693512916565\n",
            "Epoch 4, Loss: 0.5005095601081848\n",
            "Epoch 5, Loss: 0.4886152744293213\n",
            "Epoch 6, Loss: 0.47679460048675537\n",
            "Epoch 7, Loss: 0.46505600214004517\n",
            "Epoch 8, Loss: 0.45340776443481445\n",
            "Epoch 9, Loss: 0.4418579339981079\n",
            "Epoch 10, Loss: 0.4304148852825165\n"
          ]
        }
      ],
      "source": [
        "# Define label for the graph (e.g., 1 for \"positive class\")\n",
        "# The label should be a tensor with shape [1] to match the output of the model\n",
        "graph_label = torch.tensor([1.0])  # Wrap the label in a list to create a tensor with shape [1]\n",
        "\n",
        "# Define loss function and optimizer\n",
        "loss_fn = nn.BCEWithLogitsLoss()\n",
        "optimizer = optim.Adam(graph_classifier.parameters(), lr=0.01)\n",
        "\n",
        "# Training loop for 10 epochs\n",
        "for epoch in range(10):\n",
        "    # Forward pass through the graph classifier\n",
        "    output = graph_classifier(node_features_tensor, adj_matrix_tensor)\n",
        "\n",
        "    # Calculate loss between the output and graph label\n",
        "    loss = loss_fn(output, graph_label)\n",
        "\n",
        "    # Backward pass and optimization\n",
        "    optimizer.zero_grad()\n",
        "    loss.backward()\n",
        "    optimizer.step()\n",
        "\n",
        "    print(f\"Epoch {epoch + 1}, Loss: {loss.item()}\")"
      ]
    },
    {
      "cell_type": "code",
      "source": [],
      "metadata": {
        "id": "MBBIuCL-gdrZ"
      },
      "execution_count": null,
      "outputs": []
    }
  ]
}